{
 "cells": [
  {
   "cell_type": "markdown",
   "id": "9685d109",
   "metadata": {},
   "source": [
    "# Data Processing script v2 for the SWEML v2.0\n",
    "This .ipynb script uses python module for processing predownloaded NASA ASO observations by Water Year, locating nearest SNOTEL sites, connecting SNOTEL obs with ASO obs, and add geospatial features to the ML training/testing/hindcast dataframes."
   ]
  },
  {
   "cell_type": "code",
   "execution_count": 1,
   "id": "c2b1ee8b",
   "metadata": {
    "tags": []
   },
   "outputs": [
    {
     "name": "stdout",
     "output_type": "stream",
     "text": [
      "AWS access keys loaded\n",
      "The current session is using ['2016', '2017', '2018', '2019', '2020', '2021', '2022', '2023', '2024'] years, 1000m resolution, and 22 CPUs\n"
     ]
    }
   ],
   "source": [
    "import os\n",
    "import numpy as np\n",
    "HOME = os.getcwd()\n",
    "\n",
    "#If you get a proj.db error below, run the following and put the following into the terminal\n",
    "import pyproj\n",
    "# Get the PROJ data directory\n",
    "proj_data_dir = pyproj.datadir.get_data_dir()\n",
    "proj_db_path = proj_data_dir + \"/proj.db\"\n",
    "os.environ['PROJ_LIB'] =pyproj.datadir.get_data_dir()\n",
    "os.environ['PROJ_LIB']\n",
    "#set multiprocessing limits\n",
    "CPUS = len(os.sched_getaffinity(0))\n",
    "CPUS = int((CPUS/2)-2)\n",
    "\n",
    "#set home to the head of the SWEMLv2.0 directory\n",
    "HOME = os.chdir('..')\n",
    "HOME = os.getcwd()\n",
    "\n",
    "#Add your module here\n",
    "from utils.ASOget import ASODataProcessing_v2\n",
    "import utils.get_InSitu_obs as get_InSitu_obs\n",
    "import utils.GeoDF as GeoDF \n",
    "import utils.Obs_to_DF as Obs_to_DF \n",
    "import utils.get_VIIRS_SCA as get_VIIRS_SCA\n",
    "import utils.get_Precip as get_Precip\n",
    "import utils.get_Seasonality as get_Seasonality\n",
    "import utils.vegetation_processer as vegpro\n",
    "import utils.sturm_processer as stpro\n",
    "\n",
    "\n",
    "\n",
    "#make SWEMLv2.0 modeling domain for western USA\n",
    "WY_list = ['2013', '2014', '2015', '2016', '2017', '2018', '2019', '2020', '2021', '2022', '2023', '2024'] #'2013', '2014', '2015', '2016', '2017', '2018', '2019', '2020', '2021', '2022', '2023', '2024' - Trying the first bit to prove concept, then can expand\n",
    "\n",
    "output_res = 1000 #desired spatial resulution in meters (m)\n",
    "\n",
    "print(f\"The current session is using {WY_list} years, {output_res}m resolution, and {CPUS} CPUs\")"
   ]
  },
  {
   "cell_type": "code",
   "execution_count": 2,
   "id": "13469889",
   "metadata": {
    "scrolled": true,
    "tags": []
   },
   "outputs": [
    {
     "name": "stdout",
     "output_type": "stream",
     "text": [
      "Converting ASO images for WY: 2013\n",
      "Converting .tif to parquet\n",
      "Converting 6 ASO tif files to parquet\n"
     ]
    },
    {
     "data": {
      "application/vnd.jupyter.widget-view+json": {
       "model_id": "214430284081409cb2910f3e9f2b4809",
       "version_major": 2,
       "version_minor": 0
      },
      "text/plain": [
       "  0%|          | 0/6 [00:00<?, ?it/s]"
      ]
     },
     "metadata": {},
     "output_type": "display_data"
    },
    {
     "name": "stdout",
     "output_type": "stream",
     "text": [
      "Checking to make sure all files successfully converted...\n"
     ]
    },
    {
     "data": {
      "application/vnd.jupyter.widget-view+json": {
       "model_id": "f1305e272d624ba1907acf96fc7f2cf6",
       "version_major": 2,
       "version_minor": 0
      },
      "text/plain": [
       "  0%|          | 0/6 [00:00<?, ?it/s]"
      ]
     },
     "metadata": {},
     "output_type": "display_data"
    },
    {
     "name": "stdout",
     "output_type": "stream",
     "text": [
      "Converting ASO images for WY: 2014\n",
      "Converting .tif to parquet\n",
      "Converting 18 ASO tif files to parquet\n"
     ]
    },
    {
     "data": {
      "application/vnd.jupyter.widget-view+json": {
       "model_id": "11d4d636dc4d4fdc888a0e74fe52d374",
       "version_major": 2,
       "version_minor": 0
      },
      "text/plain": [
       "  0%|          | 0/18 [00:00<?, ?it/s]"
      ]
     },
     "metadata": {},
     "output_type": "display_data"
    },
    {
     "name": "stdout",
     "output_type": "stream",
     "text": [
      "Checking to make sure all files successfully converted...\n"
     ]
    },
    {
     "data": {
      "application/vnd.jupyter.widget-view+json": {
       "model_id": "75ac696bb922498096300588051ef768",
       "version_major": 2,
       "version_minor": 0
      },
      "text/plain": [
       "  0%|          | 0/18 [00:00<?, ?it/s]"
      ]
     },
     "metadata": {},
     "output_type": "display_data"
    },
    {
     "name": "stdout",
     "output_type": "stream",
     "text": [
      "Converting ASO images for WY: 2015\n",
      "Converting .tif to parquet\n",
      "Converting 27 ASO tif files to parquet\n"
     ]
    },
    {
     "data": {
      "application/vnd.jupyter.widget-view+json": {
       "model_id": "8f247ea38a144631986d7d112d0df3ca",
       "version_major": 2,
       "version_minor": 0
      },
      "text/plain": [
       "  0%|          | 0/27 [00:00<?, ?it/s]"
      ]
     },
     "metadata": {},
     "output_type": "display_data"
    },
    {
     "name": "stdout",
     "output_type": "stream",
     "text": [
      "Checking to make sure all files successfully converted...\n"
     ]
    },
    {
     "data": {
      "application/vnd.jupyter.widget-view+json": {
       "model_id": "f5f290ecb6ae4297827a171e1cde0a8d",
       "version_major": 2,
       "version_minor": 0
      },
      "text/plain": [
       "  0%|          | 0/27 [00:00<?, ?it/s]"
      ]
     },
     "metadata": {},
     "output_type": "display_data"
    },
    {
     "name": "stdout",
     "output_type": "stream",
     "text": [
      "Converting ASO images for WY: 2016\n",
      "Converting .tif to parquet\n",
      "Converting 23 ASO tif files to parquet\n"
     ]
    },
    {
     "data": {
      "application/vnd.jupyter.widget-view+json": {
       "model_id": "33cb363199144085aab2f2eb1547a784",
       "version_major": 2,
       "version_minor": 0
      },
      "text/plain": [
       "  0%|          | 0/23 [00:00<?, ?it/s]"
      ]
     },
     "metadata": {},
     "output_type": "display_data"
    },
    {
     "name": "stdout",
     "output_type": "stream",
     "text": [
      "Checking to make sure all files successfully converted...\n"
     ]
    },
    {
     "data": {
      "application/vnd.jupyter.widget-view+json": {
       "model_id": "5b9d1f0832f042f09baa07f9471f060d",
       "version_major": 2,
       "version_minor": 0
      },
      "text/plain": [
       "  0%|          | 0/23 [00:00<?, ?it/s]"
      ]
     },
     "metadata": {},
     "output_type": "display_data"
    },
    {
     "name": "stdout",
     "output_type": "stream",
     "text": [
      "Converting ASO images for WY: 2017\n",
      "Converting .tif to parquet\n",
      "Converting 17 ASO tif files to parquet\n"
     ]
    },
    {
     "data": {
      "application/vnd.jupyter.widget-view+json": {
       "model_id": "064440efa1134a76bb79821716d8bf6c",
       "version_major": 2,
       "version_minor": 0
      },
      "text/plain": [
       "  0%|          | 0/17 [00:00<?, ?it/s]"
      ]
     },
     "metadata": {},
     "output_type": "display_data"
    },
    {
     "name": "stdout",
     "output_type": "stream",
     "text": [
      "Checking to make sure all files successfully converted...\n"
     ]
    },
    {
     "data": {
      "application/vnd.jupyter.widget-view+json": {
       "model_id": "41ccc8fe5e2845408cab6b3ee0ec2a54",
       "version_major": 2,
       "version_minor": 0
      },
      "text/plain": [
       "  0%|          | 0/17 [00:00<?, ?it/s]"
      ]
     },
     "metadata": {},
     "output_type": "display_data"
    },
    {
     "name": "stdout",
     "output_type": "stream",
     "text": [
      "Converting ASO images for WY: 2018\n",
      "Converting .tif to parquet\n",
      "Converting 21 ASO tif files to parquet\n"
     ]
    },
    {
     "data": {
      "application/vnd.jupyter.widget-view+json": {
       "model_id": "94b5a95e46414a4ab67db4e8653190ce",
       "version_major": 2,
       "version_minor": 0
      },
      "text/plain": [
       "  0%|          | 0/21 [00:00<?, ?it/s]"
      ]
     },
     "metadata": {},
     "output_type": "display_data"
    },
    {
     "name": "stdout",
     "output_type": "stream",
     "text": [
      "Checking to make sure all files successfully converted...\n"
     ]
    },
    {
     "data": {
      "application/vnd.jupyter.widget-view+json": {
       "model_id": "17b0661cae4e4c24a5e78cb6839daeb7",
       "version_major": 2,
       "version_minor": 0
      },
      "text/plain": [
       "  0%|          | 0/21 [00:00<?, ?it/s]"
      ]
     },
     "metadata": {},
     "output_type": "display_data"
    },
    {
     "name": "stdout",
     "output_type": "stream",
     "text": [
      "Converting ASO images for WY: 2019\n",
      "Converting .tif to parquet\n",
      "Converting 47 ASO tif files to parquet\n"
     ]
    },
    {
     "data": {
      "application/vnd.jupyter.widget-view+json": {
       "model_id": "440a9bf6f3704d6a980a0a471e99077a",
       "version_major": 2,
       "version_minor": 0
      },
      "text/plain": [
       "  0%|          | 0/47 [00:00<?, ?it/s]"
      ]
     },
     "metadata": {},
     "output_type": "display_data"
    },
    {
     "name": "stdout",
     "output_type": "stream",
     "text": [
      "Checking to make sure all files successfully converted...\n"
     ]
    },
    {
     "data": {
      "application/vnd.jupyter.widget-view+json": {
       "model_id": "6bbf74ab77184adbbc1c4757d7ac62b2",
       "version_major": 2,
       "version_minor": 0
      },
      "text/plain": [
       "  0%|          | 0/47 [00:00<?, ?it/s]"
      ]
     },
     "metadata": {},
     "output_type": "display_data"
    },
    {
     "name": "stdout",
     "output_type": "stream",
     "text": [
      "Converting ASO images for WY: 2020\n",
      "Converting .tif to parquet\n",
      "Converting 14 ASO tif files to parquet\n"
     ]
    },
    {
     "data": {
      "application/vnd.jupyter.widget-view+json": {
       "model_id": "4e8d15c3abfb4aad94c32cf500562487",
       "version_major": 2,
       "version_minor": 0
      },
      "text/plain": [
       "  0%|          | 0/14 [00:00<?, ?it/s]"
      ]
     },
     "metadata": {},
     "output_type": "display_data"
    },
    {
     "name": "stderr",
     "output_type": "stream",
     "text": [
      "ERROR 1: Deleting /uufs/chpc.utah.edu/common/home/civil-group1/Johnson/SWEMLv2.0/data/ASO/2020/Processed_250M_SWE/ASO_ASO_250M_20200507.tif failed:\n",
      "No such file or directory\n",
      "ERROR 1: Deleting /uufs/chpc.utah.edu/common/home/civil-group1/Johnson/SWEMLv2.0/data/ASO/2020/Processed_250M_SWE/ASO_ASO_250M_20200521.tif failed:\n",
      "No such file or directory\n",
      "ERROR 1: Deleting /uufs/chpc.utah.edu/common/home/civil-group1/Johnson/SWEMLv2.0/data/ASO/2020/Processed_250M_SWE/ASO_ASO_250M_20200413.tif failed:\n",
      "No such file or directory\n"
     ]
    },
    {
     "name": "stdout",
     "output_type": "stream",
     "text": [
      "Checking to make sure all files successfully converted...\n"
     ]
    },
    {
     "data": {
      "application/vnd.jupyter.widget-view+json": {
       "model_id": "fe2508818b5b4e8393028fc6abfcce91",
       "version_major": 2,
       "version_minor": 0
      },
      "text/plain": [
       "  0%|          | 0/14 [00:00<?, ?it/s]"
      ]
     },
     "metadata": {},
     "output_type": "display_data"
    },
    {
     "name": "stdout",
     "output_type": "stream",
     "text": [
      "Converting ASO images for WY: 2021\n",
      "Converting .tif to parquet\n",
      "Converting 19 ASO tif files to parquet\n"
     ]
    },
    {
     "data": {
      "application/vnd.jupyter.widget-view+json": {
       "model_id": "93f72176d24946dca71ef15ec0c1fc93",
       "version_major": 2,
       "version_minor": 0
      },
      "text/plain": [
       "  0%|          | 0/19 [00:00<?, ?it/s]"
      ]
     },
     "metadata": {},
     "output_type": "display_data"
    },
    {
     "name": "stderr",
     "output_type": "stream",
     "text": [
      "ERROR 1: Deleting /uufs/chpc.utah.edu/common/home/civil-group1/Johnson/SWEMLv2.0/data/ASO/2021/Processed_250M_SWE/ASO_ASO_250M_20210429.tif failed:\n",
      "No such file or directory\n",
      "CPLE_AppDefined in /uufs/chpc.utah.edu/common/home/civil-group1/Johnson/SWEMLv2.0/data/ASO/2021/Processed_250M_SWE/ASO_ASO_250M_20210420.tif: TIFFFetchNormalTag:ASCII value for tag \"GDALMetadata\" contains null byte in value; value incorrectly truncated during reading due to implementation limitations\n",
      "CPLE_AppDefined in /uufs/chpc.utah.edu/common/home/civil-group1/Johnson/SWEMLv2.0/data/ASO/2021/Processed_250M_SWE/ASO_ASO_250M_20210420.tif: TIFFFetchNormalTag:ASCII value for tag \"GDALMetadata\" contains null byte in value; value incorrectly truncated during reading due to implementation limitations\n"
     ]
    },
    {
     "name": "stdout",
     "output_type": "stream",
     "text": [
      "An error occurred: CRS not found. Please set the CRS with 'rio.write_crs()'.\n",
      "An error occurred: CRS not found. Please set the CRS with 'rio.write_crs()'.\n"
     ]
    },
    {
     "name": "stderr",
     "output_type": "stream",
     "text": [
      "Warning 1: TIFFFetchNormalTag:ASCII value for tag \"GDALMetadata\" contains null byte in value; value incorrectly truncated during reading due to implementation limitations\n",
      "Warning 1: TIFFFetchNormalTag:ASCII value for tag \"GDALMetadata\" contains null byte in value; value incorrectly truncated during reading due to implementation limitations\n",
      "Warning 1: /uufs/chpc.utah.edu/common/home/civil-group1/Johnson/SWEMLv2.0/data/ASO/2021/Processed_250M_SWE/ASO_ASO_250M_20210420.tif: GeoTIFF tags apparently corrupt, they are being ignored.\n",
      "Warning 1: /uufs/chpc.utah.edu/common/home/civil-group1/Johnson/SWEMLv2.0/data/ASO/2021/Processed_250M_SWE/ASO_ASO_250M_20210420.tif: GeoTIFF tags apparently corrupt, they are being ignored.\n",
      "Warning 1: TIFFFetchNormalTag:ASCII value for tag \"GDALMetadata\" contains null byte in value; value incorrectly truncated during reading due to implementation limitations\n",
      "Warning 1: /uufs/chpc.utah.edu/common/home/civil-group1/Johnson/SWEMLv2.0/data/ASO/2021/Processed_250M_SWE/ASO_ASO_250M_20210420.tif: GeoTIFF tags apparently corrupt, they are being ignored.\n",
      "Warning 1: /uufs/chpc.utah.edu/common/home/civil-group1/Johnson/SWEMLv2.0/data/ASO/2021/Processed_250M_SWE/ASO_ASO_250M_20210420.tif: GeoTIFF tags apparently corrupt, they are being ignored.\n"
     ]
    },
    {
     "name": "stdout",
     "output_type": "stream",
     "text": [
      "Checking to make sure all files successfully converted...\n"
     ]
    },
    {
     "data": {
      "application/vnd.jupyter.widget-view+json": {
       "model_id": "fdae40905fea457fb311be196afd722e",
       "version_major": 2,
       "version_minor": 0
      },
      "text/plain": [
       "  0%|          | 0/19 [00:00<?, ?it/s]"
      ]
     },
     "metadata": {},
     "output_type": "display_data"
    },
    {
     "name": "stdout",
     "output_type": "stream",
     "text": [
      "Converting ASO images for WY: 2022\n",
      "Converting .tif to parquet\n",
      "Converting 47 ASO tif files to parquet\n"
     ]
    },
    {
     "data": {
      "application/vnd.jupyter.widget-view+json": {
       "model_id": "f65fec8482674c0ca5ce1991dbfa6342",
       "version_major": 2,
       "version_minor": 0
      },
      "text/plain": [
       "  0%|          | 0/47 [00:00<?, ?it/s]"
      ]
     },
     "metadata": {},
     "output_type": "display_data"
    },
    {
     "name": "stderr",
     "output_type": "stream",
     "text": [
      "ERROR 1: Deleting /uufs/chpc.utah.edu/common/home/civil-group1/Johnson/SWEMLv2.0/data/ASO/2022/Processed_250M_SWE/ASO_ASO_250M_20220510.tif failed:\n",
      "No such file or directory\n",
      "ERROR 1: Deleting /uufs/chpc.utah.edu/common/home/civil-group1/Johnson/SWEMLv2.0/data/ASO/2022/Processed_250M_SWE/ASO_ASO_250M_20220415.tif failed:\n",
      "No such file or directory\n",
      "ERROR 1: Deleting /uufs/chpc.utah.edu/common/home/civil-group1/Johnson/SWEMLv2.0/data/ASO/2022/Processed_250M_SWE/ASO_ASO_250M_20220421.tif failed:\n",
      "No such file or directory\n",
      "ERROR 1: Deleting /uufs/chpc.utah.edu/common/home/civil-group1/Johnson/SWEMLv2.0/data/ASO/2022/Processed_250M_SWE/ASO_ASO_250M_20220429.tif failed:\n",
      "No such file or directory\n",
      "ERROR 1: Deleting /uufs/chpc.utah.edu/common/home/civil-group1/Johnson/SWEMLv2.0/data/ASO/2022/Processed_250M_SWE/ASO_ASO_250M_20220525.tif failed:\n",
      "No such file or directory\n"
     ]
    },
    {
     "name": "stdout",
     "output_type": "stream",
     "text": [
      "Checking to make sure all files successfully converted...\n"
     ]
    },
    {
     "data": {
      "application/vnd.jupyter.widget-view+json": {
       "model_id": "419797eb05024e28a47be36adf8552be",
       "version_major": 2,
       "version_minor": 0
      },
      "text/plain": [
       "  0%|          | 0/45 [00:00<?, ?it/s]"
      ]
     },
     "metadata": {},
     "output_type": "display_data"
    },
    {
     "name": "stdout",
     "output_type": "stream",
     "text": [
      "Converting ASO images for WY: 2023\n",
      "Converting .tif to parquet\n",
      "Converting 82 ASO tif files to parquet\n"
     ]
    },
    {
     "data": {
      "application/vnd.jupyter.widget-view+json": {
       "model_id": "c9f7c9c56cc94665a8d3942d149657e4",
       "version_major": 2,
       "version_minor": 0
      },
      "text/plain": [
       "  0%|          | 0/82 [00:00<?, ?it/s]"
      ]
     },
     "metadata": {},
     "output_type": "display_data"
    },
    {
     "name": "stderr",
     "output_type": "stream",
     "text": [
      "Warning 1: /uufs/chpc.utah.edu/common/home/civil-group1/Johnson/SWEMLv2.0/data/ASO/2023/Processed_250M_SWE/ASO_ASO_250M_20230521.tif: TIFFFetchNormalTag:ASCII value for tag \"GDALMetadata\" contains null byte in value; value incorrectly truncated during reading due to implementation limitations\n",
      "ERROR 1: Line 2: Didn't find expected '=' for value of attribute 'ro'.\n",
      "ERROR 1: Deleting /uufs/chpc.utah.edu/common/home/civil-group1/Johnson/SWEMLv2.0/data/ASO/2023/Processed_250M_SWE/ASO_ASO_250M_20230509.tif failed:\n",
      "No such file or directory\n",
      "ERROR 1: Deleting /uufs/chpc.utah.edu/common/home/civil-group1/Johnson/SWEMLv2.0/data/ASO/2023/Processed_250M_SWE/ASO_ASO_250M_20230428.tif failed:\n",
      "No such file or directory\n"
     ]
    },
    {
     "name": "stdout",
     "output_type": "stream",
     "text": [
      "An error occurred: '/uufs/chpc.utah.edu/common/home/civil-group1/Johnson/SWEMLv2.0/data/ASO/2023/Processed_250M_SWE/ASO_ASO_250M_20230602.tif' not recognized as a supported file format.\n",
      "Checking to make sure all files successfully converted...\n"
     ]
    },
    {
     "data": {
      "application/vnd.jupyter.widget-view+json": {
       "model_id": "c3894d14673641f882fefe2a130d294d",
       "version_major": 2,
       "version_minor": 0
      },
      "text/plain": [
       "  0%|          | 0/82 [00:00<?, ?it/s]"
      ]
     },
     "metadata": {},
     "output_type": "display_data"
    },
    {
     "name": "stdout",
     "output_type": "stream",
     "text": [
      "Converting ASO images for WY: 2024\n",
      "Converting .tif to parquet\n",
      "Converting 71 ASO tif files to parquet\n"
     ]
    },
    {
     "data": {
      "application/vnd.jupyter.widget-view+json": {
       "model_id": "65ceb73b63dc4810931d1eacecee6d5b",
       "version_major": 2,
       "version_minor": 0
      },
      "text/plain": [
       "  0%|          | 0/71 [00:00<?, ?it/s]"
      ]
     },
     "metadata": {},
     "output_type": "display_data"
    },
    {
     "name": "stderr",
     "output_type": "stream",
     "text": [
      "ERROR 1: Deleting /uufs/chpc.utah.edu/common/home/civil-group1/Johnson/SWEMLv2.0/data/ASO/2024/Processed_250M_SWE/ASO_ASO_250M_20240403.tif failed:\n",
      "No such file or directory\n",
      "ERROR 1: Deleting /uufs/chpc.utah.edu/common/home/civil-group1/Johnson/SWEMLv2.0/data/ASO/2024/Processed_250M_SWE/ASO_ASO_250M_20240430.tif failed:\n",
      "No such file or directory\n",
      "ERROR 1: Deleting /uufs/chpc.utah.edu/common/home/civil-group1/Johnson/SWEMLv2.0/data/ASO/2024/Processed_250M_SWE/ASO_ASO_250M_20240502.tif failed:\n",
      "No such file or directory\n",
      "ERROR 1: Deleting /uufs/chpc.utah.edu/common/home/civil-group1/Johnson/SWEMLv2.0/data/ASO/2024/Processed_250M_SWE/ASO_ASO_250M_20240222.tif failed:\n",
      "No such file or directory\n",
      "ERROR 1: Deleting /uufs/chpc.utah.edu/common/home/civil-group1/Johnson/SWEMLv2.0/data/ASO/2024/Processed_250M_SWE/ASO_ASO_250M_20240211.tif failed:\n",
      "No such file or directory\n"
     ]
    },
    {
     "name": "stdout",
     "output_type": "stream",
     "text": [
      "Checking to make sure all files successfully converted...\n"
     ]
    },
    {
     "data": {
      "application/vnd.jupyter.widget-view+json": {
       "model_id": "474579e1f17c4f05b36b09b2bcdcae31",
       "version_major": 2,
       "version_minor": 0
      },
      "text/plain": [
       "  0%|          | 0/71 [00:00<?, ?it/s]"
      ]
     },
     "metadata": {},
     "output_type": "display_data"
    }
   ],
   "source": [
    "# Inputs for fetching ASO data for a region\n",
    "short_name = 'ASO_50M_SWE'\n",
    "directory = \"Raw_ASO_Data\"\n",
    "\n",
    "#Get ASO data, sometime sites will give error and break code, most times you can just rerun it using the data_processor sections below (e.g., comment out other parts\n",
    "for WY in WY_list:\n",
    "    #Convert ASO tifs to parquet\n",
    "    print(f\"Converting ASO images for WY: {WY}\")\n",
    "    folder_name = f\"{WY}/{directory}\"\n",
    "    data_processor = ASODataProcessing_v2() #note, 2019-5-1, 2019-06-11 seems to be bad, manually removed from SW region\n",
    "    data_processor.convert_tiff_to_parquet_multiprocess(folder_name, output_res, WY) "
   ]
  },
  {
   "cell_type": "markdown",
   "id": "d01e0597",
   "metadata": {},
   "source": [
    "## Get Snotel and CDEC in situ observations\n",
    "- Ideas - add nearest sites elevation, distance from cell, then can bypass sites with bad data. "
   ]
  },
  {
   "cell_type": "code",
   "execution_count": null,
   "id": "52a2a3c8",
   "metadata": {
    "scrolled": true,
    "tags": []
   },
   "outputs": [],
   "source": [
    "# Only needed once. Other spatial resolutions can use the same data\n",
    "#Get in situ observations\n",
    "\n",
    "#make a list of dates to align with the ASO observations (they go as early as Jan-29 and as far out as the July-17)\n",
    "years = np.arange(2013,2025,1)#Needs to go 1yr out\n",
    "start_month_day = '10-01'\n",
    "end_month_day = '08-31'\n",
    "\n",
    "# observations \n",
    "get_InSitu_obs.Get_Monitoring_Data_Threaded_Updated(years, start_month_day, end_month_day, WY = True)\n",
    "\n",
    "#combine years\n",
    "get_InSitu_obs.combine_dfs(years)"
   ]
  },
  {
   "cell_type": "markdown",
   "id": "a329ea64",
   "metadata": {},
   "source": [
    "# Code for generating ML dataframe using nearest in situ monitoring sites"
   ]
  },
  {
   "cell_type": "code",
   "execution_count": null,
   "id": "aacde450",
   "metadata": {
    "scrolled": true,
    "tags": []
   },
   "outputs": [
    {
     "name": "stdout",
     "output_type": "stream",
     "text": [
      "2016\n",
      "Loading all Geospatial prediction/observation files and concatenating into one dataframe\n"
     ]
    },
    {
     "data": {
      "application/vnd.jupyter.widget-view+json": {
       "model_id": "beb4a12a290f466786229e54e6055d57",
       "version_major": 2,
       "version_minor": 0
      },
      "text/plain": [
       "  0%|          | 0/23 [00:00<?, ?it/s]"
      ]
     },
     "metadata": {},
     "output_type": "display_data"
    },
    {
     "name": "stdout",
     "output_type": "stream",
     "text": [
      "Identifying unique sites to create geophysical information dataframe\n",
      "converting to geodataframe\n",
      "Processing snotel geometry\n",
      "Calculating haversine distance for 14575 locations to in situ OBS, and saving cell-obs relationships in dictionary\n"
     ]
    },
    {
     "data": {
      "application/vnd.jupyter.widget-view+json": {
       "model_id": "cec449beaf7e44d7a2d904ed60523954",
       "version_major": 2,
       "version_minor": 0
      },
      "text/plain": [
       "  0%|          | 0/14575 [00:00<?, ?it/s]"
      ]
     },
     "metadata": {},
     "output_type": "display_data"
    },
    {
     "name": "stdout",
     "output_type": "stream",
     "text": [
      "Saving nearest SNOTEL in 2016 for each cell id in a pkl file\n",
      "Loading geospatial data for 2016\n",
      "Converting to geodataframe\n",
      "Calculating dataframe bounding box\n",
      "-126 36 -105 50\n",
      "Retrieving Copernicus 90m DEM tiles\n"
     ]
    },
    {
     "data": {
      "application/vnd.jupyter.widget-view+json": {
       "model_id": "e1fcfe7b2de24e7bacd6cde403c50d2a",
       "version_major": 2,
       "version_minor": 0
      },
      "text/plain": [
       "  0%|          | 0/310 [00:00<?, ?it/s]"
      ]
     },
     "metadata": {},
     "output_type": "display_data"
    },
    {
     "name": "stdout",
     "output_type": "stream",
     "text": [
      "There are 310 tiles in the region\n",
      "Determining Grid Cell Spatial Features\n"
     ]
    },
    {
     "data": {
      "application/vnd.jupyter.widget-view+json": {
       "model_id": "55b3244c23544c238531c721e19ab13e",
       "version_major": 2,
       "version_minor": 0
      },
      "text/plain": [
       "  0%|          | 0/14575 [00:00<?, ?it/s]"
      ]
     },
     "metadata": {},
     "output_type": "display_data"
    }
   ],
   "source": [
    "# GeoDF used to create a dataframe for ML model development. Its function is to connect in situ observations to gridded locations\n",
    "for WY in WY_list:\n",
    "    path = f\"{HOME}/data/ASO/{WY}/{output_res}M_SWE_parquet\"\n",
    "\n",
    "    if os.path.isdir(path) == True:\n",
    "        print(WY)\n",
    "        #load snotel meta location data, use haversive function\n",
    "        GeoDF.fetch_snotel_sites_for_cellids(WY, output_res) # Using known up to date sites\n",
    "\n",
    "        # Get geophysical attributes for each site, need to see how to add output resolution\n",
    "        gdf = GeoDF.GeoSpatial(WY, output_res)\n",
    "\n",
    "        #use geodataframe with lat/long meta of all sites to determine slope, aspect, and elevation\n",
    "        metadf = GeoDF.extract_terrain_data_threaded(gdf, WY, output_res)\n",
    "    else:\n",
    "        print(f\"No ASO data for {WY}\")\n",
    "\n",
    "\n"
   ]
  },
  {
   "cell_type": "markdown",
   "id": "72349ac4",
   "metadata": {},
   "source": [
    "## Connect Snotel to each ASO obs\n"
   ]
  },
  {
   "cell_type": "code",
   "execution_count": 3,
   "id": "573a5df6",
   "metadata": {
    "tags": []
   },
   "outputs": [
    {
     "name": "stdout",
     "output_type": "stream",
     "text": [
      "2013\n",
      "Connecting site observations with nearest monitoring network obs\n",
      "Loading observations from 2013-2019\n",
      "Loading 1000M resolution grids for 2013 region\n",
      "Processing datetime component of SNOTEL observation dataframe\n",
      "Loading 6 processed ASO observations for the 2013 at 1000M resolution\n",
      "There are 6 aso dates in snotel obs\n",
      "There are 0 missing snotel obs\n",
      "Connecting 6 timesteps of observations for 2013\n"
     ]
    },
    {
     "name": "stderr",
     "output_type": "stream",
     "text": [
      "100%|██████████| 6/6 [00:00<00:00, 31.05it/s]\n"
     ]
    },
    {
     "name": "stdout",
     "output_type": "stream",
     "text": [
      "Site processing complete, adding observtional data to 20130403 df...\n"
     ]
    },
    {
     "data": {
      "application/vnd.jupyter.widget-view+json": {
       "model_id": "f72e69520d904b169c07e05b36fea35d",
       "version_major": 2,
       "version_minor": 0
      },
      "text/plain": [
       "  0%|          | 0/1488 [00:00<?, ?it/s]"
      ]
     },
     "metadata": {},
     "output_type": "display_data"
    },
    {
     "name": "stdout",
     "output_type": "stream",
     "text": [
      "Site processing complete, adding observtional data to 20130429 df...\n"
     ]
    },
    {
     "data": {
      "application/vnd.jupyter.widget-view+json": {
       "model_id": "5ff201e12c2d442695b7d03f9712b58f",
       "version_major": 2,
       "version_minor": 0
      },
      "text/plain": [
       "  0%|          | 0/1488 [00:00<?, ?it/s]"
      ]
     },
     "metadata": {},
     "output_type": "display_data"
    },
    {
     "name": "stdout",
     "output_type": "stream",
     "text": [
      "Site processing complete, adding observtional data to 20130503 df...\n"
     ]
    },
    {
     "data": {
      "application/vnd.jupyter.widget-view+json": {
       "model_id": "ef55cf50e6314de89ec9846b8742edfc",
       "version_major": 2,
       "version_minor": 0
      },
      "text/plain": [
       "  0%|          | 0/1488 [00:00<?, ?it/s]"
      ]
     },
     "metadata": {},
     "output_type": "display_data"
    },
    {
     "name": "stdout",
     "output_type": "stream",
     "text": [
      "Site processing complete, adding observtional data to 20130525 df...\n"
     ]
    },
    {
     "data": {
      "application/vnd.jupyter.widget-view+json": {
       "model_id": "e41d1cd68b484e7db171989591dd8d18",
       "version_major": 2,
       "version_minor": 0
      },
      "text/plain": [
       "  0%|          | 0/1488 [00:00<?, ?it/s]"
      ]
     },
     "metadata": {},
     "output_type": "display_data"
    },
    {
     "name": "stdout",
     "output_type": "stream",
     "text": [
      "Site processing complete, adding observtional data to 20130601 df...\n"
     ]
    },
    {
     "data": {
      "application/vnd.jupyter.widget-view+json": {
       "model_id": "50f59d4bfc714a818182663ea25559ed",
       "version_major": 2,
       "version_minor": 0
      },
      "text/plain": [
       "  0%|          | 0/1488 [00:00<?, ?it/s]"
      ]
     },
     "metadata": {},
     "output_type": "display_data"
    },
    {
     "name": "stdout",
     "output_type": "stream",
     "text": [
      "Site processing complete, adding observtional data to 20130608 df...\n"
     ]
    },
    {
     "data": {
      "application/vnd.jupyter.widget-view+json": {
       "model_id": "13f2c34abe954634be1b3d115d4c3d20",
       "version_major": 2,
       "version_minor": 0
      },
      "text/plain": [
       "  0%|          | 0/1488 [00:00<?, ?it/s]"
      ]
     },
     "metadata": {},
     "output_type": "display_data"
    },
    {
     "name": "stdout",
     "output_type": "stream",
     "text": [
      "/uufs/chpc.utah.edu/common/home/civil-group1/Johnson/SWEMLv2.0/data/TrainingDFs/2013/1000M_Resolution/Obsdf/20130403_ObsDF.parquet\n",
      "/uufs/chpc.utah.edu/common/home/civil-group1/Johnson/SWEMLv2.0/data/TrainingDFs/2013/1000M_Resolution/Obsdf/20130429_ObsDF.parquet\n",
      "/uufs/chpc.utah.edu/common/home/civil-group1/Johnson/SWEMLv2.0/data/TrainingDFs/2013/1000M_Resolution/Obsdf/20130525_ObsDF.parquet\n",
      "/uufs/chpc.utah.edu/common/home/civil-group1/Johnson/SWEMLv2.0/data/TrainingDFs/2013/1000M_Resolution/Obsdf/20130601_ObsDF.parquet\n",
      "/uufs/chpc.utah.edu/common/home/civil-group1/Johnson/SWEMLv2.0/data/TrainingDFs/2013/1000M_Resolution/Obsdf/20130503_ObsDF.parquet\n",
      "/uufs/chpc.utah.edu/common/home/civil-group1/Johnson/SWEMLv2.0/data/TrainingDFs/2013/1000M_Resolution/Obsdf/20130608_ObsDF.parquet\n",
      "Job complete for connecting SNOTEL obs to sites/dates\n",
      "2014\n",
      "Connecting site observations with nearest monitoring network obs\n",
      "Loading observations from 2013-2019\n",
      "Loading 1000M resolution grids for 2014 region\n",
      "Processing datetime component of SNOTEL observation dataframe\n",
      "Loading 18 processed ASO observations for the 2014 at 1000M resolution\n",
      "There are 18 aso dates in snotel obs\n",
      "There are 0 missing snotel obs\n",
      "Connecting 18 timesteps of observations for 2014\n"
     ]
    },
    {
     "name": "stderr",
     "output_type": "stream",
     "text": [
      "100%|██████████| 18/18 [00:00<00:00, 84.46it/s]"
     ]
    },
    {
     "name": "stdout",
     "output_type": "stream",
     "text": [
      "Site processing complete, adding observtional data to 20140324 df...\n"
     ]
    },
    {
     "data": {
      "application/vnd.jupyter.widget-view+json": {
       "model_id": "22fc6fce5b05418e85b96cf9fbae441d",
       "version_major": 2,
       "version_minor": 0
      },
      "text/plain": [
       "  0%|          | 0/1908 [00:00<?, ?it/s]"
      ]
     },
     "metadata": {},
     "output_type": "display_data"
    },
    {
     "name": "stdout",
     "output_type": "stream",
     "text": [
      "Site processing complete, adding observtional data to 20140406 df...\n"
     ]
    },
    {
     "data": {
      "application/vnd.jupyter.widget-view+json": {
       "model_id": "9289992ad2b14805b8840765c7a34d26",
       "version_major": 2,
       "version_minor": 0
      },
      "text/plain": [
       "  0%|          | 0/1908 [00:00<?, ?it/s]"
      ]
     },
     "metadata": {},
     "output_type": "display_data"
    },
    {
     "name": "stdout",
     "output_type": "stream",
     "text": [
      "Site processing complete, adding observtional data to 20140414 df...\n"
     ]
    },
    {
     "data": {
      "application/vnd.jupyter.widget-view+json": {
       "model_id": "c8bfed081fd3470f86e78c46cb23e3ad",
       "version_major": 2,
       "version_minor": 0
      },
      "text/plain": [
       "  0%|          | 0/1908 [00:00<?, ?it/s]"
      ]
     },
     "metadata": {},
     "output_type": "display_data"
    },
    {
     "name": "stderr",
     "output_type": "stream",
     "text": [
      "\n"
     ]
    },
    {
     "name": "stdout",
     "output_type": "stream",
     "text": [
      "Site processing complete, adding observtional data to 20140423 df...\n"
     ]
    },
    {
     "data": {
      "application/vnd.jupyter.widget-view+json": {
       "model_id": "55af40dd97ab45e99f2f6a2d9ce2e081",
       "version_major": 2,
       "version_minor": 0
      },
      "text/plain": [
       "  0%|          | 0/1908 [00:00<?, ?it/s]"
      ]
     },
     "metadata": {},
     "output_type": "display_data"
    },
    {
     "name": "stdout",
     "output_type": "stream",
     "text": [
      "Site processing complete, adding observtional data to 20140429 df...\n"
     ]
    },
    {
     "data": {
      "application/vnd.jupyter.widget-view+json": {
       "model_id": "e0c87efcadcb4b42a5d6d09d3552ed39",
       "version_major": 2,
       "version_minor": 0
      },
      "text/plain": [
       "  0%|          | 0/1908 [00:00<?, ?it/s]"
      ]
     },
     "metadata": {},
     "output_type": "display_data"
    },
    {
     "name": "stdout",
     "output_type": "stream",
     "text": [
      "Site processing complete, adding observtional data to 20140503 df...\n"
     ]
    },
    {
     "data": {
      "application/vnd.jupyter.widget-view+json": {
       "model_id": "6f2a9cd84dc743c798c519f469117309",
       "version_major": 2,
       "version_minor": 0
      },
      "text/plain": [
       "  0%|          | 0/1908 [00:00<?, ?it/s]"
      ]
     },
     "metadata": {},
     "output_type": "display_data"
    },
    {
     "name": "stdout",
     "output_type": "stream",
     "text": [
      "Site processing complete, adding observtional data to 20140512 df...\n"
     ]
    },
    {
     "data": {
      "application/vnd.jupyter.widget-view+json": {
       "model_id": "d7aa6151958f479da921a32e274418b7",
       "version_major": 2,
       "version_minor": 0
      },
      "text/plain": [
       "  0%|          | 0/1908 [00:00<?, ?it/s]"
      ]
     },
     "metadata": {},
     "output_type": "display_data"
    },
    {
     "name": "stdout",
     "output_type": "stream",
     "text": [
      "Site processing complete, adding observtional data to 20140323 df...\n"
     ]
    },
    {
     "data": {
      "application/vnd.jupyter.widget-view+json": {
       "model_id": "4d63d6d258a147578b3a8fc479d18e3f",
       "version_major": 2,
       "version_minor": 0
      },
      "text/plain": [
       "  0%|          | 0/3588 [00:00<?, ?it/s]"
      ]
     },
     "metadata": {},
     "output_type": "display_data"
    },
    {
     "name": "stdout",
     "output_type": "stream",
     "text": [
      "Site processing complete, adding observtional data to 20140407 df...\n"
     ]
    },
    {
     "data": {
      "application/vnd.jupyter.widget-view+json": {
       "model_id": "5d1996ad69e64b4cbc1fef93dd9b3649",
       "version_major": 2,
       "version_minor": 0
      },
      "text/plain": [
       "  0%|          | 0/3588 [00:00<?, ?it/s]"
      ]
     },
     "metadata": {},
     "output_type": "display_data"
    },
    {
     "name": "stdout",
     "output_type": "stream",
     "text": [
      "Site processing complete, adding observtional data to 20140420 df...\n"
     ]
    },
    {
     "data": {
      "application/vnd.jupyter.widget-view+json": {
       "model_id": "11c215dc07a44b9bb693640629b1f7d1",
       "version_major": 2,
       "version_minor": 0
      },
      "text/plain": [
       "  0%|          | 0/3588 [00:00<?, ?it/s]"
      ]
     },
     "metadata": {},
     "output_type": "display_data"
    },
    {
     "name": "stdout",
     "output_type": "stream",
     "text": [
      "Site processing complete, adding observtional data to 20140428 df...\n"
     ]
    },
    {
     "data": {
      "application/vnd.jupyter.widget-view+json": {
       "model_id": "6c4ff10a2b894bb787a5e3af5f6da922",
       "version_major": 2,
       "version_minor": 0
      },
      "text/plain": [
       "  0%|          | 0/3588 [00:00<?, ?it/s]"
      ]
     },
     "metadata": {},
     "output_type": "display_data"
    },
    {
     "name": "stdout",
     "output_type": "stream",
     "text": [
      "Site processing complete, adding observtional data to 20140502 df...\n"
     ]
    },
    {
     "data": {
      "application/vnd.jupyter.widget-view+json": {
       "model_id": "1381eee2df2b4aa6b24be07d3bdf7942",
       "version_major": 2,
       "version_minor": 0
      },
      "text/plain": [
       "  0%|          | 0/3588 [00:00<?, ?it/s]"
      ]
     },
     "metadata": {},
     "output_type": "display_data"
    },
    {
     "name": "stdout",
     "output_type": "stream",
     "text": [
      "Site processing complete, adding observtional data to 20140511 df...\n"
     ]
    },
    {
     "data": {
      "application/vnd.jupyter.widget-view+json": {
       "model_id": "104a176c9d484e2ead51997d5c18b261",
       "version_major": 2,
       "version_minor": 0
      },
      "text/plain": [
       "  0%|          | 0/3588 [00:00<?, ?it/s]"
      ]
     },
     "metadata": {},
     "output_type": "display_data"
    },
    {
     "name": "stdout",
     "output_type": "stream",
     "text": [
      "Site processing complete, adding observtional data to 20140517 df...\n"
     ]
    },
    {
     "data": {
      "application/vnd.jupyter.widget-view+json": {
       "model_id": "15f5ad23327a4084927dd0fd7d31bb0f",
       "version_major": 2,
       "version_minor": 0
      },
      "text/plain": [
       "  0%|          | 0/3588 [00:00<?, ?it/s]"
      ]
     },
     "metadata": {},
     "output_type": "display_data"
    },
    {
     "name": "stdout",
     "output_type": "stream",
     "text": [
      "Site processing complete, adding observtional data to 20140527 df...\n"
     ]
    },
    {
     "data": {
      "application/vnd.jupyter.widget-view+json": {
       "model_id": "85a83595ce8f4b00aeb350e48a6b6a29",
       "version_major": 2,
       "version_minor": 0
      },
      "text/plain": [
       "  0%|          | 0/3588 [00:00<?, ?it/s]"
      ]
     },
     "metadata": {},
     "output_type": "display_data"
    },
    {
     "name": "stdout",
     "output_type": "stream",
     "text": [
      "Site processing complete, adding observtional data to 20140531 df...\n"
     ]
    },
    {
     "data": {
      "application/vnd.jupyter.widget-view+json": {
       "model_id": "118dd0006d1b4d9ca2d7f7db5f4def3a",
       "version_major": 2,
       "version_minor": 0
      },
      "text/plain": [
       "  0%|          | 0/3588 [00:00<?, ?it/s]"
      ]
     },
     "metadata": {},
     "output_type": "display_data"
    },
    {
     "name": "stdout",
     "output_type": "stream",
     "text": [
      "Site processing complete, adding observtional data to 20140605 df...\n"
     ]
    },
    {
     "data": {
      "application/vnd.jupyter.widget-view+json": {
       "model_id": "e485d6ef420a4e138c42bab0dea39de5",
       "version_major": 2,
       "version_minor": 0
      },
      "text/plain": [
       "  0%|          | 0/3588 [00:00<?, ?it/s]"
      ]
     },
     "metadata": {},
     "output_type": "display_data"
    },
    {
     "name": "stdout",
     "output_type": "stream",
     "text": [
      "Site processing complete, adding observtional data to 20140320 df...\n"
     ]
    },
    {
     "data": {
      "application/vnd.jupyter.widget-view+json": {
       "model_id": "56bfe08432e04d29ad58a74de3c84b63",
       "version_major": 2,
       "version_minor": 0
      },
      "text/plain": [
       "  0%|          | 0/1656 [00:00<?, ?it/s]"
      ]
     },
     "metadata": {},
     "output_type": "display_data"
    },
    {
     "name": "stdout",
     "output_type": "stream",
     "text": [
      "/uufs/chpc.utah.edu/common/home/civil-group1/Johnson/SWEMLv2.0/data/TrainingDFs/2014/1000M_Resolution/Obsdf/20140320_ObsDF.parquet\n",
      "/uufs/chpc.utah.edu/common/home/civil-group1/Johnson/SWEMLv2.0/data/TrainingDFs/2014/1000M_Resolution/Obsdf/20140323_ObsDF.parquet\n",
      "/uufs/chpc.utah.edu/common/home/civil-group1/Johnson/SWEMLv2.0/data/TrainingDFs/2014/1000M_Resolution/Obsdf/20140420_ObsDF.parquet\n",
      "/uufs/chpc.utah.edu/common/home/civil-group1/Johnson/SWEMLv2.0/data/TrainingDFs/2014/1000M_Resolution/Obsdf/20140407_ObsDF.parquet\n",
      "/uufs/chpc.utah.edu/common/home/civil-group1/Johnson/SWEMLv2.0/data/TrainingDFs/2014/1000M_Resolution/Obsdf/20140605_ObsDF.parquet\n",
      "/uufs/chpc.utah.edu/common/home/civil-group1/Johnson/SWEMLv2.0/data/TrainingDFs/2014/1000M_Resolution/Obsdf/20140511_ObsDF.parquet\n",
      "/uufs/chpc.utah.edu/common/home/civil-group1/Johnson/SWEMLv2.0/data/TrainingDFs/2014/1000M_Resolution/Obsdf/20140527_ObsDF.parquet\n",
      "/uufs/chpc.utah.edu/common/home/civil-group1/Johnson/SWEMLv2.0/data/TrainingDFs/2014/1000M_Resolution/Obsdf/20140531_ObsDF.parquet\n",
      "/uufs/chpc.utah.edu/common/home/civil-group1/Johnson/SWEMLv2.0/data/TrainingDFs/2014/1000M_Resolution/Obsdf/20140428_ObsDF.parquet\n",
      "/uufs/chpc.utah.edu/common/home/civil-group1/Johnson/SWEMLv2.0/data/TrainingDFs/2014/1000M_Resolution/Obsdf/20140517_ObsDF.parquet\n",
      "/uufs/chpc.utah.edu/common/home/civil-group1/Johnson/SWEMLv2.0/data/TrainingDFs/2014/1000M_Resolution/Obsdf/20140502_ObsDF.parquet\n",
      "Job complete for connecting SNOTEL obs to sites/dates\n",
      "2015\n",
      "Connecting site observations with nearest monitoring network obs\n",
      "Loading observations from 2013-2019\n",
      "Loading 1000M resolution grids for 2015 region\n",
      "Processing datetime component of SNOTEL observation dataframe\n",
      "Loading 27 processed ASO observations for the 2015 at 1000M resolution\n",
      "There are 27 aso dates in snotel obs\n",
      "There are 0 missing snotel obs\n",
      "Connecting 27 timesteps of observations for 2015\n"
     ]
    },
    {
     "name": "stderr",
     "output_type": "stream",
     "text": [
      "100%|██████████| 27/27 [00:00<00:00, 156.25it/s]\n"
     ]
    },
    {
     "name": "stdout",
     "output_type": "stream",
     "text": [
      "Site processing complete, adding observtional data to 20150403 df...\n"
     ]
    },
    {
     "data": {
      "application/vnd.jupyter.widget-view+json": {
       "model_id": "5b6f5af192a24cf280d34e2f93cfdf8b",
       "version_major": 2,
       "version_minor": 0
      },
      "text/plain": [
       "  0%|          | 0/4340 [00:00<?, ?it/s]"
      ]
     },
     "metadata": {},
     "output_type": "display_data"
    },
    {
     "name": "stdout",
     "output_type": "stream",
     "text": [
      "Site processing complete, adding observtional data to 20150412 df...\n"
     ]
    },
    {
     "data": {
      "application/vnd.jupyter.widget-view+json": {
       "model_id": "5eb17bc8779a4b0d842e9d6cd7ef2fec",
       "version_major": 2,
       "version_minor": 0
      },
      "text/plain": [
       "  0%|          | 0/4340 [00:00<?, ?it/s]"
      ]
     },
     "metadata": {},
     "output_type": "display_data"
    },
    {
     "name": "stdout",
     "output_type": "stream",
     "text": [
      "Site processing complete, adding observtional data to 20150426 df...\n"
     ]
    },
    {
     "data": {
      "application/vnd.jupyter.widget-view+json": {
       "model_id": "25a0ec09b72d495f9d85b8b0538d5913",
       "version_major": 2,
       "version_minor": 0
      },
      "text/plain": [
       "  0%|          | 0/4340 [00:00<?, ?it/s]"
      ]
     },
     "metadata": {},
     "output_type": "display_data"
    },
    {
     "name": "stdout",
     "output_type": "stream",
     "text": [
      "Site processing complete, adding observtional data to 20150531 df...\n"
     ]
    },
    {
     "data": {
      "application/vnd.jupyter.widget-view+json": {
       "model_id": "f967dac08db946d2b2089e4f7febe93b",
       "version_major": 2,
       "version_minor": 0
      },
      "text/plain": [
       "  0%|          | 0/2750 [00:00<?, ?it/s]"
      ]
     },
     "metadata": {},
     "output_type": "display_data"
    },
    {
     "name": "stdout",
     "output_type": "stream",
     "text": [
      "Site processing complete, adding observtional data to 20150403 df...\n"
     ]
    },
    {
     "data": {
      "application/vnd.jupyter.widget-view+json": {
       "model_id": "5c381d8f8e1c4addb87229c6584f6bbc",
       "version_major": 2,
       "version_minor": 0
      },
      "text/plain": [
       "  0%|          | 0/4340 [00:00<?, ?it/s]"
      ]
     },
     "metadata": {},
     "output_type": "display_data"
    },
    {
     "name": "stdout",
     "output_type": "stream",
     "text": [
      "Site processing complete, adding observtional data to 20150412 df...\n"
     ]
    },
    {
     "data": {
      "application/vnd.jupyter.widget-view+json": {
       "model_id": "4ff7848dd848418e9cdf798914ff16f8",
       "version_major": 2,
       "version_minor": 0
      },
      "text/plain": [
       "  0%|          | 0/4340 [00:00<?, ?it/s]"
      ]
     },
     "metadata": {},
     "output_type": "display_data"
    },
    {
     "name": "stdout",
     "output_type": "stream",
     "text": [
      "Site processing complete, adding observtional data to 20150426 df...\n"
     ]
    },
    {
     "data": {
      "application/vnd.jupyter.widget-view+json": {
       "model_id": "2dc6fc6d536244e681c48529bd3b510d",
       "version_major": 2,
       "version_minor": 0
      },
      "text/plain": [
       "  0%|          | 0/4340 [00:00<?, ?it/s]"
      ]
     },
     "metadata": {},
     "output_type": "display_data"
    },
    {
     "name": "stdout",
     "output_type": "stream",
     "text": [
      "Site processing complete, adding observtional data to 20150531 df...\n"
     ]
    },
    {
     "data": {
      "application/vnd.jupyter.widget-view+json": {
       "model_id": "3668dfc040b54ce9b097664c0b8bf241",
       "version_major": 2,
       "version_minor": 0
      },
      "text/plain": [
       "  0%|          | 0/2750 [00:00<?, ?it/s]"
      ]
     },
     "metadata": {},
     "output_type": "display_data"
    },
    {
     "name": "stdout",
     "output_type": "stream",
     "text": [
      "Site processing complete, adding observtional data to 20150428 df...\n"
     ]
    },
    {
     "data": {
      "application/vnd.jupyter.widget-view+json": {
       "model_id": "6f5321c64fae442b9512569813f50f11",
       "version_major": 2,
       "version_minor": 0
      },
      "text/plain": [
       "  0%|          | 0/182 [00:00<?, ?it/s]"
      ]
     },
     "metadata": {},
     "output_type": "display_data"
    },
    {
     "name": "stdout",
     "output_type": "stream",
     "text": [
      "Site processing complete, adding observtional data to 20150428 df...\n"
     ]
    },
    {
     "data": {
      "application/vnd.jupyter.widget-view+json": {
       "model_id": "00880c758f35413cab4f08c7ed1a9afa",
       "version_major": 2,
       "version_minor": 0
      },
      "text/plain": [
       "  0%|          | 0/1908 [00:00<?, ?it/s]"
      ]
     },
     "metadata": {},
     "output_type": "display_data"
    },
    {
     "name": "stdout",
     "output_type": "stream",
     "text": [
      "Site processing complete, adding observtional data to 20150326 df...\n"
     ]
    },
    {
     "data": {
      "application/vnd.jupyter.widget-view+json": {
       "model_id": "edd6f10e78734842b840caf085fd47a7",
       "version_major": 2,
       "version_minor": 0
      },
      "text/plain": [
       "  0%|          | 0/338 [00:00<?, ?it/s]"
      ]
     },
     "metadata": {},
     "output_type": "display_data"
    },
    {
     "name": "stdout",
     "output_type": "stream",
     "text": [
      "Site processing complete, adding observtional data to 20150503 df...\n"
     ]
    },
    {
     "data": {
      "application/vnd.jupyter.widget-view+json": {
       "model_id": "b1afea6d9b574ffc8db959878b7866a0",
       "version_major": 2,
       "version_minor": 0
      },
      "text/plain": [
       "  0%|          | 0/338 [00:00<?, ?it/s]"
      ]
     },
     "metadata": {},
     "output_type": "display_data"
    },
    {
     "name": "stdout",
     "output_type": "stream",
     "text": [
      "Site processing complete, adding observtional data to 20150527 df...\n"
     ]
    },
    {
     "data": {
      "application/vnd.jupyter.widget-view+json": {
       "model_id": "b540ac03e3674c469ef6870b8b88d8d7",
       "version_major": 2,
       "version_minor": 0
      },
      "text/plain": [
       "  0%|          | 0/338 [00:00<?, ?it/s]"
      ]
     },
     "metadata": {},
     "output_type": "display_data"
    },
    {
     "name": "stdout",
     "output_type": "stream",
     "text": [
      "Site processing complete, adding observtional data to 20150609 df...\n",
      "Site processing complete, adding observtional data to 20150217 df...\n"
     ]
    },
    {
     "data": {
      "application/vnd.jupyter.widget-view+json": {
       "model_id": "4cb45457986a45528983e0ed8067f359",
       "version_major": 2,
       "version_minor": 0
      },
      "text/plain": [
       "  0%|          | 0/338 [00:00<?, ?it/s]"
      ]
     },
     "metadata": {},
     "output_type": "display_data"
    },
    {
     "data": {
      "application/vnd.jupyter.widget-view+json": {
       "model_id": "322aa976900e48d8bc2d6f4020653d4d",
       "version_major": 2,
       "version_minor": 0
      },
      "text/plain": [
       "  0%|          | 0/3588 [00:00<?, ?it/s]"
      ]
     },
     "metadata": {},
     "output_type": "display_data"
    },
    {
     "name": "stdout",
     "output_type": "stream",
     "text": [
      "Site processing complete, adding observtional data to 20150305 df...\n"
     ]
    },
    {
     "data": {
      "application/vnd.jupyter.widget-view+json": {
       "model_id": "4fcec6753b8940d2a9bcfcd4c88b7117",
       "version_major": 2,
       "version_minor": 0
      },
      "text/plain": [
       "  0%|          | 0/3588 [00:00<?, ?it/s]"
      ]
     },
     "metadata": {},
     "output_type": "display_data"
    },
    {
     "name": "stdout",
     "output_type": "stream",
     "text": [
      "Site processing complete, adding observtional data to 20150325 df...\n"
     ]
    },
    {
     "data": {
      "application/vnd.jupyter.widget-view+json": {
       "model_id": "e0598d3727d441ccb8f1e174cdca5e9f",
       "version_major": 2,
       "version_minor": 0
      },
      "text/plain": [
       "  0%|          | 0/3588 [00:00<?, ?it/s]"
      ]
     },
     "metadata": {},
     "output_type": "display_data"
    },
    {
     "name": "stdout",
     "output_type": "stream",
     "text": [
      "Site processing complete, adding observtional data to 20150403 df...\n",
      "Site processing complete, adding observtional data to 20150608 df...\n"
     ]
    },
    {
     "data": {
      "application/vnd.jupyter.widget-view+json": {
       "model_id": "ab354d7c832c4697ba7fcb9d50465e8b",
       "version_major": 2,
       "version_minor": 0
      },
      "text/plain": [
       "  0%|          | 0/3588 [00:00<?, ?it/s]"
      ]
     },
     "metadata": {},
     "output_type": "display_data"
    },
    {
     "data": {
      "application/vnd.jupyter.widget-view+json": {
       "model_id": "14a09609f99a4c63be419dbba81f5332",
       "version_major": 2,
       "version_minor": 0
      },
      "text/plain": [
       "  0%|          | 0/3588 [00:00<?, ?it/s]"
      ]
     },
     "metadata": {},
     "output_type": "display_data"
    },
    {
     "name": "stdout",
     "output_type": "stream",
     "text": [
      "Site processing complete, adding observtional data to 20150409 df...\n"
     ]
    },
    {
     "data": {
      "application/vnd.jupyter.widget-view+json": {
       "model_id": "c9e54ea55bbe455c956a6d36d7001c48",
       "version_major": 2,
       "version_minor": 0
      },
      "text/plain": [
       "  0%|          | 0/3588 [00:00<?, ?it/s]"
      ]
     },
     "metadata": {},
     "output_type": "display_data"
    },
    {
     "name": "stdout",
     "output_type": "stream",
     "text": [
      "Site processing complete, adding observtional data to 20150415 df...\n",
      "Site processing complete, adding observtional data to 20150406 df...\n"
     ]
    },
    {
     "data": {
      "application/vnd.jupyter.widget-view+json": {
       "model_id": "0cc6aa84e316454e8f045f8680fcb98d",
       "version_major": 2,
       "version_minor": 0
      },
      "text/plain": [
       "  0%|          | 0/3588 [00:00<?, ?it/s]"
      ]
     },
     "metadata": {},
     "output_type": "display_data"
    },
    {
     "name": "stdout",
     "output_type": "stream",
     "text": [
      "Site processing complete, adding observtional data to 20150427 df...\n"
     ]
    },
    {
     "data": {
      "application/vnd.jupyter.widget-view+json": {
       "model_id": "2d919a4645584d03ba9855df583ecad9",
       "version_major": 2,
       "version_minor": 0
      },
      "text/plain": [
       "  0%|          | 0/2580 [00:00<?, ?it/s]"
      ]
     },
     "metadata": {},
     "output_type": "display_data"
    },
    {
     "data": {
      "application/vnd.jupyter.widget-view+json": {
       "model_id": "b25718ce0d4b4df09016782a8a50e8d7",
       "version_major": 2,
       "version_minor": 0
      },
      "text/plain": [
       "  0%|          | 0/3588 [00:00<?, ?it/s]"
      ]
     },
     "metadata": {},
     "output_type": "display_data"
    },
    {
     "name": "stdout",
     "output_type": "stream",
     "text": [
      "Site processing complete, adding observtional data to 20150528 df...\n"
     ]
    },
    {
     "data": {
      "application/vnd.jupyter.widget-view+json": {
       "model_id": "a3c01d4167aa40feaf627b465358f642",
       "version_major": 2,
       "version_minor": 0
      },
      "text/plain": [
       "  0%|          | 0/3588 [00:00<?, ?it/s]"
      ]
     },
     "metadata": {},
     "output_type": "display_data"
    },
    {
     "name": "stdout",
     "output_type": "stream",
     "text": [
      "Site processing complete, adding observtional data to 20150602 df...\n"
     ]
    },
    {
     "data": {
      "application/vnd.jupyter.widget-view+json": {
       "model_id": "b02ed752076c421c81409d4fb4b64afd",
       "version_major": 2,
       "version_minor": 0
      },
      "text/plain": [
       "  0%|          | 0/2580 [00:00<?, ?it/s]"
      ]
     },
     "metadata": {},
     "output_type": "display_data"
    },
    {
     "name": "stdout",
     "output_type": "stream",
     "text": [
      "Site processing complete, adding observtional data to 20150407 df...\n"
     ]
    },
    {
     "data": {
      "application/vnd.jupyter.widget-view+json": {
       "model_id": "ade1c283684a45e3b355a351e150f4c6",
       "version_major": 2,
       "version_minor": 0
      },
      "text/plain": [
       "  0%|          | 0/4261 [00:00<?, ?it/s]"
      ]
     },
     "metadata": {},
     "output_type": "display_data"
    },
    {
     "name": "stdout",
     "output_type": "stream",
     "text": [
      "Site processing complete, adding observtional data to 20150602 df...\n"
     ]
    },
    {
     "data": {
      "application/vnd.jupyter.widget-view+json": {
       "model_id": "6fa3ec99423249af9b82501b88013247",
       "version_major": 2,
       "version_minor": 0
      },
      "text/plain": [
       "  0%|          | 0/4261 [00:00<?, ?it/s]"
      ]
     },
     "metadata": {},
     "output_type": "display_data"
    },
    {
     "name": "stdout",
     "output_type": "stream",
     "text": [
      "/uufs/chpc.utah.edu/common/home/civil-group1/Johnson/SWEMLv2.0/data/TrainingDFs/2015/1000M_Resolution/Obsdf/20150531_ObsDF.parquet\n",
      "/uufs/chpc.utah.edu/common/home/civil-group1/Johnson/SWEMLv2.0/data/TrainingDFs/2015/1000M_Resolution/Obsdf/20150531_ObsDF.parquet\n",
      "/uufs/chpc.utah.edu/common/home/civil-group1/Johnson/SWEMLv2.0/data/TrainingDFs/2015/1000M_Resolution/Obsdf/20150406_ObsDF.parquet\n",
      "/uufs/chpc.utah.edu/common/home/civil-group1/Johnson/SWEMLv2.0/data/TrainingDFs/2015/1000M_Resolution/Obsdf/20150602_ObsDF.parquet\n",
      "/uufs/chpc.utah.edu/common/home/civil-group1/Johnson/SWEMLv2.0/data/TrainingDFs/2015/1000M_Resolution/Obsdf/20150217_ObsDF.parquet\n",
      "/uufs/chpc.utah.edu/common/home/civil-group1/Johnson/SWEMLv2.0/data/TrainingDFs/2015/1000M_Resolution/Obsdf/20150409_ObsDF.parquet\n",
      "/uufs/chpc.utah.edu/common/home/civil-group1/Johnson/SWEMLv2.0/data/TrainingDFs/2015/1000M_Resolution/Obsdf/20150403_ObsDF.parquet\n",
      "/uufs/chpc.utah.edu/common/home/civil-group1/Johnson/SWEMLv2.0/data/TrainingDFs/2015/1000M_Resolution/Obsdf/20150415_ObsDF.parquet\n",
      "/uufs/chpc.utah.edu/common/home/civil-group1/Johnson/SWEMLv2.0/data/TrainingDFs/2015/1000M_Resolution/Obsdf/20150528_ObsDF.parquet\n",
      "/uufs/chpc.utah.edu/common/home/civil-group1/Johnson/SWEMLv2.0/data/TrainingDFs/2015/1000M_Resolution/Obsdf/20150403_ObsDF.parquet\n",
      "/uufs/chpc.utah.edu/common/home/civil-group1/Johnson/SWEMLv2.0/data/TrainingDFs/2015/1000M_Resolution/Obsdf/20150403_ObsDF.parquet\n",
      "/uufs/chpc.utah.edu/common/home/civil-group1/Johnson/SWEMLv2.0/data/TrainingDFs/2015/1000M_Resolution/Obsdf/20150608_ObsDF.parquet\n",
      "/uufs/chpc.utah.edu/common/home/civil-group1/Johnson/SWEMLv2.0/data/TrainingDFs/2015/1000M_Resolution/Obsdf/20150412_ObsDF.parquet\n",
      "/uufs/chpc.utah.edu/common/home/civil-group1/Johnson/SWEMLv2.0/data/TrainingDFs/2015/1000M_Resolution/Obsdf/20150426_ObsDF.parquet\n",
      "/uufs/chpc.utah.edu/common/home/civil-group1/Johnson/SWEMLv2.0/data/TrainingDFs/2015/1000M_Resolution/Obsdf/20150325_ObsDF.parquet\n",
      "/uufs/chpc.utah.edu/common/home/civil-group1/Johnson/SWEMLv2.0/data/TrainingDFs/2015/1000M_Resolution/Obsdf/20150427_ObsDF.parquet\n",
      "/uufs/chpc.utah.edu/common/home/civil-group1/Johnson/SWEMLv2.0/data/TrainingDFs/2015/1000M_Resolution/Obsdf/20150305_ObsDF.parquet\n",
      "/uufs/chpc.utah.edu/common/home/civil-group1/Johnson/SWEMLv2.0/data/TrainingDFs/2015/1000M_Resolution/Obsdf/20150407_ObsDF.parquet\n",
      "/uufs/chpc.utah.edu/common/home/civil-group1/Johnson/SWEMLv2.0/data/TrainingDFs/2015/1000M_Resolution/Obsdf/20150602_ObsDF.parquet\n",
      "/uufs/chpc.utah.edu/common/home/civil-group1/Johnson/SWEMLv2.0/data/TrainingDFs/2015/1000M_Resolution/Obsdf/20150412_ObsDF.parquet\n",
      "/uufs/chpc.utah.edu/common/home/civil-group1/Johnson/SWEMLv2.0/data/TrainingDFs/2015/1000M_Resolution/Obsdf/20150426_ObsDF.parquet\n",
      "Job complete for connecting SNOTEL obs to sites/dates\n",
      "2016\n",
      "Connecting site observations with nearest monitoring network obs\n",
      "Loading observations from 2013-2019\n",
      "Loading 1000M resolution grids for 2016 region\n",
      "Processing datetime component of SNOTEL observation dataframe\n",
      "Loading 23 processed ASO observations for the 2016 at 1000M resolution\n",
      "There are 23 aso dates in snotel obs\n",
      "There are 0 missing snotel obs\n",
      "Connecting 23 timesteps of observations for 2016\n"
     ]
    },
    {
     "name": "stderr",
     "output_type": "stream",
     "text": [
      "100%|██████████| 23/23 [00:00<00:00, 104.71it/s]"
     ]
    },
    {
     "name": "stdout",
     "output_type": "stream",
     "text": [
      "Site processing complete, adding observtional data to 20160401 df...\n"
     ]
    },
    {
     "data": {
      "application/vnd.jupyter.widget-view+json": {
       "model_id": "9573d8b67a1341dba1ab5af9bde383fc",
       "version_major": 2,
       "version_minor": 0
      },
      "text/plain": [
       "  0%|          | 0/623 [00:00<?, ?it/s]"
      ]
     },
     "metadata": {},
     "output_type": "display_data"
    },
    {
     "name": "stdout",
     "output_type": "stream",
     "text": [
      "Site processing complete, adding observtional data to 20160407 df...\n"
     ]
    },
    {
     "data": {
      "application/vnd.jupyter.widget-view+json": {
       "model_id": "b9aa1b1b86434a1d8a33adb94d7cac42",
       "version_major": 2,
       "version_minor": 0
      },
      "text/plain": [
       "  0%|          | 0/573 [00:00<?, ?it/s]"
      ]
     },
     "metadata": {},
     "output_type": "display_data"
    },
    {
     "name": "stdout",
     "output_type": "stream",
     "text": [
      "Site processing complete, adding observtional data to 20160416 df...\n"
     ]
    },
    {
     "name": "stderr",
     "output_type": "stream",
     "text": [
      "\n"
     ]
    },
    {
     "data": {
      "application/vnd.jupyter.widget-view+json": {
       "model_id": "4c33f64f7a4b45cf82a37216631ebd37",
       "version_major": 2,
       "version_minor": 0
      },
      "text/plain": [
       "  0%|          | 0/623 [00:00<?, ?it/s]"
      ]
     },
     "metadata": {},
     "output_type": "display_data"
    },
    {
     "name": "stdout",
     "output_type": "stream",
     "text": [
      "Site processing complete, adding observtional data to 20160426 df...\n"
     ]
    },
    {
     "data": {
      "application/vnd.jupyter.widget-view+json": {
       "model_id": "0302e82d474a43f3872b1cce4487048a",
       "version_major": 2,
       "version_minor": 0
      },
      "text/plain": [
       "  0%|          | 0/623 [00:00<?, ?it/s]"
      ]
     },
     "metadata": {},
     "output_type": "display_data"
    },
    {
     "name": "stdout",
     "output_type": "stream",
     "text": [
      "Site processing complete, adding observtional data to 20160509 df...\n"
     ]
    },
    {
     "data": {
      "application/vnd.jupyter.widget-view+json": {
       "model_id": "7cf97d8d666040129a1f24773c28f0c0",
       "version_major": 2,
       "version_minor": 0
      },
      "text/plain": [
       "  0%|          | 0/623 [00:00<?, ?it/s]"
      ]
     },
     "metadata": {},
     "output_type": "display_data"
    },
    {
     "name": "stdout",
     "output_type": "stream",
     "text": [
      "Site processing complete, adding observtional data to 20160509 df...\n"
     ]
    },
    {
     "data": {
      "application/vnd.jupyter.widget-view+json": {
       "model_id": "a88bf75593b5442aa3995c4b3b2e7be7",
       "version_major": 2,
       "version_minor": 0
      },
      "text/plain": [
       "  0%|          | 0/16 [00:00<?, ?it/s]"
      ]
     },
     "metadata": {},
     "output_type": "display_data"
    },
    {
     "name": "stdout",
     "output_type": "stream",
     "text": [
      "Site processing complete, adding observtional data to 20160607 df...\n"
     ]
    },
    {
     "data": {
      "application/vnd.jupyter.widget-view+json": {
       "model_id": "b62f70b9bdae4efda687b486586790e8",
       "version_major": 2,
       "version_minor": 0
      },
      "text/plain": [
       "  0%|          | 0/14 [00:00<?, ?it/s]"
      ]
     },
     "metadata": {},
     "output_type": "display_data"
    },
    {
     "name": "stdout",
     "output_type": "stream",
     "text": [
      "Site processing complete, adding observtional data to 20160614 df...\n"
     ]
    },
    {
     "data": {
      "application/vnd.jupyter.widget-view+json": {
       "model_id": "72c278755c0c4825b190d438c4ad0029",
       "version_major": 2,
       "version_minor": 0
      },
      "text/plain": [
       "  0%|          | 0/35 [00:00<?, ?it/s]"
      ]
     },
     "metadata": {},
     "output_type": "display_data"
    },
    {
     "name": "stdout",
     "output_type": "stream",
     "text": [
      "Site processing complete, adding observtional data to 20160621 df...\n"
     ]
    },
    {
     "data": {
      "application/vnd.jupyter.widget-view+json": {
       "model_id": "959f5a0a072c47c3a4aa95dda8b7975b",
       "version_major": 2,
       "version_minor": 0
      },
      "text/plain": [
       "  0%|          | 0/35 [00:00<?, ?it/s]"
      ]
     },
     "metadata": {},
     "output_type": "display_data"
    },
    {
     "name": "stdout",
     "output_type": "stream",
     "text": [
      "Site processing complete, adding observtional data to 20160626 df...\n"
     ]
    },
    {
     "data": {
      "application/vnd.jupyter.widget-view+json": {
       "model_id": "bbd2c05e3ac64ed38bbe826a78e3c0cf",
       "version_major": 2,
       "version_minor": 0
      },
      "text/plain": [
       "  0%|          | 0/35 [00:00<?, ?it/s]"
      ]
     },
     "metadata": {},
     "output_type": "display_data"
    },
    {
     "name": "stdout",
     "output_type": "stream",
     "text": [
      "Site processing complete, adding observtional data to 20160326 df...\n"
     ]
    },
    {
     "data": {
      "application/vnd.jupyter.widget-view+json": {
       "model_id": "418613da2eb34b5786fce4618ecb87d8",
       "version_major": 2,
       "version_minor": 0
      },
      "text/plain": [
       "  0%|          | 0/1487 [00:00<?, ?it/s]"
      ]
     },
     "metadata": {},
     "output_type": "display_data"
    },
    {
     "name": "stdout",
     "output_type": "stream",
     "text": [
      "Site processing complete, adding observtional data to 20160401 df...\n"
     ]
    },
    {
     "data": {
      "application/vnd.jupyter.widget-view+json": {
       "model_id": "2648990531a74a46b1bfc9716cdf181a",
       "version_major": 2,
       "version_minor": 0
      },
      "text/plain": [
       "  0%|          | 0/1487 [00:00<?, ?it/s]"
      ]
     },
     "metadata": {},
     "output_type": "display_data"
    },
    {
     "name": "stdout",
     "output_type": "stream",
     "text": [
      "Site processing complete, adding observtional data to 20160407 df...\n"
     ]
    },
    {
     "data": {
      "application/vnd.jupyter.widget-view+json": {
       "model_id": "7ea59a7b913c431c96e8302f243122cd",
       "version_major": 2,
       "version_minor": 0
      },
      "text/plain": [
       "  0%|          | 0/1279 [00:00<?, ?it/s]"
      ]
     },
     "metadata": {},
     "output_type": "display_data"
    },
    {
     "name": "stdout",
     "output_type": "stream",
     "text": [
      "Site processing complete, adding observtional data to 20160416 df...\n"
     ]
    },
    {
     "data": {
      "application/vnd.jupyter.widget-view+json": {
       "model_id": "c6742c97f1f1410ea9e677400a10e342",
       "version_major": 2,
       "version_minor": 0
      },
      "text/plain": [
       "  0%|          | 0/1279 [00:00<?, ?it/s]"
      ]
     },
     "metadata": {},
     "output_type": "display_data"
    },
    {
     "name": "stdout",
     "output_type": "stream",
     "text": [
      "Site processing complete, adding observtional data to 20160426 df...\n"
     ]
    },
    {
     "data": {
      "application/vnd.jupyter.widget-view+json": {
       "model_id": "6976401da00145d8852e5ec6e7263926",
       "version_major": 2,
       "version_minor": 0
      },
      "text/plain": [
       "  0%|          | 0/1281 [00:00<?, ?it/s]"
      ]
     },
     "metadata": {},
     "output_type": "display_data"
    },
    {
     "name": "stdout",
     "output_type": "stream",
     "text": [
      "Site processing complete, adding observtional data to 20160509 df...\n"
     ]
    },
    {
     "data": {
      "application/vnd.jupyter.widget-view+json": {
       "model_id": "e4c74070dfc74353aeaf87d8fb0f70b3",
       "version_major": 2,
       "version_minor": 0
      },
      "text/plain": [
       "  0%|          | 0/1487 [00:00<?, ?it/s]"
      ]
     },
     "metadata": {},
     "output_type": "display_data"
    },
    {
     "name": "stdout",
     "output_type": "stream",
     "text": [
      "Site processing complete, adding observtional data to 20160527 df...\n"
     ]
    },
    {
     "data": {
      "application/vnd.jupyter.widget-view+json": {
       "model_id": "401f9ebfc350440490ac20ece1cddf2c",
       "version_major": 2,
       "version_minor": 0
      },
      "text/plain": [
       "  0%|          | 0/1488 [00:00<?, ?it/s]"
      ]
     },
     "metadata": {},
     "output_type": "display_data"
    },
    {
     "name": "stdout",
     "output_type": "stream",
     "text": [
      "Site processing complete, adding observtional data to 20160708 df...\n"
     ]
    },
    {
     "data": {
      "application/vnd.jupyter.widget-view+json": {
       "model_id": "7ce733994d2a4b339f022df7850d07fb",
       "version_major": 2,
       "version_minor": 0
      },
      "text/plain": [
       "  0%|          | 0/1488 [00:00<?, ?it/s]"
      ]
     },
     "metadata": {},
     "output_type": "display_data"
    },
    {
     "name": "stdout",
     "output_type": "stream",
     "text": [
      "Site processing complete, adding observtional data to 20160404 df...\n"
     ]
    },
    {
     "data": {
      "application/vnd.jupyter.widget-view+json": {
       "model_id": "8c6aae676c8d4925b27905d57e7e77d1",
       "version_major": 2,
       "version_minor": 0
      },
      "text/plain": [
       "  0%|          | 0/230 [00:00<?, ?it/s]"
      ]
     },
     "metadata": {},
     "output_type": "display_data"
    },
    {
     "name": "stdout",
     "output_type": "stream",
     "text": [
      "Site processing complete, adding observtional data to 20160403 df...\n"
     ]
    },
    {
     "data": {
      "application/vnd.jupyter.widget-view+json": {
       "model_id": "e5251f1a0105408da6fb002de9a3abb2",
       "version_major": 2,
       "version_minor": 0
      },
      "text/plain": [
       "  0%|          | 0/919 [00:00<?, ?it/s]"
      ]
     },
     "metadata": {},
     "output_type": "display_data"
    },
    {
     "name": "stdout",
     "output_type": "stream",
     "text": [
      "Site processing complete, adding observtional data to 20160403 df...\n",
      "/uufs/chpc.utah.edu/common/home/civil-group1/Johnson/SWEMLv2.0/data/TrainingDFs/2016/1000M_Resolution/Obsdf/20160407_ObsDF.parquet\n",
      "/uufs/chpc.utah.edu/common/home/civil-group1/Johnson/SWEMLv2.0/data/TrainingDFs/2016/1000M_Resolution/Obsdf/20160509_ObsDF.parquet\n"
     ]
    },
    {
     "data": {
      "application/vnd.jupyter.widget-view+json": {
       "model_id": "b2898a01f639413dba9cf814307df38a",
       "version_major": 2,
       "version_minor": 0
      },
      "text/plain": [
       "  0%|          | 0/2126 [00:00<?, ?it/s]"
      ]
     },
     "metadata": {},
     "output_type": "display_data"
    },
    {
     "name": "stdout",
     "output_type": "stream",
     "text": [
      "/uufs/chpc.utah.edu/common/home/civil-group1/Johnson/SWEMLv2.0/data/TrainingDFs/2016/1000M_Resolution/Obsdf/20160426_ObsDF.parquet\n",
      "/uufs/chpc.utah.edu/common/home/civil-group1/Johnson/SWEMLv2.0/data/TrainingDFs/2016/1000M_Resolution/Obsdf/20160401_ObsDF.parquet\n",
      "Site processing complete, adding observtional data to 20160208 df.../uufs/chpc.utah.edu/common/home/civil-group1/Johnson/SWEMLv2.0/data/TrainingDFs/2016/1000M_Resolution/Obsdf/20160416_ObsDF.parquet\n",
      "Site processing complete, adding observtional data to 20160329 df...\n",
      "\n"
     ]
    },
    {
     "data": {
      "application/vnd.jupyter.widget-view+json": {
       "model_id": "5e6b74fe4bd642279958eeb72d980603",
       "version_major": 2,
       "version_minor": 0
      },
      "text/plain": [
       "  0%|          | 0/7661 [00:00<?, ?it/s]"
      ]
     },
     "metadata": {},
     "output_type": "display_data"
    },
    {
     "data": {
      "application/vnd.jupyter.widget-view+json": {
       "model_id": "6cf46b5d06fc4d49870a1575dfe960ec",
       "version_major": 2,
       "version_minor": 0
      },
      "text/plain": [
       "  0%|          | 0/7661 [00:00<?, ?it/s]"
      ]
     },
     "metadata": {},
     "output_type": "display_data"
    },
    {
     "name": "stdout",
     "output_type": "stream",
     "text": [
      "/uufs/chpc.utah.edu/common/home/civil-group1/Johnson/SWEMLv2.0/data/TrainingDFs/2016/1000M_Resolution/Obsdf/20160404_ObsDF.parquet\n",
      "/uufs/chpc.utah.edu/common/home/civil-group1/Johnson/SWEMLv2.0/data/TrainingDFs/2016/1000M_Resolution/Obsdf/20160403_ObsDF.parquet\n",
      "/uufs/chpc.utah.edu/common/home/civil-group1/Johnson/SWEMLv2.0/data/TrainingDFs/2016/1000M_Resolution/Obsdf/20160416_ObsDF.parquet\n",
      "/uufs/chpc.utah.edu/common/home/civil-group1/Johnson/SWEMLv2.0/data/TrainingDFs/2016/1000M_Resolution/Obsdf/20160407_ObsDF.parquet\n",
      "/uufs/chpc.utah.edu/common/home/civil-group1/Johnson/SWEMLv2.0/data/TrainingDFs/2016/1000M_Resolution/Obsdf/20160326_ObsDF.parquet\n",
      "/uufs/chpc.utah.edu/common/home/civil-group1/Johnson/SWEMLv2.0/data/TrainingDFs/2016/1000M_Resolution/Obsdf/20160426_ObsDF.parquet\n",
      "/uufs/chpc.utah.edu/common/home/civil-group1/Johnson/SWEMLv2.0/data/TrainingDFs/2016/1000M_Resolution/Obsdf/20160401_ObsDF.parquet\n",
      "/uufs/chpc.utah.edu/common/home/civil-group1/Johnson/SWEMLv2.0/data/TrainingDFs/2016/1000M_Resolution/Obsdf/20160509_ObsDF.parquet\n",
      "/uufs/chpc.utah.edu/common/home/civil-group1/Johnson/SWEMLv2.0/data/TrainingDFs/2016/1000M_Resolution/Obsdf/20160708_ObsDF.parquet\n",
      "/uufs/chpc.utah.edu/common/home/civil-group1/Johnson/SWEMLv2.0/data/TrainingDFs/2016/1000M_Resolution/Obsdf/20160527_ObsDF.parquet\n",
      "/uufs/chpc.utah.edu/common/home/civil-group1/Johnson/SWEMLv2.0/data/TrainingDFs/2016/1000M_Resolution/Obsdf/20160403_ObsDF.parquet\n",
      "/uufs/chpc.utah.edu/common/home/civil-group1/Johnson/SWEMLv2.0/data/TrainingDFs/2016/1000M_Resolution/Obsdf/20160208_ObsDF.parquet\n",
      "/uufs/chpc.utah.edu/common/home/civil-group1/Johnson/SWEMLv2.0/data/TrainingDFs/2016/1000M_Resolution/Obsdf/20160329_ObsDF.parquet\n",
      "Job complete for connecting SNOTEL obs to sites/dates\n",
      "2017\n",
      "Connecting site observations with nearest monitoring network obs\n",
      "Loading observations from 2013-2019\n",
      "Loading 1000M resolution grids for 2017 region\n",
      "Processing datetime component of SNOTEL observation dataframe\n",
      "Loading 17 processed ASO observations for the 2017 at 1000M resolution\n",
      "There are 17 aso dates in snotel obs\n",
      "There are 0 missing snotel obs\n",
      "Connecting 17 timesteps of observations for 2017\n"
     ]
    },
    {
     "name": "stderr",
     "output_type": "stream",
     "text": [
      "100%|██████████| 17/17 [00:00<00:00, 77.26it/s]"
     ]
    },
    {
     "name": "stdout",
     "output_type": "stream",
     "text": [
      "Site processing complete, adding observtional data to 20170129 df...\n"
     ]
    },
    {
     "data": {
      "application/vnd.jupyter.widget-view+json": {
       "model_id": "c9e4bb0081384471a87d6efe11ff3275",
       "version_major": 2,
       "version_minor": 0
      },
      "text/plain": [
       "  0%|          | 0/623 [00:00<?, ?it/s]"
      ]
     },
     "metadata": {},
     "output_type": "display_data"
    },
    {
     "name": "stdout",
     "output_type": "stream",
     "text": [
      "Site processing complete, adding observtional data to 20170717 df...\n"
     ]
    },
    {
     "data": {
      "application/vnd.jupyter.widget-view+json": {
       "model_id": "449dcfa1780741899b05bf6572beef59",
       "version_major": 2,
       "version_minor": 0
      },
      "text/plain": [
       "  0%|          | 0/623 [00:00<?, ?it/s]"
      ]
     },
     "metadata": {},
     "output_type": "display_data"
    },
    {
     "name": "stdout",
     "output_type": "stream",
     "text": [
      "Site processing complete, adding observtional data to 20170727 df...\n"
     ]
    },
    {
     "data": {
      "application/vnd.jupyter.widget-view+json": {
       "model_id": "078e7be890e944e8a75652e9550237f7",
       "version_major": 2,
       "version_minor": 0
      },
      "text/plain": [
       "  0%|          | 0/623 [00:00<?, ?it/s]"
      ]
     },
     "metadata": {},
     "output_type": "display_data"
    },
    {
     "name": "stderr",
     "output_type": "stream",
     "text": [
      "\n"
     ]
    },
    {
     "name": "stdout",
     "output_type": "stream",
     "text": [
      "Site processing complete, adding observtional data to 20170816 df...\n"
     ]
    },
    {
     "data": {
      "application/vnd.jupyter.widget-view+json": {
       "model_id": "03ed464a9ac0425a871861b5d9afcc98",
       "version_major": 2,
       "version_minor": 0
      },
      "text/plain": [
       "  0%|          | 0/623 [00:00<?, ?it/s]"
      ]
     },
     "metadata": {},
     "output_type": "display_data"
    },
    {
     "name": "stdout",
     "output_type": "stream",
     "text": [
      "Site processing complete, adding observtional data to 20170128 df...\n"
     ]
    },
    {
     "data": {
      "application/vnd.jupyter.widget-view+json": {
       "model_id": "f9afd7820dc842f5aeb680e6ea033da5",
       "version_major": 2,
       "version_minor": 0
      },
      "text/plain": [
       "  0%|          | 0/35 [00:00<?, ?it/s]"
      ]
     },
     "metadata": {},
     "output_type": "display_data"
    },
    {
     "name": "stdout",
     "output_type": "stream",
     "text": [
      "Site processing complete, adding observtional data to 20170718 df...\n"
     ]
    },
    {
     "data": {
      "application/vnd.jupyter.widget-view+json": {
       "model_id": "227c679275d341a0b6b8e5188ae77007",
       "version_major": 2,
       "version_minor": 0
      },
      "text/plain": [
       "  0%|          | 0/35 [00:00<?, ?it/s]"
      ]
     },
     "metadata": {},
     "output_type": "display_data"
    },
    {
     "name": "stdout",
     "output_type": "stream",
     "text": [
      "Site processing complete, adding observtional data to 20170815 df...\n"
     ]
    },
    {
     "data": {
      "application/vnd.jupyter.widget-view+json": {
       "model_id": "8757403c855c4644bb6bd3ee4091601a",
       "version_major": 2,
       "version_minor": 0
      },
      "text/plain": [
       "  0%|          | 0/35 [00:00<?, ?it/s]"
      ]
     },
     "metadata": {},
     "output_type": "display_data"
    },
    {
     "name": "stdout",
     "output_type": "stream",
     "text": [
      "Site processing complete, adding observtional data to 20170717 df...\n"
     ]
    },
    {
     "data": {
      "application/vnd.jupyter.widget-view+json": {
       "model_id": "ecac4f6310b04567a74fa987b9edd1ab",
       "version_major": 2,
       "version_minor": 0
      },
      "text/plain": [
       "  0%|          | 0/146 [00:00<?, ?it/s]"
      ]
     },
     "metadata": {},
     "output_type": "display_data"
    },
    {
     "name": "stdout",
     "output_type": "stream",
     "text": [
      "Site processing complete, adding observtional data to 20170717 df...\n"
     ]
    },
    {
     "data": {
      "application/vnd.jupyter.widget-view+json": {
       "model_id": "2555af5b296d4c528cb88b2eb5d50bca",
       "version_major": 2,
       "version_minor": 0
      },
      "text/plain": [
       "  0%|          | 0/175 [00:00<?, ?it/s]"
      ]
     },
     "metadata": {},
     "output_type": "display_data"
    },
    {
     "name": "stdout",
     "output_type": "stream",
     "text": [
      "Site processing complete, adding observtional data to 20170718 df...\n"
     ]
    },
    {
     "data": {
      "application/vnd.jupyter.widget-view+json": {
       "model_id": "dd279a0aa69a4a609ecbb5a65c6b4631",
       "version_major": 2,
       "version_minor": 0
      },
      "text/plain": [
       "  0%|          | 0/1218 [00:00<?, ?it/s]"
      ]
     },
     "metadata": {},
     "output_type": "display_data"
    },
    {
     "name": "stdout",
     "output_type": "stream",
     "text": [
      "Site processing complete, adding observtional data to 20170719 df...\n"
     ]
    },
    {
     "data": {
      "application/vnd.jupyter.widget-view+json": {
       "model_id": "6991337731c74cccab9cb8c7d2327b86",
       "version_major": 2,
       "version_minor": 0
      },
      "text/plain": [
       "  0%|          | 0/1719 [00:00<?, ?it/s]"
      ]
     },
     "metadata": {},
     "output_type": "display_data"
    },
    {
     "name": "stdout",
     "output_type": "stream",
     "text": [
      "Site processing complete, adding observtional data to 20170815 df...\n"
     ]
    },
    {
     "data": {
      "application/vnd.jupyter.widget-view+json": {
       "model_id": "1234c2a72c914bd7bbf3c4d07b241998",
       "version_major": 2,
       "version_minor": 0
      },
      "text/plain": [
       "  0%|          | 0/1719 [00:00<?, ?it/s]"
      ]
     },
     "metadata": {},
     "output_type": "display_data"
    },
    {
     "name": "stdout",
     "output_type": "stream",
     "text": [
      "Site processing complete, adding observtional data to 20170129 df...\n"
     ]
    },
    {
     "data": {
      "application/vnd.jupyter.widget-view+json": {
       "model_id": "1b0badae33f7409cad84b4865bb2bf9a",
       "version_major": 2,
       "version_minor": 0
      },
      "text/plain": [
       "  0%|          | 0/1487 [00:00<?, ?it/s]"
      ]
     },
     "metadata": {},
     "output_type": "display_data"
    },
    {
     "name": "stdout",
     "output_type": "stream",
     "text": [
      "Site processing complete, adding observtional data to 20170717 df...\n"
     ]
    },
    {
     "data": {
      "application/vnd.jupyter.widget-view+json": {
       "model_id": "bd23c8a6b2234f04b8ae9c66e7f2c216",
       "version_major": 2,
       "version_minor": 0
      },
      "text/plain": [
       "  0%|          | 0/1487 [00:00<?, ?it/s]"
      ]
     },
     "metadata": {},
     "output_type": "display_data"
    },
    {
     "name": "stdout",
     "output_type": "stream",
     "text": [
      "Site processing complete, adding observtional data to 20170727 df...\n"
     ]
    },
    {
     "data": {
      "application/vnd.jupyter.widget-view+json": {
       "model_id": "7db276dfa742467d8e73a90537caca4c",
       "version_major": 2,
       "version_minor": 0
      },
      "text/plain": [
       "  0%|          | 0/1487 [00:00<?, ?it/s]"
      ]
     },
     "metadata": {},
     "output_type": "display_data"
    },
    {
     "name": "stdout",
     "output_type": "stream",
     "text": [
      "Site processing complete, adding observtional data to 20170816 df...\n"
     ]
    },
    {
     "data": {
      "application/vnd.jupyter.widget-view+json": {
       "model_id": "79dd60bfd95d43bf8ee9d91c31bc9124",
       "version_major": 2,
       "version_minor": 0
      },
      "text/plain": [
       "  0%|          | 0/1487 [00:00<?, ?it/s]"
      ]
     },
     "metadata": {},
     "output_type": "display_data"
    },
    {
     "name": "stdout",
     "output_type": "stream",
     "text": [
      "Site processing complete, adding observtional data to 20170129 df...\n"
     ]
    },
    {
     "data": {
      "application/vnd.jupyter.widget-view+json": {
       "model_id": "95ad904078754e2caaaf57e997cb20e2",
       "version_major": 2,
       "version_minor": 0
      },
      "text/plain": [
       "  0%|          | 0/1487 [00:00<?, ?it/s]"
      ]
     },
     "metadata": {},
     "output_type": "display_data"
    },
    {
     "name": "stdout",
     "output_type": "stream",
     "text": [
      "/uufs/chpc.utah.edu/common/home/civil-group1/Johnson/SWEMLv2.0/data/TrainingDFs/2017/1000M_Resolution/Obsdf/20170717_ObsDF.parquet\n",
      "/uufs/chpc.utah.edu/common/home/civil-group1/Johnson/SWEMLv2.0/data/TrainingDFs/2017/1000M_Resolution/Obsdf/20170129_ObsDF.parquet\n",
      "/uufs/chpc.utah.edu/common/home/civil-group1/Johnson/SWEMLv2.0/data/TrainingDFs/2017/1000M_Resolution/Obsdf/20170727_ObsDF.parquet\n",
      "/uufs/chpc.utah.edu/common/home/civil-group1/Johnson/SWEMLv2.0/data/TrainingDFs/2017/1000M_Resolution/Obsdf/20170816_ObsDF.parquet\n",
      "/uufs/chpc.utah.edu/common/home/civil-group1/Johnson/SWEMLv2.0/data/TrainingDFs/2017/1000M_Resolution/Obsdf/20170718_ObsDF.parquet\n",
      "/uufs/chpc.utah.edu/common/home/civil-group1/Johnson/SWEMLv2.0/data/TrainingDFs/2017/1000M_Resolution/Obsdf/20170129_ObsDF.parquet\n",
      "/uufs/chpc.utah.edu/common/home/civil-group1/Johnson/SWEMLv2.0/data/TrainingDFs/2017/1000M_Resolution/Obsdf/20170717_ObsDF.parquet\n",
      "/uufs/chpc.utah.edu/common/home/civil-group1/Johnson/SWEMLv2.0/data/TrainingDFs/2017/1000M_Resolution/Obsdf/20170816_ObsDF.parquet\n",
      "/uufs/chpc.utah.edu/common/home/civil-group1/Johnson/SWEMLv2.0/data/TrainingDFs/2017/1000M_Resolution/Obsdf/20170129_ObsDF.parquet\n",
      "/uufs/chpc.utah.edu/common/home/civil-group1/Johnson/SWEMLv2.0/data/TrainingDFs/2017/1000M_Resolution/Obsdf/20170727_ObsDF.parquet\n",
      "/uufs/chpc.utah.edu/common/home/civil-group1/Johnson/SWEMLv2.0/data/TrainingDFs/2017/1000M_Resolution/Obsdf/20170719_ObsDF.parquet\n",
      "/uufs/chpc.utah.edu/common/home/civil-group1/Johnson/SWEMLv2.0/data/TrainingDFs/2017/1000M_Resolution/Obsdf/20170815_ObsDF.parquet\n",
      "Job complete for connecting SNOTEL obs to sites/dates\n",
      "2018\n",
      "Connecting site observations with nearest monitoring network obs\n",
      "Loading observations from 2013-2019\n",
      "Loading 1000M resolution grids for 2018 region\n",
      "Processing datetime component of SNOTEL observation dataframe\n",
      "Loading 21 processed ASO observations for the 2018 at 1000M resolution\n",
      "There are 21 aso dates in snotel obs\n",
      "There are 0 missing snotel obs\n",
      "Connecting 21 timesteps of observations for 2018\n"
     ]
    },
    {
     "name": "stderr",
     "output_type": "stream",
     "text": [
      "100%|██████████| 21/21 [00:00<00:00, 93.66it/s]"
     ]
    },
    {
     "name": "stdout",
     "output_type": "stream",
     "text": [
      "Site processing complete, adding observtional data to 20180423 df...\n"
     ]
    },
    {
     "data": {
      "application/vnd.jupyter.widget-view+json": {
       "model_id": "8569dcca625145ea993f283143ecfc98",
       "version_major": 2,
       "version_minor": 0
      },
      "text/plain": [
       "  0%|          | 0/616 [00:00<?, ?it/s]"
      ]
     },
     "metadata": {},
     "output_type": "display_data"
    },
    {
     "name": "stdout",
     "output_type": "stream",
     "text": [
      "Site processing complete, adding observtional data to 20180528 df...\n"
     ]
    },
    {
     "data": {
      "application/vnd.jupyter.widget-view+json": {
       "model_id": "99d3259bde1743f69dc0c87b550c6830",
       "version_major": 2,
       "version_minor": 0
      },
      "text/plain": [
       "  0%|          | 0/582 [00:00<?, ?it/s]"
      ]
     },
     "metadata": {},
     "output_type": "display_data"
    },
    {
     "name": "stdout",
     "output_type": "stream",
     "text": [
      "Site processing complete, adding observtional data to 20180423 df...\n"
     ]
    },
    {
     "name": "stderr",
     "output_type": "stream",
     "text": [
      "\n"
     ]
    },
    {
     "data": {
      "application/vnd.jupyter.widget-view+json": {
       "model_id": "e3a265c45ce5497e8b74ee1abaa596ff",
       "version_major": 2,
       "version_minor": 0
      },
      "text/plain": [
       "  0%|          | 0/2374 [00:00<?, ?it/s]"
      ]
     },
     "metadata": {},
     "output_type": "display_data"
    },
    {
     "name": "stdout",
     "output_type": "stream",
     "text": [
      "Site processing complete, adding observtional data to 20180602 df...\n"
     ]
    },
    {
     "data": {
      "application/vnd.jupyter.widget-view+json": {
       "model_id": "551c9cfb54ff41e3bd1dfab6d57def23",
       "version_major": 2,
       "version_minor": 0
      },
      "text/plain": [
       "  0%|          | 0/2374 [00:00<?, ?it/s]"
      ]
     },
     "metadata": {},
     "output_type": "display_data"
    },
    {
     "name": "stdout",
     "output_type": "stream",
     "text": [
      "Site processing complete, adding observtional data to 20180426 df...\n"
     ]
    },
    {
     "data": {
      "application/vnd.jupyter.widget-view+json": {
       "model_id": "b3a43f54c5c0421d8ae3941782093494",
       "version_major": 2,
       "version_minor": 0
      },
      "text/plain": [
       "  0%|          | 0/3598 [00:00<?, ?it/s]"
      ]
     },
     "metadata": {},
     "output_type": "display_data"
    },
    {
     "name": "stdout",
     "output_type": "stream",
     "text": [
      "Site processing complete, adding observtional data to 20180426 df...\n"
     ]
    },
    {
     "data": {
      "application/vnd.jupyter.widget-view+json": {
       "model_id": "e741d1101f8d4b4283c7242d7493af84",
       "version_major": 2,
       "version_minor": 0
      },
      "text/plain": [
       "  0%|          | 0/3598 [00:00<?, ?it/s]"
      ]
     },
     "metadata": {},
     "output_type": "display_data"
    },
    {
     "name": "stdout",
     "output_type": "stream",
     "text": [
      "Site processing complete, adding observtional data to 20180426 df...\n"
     ]
    },
    {
     "data": {
      "application/vnd.jupyter.widget-view+json": {
       "model_id": "833711cea8584fcfbe421976463c7193",
       "version_major": 2,
       "version_minor": 0
      },
      "text/plain": [
       "  0%|          | 0/815 [00:00<?, ?it/s]"
      ]
     },
     "metadata": {},
     "output_type": "display_data"
    },
    {
     "name": "stdout",
     "output_type": "stream",
     "text": [
      "Site processing complete, adding observtional data to 20180422 df...\n"
     ]
    },
    {
     "data": {
      "application/vnd.jupyter.widget-view+json": {
       "model_id": "59f501e963bf4a36aa1f1208556739a8",
       "version_major": 2,
       "version_minor": 0
      },
      "text/plain": [
       "  0%|          | 0/35 [00:00<?, ?it/s]"
      ]
     },
     "metadata": {},
     "output_type": "display_data"
    },
    {
     "name": "stdout",
     "output_type": "stream",
     "text": [
      "Site processing complete, adding observtional data to 20180601 df...\n"
     ]
    },
    {
     "data": {
      "application/vnd.jupyter.widget-view+json": {
       "model_id": "e03a6ac8e9974eb397aa153337dc4825",
       "version_major": 2,
       "version_minor": 0
      },
      "text/plain": [
       "  0%|          | 0/35 [00:00<?, ?it/s]"
      ]
     },
     "metadata": {},
     "output_type": "display_data"
    },
    {
     "name": "stdout",
     "output_type": "stream",
     "text": [
      "Site processing complete, adding observtional data to 20180425 df...\n"
     ]
    },
    {
     "data": {
      "application/vnd.jupyter.widget-view+json": {
       "model_id": "81653e23549e45ce88e27b4e01c25b30",
       "version_major": 2,
       "version_minor": 0
      },
      "text/plain": [
       "  0%|          | 0/1109 [00:00<?, ?it/s]"
      ]
     },
     "metadata": {},
     "output_type": "display_data"
    },
    {
     "name": "stdout",
     "output_type": "stream",
     "text": [
      "Site processing complete, adding observtional data to 20180423 df...\n"
     ]
    },
    {
     "data": {
      "application/vnd.jupyter.widget-view+json": {
       "model_id": "e3557fbedd9e4b6286175066b2d222a7",
       "version_major": 2,
       "version_minor": 0
      },
      "text/plain": [
       "  0%|          | 0/1218 [00:00<?, ?it/s]"
      ]
     },
     "metadata": {},
     "output_type": "display_data"
    },
    {
     "name": "stdout",
     "output_type": "stream",
     "text": [
      "Site processing complete, adding observtional data to 20180601 df...\n"
     ]
    },
    {
     "data": {
      "application/vnd.jupyter.widget-view+json": {
       "model_id": "0823e3ef517345eca0eb8df9213daf16",
       "version_major": 2,
       "version_minor": 0
      },
      "text/plain": [
       "  0%|          | 0/1218 [00:00<?, ?it/s]"
      ]
     },
     "metadata": {},
     "output_type": "display_data"
    },
    {
     "name": "stdout",
     "output_type": "stream",
     "text": [
      "Site processing complete, adding observtional data to 20180304 df...\n"
     ]
    },
    {
     "data": {
      "application/vnd.jupyter.widget-view+json": {
       "model_id": "897f459cae72439c818309baf4b63cda",
       "version_major": 2,
       "version_minor": 0
      },
      "text/plain": [
       "  0%|          | 0/1719 [00:00<?, ?it/s]"
      ]
     },
     "metadata": {},
     "output_type": "display_data"
    },
    {
     "name": "stdout",
     "output_type": "stream",
     "text": [
      "Site processing complete, adding observtional data to 20180422 df...\n"
     ]
    },
    {
     "data": {
      "application/vnd.jupyter.widget-view+json": {
       "model_id": "65ac9f67876e416c8225cc542f39e57a",
       "version_major": 2,
       "version_minor": 0
      },
      "text/plain": [
       "  0%|          | 0/1719 [00:00<?, ?it/s]"
      ]
     },
     "metadata": {},
     "output_type": "display_data"
    },
    {
     "name": "stdout",
     "output_type": "stream",
     "text": [
      "Site processing complete, adding observtional data to 20180601 df...\n"
     ]
    },
    {
     "data": {
      "application/vnd.jupyter.widget-view+json": {
       "model_id": "c874c665352043baab1d3fefc9a40a24",
       "version_major": 2,
       "version_minor": 0
      },
      "text/plain": [
       "  0%|          | 0/1719 [00:00<?, ?it/s]"
      ]
     },
     "metadata": {},
     "output_type": "display_data"
    },
    {
     "name": "stdout",
     "output_type": "stream",
     "text": [
      "Site processing complete, adding observtional data to 20180423 df...\n"
     ]
    },
    {
     "data": {
      "application/vnd.jupyter.widget-view+json": {
       "model_id": "e231dc96ca15467d9f5491d5e9243bd3",
       "version_major": 2,
       "version_minor": 0
      },
      "text/plain": [
       "  0%|          | 0/1427 [00:00<?, ?it/s]"
      ]
     },
     "metadata": {},
     "output_type": "display_data"
    },
    {
     "name": "stdout",
     "output_type": "stream",
     "text": [
      "/uufs/chpc.utah.edu/common/home/civil-group1/Johnson/SWEMLv2.0/data/TrainingDFs/2018/1000M_Resolution/Obsdf/20180423_ObsDF.parquet\n",
      "/uufs/chpc.utah.edu/common/home/civil-group1/Johnson/SWEMLv2.0/data/TrainingDFs/2018/1000M_Resolution/Obsdf/20180528_ObsDF.parquet\n",
      "Site processing complete, adding observtional data to 20180528 df...\n"
     ]
    },
    {
     "data": {
      "application/vnd.jupyter.widget-view+json": {
       "model_id": "be08feac5688453b8967f2903772d87c",
       "version_major": 2,
       "version_minor": 0
      },
      "text/plain": [
       "  0%|          | 0/1415 [00:00<?, ?it/s]"
      ]
     },
     "metadata": {},
     "output_type": "display_data"
    },
    {
     "name": "stdout",
     "output_type": "stream",
     "text": [
      "Site processing complete, adding observtional data to 20180330 df...\n"
     ]
    },
    {
     "data": {
      "application/vnd.jupyter.widget-view+json": {
       "model_id": "f0f55f68701e44d5ac5adb5dde197617",
       "version_major": 2,
       "version_minor": 0
      },
      "text/plain": [
       "  0%|          | 0/230 [00:00<?, ?it/s]"
      ]
     },
     "metadata": {},
     "output_type": "display_data"
    },
    {
     "name": "stdout",
     "output_type": "stream",
     "text": [
      "Site processing complete, adding observtional data to 20180331 df...\n"
     ]
    },
    {
     "data": {
      "application/vnd.jupyter.widget-view+json": {
       "model_id": "4abceb3d0cbe40d7b9b70baa0a2565de",
       "version_major": 2,
       "version_minor": 0
      },
      "text/plain": [
       "  0%|          | 0/2134 [00:00<?, ?it/s]"
      ]
     },
     "metadata": {},
     "output_type": "display_data"
    },
    {
     "name": "stdout",
     "output_type": "stream",
     "text": [
      "Site processing complete, adding observtional data to 20180524 df...\n"
     ]
    },
    {
     "data": {
      "application/vnd.jupyter.widget-view+json": {
       "model_id": "3c0922aeff7e4d45818fc3bfcc7f4dae",
       "version_major": 2,
       "version_minor": 0
      },
      "text/plain": [
       "  0%|          | 0/2134 [00:00<?, ?it/s]"
      ]
     },
     "metadata": {},
     "output_type": "display_data"
    },
    {
     "name": "stdout",
     "output_type": "stream",
     "text": [
      "Site processing complete, adding observtional data to 20180330 df...\n"
     ]
    },
    {
     "data": {
      "application/vnd.jupyter.widget-view+json": {
       "model_id": "c0c317d2eaf14bcc92d1a4da646e4bb3",
       "version_major": 2,
       "version_minor": 0
      },
      "text/plain": [
       "  0%|          | 0/847 [00:00<?, ?it/s]"
      ]
     },
     "metadata": {},
     "output_type": "display_data"
    },
    {
     "name": "stdout",
     "output_type": "stream",
     "text": [
      "/uufs/chpc.utah.edu/common/home/civil-group1/Johnson/SWEMLv2.0/data/TrainingDFs/2018/1000M_Resolution/Obsdf/20180330_ObsDF.parquet\n",
      "/uufs/chpc.utah.edu/common/home/civil-group1/Johnson/SWEMLv2.0/data/TrainingDFs/2018/1000M_Resolution/Obsdf/20180426_ObsDF.parquet\n",
      "/uufs/chpc.utah.edu/common/home/civil-group1/Johnson/SWEMLv2.0/data/TrainingDFs/2018/1000M_Resolution/Obsdf/20180601_ObsDF.parquet\n",
      "/uufs/chpc.utah.edu/common/home/civil-group1/Johnson/SWEMLv2.0/data/TrainingDFs/2018/1000M_Resolution/Obsdf/20180423_ObsDF.parquet\n",
      "/uufs/chpc.utah.edu/common/home/civil-group1/Johnson/SWEMLv2.0/data/TrainingDFs/2018/1000M_Resolution/Obsdf/20180330_ObsDF.parquet\n",
      "/uufs/chpc.utah.edu/common/home/civil-group1/Johnson/SWEMLv2.0/data/TrainingDFs/2018/1000M_Resolution/Obsdf/20180423_ObsDF.parquet\n",
      "/uufs/chpc.utah.edu/common/home/civil-group1/Johnson/SWEMLv2.0/data/TrainingDFs/2018/1000M_Resolution/Obsdf/20180601_ObsDF.parquet\n",
      "/uufs/chpc.utah.edu/common/home/civil-group1/Johnson/SWEMLv2.0/data/TrainingDFs/2018/1000M_Resolution/Obsdf/20180304_ObsDF.parquet\n",
      "/uufs/chpc.utah.edu/common/home/civil-group1/Johnson/SWEMLv2.0/data/TrainingDFs/2018/1000M_Resolution/Obsdf/20180528_ObsDF.parquet\n",
      "/uufs/chpc.utah.edu/common/home/civil-group1/Johnson/SWEMLv2.0/data/TrainingDFs/2018/1000M_Resolution/Obsdf/20180422_ObsDF.parquet\n",
      "/uufs/chpc.utah.edu/common/home/civil-group1/Johnson/SWEMLv2.0/data/TrainingDFs/2018/1000M_Resolution/Obsdf/20180602_ObsDF.parquet\n",
      "/uufs/chpc.utah.edu/common/home/civil-group1/Johnson/SWEMLv2.0/data/TrainingDFs/2018/1000M_Resolution/Obsdf/20180423_ObsDF.parquet\n",
      "/uufs/chpc.utah.edu/common/home/civil-group1/Johnson/SWEMLv2.0/data/TrainingDFs/2018/1000M_Resolution/Obsdf/20180331_ObsDF.parquet\n",
      "/uufs/chpc.utah.edu/common/home/civil-group1/Johnson/SWEMLv2.0/data/TrainingDFs/2018/1000M_Resolution/Obsdf/20180524_ObsDF.parquet\n",
      "/uufs/chpc.utah.edu/common/home/civil-group1/Johnson/SWEMLv2.0/data/TrainingDFs/2018/1000M_Resolution/Obsdf/20180426_ObsDF.parquet\n",
      "/uufs/chpc.utah.edu/common/home/civil-group1/Johnson/SWEMLv2.0/data/TrainingDFs/2018/1000M_Resolution/Obsdf/20180426_ObsDF.parquet\n",
      "Job complete for connecting SNOTEL obs to sites/dates\n",
      "2019\n",
      "Connecting site observations with nearest monitoring network obs\n",
      "Loading observations from 2013-2019\n",
      "Loading 1000M resolution grids for 2019 region\n",
      "Processing datetime component of SNOTEL observation dataframe\n",
      "Loading 47 processed ASO observations for the 2019 at 1000M resolution\n",
      "There are 47 aso dates in snotel obs\n",
      "There are 0 missing snotel obs\n",
      "Connecting 47 timesteps of observations for 2019\n"
     ]
    },
    {
     "name": "stderr",
     "output_type": "stream",
     "text": [
      "100%|██████████| 47/47 [00:00<00:00, 227.19it/s]"
     ]
    },
    {
     "name": "stdout",
     "output_type": "stream",
     "text": [
      "Site processing complete, adding observtional data to 20190315 df...\n"
     ]
    },
    {
     "data": {
      "application/vnd.jupyter.widget-view+json": {
       "model_id": "6e4f669ec3fb4ed5bdbc52491f944931",
       "version_major": 2,
       "version_minor": 0
      },
      "text/plain": [
       "  0%|          | 0/5306 [00:00<?, ?it/s]"
      ]
     },
     "metadata": {},
     "output_type": "display_data"
    },
    {
     "name": "stdout",
     "output_type": "stream",
     "text": [
      "Site processing complete, adding observtional data to 20190605 df...\n"
     ]
    },
    {
     "data": {
      "application/vnd.jupyter.widget-view+json": {
       "model_id": "3c5e6e0528a94966bd42024c017f2b6e",
       "version_major": 2,
       "version_minor": 0
      },
      "text/plain": [
       "  0%|          | 0/2022 [00:00<?, ?it/s]"
      ]
     },
     "metadata": {},
     "output_type": "display_data"
    },
    {
     "name": "stderr",
     "output_type": "stream",
     "text": [
      "\n"
     ]
    },
    {
     "name": "stdout",
     "output_type": "stream",
     "text": [
      "Site processing complete, adding observtional data to 20190316 df...\n"
     ]
    },
    {
     "data": {
      "application/vnd.jupyter.widget-view+json": {
       "model_id": "d7059cadbae74d51a5a03747b7d5abe3",
       "version_major": 2,
       "version_minor": 0
      },
      "text/plain": [
       "  0%|          | 0/4453 [00:00<?, ?it/s]"
      ]
     },
     "metadata": {},
     "output_type": "display_data"
    },
    {
     "name": "stdout",
     "output_type": "stream",
     "text": [
      "Site processing complete, adding observtional data to 20190608 df...\n"
     ]
    },
    {
     "data": {
      "application/vnd.jupyter.widget-view+json": {
       "model_id": "3a72d05d90704cd487b8dafc0b77cec2",
       "version_major": 2,
       "version_minor": 0
      },
      "text/plain": [
       "  0%|          | 0/2570 [00:00<?, ?it/s]"
      ]
     },
     "metadata": {},
     "output_type": "display_data"
    },
    {
     "name": "stdout",
     "output_type": "stream",
     "text": [
      "Site processing complete, adding observtional data to 20190316 df...\n"
     ]
    },
    {
     "data": {
      "application/vnd.jupyter.widget-view+json": {
       "model_id": "3e93f3c4b8ed47dc8222f3afc1172035",
       "version_major": 2,
       "version_minor": 0
      },
      "text/plain": [
       "  0%|          | 0/4453 [00:00<?, ?it/s]"
      ]
     },
     "metadata": {},
     "output_type": "display_data"
    },
    {
     "name": "stdout",
     "output_type": "stream",
     "text": [
      "Site processing complete, adding observtional data to 20190418 df...\n"
     ]
    },
    {
     "data": {
      "application/vnd.jupyter.widget-view+json": {
       "model_id": "6c08b5d90a884324a9896f96f0e3ef9e",
       "version_major": 2,
       "version_minor": 0
      },
      "text/plain": [
       "  0%|          | 0/4453 [00:00<?, ?it/s]"
      ]
     },
     "metadata": {},
     "output_type": "display_data"
    },
    {
     "name": "stdout",
     "output_type": "stream",
     "text": [
      "Site processing complete, adding observtional data to 20190427 df...\n"
     ]
    },
    {
     "data": {
      "application/vnd.jupyter.widget-view+json": {
       "model_id": "e5de59913c6346efbcecdf3a9909a8f8",
       "version_major": 2,
       "version_minor": 0
      },
      "text/plain": [
       "  0%|          | 0/1533 [00:00<?, ?it/s]"
      ]
     },
     "metadata": {},
     "output_type": "display_data"
    },
    {
     "name": "stdout",
     "output_type": "stream",
     "text": [
      "Site processing complete, adding observtional data to 20190428 df...\n"
     ]
    },
    {
     "data": {
      "application/vnd.jupyter.widget-view+json": {
       "model_id": "b7ea920585f3437fa130fe205c5df229",
       "version_major": 2,
       "version_minor": 0
      },
      "text/plain": [
       "  0%|          | 0/4453 [00:00<?, ?it/s]"
      ]
     },
     "metadata": {},
     "output_type": "display_data"
    },
    {
     "name": "stdout",
     "output_type": "stream",
     "text": [
      "Site processing complete, adding observtional data to 20190608 df...\n"
     ]
    },
    {
     "data": {
      "application/vnd.jupyter.widget-view+json": {
       "model_id": "f48a57b99f1348308651f2dffc51254e",
       "version_major": 2,
       "version_minor": 0
      },
      "text/plain": [
       "  0%|          | 0/2570 [00:00<?, ?it/s]"
      ]
     },
     "metadata": {},
     "output_type": "display_data"
    },
    {
     "name": "stdout",
     "output_type": "stream",
     "text": [
      "Site processing complete, adding observtional data to 20190326 df...\n"
     ]
    },
    {
     "data": {
      "application/vnd.jupyter.widget-view+json": {
       "model_id": "ee068726c87e411e95775f55a65048a3",
       "version_major": 2,
       "version_minor": 0
      },
      "text/plain": [
       "  0%|          | 0/1690 [00:00<?, ?it/s]"
      ]
     },
     "metadata": {},
     "output_type": "display_data"
    },
    {
     "name": "stdout",
     "output_type": "stream",
     "text": [
      "Site processing complete, adding observtional data to 20190417 df...\n"
     ]
    },
    {
     "data": {
      "application/vnd.jupyter.widget-view+json": {
       "model_id": "20527224ddd14da2aed53a1636580473",
       "version_major": 2,
       "version_minor": 0
      },
      "text/plain": [
       "  0%|          | 0/811 [00:00<?, ?it/s]"
      ]
     },
     "metadata": {},
     "output_type": "display_data"
    },
    {
     "name": "stdout",
     "output_type": "stream",
     "text": [
      "Site processing complete, adding observtional data to 20190611 df...\n"
     ]
    },
    {
     "data": {
      "application/vnd.jupyter.widget-view+json": {
       "model_id": "42a65ac782014bb3a1c5fa4c5b0cffa5",
       "version_major": 2,
       "version_minor": 0
      },
      "text/plain": [
       "  0%|          | 0/811 [00:00<?, ?it/s]"
      ]
     },
     "metadata": {},
     "output_type": "display_data"
    },
    {
     "name": "stdout",
     "output_type": "stream",
     "text": [
      "Site processing complete, adding observtional data to 20190317 df...\n"
     ]
    },
    {
     "data": {
      "application/vnd.jupyter.widget-view+json": {
       "model_id": "07868711372f425cb1cf7eb661c62287",
       "version_major": 2,
       "version_minor": 0
      },
      "text/plain": [
       "  0%|          | 0/1804 [00:00<?, ?it/s]"
      ]
     },
     "metadata": {},
     "output_type": "display_data"
    },
    {
     "name": "stdout",
     "output_type": "stream",
     "text": [
      "Site processing complete, adding observtional data to 20190324 df...\n"
     ]
    },
    {
     "data": {
      "application/vnd.jupyter.widget-view+json": {
       "model_id": "42f6807bd92e490a9b018dbc6dfd7e49",
       "version_major": 2,
       "version_minor": 0
      },
      "text/plain": [
       "  0%|          | 0/1804 [00:00<?, ?it/s]"
      ]
     },
     "metadata": {},
     "output_type": "display_data"
    },
    {
     "name": "stdout",
     "output_type": "stream",
     "text": [
      "Site processing complete, adding observtional data to 20190421 df...\n"
     ]
    },
    {
     "data": {
      "application/vnd.jupyter.widget-view+json": {
       "model_id": "edbcfa31fd124fc0af559a4639a60811",
       "version_major": 2,
       "version_minor": 0
      },
      "text/plain": [
       "  0%|          | 0/1804 [00:00<?, ?it/s]"
      ]
     },
     "metadata": {},
     "output_type": "display_data"
    },
    {
     "name": "stdout",
     "output_type": "stream",
     "text": [
      "Site processing complete, adding observtional data to 20190309 df...\n"
     ]
    },
    {
     "data": {
      "application/vnd.jupyter.widget-view+json": {
       "model_id": "ea77ba7a50294353b743df50029c4ec3",
       "version_major": 2,
       "version_minor": 0
      },
      "text/plain": [
       "  0%|          | 0/34 [00:00<?, ?it/s]"
      ]
     },
     "metadata": {},
     "output_type": "display_data"
    },
    {
     "name": "stdout",
     "output_type": "stream",
     "text": [
      "Site processing complete, adding observtional data to 20190501 df...\n"
     ]
    },
    {
     "data": {
      "application/vnd.jupyter.widget-view+json": {
       "model_id": "61f24c6af1bb48399f6774075fe4dc18",
       "version_major": 2,
       "version_minor": 0
      },
      "text/plain": [
       "  0%|          | 0/34 [00:00<?, ?it/s]"
      ]
     },
     "metadata": {},
     "output_type": "display_data"
    },
    {
     "name": "stdout",
     "output_type": "stream",
     "text": [
      "Site processing complete, adding observtional data to 20190611 df...\n"
     ]
    },
    {
     "data": {
      "application/vnd.jupyter.widget-view+json": {
       "model_id": "dbd6c182a9b949ea892c760e7bc086fc",
       "version_major": 2,
       "version_minor": 0
      },
      "text/plain": [
       "  0%|          | 0/34 [00:00<?, ?it/s]"
      ]
     },
     "metadata": {},
     "output_type": "display_data"
    },
    {
     "name": "stdout",
     "output_type": "stream",
     "text": [
      "Site processing complete, adding observtional data to 20190703 df...\n"
     ]
    },
    {
     "data": {
      "application/vnd.jupyter.widget-view+json": {
       "model_id": "e4511504bb27492a8c6c952312d783d4",
       "version_major": 2,
       "version_minor": 0
      },
      "text/plain": [
       "  0%|          | 0/34 [00:00<?, ?it/s]"
      ]
     },
     "metadata": {},
     "output_type": "display_data"
    },
    {
     "name": "stdout",
     "output_type": "stream",
     "text": [
      "Site processing complete, adding observtional data to 20190715 df...\n"
     ]
    },
    {
     "data": {
      "application/vnd.jupyter.widget-view+json": {
       "model_id": "c423cb4ca77c4f07b3b97880fdc40d7c",
       "version_major": 2,
       "version_minor": 0
      },
      "text/plain": [
       "  0%|          | 0/34 [00:00<?, ?it/s]"
      ]
     },
     "metadata": {},
     "output_type": "display_data"
    },
    {
     "name": "stdout",
     "output_type": "stream",
     "text": [
      "Site processing complete, adding observtional data to 20190329 df...\n"
     ]
    },
    {
     "data": {
      "application/vnd.jupyter.widget-view+json": {
       "model_id": "f673a0d252fd47ae8b305bc6c81474da",
       "version_major": 2,
       "version_minor": 0
      },
      "text/plain": [
       "  0%|          | 0/1055 [00:00<?, ?it/s]"
      ]
     },
     "metadata": {},
     "output_type": "display_data"
    },
    {
     "name": "stdout",
     "output_type": "stream",
     "text": [
      "Site processing complete, adding observtional data to 20190604 df...\n",
      "Site processing complete, adding observtional data to 20190703 df...\n"
     ]
    },
    {
     "data": {
      "application/vnd.jupyter.widget-view+json": {
       "model_id": "66f7df522fad4d7bbf483788eb012c9c",
       "version_major": 2,
       "version_minor": 0
      },
      "text/plain": [
       "  0%|          | 0/1296 [00:00<?, ?it/s]"
      ]
     },
     "metadata": {},
     "output_type": "display_data"
    },
    {
     "data": {
      "application/vnd.jupyter.widget-view+json": {
       "model_id": "b99a4e08c3fa4565990b5f22d2742a70",
       "version_major": 2,
       "version_minor": 0
      },
      "text/plain": [
       "  0%|          | 0/1296 [00:00<?, ?it/s]"
      ]
     },
     "metadata": {},
     "output_type": "display_data"
    },
    {
     "name": "stdout",
     "output_type": "stream",
     "text": [
      "Site processing complete, adding observtional data to 20190716 df...Site processing complete, adding observtional data to 20190317 df...\n",
      "\n"
     ]
    },
    {
     "data": {
      "application/vnd.jupyter.widget-view+json": {
       "model_id": "5d53ca7f52b349be96256a87de829669",
       "version_major": 2,
       "version_minor": 0
      },
      "text/plain": [
       "  0%|          | 0/1220 [00:00<?, ?it/s]"
      ]
     },
     "metadata": {},
     "output_type": "display_data"
    },
    {
     "data": {
      "application/vnd.jupyter.widget-view+json": {
       "model_id": "58b5cf63b9e141a5a074e7ef08b05645",
       "version_major": 2,
       "version_minor": 0
      },
      "text/plain": [
       "  0%|          | 0/1296 [00:00<?, ?it/s]"
      ]
     },
     "metadata": {},
     "output_type": "display_data"
    },
    {
     "name": "stdout",
     "output_type": "stream",
     "text": [
      "Site processing complete, adding observtional data to 20190502 df...\n"
     ]
    },
    {
     "data": {
      "application/vnd.jupyter.widget-view+json": {
       "model_id": "83ac8183e734438d840b8bc1914af559",
       "version_major": 2,
       "version_minor": 0
      },
      "text/plain": [
       "  0%|          | 0/1220 [00:00<?, ?it/s]"
      ]
     },
     "metadata": {},
     "output_type": "display_data"
    },
    {
     "name": "stdout",
     "output_type": "stream",
     "text": [
      "Site processing complete, adding observtional data to 20190609 df...\n"
     ]
    },
    {
     "data": {
      "application/vnd.jupyter.widget-view+json": {
       "model_id": "55599ac7c887473191d0c1ececbc299f",
       "version_major": 2,
       "version_minor": 0
      },
      "text/plain": [
       "  0%|          | 0/1220 [00:00<?, ?it/s]"
      ]
     },
     "metadata": {},
     "output_type": "display_data"
    },
    {
     "name": "stdout",
     "output_type": "stream",
     "text": [
      "/uufs/chpc.utah.edu/common/home/civil-group1/Johnson/SWEMLv2.0/data/TrainingDFs/2019/1000M_Resolution/Obsdf/20190611_ObsDF.parquet\n",
      "/uufs/chpc.utah.edu/common/home/civil-group1/Johnson/SWEMLv2.0/data/TrainingDFs/2019/1000M_Resolution/Obsdf/20190417_ObsDF.parquet\n",
      "Site processing complete, adding observtional data to 20190704 df...\n"
     ]
    },
    {
     "data": {
      "application/vnd.jupyter.widget-view+json": {
       "model_id": "3e17a33dc1524607b7f8cca5da3e41c6",
       "version_major": 2,
       "version_minor": 0
      },
      "text/plain": [
       "  0%|          | 0/1220 [00:00<?, ?it/s]"
      ]
     },
     "metadata": {},
     "output_type": "display_data"
    },
    {
     "name": "stdout",
     "output_type": "stream",
     "text": [
      "Site processing complete, adding observtional data to 20190714 df...\n"
     ]
    },
    {
     "data": {
      "application/vnd.jupyter.widget-view+json": {
       "model_id": "93d485c707c6419da4cf829dc29303da",
       "version_major": 2,
       "version_minor": 0
      },
      "text/plain": [
       "  0%|          | 0/1220 [00:00<?, ?it/s]"
      ]
     },
     "metadata": {},
     "output_type": "display_data"
    },
    {
     "name": "stdout",
     "output_type": "stream",
     "text": [
      "/uufs/chpc.utah.edu/common/home/civil-group1/Johnson/SWEMLv2.0/data/TrainingDFs/2019/1000M_Resolution/Obsdf/20190427_ObsDF.parquet\n",
      "Site processing complete, adding observtional data to 20190325 df.../uufs/chpc.utah.edu/common/home/civil-group1/Johnson/SWEMLv2.0/data/TrainingDFs/2019/1000M_Resolution/Obsdf/20190326_ObsDF.parquet\n",
      "\n"
     ]
    },
    {
     "data": {
      "application/vnd.jupyter.widget-view+json": {
       "model_id": "ebefb345eca242c1bb342517b4b49be9",
       "version_major": 2,
       "version_minor": 0
      },
      "text/plain": [
       "  0%|          | 0/2038 [00:00<?, ?it/s]"
      ]
     },
     "metadata": {},
     "output_type": "display_data"
    },
    {
     "name": "stdout",
     "output_type": "stream",
     "text": [
      "Site processing complete, adding observtional data to 20190501 df...\n"
     ]
    },
    {
     "data": {
      "application/vnd.jupyter.widget-view+json": {
       "model_id": "4f05ca94ca0e4d8dada64bc05dd7091a",
       "version_major": 2,
       "version_minor": 0
      },
      "text/plain": [
       "  0%|          | 0/2038 [00:00<?, ?it/s]"
      ]
     },
     "metadata": {},
     "output_type": "display_data"
    },
    {
     "name": "stdout",
     "output_type": "stream",
     "text": [
      "Site processing complete, adding observtional data to 20190614 df...\n"
     ]
    },
    {
     "data": {
      "application/vnd.jupyter.widget-view+json": {
       "model_id": "6983e2e4ad224f44b972ae9e0b1ff43a",
       "version_major": 2,
       "version_minor": 0
      },
      "text/plain": [
       "  0%|          | 0/2038 [00:00<?, ?it/s]"
      ]
     },
     "metadata": {},
     "output_type": "display_data"
    },
    {
     "name": "stdout",
     "output_type": "stream",
     "text": [
      "/uufs/chpc.utah.edu/common/home/civil-group1/Johnson/SWEMLv2.0/data/TrainingDFs/2019/1000M_Resolution/Obsdf/20190605_ObsDF.parquet\n",
      "/uufs/chpc.utah.edu/common/home/civil-group1/Johnson/SWEMLv2.0/data/TrainingDFs/2019/1000M_Resolution/Obsdf/20190609_ObsDF.parquet\n",
      "Site processing complete, adding observtional data to 20190704 df...\n"
     ]
    },
    {
     "data": {
      "application/vnd.jupyter.widget-view+json": {
       "model_id": "07ae28f4352a43d09140376af8af3b2a",
       "version_major": 2,
       "version_minor": 0
      },
      "text/plain": [
       "  0%|          | 0/2038 [00:00<?, ?it/s]"
      ]
     },
     "metadata": {},
     "output_type": "display_data"
    },
    {
     "name": "stdout",
     "output_type": "stream",
     "text": [
      "Site processing complete, adding observtional data to 20190324 df...\n",
      "/uufs/chpc.utah.edu/common/home/civil-group1/Johnson/SWEMLv2.0/data/TrainingDFs/2019/1000M_Resolution/Obsdf/20190317_ObsDF.parquet\n",
      "\n"
     ]
    },
    {
     "data": {
      "application/vnd.jupyter.widget-view+json": {
       "model_id": "96e0ba5230b84e91924504392aec1ad4",
       "version_major": 2,
       "version_minor": 0
      },
      "text/plain": [
       "  0%|          | 0/2121 [00:00<?, ?it/s]"
      ]
     },
     "metadata": {},
     "output_type": "display_data"
    },
    {
     "name": "stdout",
     "output_type": "stream",
     "text": [
      "Site processing complete, adding observtional data to 20190417 df...\n",
      "/uufs/chpc.utah.edu/common/home/civil-group1/Johnson/SWEMLv2.0/data/TrainingDFs/2019/1000M_Resolution/Obsdf/20190502_ObsDF.parquet"
     ]
    },
    {
     "data": {
      "application/vnd.jupyter.widget-view+json": {
       "model_id": "4aedd9ca20fe4f279c6b66a294af6810",
       "version_major": 2,
       "version_minor": 0
      },
      "text/plain": [
       "  0%|          | 0/2121 [00:00<?, ?it/s]"
      ]
     },
     "metadata": {},
     "output_type": "display_data"
    },
    {
     "name": "stdout",
     "output_type": "stream",
     "text": [
      "Site processing complete, adding observtional data to 20190503 df...\n"
     ]
    },
    {
     "data": {
      "application/vnd.jupyter.widget-view+json": {
       "model_id": "92c4cee8ef04460582ea0190a4fb3a7e",
       "version_major": 2,
       "version_minor": 0
      },
      "text/plain": [
       "  0%|          | 0/2121 [00:00<?, ?it/s]"
      ]
     },
     "metadata": {},
     "output_type": "display_data"
    },
    {
     "name": "stdout",
     "output_type": "stream",
     "text": [
      "/uufs/chpc.utah.edu/common/home/civil-group1/Johnson/SWEMLv2.0/data/TrainingDFs/2019/1000M_Resolution/Obsdf/20190704_ObsDF.parquet\n",
      "Site processing complete, adding observtional data to 20190713 df...\n",
      "Site processing complete, adding observtional data to 20190705 df...\n"
     ]
    },
    {
     "data": {
      "application/vnd.jupyter.widget-view+json": {
       "model_id": "8ebbd5d6f62f4d0f9de0712da58013e9",
       "version_major": 2,
       "version_minor": 0
      },
      "text/plain": [
       "  0%|          | 0/2038 [00:00<?, ?it/s]"
      ]
     },
     "metadata": {},
     "output_type": "display_data"
    },
    {
     "data": {
      "application/vnd.jupyter.widget-view+json": {
       "model_id": "53138f85cd684578afe3ff4bd21c3801",
       "version_major": 2,
       "version_minor": 0
      },
      "text/plain": [
       "  0%|          | 0/2121 [00:00<?, ?it/s]"
      ]
     },
     "metadata": {},
     "output_type": "display_data"
    },
    {
     "name": "stdout",
     "output_type": "stream",
     "text": [
      "/uufs/chpc.utah.edu/common/home/civil-group1/Johnson/SWEMLv2.0/data/TrainingDFs/2019/1000M_Resolution/Obsdf/20190317_ObsDF.parquet\n",
      "/uufs/chpc.utah.edu/common/home/civil-group1/Johnson/SWEMLv2.0/data/TrainingDFs/2019/1000M_Resolution/Obsdf/20190324_ObsDF.parquet\n",
      "Site processing complete, adding observtional data to 20190613 df...\n",
      "Site processing complete, adding observtional data to 20190624 df..."
     ]
    },
    {
     "data": {
      "application/vnd.jupyter.widget-view+json": {
       "model_id": "6e3ec7372873412783dc3d88629bf385",
       "version_major": 2,
       "version_minor": 0
      },
      "text/plain": [
       "  0%|          | 0/2121 [00:00<?, ?it/s]"
      ]
     },
     "metadata": {},
     "output_type": "display_data"
    },
    {
     "name": "stdout",
     "output_type": "stream",
     "text": [
      "\n"
     ]
    },
    {
     "data": {
      "application/vnd.jupyter.widget-view+json": {
       "model_id": "0c2e29709e5b41719140398190a3729d",
       "version_major": 2,
       "version_minor": 0
      },
      "text/plain": [
       "  0%|          | 0/1110 [00:00<?, ?it/s]"
      ]
     },
     "metadata": {},
     "output_type": "display_data"
    },
    {
     "name": "stdout",
     "output_type": "stream",
     "text": [
      "/uufs/chpc.utah.edu/common/home/civil-group1/Johnson/SWEMLv2.0/data/TrainingDFs/2019/1000M_Resolution/Obsdf/20190714_ObsDF.parquet\n",
      "Site processing complete, adding observtional data to 20190407 df...\n",
      "Site processing complete, adding observtional data to 20190419 df...\n"
     ]
    },
    {
     "data": {
      "application/vnd.jupyter.widget-view+json": {
       "model_id": "74dd7de9e1b24e8fbc0e9100c671a188",
       "version_major": 2,
       "version_minor": 0
      },
      "text/plain": [
       "  0%|          | 0/419 [00:00<?, ?it/s]"
      ]
     },
     "metadata": {},
     "output_type": "display_data"
    },
    {
     "data": {
      "application/vnd.jupyter.widget-view+json": {
       "model_id": "0b5763f6eea14569874ec12164bd4c5e",
       "version_major": 2,
       "version_minor": 0
      },
      "text/plain": [
       "  0%|          | 0/1100 [00:00<?, ?it/s]"
      ]
     },
     "metadata": {},
     "output_type": "display_data"
    },
    {
     "name": "stdout",
     "output_type": "stream",
     "text": [
      "Site processing complete, adding observtional data to 20190610 df...\n"
     ]
    },
    {
     "data": {
      "application/vnd.jupyter.widget-view+json": {
       "model_id": "ddc51a5e8646485c831bd401d7ef363f",
       "version_major": 2,
       "version_minor": 0
      },
      "text/plain": [
       "  0%|          | 0/419 [00:00<?, ?it/s]"
      ]
     },
     "metadata": {},
     "output_type": "display_data"
    },
    {
     "name": "stdout",
     "output_type": "stream",
     "text": [
      "/uufs/chpc.utah.edu/common/home/civil-group1/Johnson/SWEMLv2.0/data/TrainingDFs/2019/1000M_Resolution/Obsdf/20190608_ObsDF.parquet\n",
      "/uufs/chpc.utah.edu/common/home/civil-group1/Johnson/SWEMLv2.0/data/TrainingDFs/2019/1000M_Resolution/Obsdf/20190421_ObsDF.parquet\n",
      "Site processing complete, adding observtional data to 20190407 df...\n"
     ]
    },
    {
     "data": {
      "application/vnd.jupyter.widget-view+json": {
       "model_id": "4bb63d50838e42619138dc662ec967dc",
       "version_major": 2,
       "version_minor": 0
      },
      "text/plain": [
       "  0%|          | 0/3060 [00:00<?, ?it/s]"
      ]
     },
     "metadata": {},
     "output_type": "display_data"
    },
    {
     "name": "stdout",
     "output_type": "stream",
     "text": [
      "Site processing complete, adding observtional data to 20190610 df...\n"
     ]
    },
    {
     "data": {
      "application/vnd.jupyter.widget-view+json": {
       "model_id": "9f115ec565f64ff68349ff118988d33b",
       "version_major": 2,
       "version_minor": 0
      },
      "text/plain": [
       "  0%|          | 0/1459 [00:00<?, ?it/s]"
      ]
     },
     "metadata": {},
     "output_type": "display_data"
    },
    {
     "name": "stdout",
     "output_type": "stream",
     "text": [
      "/uufs/chpc.utah.edu/common/home/civil-group1/Johnson/SWEMLv2.0/data/TrainingDFs/2019/1000M_Resolution/Obsdf/20190407_ObsDF.parquet\n",
      "Site processing complete, adding observtional data to 20190408 df...\n"
     ]
    },
    {
     "data": {
      "application/vnd.jupyter.widget-view+json": {
       "model_id": "52ce847005c640f38a39fe6cf4c3d3bc",
       "version_major": 2,
       "version_minor": 0
      },
      "text/plain": [
       "  0%|          | 0/847 [00:00<?, ?it/s]"
      ]
     },
     "metadata": {},
     "output_type": "display_data"
    },
    {
     "name": "stdout",
     "output_type": "stream",
     "text": [
      "/uufs/chpc.utah.edu/common/home/civil-group1/Johnson/SWEMLv2.0/data/TrainingDFs/2019/1000M_Resolution/Obsdf/20190610_ObsDF.parquet\n",
      "/uufs/chpc.utah.edu/common/home/civil-group1/Johnson/SWEMLv2.0/data/TrainingDFs/2019/1000M_Resolution/Obsdf/20190608_ObsDF.parquet\n",
      "Site processing complete, adding observtional data to 20190609 df...\n"
     ]
    },
    {
     "data": {
      "application/vnd.jupyter.widget-view+json": {
       "model_id": "9be80f0e4df048caacfc03ea99f2a22b",
       "version_major": 2,
       "version_minor": 0
      },
      "text/plain": [
       "  0%|          | 0/847 [00:00<?, ?it/s]"
      ]
     },
     "metadata": {},
     "output_type": "display_data"
    },
    {
     "name": "stdout",
     "output_type": "stream",
     "text": [
      "/uufs/chpc.utah.edu/common/home/civil-group1/Johnson/SWEMLv2.0/data/TrainingDFs/2019/1000M_Resolution/Obsdf/20190419_ObsDF.parquet\n",
      "/uufs/chpc.utah.edu/common/home/civil-group1/Johnson/SWEMLv2.0/data/TrainingDFs/2019/1000M_Resolution/Obsdf/20190624_ObsDF.parquet\n",
      "/uufs/chpc.utah.edu/common/home/civil-group1/Johnson/SWEMLv2.0/data/TrainingDFs/2019/1000M_Resolution/Obsdf/20190408_ObsDF.parquet\n",
      "/uufs/chpc.utah.edu/common/home/civil-group1/Johnson/SWEMLv2.0/data/TrainingDFs/2019/1000M_Resolution/Obsdf/20190325_ObsDF.parquet\n",
      "/uufs/chpc.utah.edu/common/home/civil-group1/Johnson/SWEMLv2.0/data/TrainingDFs/2019/1000M_Resolution/Obsdf/20190501_ObsDF.parquet\n",
      "/uufs/chpc.utah.edu/common/home/civil-group1/Johnson/SWEMLv2.0/data/TrainingDFs/2019/1000M_Resolution/Obsdf/20190609_ObsDF.parquet\n",
      "/uufs/chpc.utah.edu/common/home/civil-group1/Johnson/SWEMLv2.0/data/TrainingDFs/2019/1000M_Resolution/Obsdf/20190614_ObsDF.parquet\n",
      "/uufs/chpc.utah.edu/common/home/civil-group1/Johnson/SWEMLv2.0/data/TrainingDFs/2019/1000M_Resolution/Obsdf/20190610_ObsDF.parquet\n",
      "/uufs/chpc.utah.edu/common/home/civil-group1/Johnson/SWEMLv2.0/data/TrainingDFs/2019/1000M_Resolution/Obsdf/20190713_ObsDF.parquet\n",
      "/uufs/chpc.utah.edu/common/home/civil-group1/Johnson/SWEMLv2.0/data/TrainingDFs/2019/1000M_Resolution/Obsdf/20190417_ObsDF.parquet\n",
      "/uufs/chpc.utah.edu/common/home/civil-group1/Johnson/SWEMLv2.0/data/TrainingDFs/2019/1000M_Resolution/Obsdf/20190705_ObsDF.parquet\n",
      "/uufs/chpc.utah.edu/common/home/civil-group1/Johnson/SWEMLv2.0/data/TrainingDFs/2019/1000M_Resolution/Obsdf/20190316_ObsDF.parquet\n",
      "/uufs/chpc.utah.edu/common/home/civil-group1/Johnson/SWEMLv2.0/data/TrainingDFs/2019/1000M_Resolution/Obsdf/20190704_ObsDF.parquet\n",
      "/uufs/chpc.utah.edu/common/home/civil-group1/Johnson/SWEMLv2.0/data/TrainingDFs/2019/1000M_Resolution/Obsdf/20190503_ObsDF.parquet\n",
      "/uufs/chpc.utah.edu/common/home/civil-group1/Johnson/SWEMLv2.0/data/TrainingDFs/2019/1000M_Resolution/Obsdf/20190324_ObsDF.parquet\n",
      "/uufs/chpc.utah.edu/common/home/civil-group1/Johnson/SWEMLv2.0/data/TrainingDFs/2019/1000M_Resolution/Obsdf/20190613_ObsDF.parquet\n",
      "/uufs/chpc.utah.edu/common/home/civil-group1/Johnson/SWEMLv2.0/data/TrainingDFs/2019/1000M_Resolution/Obsdf/20190428_ObsDF.parquet\n",
      "/uufs/chpc.utah.edu/common/home/civil-group1/Johnson/SWEMLv2.0/data/TrainingDFs/2019/1000M_Resolution/Obsdf/20190418_ObsDF.parquet\n",
      "/uufs/chpc.utah.edu/common/home/civil-group1/Johnson/SWEMLv2.0/data/TrainingDFs/2019/1000M_Resolution/Obsdf/20190316_ObsDF.parquet\n",
      "/uufs/chpc.utah.edu/common/home/civil-group1/Johnson/SWEMLv2.0/data/TrainingDFs/2019/1000M_Resolution/Obsdf/20190407_ObsDF.parquet\n",
      "/uufs/chpc.utah.edu/common/home/civil-group1/Johnson/SWEMLv2.0/data/TrainingDFs/2019/1000M_Resolution/Obsdf/20190315_ObsDF.parquet\n",
      "Job complete for connecting SNOTEL obs to sites/dates\n",
      "2020\n",
      "Connecting site observations with nearest monitoring network obs\n",
      "Loading observations from 2013-2019\n",
      "Loading 1000M resolution grids for 2020 region\n",
      "Processing datetime component of SNOTEL observation dataframe\n",
      "Loading 14 processed ASO observations for the 2020 at 1000M resolution\n",
      "There are 14 aso dates in snotel obs\n",
      "There are 0 missing snotel obs\n",
      "Connecting 14 timesteps of observations for 2020\n"
     ]
    },
    {
     "name": "stderr",
     "output_type": "stream",
     "text": [
      "100%|██████████| 14/14 [00:00<00:00, 61.84it/s]"
     ]
    },
    {
     "name": "stdout",
     "output_type": "stream",
     "text": [
      "Site processing complete, adding observtional data to 20200411 df...\n"
     ]
    },
    {
     "data": {
      "application/vnd.jupyter.widget-view+json": {
       "model_id": "990f0c12be3a4184817c7e31e8e07cfc",
       "version_major": 2,
       "version_minor": 0
      },
      "text/plain": [
       "  0%|          | 0/4453 [00:00<?, ?it/s]"
      ]
     },
     "metadata": {},
     "output_type": "display_data"
    },
    {
     "name": "stdout",
     "output_type": "stream",
     "text": [
      "Site processing complete, adding observtional data to 20200502 df...\n"
     ]
    },
    {
     "data": {
      "application/vnd.jupyter.widget-view+json": {
       "model_id": "5a281d5953df4d1883571bcfceb7c650",
       "version_major": 2,
       "version_minor": 0
      },
      "text/plain": [
       "  0%|          | 0/4090 [00:00<?, ?it/s]"
      ]
     },
     "metadata": {},
     "output_type": "display_data"
    },
    {
     "name": "stdout",
     "output_type": "stream",
     "text": [
      "Site processing complete, adding observtional data to 20200529 df..."
     ]
    },
    {
     "name": "stderr",
     "output_type": "stream",
     "text": [
      "\n"
     ]
    },
    {
     "name": "stdout",
     "output_type": "stream",
     "text": [
      "\n"
     ]
    },
    {
     "data": {
      "application/vnd.jupyter.widget-view+json": {
       "model_id": "a9fcf4a6cb774f20bed3f8089611b156",
       "version_major": 2,
       "version_minor": 0
      },
      "text/plain": [
       "  0%|          | 0/4448 [00:00<?, ?it/s]"
      ]
     },
     "metadata": {},
     "output_type": "display_data"
    },
    {
     "name": "stdout",
     "output_type": "stream",
     "text": [
      "Site processing complete, adding observtional data to 20200413 df...\n"
     ]
    },
    {
     "data": {
      "application/vnd.jupyter.widget-view+json": {
       "model_id": "4960d074cf8645d1bc479f04ff7d16fd",
       "version_major": 2,
       "version_minor": 0
      },
      "text/plain": [
       "  0%|          | 0/1055 [00:00<?, ?it/s]"
      ]
     },
     "metadata": {},
     "output_type": "display_data"
    },
    {
     "name": "stdout",
     "output_type": "stream",
     "text": [
      "Site processing complete, adding observtional data to 20200507 df...\n"
     ]
    },
    {
     "data": {
      "application/vnd.jupyter.widget-view+json": {
       "model_id": "23c0a5658d164162884943d89acb2d24",
       "version_major": 2,
       "version_minor": 0
      },
      "text/plain": [
       "  0%|          | 0/1055 [00:00<?, ?it/s]"
      ]
     },
     "metadata": {},
     "output_type": "display_data"
    },
    {
     "name": "stdout",
     "output_type": "stream",
     "text": [
      "Site processing complete, adding observtional data to 20200521 df...\n"
     ]
    },
    {
     "data": {
      "application/vnd.jupyter.widget-view+json": {
       "model_id": "b103463dd30b44a2a5be0b480f7ac748",
       "version_major": 2,
       "version_minor": 0
      },
      "text/plain": [
       "  0%|          | 0/1054 [00:00<?, ?it/s]"
      ]
     },
     "metadata": {},
     "output_type": "display_data"
    },
    {
     "name": "stdout",
     "output_type": "stream",
     "text": [
      "Site processing complete, adding observtional data to 20200604 df...\n"
     ]
    },
    {
     "data": {
      "application/vnd.jupyter.widget-view+json": {
       "model_id": "2cb2b6d7728c40c4b1d986441f523625",
       "version_major": 2,
       "version_minor": 0
      },
      "text/plain": [
       "  0%|          | 0/1054 [00:00<?, ?it/s]"
      ]
     },
     "metadata": {},
     "output_type": "display_data"
    },
    {
     "name": "stdout",
     "output_type": "stream",
     "text": [
      "Site processing complete, adding observtional data to 20200414 df...\n"
     ]
    },
    {
     "data": {
      "application/vnd.jupyter.widget-view+json": {
       "model_id": "b0499c13a4eb42f58c13f5677cb85565",
       "version_major": 2,
       "version_minor": 0
      },
      "text/plain": [
       "  0%|          | 0/4636 [00:00<?, ?it/s]"
      ]
     },
     "metadata": {},
     "output_type": "display_data"
    },
    {
     "name": "stdout",
     "output_type": "stream",
     "text": [
      "Site processing complete, adding observtional data to 20200504 df...\n"
     ]
    },
    {
     "data": {
      "application/vnd.jupyter.widget-view+json": {
       "model_id": "cc60c6d0637a4f01b190ec9b717430aa",
       "version_major": 2,
       "version_minor": 0
      },
      "text/plain": [
       "  0%|          | 0/4636 [00:00<?, ?it/s]"
      ]
     },
     "metadata": {},
     "output_type": "display_data"
    },
    {
     "name": "stdout",
     "output_type": "stream",
     "text": [
      "Site processing complete, adding observtional data to 20200523 df...\n"
     ]
    },
    {
     "data": {
      "application/vnd.jupyter.widget-view+json": {
       "model_id": "a867821ab2b143d4b91154b4ccc7c854",
       "version_major": 2,
       "version_minor": 0
      },
      "text/plain": [
       "  0%|          | 0/5306 [00:00<?, ?it/s]"
      ]
     },
     "metadata": {},
     "output_type": "display_data"
    },
    {
     "name": "stdout",
     "output_type": "stream",
     "text": [
      "Site processing complete, adding observtional data to 20200608 df...\n"
     ]
    },
    {
     "data": {
      "application/vnd.jupyter.widget-view+json": {
       "model_id": "6313ee99f55848a2b0a3aff891fc9f83",
       "version_major": 2,
       "version_minor": 0
      },
      "text/plain": [
       "  0%|          | 0/5302 [00:00<?, ?it/s]"
      ]
     },
     "metadata": {},
     "output_type": "display_data"
    },
    {
     "name": "stdout",
     "output_type": "stream",
     "text": [
      "Site processing complete, adding observtional data to 20200413 df...\n"
     ]
    },
    {
     "data": {
      "application/vnd.jupyter.widget-view+json": {
       "model_id": "9c62d6f1a5fc4955860649e814ffb2ee",
       "version_major": 2,
       "version_minor": 0
      },
      "text/plain": [
       "  0%|          | 0/2121 [00:00<?, ?it/s]"
      ]
     },
     "metadata": {},
     "output_type": "display_data"
    },
    {
     "name": "stdout",
     "output_type": "stream",
     "text": [
      "Site processing complete, adding observtional data to 20200507 df...\n"
     ]
    },
    {
     "data": {
      "application/vnd.jupyter.widget-view+json": {
       "model_id": "fe8b5573805646d48ce2f146342342c9",
       "version_major": 2,
       "version_minor": 0
      },
      "text/plain": [
       "  0%|          | 0/2121 [00:00<?, ?it/s]"
      ]
     },
     "metadata": {},
     "output_type": "display_data"
    },
    {
     "name": "stdout",
     "output_type": "stream",
     "text": [
      "Site processing complete, adding observtional data to 20200521 df...\n"
     ]
    },
    {
     "data": {
      "application/vnd.jupyter.widget-view+json": {
       "model_id": "27828ac383974ed0b34f9b38bc8c4dcf",
       "version_major": 2,
       "version_minor": 0
      },
      "text/plain": [
       "  0%|          | 0/2118 [00:00<?, ?it/s]"
      ]
     },
     "metadata": {},
     "output_type": "display_data"
    },
    {
     "name": "stdout",
     "output_type": "stream",
     "text": [
      "/uufs/chpc.utah.edu/common/home/civil-group1/Johnson/SWEMLv2.0/data/TrainingDFs/2020/1000M_Resolution/Obsdf/20200521_ObsDF.parquet\n",
      "/uufs/chpc.utah.edu/common/home/civil-group1/Johnson/SWEMLv2.0/data/TrainingDFs/2020/1000M_Resolution/Obsdf/20200413_ObsDF.parquet\n",
      "/uufs/chpc.utah.edu/common/home/civil-group1/Johnson/SWEMLv2.0/data/TrainingDFs/2020/1000M_Resolution/Obsdf/20200507_ObsDF.parquet\n",
      "/uufs/chpc.utah.edu/common/home/civil-group1/Johnson/SWEMLv2.0/data/TrainingDFs/2020/1000M_Resolution/Obsdf/20200502_ObsDF.parquet\n",
      "/uufs/chpc.utah.edu/common/home/civil-group1/Johnson/SWEMLv2.0/data/TrainingDFs/2020/1000M_Resolution/Obsdf/20200411_ObsDF.parquet\n",
      "/uufs/chpc.utah.edu/common/home/civil-group1/Johnson/SWEMLv2.0/data/TrainingDFs/2020/1000M_Resolution/Obsdf/20200529_ObsDF.parquet\n",
      "/uufs/chpc.utah.edu/common/home/civil-group1/Johnson/SWEMLv2.0/data/TrainingDFs/2020/1000M_Resolution/Obsdf/20200414_ObsDF.parquet\n",
      "/uufs/chpc.utah.edu/common/home/civil-group1/Johnson/SWEMLv2.0/data/TrainingDFs/2020/1000M_Resolution/Obsdf/20200504_ObsDF.parquet\n",
      "/uufs/chpc.utah.edu/common/home/civil-group1/Johnson/SWEMLv2.0/data/TrainingDFs/2020/1000M_Resolution/Obsdf/20200523_ObsDF.parquet\n",
      "/uufs/chpc.utah.edu/common/home/civil-group1/Johnson/SWEMLv2.0/data/TrainingDFs/2020/1000M_Resolution/Obsdf/20200608_ObsDF.parquet\n",
      "Job complete for connecting SNOTEL obs to sites/dates\n",
      "2021\n",
      "Connecting site observations with nearest monitoring network obs\n",
      "Loading observations from 2013-2019\n",
      "Loading 1000M resolution grids for 2021 region\n",
      "Processing datetime component of SNOTEL observation dataframe\n",
      "Loading 19 processed ASO observations for the 2021 at 1000M resolution\n",
      "There are 19 aso dates in snotel obs\n",
      "There are 0 missing snotel obs\n",
      "Connecting 19 timesteps of observations for 2021\n"
     ]
    },
    {
     "name": "stderr",
     "output_type": "stream",
     "text": [
      "100%|██████████| 19/19 [00:00<00:00, 110.11it/s]"
     ]
    },
    {
     "name": "stdout",
     "output_type": "stream",
     "text": [
      "Site processing complete, adding observtional data to 20210419 df...\n"
     ]
    },
    {
     "data": {
      "application/vnd.jupyter.widget-view+json": {
       "model_id": "29741fd9863c41b783c6e3a34bdf358f",
       "version_major": 2,
       "version_minor": 0
      },
      "text/plain": [
       "  0%|          | 0/2271 [00:00<?, ?it/s]"
      ]
     },
     "metadata": {},
     "output_type": "display_data"
    },
    {
     "name": "stdout",
     "output_type": "stream",
     "text": [
      "Site processing complete, adding observtional data to 20210515 df...\n"
     ]
    },
    {
     "data": {
      "application/vnd.jupyter.widget-view+json": {
       "model_id": "c2493b77f5ef46f4bea5d2d4f330aa2b",
       "version_major": 2,
       "version_minor": 0
      },
      "text/plain": [
       "  0%|          | 0/2280 [00:00<?, ?it/s]"
      ]
     },
     "metadata": {},
     "output_type": "display_data"
    },
    {
     "name": "stderr",
     "output_type": "stream",
     "text": [
      "\n"
     ]
    },
    {
     "name": "stdout",
     "output_type": "stream",
     "text": [
      "Site processing complete, adding observtional data to 20210418 df...\n"
     ]
    },
    {
     "data": {
      "application/vnd.jupyter.widget-view+json": {
       "model_id": "483d4ee2329040bcbfee00544b2383e4",
       "version_major": 2,
       "version_minor": 0
      },
      "text/plain": [
       "  0%|          | 0/1111 [00:00<?, ?it/s]"
      ]
     },
     "metadata": {},
     "output_type": "display_data"
    },
    {
     "name": "stdout",
     "output_type": "stream",
     "text": [
      "Site processing complete, adding observtional data to 20210524 df...\n"
     ]
    },
    {
     "data": {
      "application/vnd.jupyter.widget-view+json": {
       "model_id": "3cdb7dd8627a410398cfef118acaa4f9",
       "version_major": 2,
       "version_minor": 0
      },
      "text/plain": [
       "  0%|          | 0/1111 [00:00<?, ?it/s]"
      ]
     },
     "metadata": {},
     "output_type": "display_data"
    },
    {
     "name": "stdout",
     "output_type": "stream",
     "text": [
      "Site processing complete, adding observtional data to 20210420 df...\n"
     ]
    },
    {
     "data": {
      "application/vnd.jupyter.widget-view+json": {
       "model_id": "978f41ee941e455086e298fada0a8742",
       "version_major": 2,
       "version_minor": 0
      },
      "text/plain": [
       "  0%|          | 0/917 [00:00<?, ?it/s]"
      ]
     },
     "metadata": {},
     "output_type": "display_data"
    },
    {
     "name": "stdout",
     "output_type": "stream",
     "text": [
      "Site processing complete, adding observtional data to 20210516 df...\n"
     ]
    },
    {
     "data": {
      "application/vnd.jupyter.widget-view+json": {
       "model_id": "b09ef0d64e944ad79c8d7ffd3bb428e4",
       "version_major": 2,
       "version_minor": 0
      },
      "text/plain": [
       "  0%|          | 0/917 [00:00<?, ?it/s]"
      ]
     },
     "metadata": {},
     "output_type": "display_data"
    },
    {
     "name": "stdout",
     "output_type": "stream",
     "text": [
      "Site processing complete, adding observtional data to 20210420 df...\n"
     ]
    },
    {
     "data": {
      "application/vnd.jupyter.widget-view+json": {
       "model_id": "65db9bdcf957482892e5ee6e8f02a113",
       "version_major": 2,
       "version_minor": 0
      },
      "text/plain": [
       "  0%|          | 0/1652 [00:00<?, ?it/s]"
      ]
     },
     "metadata": {},
     "output_type": "display_data"
    },
    {
     "name": "stdout",
     "output_type": "stream",
     "text": [
      "Site processing complete, adding observtional data to 20210514 df...\n"
     ]
    },
    {
     "data": {
      "application/vnd.jupyter.widget-view+json": {
       "model_id": "419974aad02d4ab38476b28f2dcf1fb0",
       "version_major": 2,
       "version_minor": 0
      },
      "text/plain": [
       "  0%|          | 0/1655 [00:00<?, ?it/s]"
      ]
     },
     "metadata": {},
     "output_type": "display_data"
    },
    {
     "name": "stdout",
     "output_type": "stream",
     "text": [
      "Site processing complete, adding observtional data to 20210423 df...\n"
     ]
    },
    {
     "data": {
      "application/vnd.jupyter.widget-view+json": {
       "model_id": "95609ccad2d74d5d8fd72a69f9f7fa7e",
       "version_major": 2,
       "version_minor": 0
      },
      "text/plain": [
       "  0%|          | 0/1803 [00:00<?, ?it/s]"
      ]
     },
     "metadata": {},
     "output_type": "display_data"
    },
    {
     "name": "stdout",
     "output_type": "stream",
     "text": [
      "Site processing complete, adding observtional data to 20210504 df...\n"
     ]
    },
    {
     "data": {
      "application/vnd.jupyter.widget-view+json": {
       "model_id": "a93e93accf984c9e8bcc8165d42c9ef2",
       "version_major": 2,
       "version_minor": 0
      },
      "text/plain": [
       "  0%|          | 0/1803 [00:00<?, ?it/s]"
      ]
     },
     "metadata": {},
     "output_type": "display_data"
    },
    {
     "name": "stdout",
     "output_type": "stream",
     "text": [
      "Site processing complete, adding observtional data to 20210327 df...\n"
     ]
    },
    {
     "data": {
      "application/vnd.jupyter.widget-view+json": {
       "model_id": "afb75e8df97f4f55be2329d98d8e470b",
       "version_major": 2,
       "version_minor": 0
      },
      "text/plain": [
       "  0%|          | 0/5410 [00:00<?, ?it/s]"
      ]
     },
     "metadata": {},
     "output_type": "display_data"
    },
    {
     "name": "stdout",
     "output_type": "stream",
     "text": [
      "Site processing complete, adding observtional data to 20210501 df...\n"
     ]
    },
    {
     "data": {
      "application/vnd.jupyter.widget-view+json": {
       "model_id": "18d310f146bd4a2e96ab0f2ca01c7968",
       "version_major": 2,
       "version_minor": 0
      },
      "text/plain": [
       "  0%|          | 0/5410 [00:00<?, ?it/s]"
      ]
     },
     "metadata": {},
     "output_type": "display_data"
    },
    {
     "name": "stdout",
     "output_type": "stream",
     "text": [
      "Site processing complete, adding observtional data to 20210326 df...\n"
     ]
    },
    {
     "data": {
      "application/vnd.jupyter.widget-view+json": {
       "model_id": "94fbf95bca1d4b48a6c1c680cc5824b5",
       "version_major": 2,
       "version_minor": 0
      },
      "text/plain": [
       "  0%|          | 0/2154 [00:00<?, ?it/s]"
      ]
     },
     "metadata": {},
     "output_type": "display_data"
    },
    {
     "name": "stdout",
     "output_type": "stream",
     "text": [
      "Site processing complete, adding observtional data to 20210429 df...\n"
     ]
    },
    {
     "data": {
      "application/vnd.jupyter.widget-view+json": {
       "model_id": "a6604e3e4b3d49a6be155111133a0fc9",
       "version_major": 2,
       "version_minor": 0
      },
      "text/plain": [
       "  0%|          | 0/2154 [00:00<?, ?it/s]"
      ]
     },
     "metadata": {},
     "output_type": "display_data"
    },
    {
     "name": "stdout",
     "output_type": "stream",
     "text": [
      "Site processing complete, adding observtional data to 20210226 df...\n"
     ]
    },
    {
     "data": {
      "application/vnd.jupyter.widget-view+json": {
       "model_id": "7baa7f930ae143228088d119f79897ed",
       "version_major": 2,
       "version_minor": 0
      },
      "text/plain": [
       "  0%|          | 0/5331 [00:00<?, ?it/s]"
      ]
     },
     "metadata": {},
     "output_type": "display_data"
    },
    {
     "name": "stdout",
     "output_type": "stream",
     "text": [
      "Site processing complete, adding observtional data to 20210331 df...\n"
     ]
    },
    {
     "data": {
      "application/vnd.jupyter.widget-view+json": {
       "model_id": "27e001126d84425da41768844e563e62",
       "version_major": 2,
       "version_minor": 0
      },
      "text/plain": [
       "  0%|          | 0/5330 [00:00<?, ?it/s]"
      ]
     },
     "metadata": {},
     "output_type": "display_data"
    },
    {
     "name": "stdout",
     "output_type": "stream",
     "text": [
      "Site processing complete, adding observtional data to 20210503 df...\n"
     ]
    },
    {
     "data": {
      "application/vnd.jupyter.widget-view+json": {
       "model_id": "fe6c2760ef76434688f7378d807d49e8",
       "version_major": 2,
       "version_minor": 0
      },
      "text/plain": [
       "  0%|          | 0/5330 [00:00<?, ?it/s]"
      ]
     },
     "metadata": {},
     "output_type": "display_data"
    },
    {
     "name": "stdout",
     "output_type": "stream",
     "text": [
      "Site processing complete, adding observtional data to 20210224 df...\n"
     ]
    },
    {
     "data": {
      "application/vnd.jupyter.widget-view+json": {
       "model_id": "dc593053241f4c11b558a3cfad4cdc5c",
       "version_major": 2,
       "version_minor": 0
      },
      "text/plain": [
       "  0%|          | 0/3691 [00:00<?, ?it/s]"
      ]
     },
     "metadata": {},
     "output_type": "display_data"
    },
    {
     "name": "stdout",
     "output_type": "stream",
     "text": [
      "Site processing complete, adding observtional data to 20210429 df...\n"
     ]
    },
    {
     "data": {
      "application/vnd.jupyter.widget-view+json": {
       "model_id": "32189ab6ecc84625a68db42b4d97170c",
       "version_major": 2,
       "version_minor": 0
      },
      "text/plain": [
       "  0%|          | 0/3691 [00:00<?, ?it/s]"
      ]
     },
     "metadata": {},
     "output_type": "display_data"
    },
    {
     "name": "stdout",
     "output_type": "stream",
     "text": [
      "/uufs/chpc.utah.edu/common/home/civil-group1/Johnson/SWEMLv2.0/data/TrainingDFs/2021/1000M_Resolution/Obsdf/20210516_ObsDF.parquet\n",
      "/uufs/chpc.utah.edu/common/home/civil-group1/Johnson/SWEMLv2.0/data/TrainingDFs/2021/1000M_Resolution/Obsdf/20210524_ObsDF.parquet\n",
      "/uufs/chpc.utah.edu/common/home/civil-group1/Johnson/SWEMLv2.0/data/TrainingDFs/2021/1000M_Resolution/Obsdf/20210420_ObsDF.parquet\n",
      "/uufs/chpc.utah.edu/common/home/civil-group1/Johnson/SWEMLv2.0/data/TrainingDFs/2021/1000M_Resolution/Obsdf/20210418_ObsDF.parquet\n",
      "/uufs/chpc.utah.edu/common/home/civil-group1/Johnson/SWEMLv2.0/data/TrainingDFs/2021/1000M_Resolution/Obsdf/20210420_ObsDF.parquet\n",
      "/uufs/chpc.utah.edu/common/home/civil-group1/Johnson/SWEMLv2.0/data/TrainingDFs/2021/1000M_Resolution/Obsdf/20210514_ObsDF.parquet\n",
      "/uufs/chpc.utah.edu/common/home/civil-group1/Johnson/SWEMLv2.0/data/TrainingDFs/2021/1000M_Resolution/Obsdf/20210515_ObsDF.parquet\n",
      "/uufs/chpc.utah.edu/common/home/civil-group1/Johnson/SWEMLv2.0/data/TrainingDFs/2021/1000M_Resolution/Obsdf/20210504_ObsDF.parquet\n",
      "/uufs/chpc.utah.edu/common/home/civil-group1/Johnson/SWEMLv2.0/data/TrainingDFs/2021/1000M_Resolution/Obsdf/20210419_ObsDF.parquet\n",
      "/uufs/chpc.utah.edu/common/home/civil-group1/Johnson/SWEMLv2.0/data/TrainingDFs/2021/1000M_Resolution/Obsdf/20210423_ObsDF.parquet\n",
      "/uufs/chpc.utah.edu/common/home/civil-group1/Johnson/SWEMLv2.0/data/TrainingDFs/2021/1000M_Resolution/Obsdf/20210429_ObsDF.parquet\n",
      "/uufs/chpc.utah.edu/common/home/civil-group1/Johnson/SWEMLv2.0/data/TrainingDFs/2021/1000M_Resolution/Obsdf/20210326_ObsDF.parquet\n",
      "/uufs/chpc.utah.edu/common/home/civil-group1/Johnson/SWEMLv2.0/data/TrainingDFs/2021/1000M_Resolution/Obsdf/20210224_ObsDF.parquet\n",
      "/uufs/chpc.utah.edu/common/home/civil-group1/Johnson/SWEMLv2.0/data/TrainingDFs/2021/1000M_Resolution/Obsdf/20210429_ObsDF.parquet\n",
      "/uufs/chpc.utah.edu/common/home/civil-group1/Johnson/SWEMLv2.0/data/TrainingDFs/2021/1000M_Resolution/Obsdf/20210503_ObsDF.parquet\n",
      "/uufs/chpc.utah.edu/common/home/civil-group1/Johnson/SWEMLv2.0/data/TrainingDFs/2021/1000M_Resolution/Obsdf/20210226_ObsDF.parquet\n",
      "/uufs/chpc.utah.edu/common/home/civil-group1/Johnson/SWEMLv2.0/data/TrainingDFs/2021/1000M_Resolution/Obsdf/20210331_ObsDF.parquet\n",
      "/uufs/chpc.utah.edu/common/home/civil-group1/Johnson/SWEMLv2.0/data/TrainingDFs/2021/1000M_Resolution/Obsdf/20210327_ObsDF.parquet\n",
      "/uufs/chpc.utah.edu/common/home/civil-group1/Johnson/SWEMLv2.0/data/TrainingDFs/2021/1000M_Resolution/Obsdf/20210501_ObsDF.parquet\n",
      "Job complete for connecting SNOTEL obs to sites/dates\n",
      "2022\n",
      "Connecting site observations with nearest monitoring network obs\n",
      "Loading observations from 2013-2019\n",
      "Loading 1000M resolution grids for 2022 region\n",
      "Processing datetime component of SNOTEL observation dataframe\n",
      "Loading 44 processed ASO observations for the 2022 at 1000M resolution\n",
      "There are 44 aso dates in snotel obs\n",
      "There are 0 missing snotel obs\n",
      "Connecting 44 timesteps of observations for 2022\n"
     ]
    },
    {
     "name": "stderr",
     "output_type": "stream",
     "text": [
      "100%|██████████| 44/44 [00:00<00:00, 183.77it/s]\n"
     ]
    },
    {
     "name": "stdout",
     "output_type": "stream",
     "text": [
      "Site processing complete, adding observtional data to 20220419 df...\n"
     ]
    },
    {
     "data": {
      "application/vnd.jupyter.widget-view+json": {
       "model_id": "3c906e8c13b4472c8709f0ae62bfa243",
       "version_major": 2,
       "version_minor": 0
      },
      "text/plain": [
       "  0%|          | 0/1110 [00:00<?, ?it/s]"
      ]
     },
     "metadata": {},
     "output_type": "display_data"
    },
    {
     "name": "stdout",
     "output_type": "stream",
     "text": [
      "Site processing complete, adding observtional data to 20220526 df...\n"
     ]
    },
    {
     "data": {
      "application/vnd.jupyter.widget-view+json": {
       "model_id": "aa44f87273f64d7188f3eeeffc6a1096",
       "version_major": 2,
       "version_minor": 0
      },
      "text/plain": [
       "  0%|          | 0/1110 [00:00<?, ?it/s]"
      ]
     },
     "metadata": {},
     "output_type": "display_data"
    },
    {
     "name": "stdout",
     "output_type": "stream",
     "text": [
      "Site processing complete, adding observtional data to 20220311 df...\n"
     ]
    },
    {
     "data": {
      "application/vnd.jupyter.widget-view+json": {
       "model_id": "d2367cb1e442489e816887a62875daa1",
       "version_major": 2,
       "version_minor": 0
      },
      "text/plain": [
       "  0%|          | 0/1887 [00:00<?, ?it/s]"
      ]
     },
     "metadata": {},
     "output_type": "display_data"
    },
    {
     "name": "stdout",
     "output_type": "stream",
     "text": [
      "Site processing complete, adding observtional data to 20220406 df...\n"
     ]
    },
    {
     "data": {
      "application/vnd.jupyter.widget-view+json": {
       "model_id": "3d99f87657464b76bcd49520b27fb8ab",
       "version_major": 2,
       "version_minor": 0
      },
      "text/plain": [
       "  0%|          | 0/1887 [00:00<?, ?it/s]"
      ]
     },
     "metadata": {},
     "output_type": "display_data"
    },
    {
     "name": "stdout",
     "output_type": "stream",
     "text": [
      "Site processing complete, adding observtional data to 20220513 df...\n"
     ]
    },
    {
     "data": {
      "application/vnd.jupyter.widget-view+json": {
       "model_id": "a1d41c77bf6f4bfd9ccd460a92ea5f77",
       "version_major": 2,
       "version_minor": 0
      },
      "text/plain": [
       "  0%|          | 0/1887 [00:00<?, ?it/s]"
      ]
     },
     "metadata": {},
     "output_type": "display_data"
    },
    {
     "name": "stdout",
     "output_type": "stream",
     "text": [
      "Site processing complete, adding observtional data to 20220415 df...\n"
     ]
    },
    {
     "data": {
      "application/vnd.jupyter.widget-view+json": {
       "model_id": "a2faf5b207eb4a15ab2a725e1b4c2fd6",
       "version_major": 2,
       "version_minor": 0
      },
      "text/plain": [
       "  0%|          | 0/917 [00:00<?, ?it/s]"
      ]
     },
     "metadata": {},
     "output_type": "display_data"
    },
    {
     "name": "stdout",
     "output_type": "stream",
     "text": [
      "Site processing complete, adding observtional data to 20220510 df...\n"
     ]
    },
    {
     "data": {
      "application/vnd.jupyter.widget-view+json": {
       "model_id": "9297f82d1f504e7dbc20ac153b876b38",
       "version_major": 2,
       "version_minor": 0
      },
      "text/plain": [
       "  0%|          | 0/917 [00:00<?, ?it/s]"
      ]
     },
     "metadata": {},
     "output_type": "display_data"
    },
    {
     "name": "stdout",
     "output_type": "stream",
     "text": [
      "Site processing complete, adding observtional data to 20220415 df...\n"
     ]
    },
    {
     "data": {
      "application/vnd.jupyter.widget-view+json": {
       "model_id": "312281249fbd4a1d9e53e3401d7575bf",
       "version_major": 2,
       "version_minor": 0
      },
      "text/plain": [
       "  0%|          | 0/1655 [00:00<?, ?it/s]"
      ]
     },
     "metadata": {},
     "output_type": "display_data"
    },
    {
     "name": "stdout",
     "output_type": "stream",
     "text": [
      "Site processing complete, adding observtional data to 20220217 df...\n"
     ]
    },
    {
     "data": {
      "application/vnd.jupyter.widget-view+json": {
       "model_id": "2cb4ebc1bae242a6b181061a1d3ae873",
       "version_major": 2,
       "version_minor": 0
      },
      "text/plain": [
       "  0%|          | 0/10901 [00:00<?, ?it/s]"
      ]
     },
     "metadata": {},
     "output_type": "display_data"
    },
    {
     "name": "stdout",
     "output_type": "stream",
     "text": [
      "Site processing complete, adding observtional data to 20220510 df...\n"
     ]
    },
    {
     "data": {
      "application/vnd.jupyter.widget-view+json": {
       "model_id": "e3841e647a084463bb2ff4a77fb180d8",
       "version_major": 2,
       "version_minor": 0
      },
      "text/plain": [
       "  0%|          | 0/1655 [00:00<?, ?it/s]"
      ]
     },
     "metadata": {},
     "output_type": "display_data"
    },
    {
     "name": "stdout",
     "output_type": "stream",
     "text": [
      "Site processing complete, adding observtional data to 20220310 df...\n"
     ]
    },
    {
     "data": {
      "application/vnd.jupyter.widget-view+json": {
       "model_id": "7ef1ac352a834774a065cd6c2045f4f9",
       "version_major": 2,
       "version_minor": 0
      },
      "text/plain": [
       "  0%|          | 0/10901 [00:00<?, ?it/s]"
      ]
     },
     "metadata": {},
     "output_type": "display_data"
    },
    {
     "name": "stdout",
     "output_type": "stream",
     "text": [
      "Site processing complete, adding observtional data to 20220331 df...\n"
     ]
    },
    {
     "data": {
      "application/vnd.jupyter.widget-view+json": {
       "model_id": "6ebc77e19c3a4cefb13390f05e3cba74",
       "version_major": 2,
       "version_minor": 0
      },
      "text/plain": [
       "  0%|          | 0/10901 [00:00<?, ?it/s]"
      ]
     },
     "metadata": {},
     "output_type": "display_data"
    },
    {
     "name": "stdout",
     "output_type": "stream",
     "text": [
      "Site processing complete, adding observtional data to 20220429 df...\n"
     ]
    },
    {
     "data": {
      "application/vnd.jupyter.widget-view+json": {
       "model_id": "952f1f142a1241f9a1b3da439690fe69",
       "version_major": 2,
       "version_minor": 0
      },
      "text/plain": [
       "  0%|          | 0/10901 [00:00<?, ?it/s]"
      ]
     },
     "metadata": {},
     "output_type": "display_data"
    },
    {
     "name": "stdout",
     "output_type": "stream",
     "text": [
      "Site processing complete, adding observtional data to 20220421 df...\n",
      "Site processing complete, adding observtional data to 20220525 df..."
     ]
    },
    {
     "data": {
      "application/vnd.jupyter.widget-view+json": {
       "model_id": "5f409ff00f734976923da2c7f5221ace",
       "version_major": 2,
       "version_minor": 0
      },
      "text/plain": [
       "  0%|          | 0/842 [00:00<?, ?it/s]"
      ]
     },
     "metadata": {},
     "output_type": "display_data"
    },
    {
     "name": "stdout",
     "output_type": "stream",
     "text": [
      "\n"
     ]
    },
    {
     "data": {
      "application/vnd.jupyter.widget-view+json": {
       "model_id": "83ac0ff2a8e74093b3646a4ad8a381b6",
       "version_major": 2,
       "version_minor": 0
      },
      "text/plain": [
       "  0%|          | 0/83 [00:00<?, ?it/s]"
      ]
     },
     "metadata": {},
     "output_type": "display_data"
    },
    {
     "name": "stdout",
     "output_type": "stream",
     "text": [
      "Site processing complete, adding observtional data to 20220308 df...\n"
     ]
    },
    {
     "data": {
      "application/vnd.jupyter.widget-view+json": {
       "model_id": "6f47b72a67c74c3fa6b47ca6201cf80a",
       "version_major": 2,
       "version_minor": 0
      },
      "text/plain": [
       "  0%|          | 0/1803 [00:00<?, ?it/s]"
      ]
     },
     "metadata": {},
     "output_type": "display_data"
    },
    {
     "name": "stdout",
     "output_type": "stream",
     "text": [
      "/uufs/chpc.utah.edu/common/home/civil-group1/Johnson/SWEMLv2.0/data/TrainingDFs/2022/1000M_Resolution/Obsdf/20220525_ObsDF.parquet\n",
      "Site processing complete, adding observtional data to 20220327 df...\n"
     ]
    },
    {
     "data": {
      "application/vnd.jupyter.widget-view+json": {
       "model_id": "09f19623b5fc4fdc9958a34e9259caad",
       "version_major": 2,
       "version_minor": 0
      },
      "text/plain": [
       "  0%|          | 0/1803 [00:00<?, ?it/s]"
      ]
     },
     "metadata": {},
     "output_type": "display_data"
    },
    {
     "name": "stdout",
     "output_type": "stream",
     "text": [
      "Site processing complete, adding observtional data to 20220429 df...\n",
      "Site processing complete, adding observtional data to 20220517 df...\n"
     ]
    },
    {
     "data": {
      "application/vnd.jupyter.widget-view+json": {
       "model_id": "2e460814d4bf486bb3d5e4178819cfce",
       "version_major": 2,
       "version_minor": 0
      },
      "text/plain": [
       "  0%|          | 0/1800 [00:00<?, ?it/s]"
      ]
     },
     "metadata": {},
     "output_type": "display_data"
    },
    {
     "data": {
      "application/vnd.jupyter.widget-view+json": {
       "model_id": "93d23bbfc41e4caf983223a1bf4fc259",
       "version_major": 2,
       "version_minor": 0
      },
      "text/plain": [
       "  0%|          | 0/1803 [00:00<?, ?it/s]"
      ]
     },
     "metadata": {},
     "output_type": "display_data"
    },
    {
     "name": "stdout",
     "output_type": "stream",
     "text": [
      "Site processing complete, adding observtional data to 20220514 df...\n"
     ]
    },
    {
     "data": {
      "application/vnd.jupyter.widget-view+json": {
       "model_id": "0ae5c4bd20f94c4e8471f248729b7adc",
       "version_major": 2,
       "version_minor": 0
      },
      "text/plain": [
       "  0%|          | 0/5410 [00:00<?, ?it/s]"
      ]
     },
     "metadata": {},
     "output_type": "display_data"
    },
    {
     "name": "stdout",
     "output_type": "stream",
     "text": [
      "Site processing complete, adding observtional data to 20220302 df...\n"
     ]
    },
    {
     "data": {
      "application/vnd.jupyter.widget-view+json": {
       "model_id": "335e73d35bab46ed86594d707fe81972",
       "version_major": 2,
       "version_minor": 0
      },
      "text/plain": [
       "  0%|          | 0/4323 [00:00<?, ?it/s]"
      ]
     },
     "metadata": {},
     "output_type": "display_data"
    },
    {
     "name": "stdout",
     "output_type": "stream",
     "text": [
      "Site processing complete, adding observtional data to 20220424 df...\n",
      "Site processing complete, adding observtional data to 20220409 df...\n"
     ]
    },
    {
     "data": {
      "application/vnd.jupyter.widget-view+json": {
       "model_id": "71fbabd853464267ba4c383f59792566",
       "version_major": 2,
       "version_minor": 0
      },
      "text/plain": [
       "  0%|          | 0/5410 [00:00<?, ?it/s]"
      ]
     },
     "metadata": {},
     "output_type": "display_data"
    },
    {
     "data": {
      "application/vnd.jupyter.widget-view+json": {
       "model_id": "adc735781a494fbcbc5a2cd1f2bb1b3a",
       "version_major": 2,
       "version_minor": 0
      },
      "text/plain": [
       "  0%|          | 0/5410 [00:00<?, ?it/s]"
      ]
     },
     "metadata": {},
     "output_type": "display_data"
    },
    {
     "name": "stdout",
     "output_type": "stream",
     "text": [
      "/uufs/chpc.utah.edu/common/home/civil-group1/Johnson/SWEMLv2.0/data/TrainingDFs/2022/1000M_Resolution/Obsdf/20220415_ObsDF.parquet\n",
      "Site processing complete, adding observtional data to 20220301 df...\n"
     ]
    },
    {
     "data": {
      "application/vnd.jupyter.widget-view+json": {
       "model_id": "2500301c32aa4b72809af34bb57bbb54",
       "version_major": 2,
       "version_minor": 0
      },
      "text/plain": [
       "  0%|          | 0/2154 [00:00<?, ?it/s]"
      ]
     },
     "metadata": {},
     "output_type": "display_data"
    },
    {
     "name": "stdout",
     "output_type": "stream",
     "text": [
      "/uufs/chpc.utah.edu/common/home/civil-group1/Johnson/SWEMLv2.0/data/TrainingDFs/2022/1000M_Resolution/Obsdf/20220510_ObsDF.parquet\n",
      "Site processing complete, adding observtional data to 20220412 df...\n"
     ]
    },
    {
     "data": {
      "application/vnd.jupyter.widget-view+json": {
       "model_id": "e7818bedbe704cef8e876ee26b970fba",
       "version_major": 2,
       "version_minor": 0
      },
      "text/plain": [
       "  0%|          | 0/2154 [00:00<?, ?it/s]"
      ]
     },
     "metadata": {},
     "output_type": "display_data"
    },
    {
     "name": "stdout",
     "output_type": "stream",
     "text": [
      "/uufs/chpc.utah.edu/common/home/civil-group1/Johnson/SWEMLv2.0/data/TrainingDFs/2022/1000M_Resolution/Obsdf/20220419_ObsDF.parquet\n",
      "Site processing complete, adding observtional data to 20220428 df...\n"
     ]
    },
    {
     "data": {
      "application/vnd.jupyter.widget-view+json": {
       "model_id": "8efbceab9c354ed499c4f8ae70493504",
       "version_major": 2,
       "version_minor": 0
      },
      "text/plain": [
       "  0%|          | 0/2154 [00:00<?, ?it/s]"
      ]
     },
     "metadata": {},
     "output_type": "display_data"
    },
    {
     "name": "stdout",
     "output_type": "stream",
     "text": [
      "/uufs/chpc.utah.edu/common/home/civil-group1/Johnson/SWEMLv2.0/data/TrainingDFs/2022/1000M_Resolution/Obsdf/20220526_ObsDF.parquet\n",
      "Site processing complete, adding observtional data to 20220513 df...\n"
     ]
    },
    {
     "data": {
      "application/vnd.jupyter.widget-view+json": {
       "model_id": "2a1e4921647744d7adde3f2317285acc",
       "version_major": 2,
       "version_minor": 0
      },
      "text/plain": [
       "  0%|          | 0/2154 [00:00<?, ?it/s]"
      ]
     },
     "metadata": {},
     "output_type": "display_data"
    },
    {
     "name": "stdout",
     "output_type": "stream",
     "text": [
      "/uufs/chpc.utah.edu/common/home/civil-group1/Johnson/SWEMLv2.0/data/TrainingDFs/2022/1000M_Resolution/Obsdf/20220421_ObsDF.parquet\n",
      "Site processing complete, adding observtional data to 20220206 df...\n"
     ]
    },
    {
     "data": {
      "application/vnd.jupyter.widget-view+json": {
       "model_id": "edafec8588ec461aa8f9c3c146a285e0",
       "version_major": 2,
       "version_minor": 0
      },
      "text/plain": [
       "  0%|          | 0/5330 [00:00<?, ?it/s]"
      ]
     },
     "metadata": {},
     "output_type": "display_data"
    },
    {
     "name": "stdout",
     "output_type": "stream",
     "text": [
      "/uufs/chpc.utah.edu/common/home/civil-group1/Johnson/SWEMLv2.0/data/TrainingDFs/2022/1000M_Resolution/Obsdf/20220513_ObsDF.parquet\n",
      "/uufs/chpc.utah.edu/common/home/civil-group1/Johnson/SWEMLv2.0/data/TrainingDFs/2022/1000M_Resolution/Obsdf/20220415_ObsDF.parquet\n",
      "/uufs/chpc.utah.edu/common/home/civil-group1/Johnson/SWEMLv2.0/data/TrainingDFs/2022/1000M_Resolution/Obsdf/20220311_ObsDF.parquet\n",
      "/uufs/chpc.utah.edu/common/home/civil-group1/Johnson/SWEMLv2.0/data/TrainingDFs/2022/1000M_Resolution/Obsdf/20220406_ObsDF.parquet\n",
      "Site processing complete, adding observtional data to 20220316 df...\n",
      "Site processing complete, adding observtional data to 20220417 df...\n"
     ]
    },
    {
     "data": {
      "application/vnd.jupyter.widget-view+json": {
       "model_id": "b8e20e2670a44b89adf3a3253402743d",
       "version_major": 2,
       "version_minor": 0
      },
      "text/plain": [
       "  0%|          | 0/5330 [00:00<?, ?it/s]"
      ]
     },
     "metadata": {},
     "output_type": "display_data"
    },
    {
     "data": {
      "application/vnd.jupyter.widget-view+json": {
       "model_id": "1fbd73ee99af414aac92335841ed7025",
       "version_major": 2,
       "version_minor": 0
      },
      "text/plain": [
       "  0%|          | 0/5330 [00:00<?, ?it/s]"
      ]
     },
     "metadata": {},
     "output_type": "display_data"
    },
    {
     "name": "stdout",
     "output_type": "stream",
     "text": [
      "Site processing complete, adding observtional data to 20220430 df...\n"
     ]
    },
    {
     "data": {
      "application/vnd.jupyter.widget-view+json": {
       "model_id": "5a66a5bd16c84c52b7f1632054b9eb4c",
       "version_major": 2,
       "version_minor": 0
      },
      "text/plain": [
       "  0%|          | 0/5330 [00:00<?, ?it/s]"
      ]
     },
     "metadata": {},
     "output_type": "display_data"
    },
    {
     "name": "stdout",
     "output_type": "stream",
     "text": [
      "/uufs/chpc.utah.edu/common/home/civil-group1/Johnson/SWEMLv2.0/data/TrainingDFs/2022/1000M_Resolution/Obsdf/20220510_ObsDF.parquet\n",
      "Site processing complete, adding observtional data to 20220310 df...\n"
     ]
    },
    {
     "data": {
      "application/vnd.jupyter.widget-view+json": {
       "model_id": "e4d3e6c8509b46bb8dd97d58a449280e",
       "version_major": 2,
       "version_minor": 0
      },
      "text/plain": [
       "  0%|          | 0/3749 [00:00<?, ?it/s]"
      ]
     },
     "metadata": {},
     "output_type": "display_data"
    },
    {
     "name": "stdout",
     "output_type": "stream",
     "text": [
      "Site processing complete, adding observtional data to 20220408 df...\n"
     ]
    },
    {
     "data": {
      "application/vnd.jupyter.widget-view+json": {
       "model_id": "36e82d35e9d84361977cd2d5a06c12f1",
       "version_major": 2,
       "version_minor": 0
      },
      "text/plain": [
       "  0%|          | 0/3749 [00:00<?, ?it/s]"
      ]
     },
     "metadata": {},
     "output_type": "display_data"
    },
    {
     "name": "stdout",
     "output_type": "stream",
     "text": [
      "/uufs/chpc.utah.edu/common/home/civil-group1/Johnson/SWEMLv2.0/data/TrainingDFs/2022/1000M_Resolution/Obsdf/20220517_ObsDF.parquet\n",
      "Site processing complete, adding observtional data to 20220514 df...\n"
     ]
    },
    {
     "data": {
      "application/vnd.jupyter.widget-view+json": {
       "model_id": "fe159b7776614ea187542402a2fcb17f",
       "version_major": 2,
       "version_minor": 0
      },
      "text/plain": [
       "  0%|          | 0/3749 [00:00<?, ?it/s]"
      ]
     },
     "metadata": {},
     "output_type": "display_data"
    },
    {
     "name": "stdout",
     "output_type": "stream",
     "text": [
      "/uufs/chpc.utah.edu/common/home/civil-group1/Johnson/SWEMLv2.0/data/TrainingDFs/2022/1000M_Resolution/Obsdf/20220308_ObsDF.parquet\n",
      "/uufs/chpc.utah.edu/common/home/civil-group1/Johnson/SWEMLv2.0/data/TrainingDFs/2022/1000M_Resolution/Obsdf/20220327_ObsDF.parquet\n",
      "Site processing complete, adding observtional data to 20220204 df...\n"
     ]
    },
    {
     "data": {
      "application/vnd.jupyter.widget-view+json": {
       "model_id": "c72ccd2bcff04f80ab69c01d41064285",
       "version_major": 2,
       "version_minor": 0
      },
      "text/plain": [
       "  0%|          | 0/3691 [00:00<?, ?it/s]"
      ]
     },
     "metadata": {},
     "output_type": "display_data"
    },
    {
     "name": "stdout",
     "output_type": "stream",
     "text": [
      "Site processing complete, adding observtional data to 20220228 df...\n"
     ]
    },
    {
     "data": {
      "application/vnd.jupyter.widget-view+json": {
       "model_id": "b9f40b1b28e84921acd54c01d9130ffe",
       "version_major": 2,
       "version_minor": 0
      },
      "text/plain": [
       "  0%|          | 0/3691 [00:00<?, ?it/s]"
      ]
     },
     "metadata": {},
     "output_type": "display_data"
    },
    {
     "name": "stdout",
     "output_type": "stream",
     "text": [
      "/uufs/chpc.utah.edu/common/home/civil-group1/Johnson/SWEMLv2.0/data/TrainingDFs/2022/1000M_Resolution/Obsdf/20220429_ObsDF.parquet\n",
      "Site processing complete, adding observtional data to 20220405 df...\n"
     ]
    },
    {
     "data": {
      "application/vnd.jupyter.widget-view+json": {
       "model_id": "c82c17d61bf74fe0b8d9a21b8479f80a",
       "version_major": 2,
       "version_minor": 0
      },
      "text/plain": [
       "  0%|          | 0/3691 [00:00<?, ?it/s]"
      ]
     },
     "metadata": {},
     "output_type": "display_data"
    },
    {
     "name": "stdout",
     "output_type": "stream",
     "text": [
      "/uufs/chpc.utah.edu/common/home/civil-group1/Johnson/SWEMLv2.0/data/TrainingDFs/2022/1000M_Resolution/Obsdf/20220301_ObsDF.parquet\n",
      "Site processing complete, adding observtional data to 20220429 df...\n"
     ]
    },
    {
     "data": {
      "application/vnd.jupyter.widget-view+json": {
       "model_id": "3d584d9c9a1f48a8b149a6287459d192",
       "version_major": 2,
       "version_minor": 0
      },
      "text/plain": [
       "  0%|          | 0/3691 [00:00<?, ?it/s]"
      ]
     },
     "metadata": {},
     "output_type": "display_data"
    },
    {
     "name": "stdout",
     "output_type": "stream",
     "text": [
      "/uufs/chpc.utah.edu/common/home/civil-group1/Johnson/SWEMLv2.0/data/TrainingDFs/2022/1000M_Resolution/Obsdf/20220412_ObsDF.parquet\n",
      "Site processing complete, adding observtional data to 20220518 df...\n"
     ]
    },
    {
     "data": {
      "application/vnd.jupyter.widget-view+json": {
       "model_id": "cf3498c24e17464c86b1f86325e6d436",
       "version_major": 2,
       "version_minor": 0
      },
      "text/plain": [
       "  0%|          | 0/3691 [00:00<?, ?it/s]"
      ]
     },
     "metadata": {},
     "output_type": "display_data"
    },
    {
     "name": "stdout",
     "output_type": "stream",
     "text": [
      "/uufs/chpc.utah.edu/common/home/civil-group1/Johnson/SWEMLv2.0/data/TrainingDFs/2022/1000M_Resolution/Obsdf/20220428_ObsDF.parquet\n",
      "Site processing complete, adding observtional data to 20220611 df...\n",
      "/uufs/chpc.utah.edu/common/home/civil-group1/Johnson/SWEMLv2.0/data/TrainingDFs/2022/1000M_Resolution/Obsdf/20220513_ObsDF.parquet\n"
     ]
    },
    {
     "data": {
      "application/vnd.jupyter.widget-view+json": {
       "model_id": "b75fad2ade2d470fa1e58cf54f381c36",
       "version_major": 2,
       "version_minor": 0
      },
      "text/plain": [
       "  0%|          | 0/1567 [00:00<?, ?it/s]"
      ]
     },
     "metadata": {},
     "output_type": "display_data"
    },
    {
     "name": "stdout",
     "output_type": "stream",
     "text": [
      "Site processing complete, adding observtional data to 20220418 df...\n"
     ]
    },
    {
     "data": {
      "application/vnd.jupyter.widget-view+json": {
       "model_id": "1372a10d5d064bf1a11a474b6cb1a84b",
       "version_major": 2,
       "version_minor": 0
      },
      "text/plain": [
       "  0%|          | 0/2665 [00:00<?, ?it/s]"
      ]
     },
     "metadata": {},
     "output_type": "display_data"
    },
    {
     "name": "stdout",
     "output_type": "stream",
     "text": [
      "/uufs/chpc.utah.edu/common/home/civil-group1/Johnson/SWEMLv2.0/data/TrainingDFs/2022/1000M_Resolution/Obsdf/20220611_ObsDF.parquet\n",
      "/uufs/chpc.utah.edu/common/home/civil-group1/Johnson/SWEMLv2.0/data/TrainingDFs/2022/1000M_Resolution/Obsdf/20220302_ObsDF.parquet\n",
      "Site processing complete, adding observtional data to 20220424 df...\n"
     ]
    },
    {
     "data": {
      "application/vnd.jupyter.widget-view+json": {
       "model_id": "5bb234edfa54404a985c59d9d241ff23",
       "version_major": 2,
       "version_minor": 0
      },
      "text/plain": [
       "  0%|          | 0/2853 [00:00<?, ?it/s]"
      ]
     },
     "metadata": {},
     "output_type": "display_data"
    },
    {
     "name": "stdout",
     "output_type": "stream",
     "text": [
      "Site processing complete, adding observtional data to 20220325 df...\n"
     ]
    },
    {
     "data": {
      "application/vnd.jupyter.widget-view+json": {
       "model_id": "cf97d137c823428fb3baa8bed321f2ab",
       "version_major": 2,
       "version_minor": 0
      },
      "text/plain": [
       "  0%|          | 0/2853 [00:00<?, ?it/s]"
      ]
     },
     "metadata": {},
     "output_type": "display_data"
    },
    {
     "name": "stdout",
     "output_type": "stream",
     "text": [
      "/uufs/chpc.utah.edu/common/home/civil-group1/Johnson/SWEMLv2.0/data/TrainingDFs/2022/1000M_Resolution/Obsdf/20220310_ObsDF.parquet\n",
      "Site processing complete, adding observtional data to 20220515 df...\n"
     ]
    },
    {
     "data": {
      "application/vnd.jupyter.widget-view+json": {
       "model_id": "18c040b4cbd645ae890338ae160892c9",
       "version_major": 2,
       "version_minor": 0
      },
      "text/plain": [
       "  0%|          | 0/2853 [00:00<?, ?it/s]"
      ]
     },
     "metadata": {},
     "output_type": "display_data"
    },
    {
     "name": "stdout",
     "output_type": "stream",
     "text": [
      "/uufs/chpc.utah.edu/common/home/civil-group1/Johnson/SWEMLv2.0/data/TrainingDFs/2022/1000M_Resolution/Obsdf/20220408_ObsDF.parquet\n",
      "/uufs/chpc.utah.edu/common/home/civil-group1/Johnson/SWEMLv2.0/data/TrainingDFs/2022/1000M_Resolution/Obsdf/20220514_ObsDF.parquet\n",
      "/uufs/chpc.utah.edu/common/home/civil-group1/Johnson/SWEMLv2.0/data/TrainingDFs/2022/1000M_Resolution/Obsdf/20220514_ObsDF.parquet\n",
      "/uufs/chpc.utah.edu/common/home/civil-group1/Johnson/SWEMLv2.0/data/TrainingDFs/2022/1000M_Resolution/Obsdf/20220418_ObsDF.parquet\n",
      "/uufs/chpc.utah.edu/common/home/civil-group1/Johnson/SWEMLv2.0/data/TrainingDFs/2022/1000M_Resolution/Obsdf/20220204_ObsDF.parquet\n",
      "/uufs/chpc.utah.edu/common/home/civil-group1/Johnson/SWEMLv2.0/data/TrainingDFs/2022/1000M_Resolution/Obsdf/20220228_ObsDF.parquet\n",
      "/uufs/chpc.utah.edu/common/home/civil-group1/Johnson/SWEMLv2.0/data/TrainingDFs/2022/1000M_Resolution/Obsdf/20220424_ObsDF.parquet\n",
      "/uufs/chpc.utah.edu/common/home/civil-group1/Johnson/SWEMLv2.0/data/TrainingDFs/2022/1000M_Resolution/Obsdf/20220409_ObsDF.parquet\n",
      "/uufs/chpc.utah.edu/common/home/civil-group1/Johnson/SWEMLv2.0/data/TrainingDFs/2022/1000M_Resolution/Obsdf/20220206_ObsDF.parquet\n",
      "/uufs/chpc.utah.edu/common/home/civil-group1/Johnson/SWEMLv2.0/data/TrainingDFs/2022/1000M_Resolution/Obsdf/20220417_ObsDF.parquet\n",
      "/uufs/chpc.utah.edu/common/home/civil-group1/Johnson/SWEMLv2.0/data/TrainingDFs/2022/1000M_Resolution/Obsdf/20220316_ObsDF.parquet\n",
      "/uufs/chpc.utah.edu/common/home/civil-group1/Johnson/SWEMLv2.0/data/TrainingDFs/2022/1000M_Resolution/Obsdf/20220405_ObsDF.parquet\n",
      "/uufs/chpc.utah.edu/common/home/civil-group1/Johnson/SWEMLv2.0/data/TrainingDFs/2022/1000M_Resolution/Obsdf/20220429_ObsDF.parquet\n",
      "/uufs/chpc.utah.edu/common/home/civil-group1/Johnson/SWEMLv2.0/data/TrainingDFs/2022/1000M_Resolution/Obsdf/20220518_ObsDF.parquet\n",
      "/uufs/chpc.utah.edu/common/home/civil-group1/Johnson/SWEMLv2.0/data/TrainingDFs/2022/1000M_Resolution/Obsdf/20220325_ObsDF.parquet\n",
      "/uufs/chpc.utah.edu/common/home/civil-group1/Johnson/SWEMLv2.0/data/TrainingDFs/2022/1000M_Resolution/Obsdf/20220515_ObsDF.parquet\n",
      "/uufs/chpc.utah.edu/common/home/civil-group1/Johnson/SWEMLv2.0/data/TrainingDFs/2022/1000M_Resolution/Obsdf/20220424_ObsDF.parquet\n",
      "/uufs/chpc.utah.edu/common/home/civil-group1/Johnson/SWEMLv2.0/data/TrainingDFs/2022/1000M_Resolution/Obsdf/20220430_ObsDF.parquet\n",
      "/uufs/chpc.utah.edu/common/home/civil-group1/Johnson/SWEMLv2.0/data/TrainingDFs/2022/1000M_Resolution/Obsdf/20220217_ObsDF.parquet\n",
      "/uufs/chpc.utah.edu/common/home/civil-group1/Johnson/SWEMLv2.0/data/TrainingDFs/2022/1000M_Resolution/Obsdf/20220331_ObsDF.parquet\n",
      "/uufs/chpc.utah.edu/common/home/civil-group1/Johnson/SWEMLv2.0/data/TrainingDFs/2022/1000M_Resolution/Obsdf/20220310_ObsDF.parquet\n",
      "/uufs/chpc.utah.edu/common/home/civil-group1/Johnson/SWEMLv2.0/data/TrainingDFs/2022/1000M_Resolution/Obsdf/20220429_ObsDF.parquet\n",
      "Job complete for connecting SNOTEL obs to sites/dates\n",
      "2023\n",
      "Connecting site observations with nearest monitoring network obs\n",
      "Loading observations from 2013-2019\n",
      "Loading 1000M resolution grids for 2023 region\n",
      "Processing datetime component of SNOTEL observation dataframe\n",
      "Loading 82 processed ASO observations for the 2023 at 1000M resolution\n",
      "There are 82 aso dates in snotel obs\n",
      "There are 0 missing snotel obs\n",
      "Connecting 82 timesteps of observations for 2023\n"
     ]
    },
    {
     "name": "stderr",
     "output_type": "stream",
     "text": [
      "100%|██████████| 82/82 [00:00<00:00, 308.25it/s]\n"
     ]
    },
    {
     "name": "stdout",
     "output_type": "stream",
     "text": [
      "Site processing complete, adding observtional data to 20230131 df...\n"
     ]
    },
    {
     "data": {
      "application/vnd.jupyter.widget-view+json": {
       "model_id": "817e896dfb58432e8374a78810465c0f",
       "version_major": 2,
       "version_minor": 0
      },
      "text/plain": [
       "  0%|          | 0/4130 [00:00<?, ?it/s]"
      ]
     },
     "metadata": {},
     "output_type": "display_data"
    },
    {
     "name": "stdout",
     "output_type": "stream",
     "text": [
      "Site processing complete, adding observtional data to 20230413 df...\n"
     ]
    },
    {
     "data": {
      "application/vnd.jupyter.widget-view+json": {
       "model_id": "6e2d828eab0f403fb50fd1ff1bcedc96",
       "version_major": 2,
       "version_minor": 0
      },
      "text/plain": [
       "  0%|          | 0/4130 [00:00<?, ?it/s]"
      ]
     },
     "metadata": {},
     "output_type": "display_data"
    },
    {
     "name": "stdout",
     "output_type": "stream",
     "text": [
      "Site processing complete, adding observtional data to 20230428 df...\n"
     ]
    },
    {
     "data": {
      "application/vnd.jupyter.widget-view+json": {
       "model_id": "4431a791dff44719806aaf9d2965509f",
       "version_major": 2,
       "version_minor": 0
      },
      "text/plain": [
       "  0%|          | 0/4130 [00:00<?, ?it/s]"
      ]
     },
     "metadata": {},
     "output_type": "display_data"
    },
    {
     "name": "stdout",
     "output_type": "stream",
     "text": [
      "Site processing complete, adding observtional data to 20230602 df...\n"
     ]
    },
    {
     "data": {
      "application/vnd.jupyter.widget-view+json": {
       "model_id": "1303dfc8bd2940b294fd93e0dc4f43bd",
       "version_major": 2,
       "version_minor": 0
      },
      "text/plain": [
       "  0%|          | 0/4130 [00:00<?, ?it/s]"
      ]
     },
     "metadata": {},
     "output_type": "display_data"
    },
    {
     "name": "stdout",
     "output_type": "stream",
     "text": [
      "Site processing complete, adding observtional data to 20230521 df...\n"
     ]
    },
    {
     "data": {
      "application/vnd.jupyter.widget-view+json": {
       "model_id": "71bd096e761c44018eb423ca9d01d1f2",
       "version_major": 2,
       "version_minor": 0
      },
      "text/plain": [
       "  0%|          | 0/1285 [00:00<?, ?it/s]"
      ]
     },
     "metadata": {},
     "output_type": "display_data"
    },
    {
     "name": "stdout",
     "output_type": "stream",
     "text": [
      "Site processing complete, adding observtional data to 20230416 df...\n"
     ]
    },
    {
     "data": {
      "application/vnd.jupyter.widget-view+json": {
       "model_id": "22538b7ad8c14555a5540c1ac8284b07",
       "version_major": 2,
       "version_minor": 0
      },
      "text/plain": [
       "  0%|          | 0/1083 [00:00<?, ?it/s]"
      ]
     },
     "metadata": {},
     "output_type": "display_data"
    },
    {
     "name": "stdout",
     "output_type": "stream",
     "text": [
      "Site processing complete, adding observtional data to 20230509 df...\n"
     ]
    },
    {
     "data": {
      "application/vnd.jupyter.widget-view+json": {
       "model_id": "544ff7dc730e4fca97d8439492536f74",
       "version_major": 2,
       "version_minor": 0
      },
      "text/plain": [
       "  0%|          | 0/760 [00:00<?, ?it/s]"
      ]
     },
     "metadata": {},
     "output_type": "display_data"
    },
    {
     "name": "stdout",
     "output_type": "stream",
     "text": [
      "Site processing complete, adding observtional data to 20230331 df...\n"
     ]
    },
    {
     "data": {
      "application/vnd.jupyter.widget-view+json": {
       "model_id": "d8d99c31347043e0bc053ca2a646268d",
       "version_major": 2,
       "version_minor": 0
      },
      "text/plain": [
       "  0%|          | 0/1881 [00:00<?, ?it/s]"
      ]
     },
     "metadata": {},
     "output_type": "display_data"
    },
    {
     "name": "stdout",
     "output_type": "stream",
     "text": [
      "Site processing complete, adding observtional data to 20230510 df...\n"
     ]
    },
    {
     "data": {
      "application/vnd.jupyter.widget-view+json": {
       "model_id": "fd0abd0ef51d413f933b22761e85a689",
       "version_major": 2,
       "version_minor": 0
      },
      "text/plain": [
       "  0%|          | 0/1879 [00:00<?, ?it/s]"
      ]
     },
     "metadata": {},
     "output_type": "display_data"
    },
    {
     "name": "stdout",
     "output_type": "stream",
     "text": [
      "Site processing complete, adding observtional data to 20230607 df...\n"
     ]
    },
    {
     "data": {
      "application/vnd.jupyter.widget-view+json": {
       "model_id": "12dc9e2f924a424ca6a7a988a7391c63",
       "version_major": 2,
       "version_minor": 0
      },
      "text/plain": [
       "  0%|          | 0/1879 [00:00<?, ?it/s]"
      ]
     },
     "metadata": {},
     "output_type": "display_data"
    },
    {
     "name": "stdout",
     "output_type": "stream",
     "text": [
      "Site processing complete, adding observtional data to 20230509 df...\n"
     ]
    },
    {
     "data": {
      "application/vnd.jupyter.widget-view+json": {
       "model_id": "54408fa545db469ab1f207ab6a09650d",
       "version_major": 2,
       "version_minor": 0
      },
      "text/plain": [
       "  0%|          | 0/1318 [00:00<?, ?it/s]"
      ]
     },
     "metadata": {},
     "output_type": "display_data"
    },
    {
     "name": "stdout",
     "output_type": "stream",
     "text": [
      "Site processing complete, adding observtional data to 20230505 df...\n"
     ]
    },
    {
     "data": {
      "application/vnd.jupyter.widget-view+json": {
       "model_id": "711ac6955a54413aa0abbbd622aa7f6a",
       "version_major": 2,
       "version_minor": 0
      },
      "text/plain": [
       "  0%|          | 0/906 [00:00<?, ?it/s]"
      ]
     },
     "metadata": {},
     "output_type": "display_data"
    },
    {
     "name": "stdout",
     "output_type": "stream",
     "text": [
      "Site processing complete, adding observtional data to 20230406 df...\n"
     ]
    },
    {
     "data": {
      "application/vnd.jupyter.widget-view+json": {
       "model_id": "f70636c13c384b60965030bfb9ad634b",
       "version_major": 2,
       "version_minor": 0
      },
      "text/plain": [
       "  0%|          | 0/1638 [00:00<?, ?it/s]"
      ]
     },
     "metadata": {},
     "output_type": "display_data"
    },
    {
     "name": "stdout",
     "output_type": "stream",
     "text": [
      "Site processing complete, adding observtional data to 20230525 df...\n"
     ]
    },
    {
     "data": {
      "application/vnd.jupyter.widget-view+json": {
       "model_id": "51d96365842d45adbfb6bbf60742480c",
       "version_major": 2,
       "version_minor": 0
      },
      "text/plain": [
       "  0%|          | 0/1638 [00:00<?, ?it/s]"
      ]
     },
     "metadata": {},
     "output_type": "display_data"
    },
    {
     "name": "stdout",
     "output_type": "stream",
     "text": [
      "Site processing complete, adding observtional data to 20230206 df...\n"
     ]
    },
    {
     "data": {
      "application/vnd.jupyter.widget-view+json": {
       "model_id": "ee6a59d6bfa14c56aedcac06ed673602",
       "version_major": 2,
       "version_minor": 0
      },
      "text/plain": [
       "  0%|          | 0/10655 [00:00<?, ?it/s]"
      ]
     },
     "metadata": {},
     "output_type": "display_data"
    },
    {
     "name": "stdout",
     "output_type": "stream",
     "text": [
      "Site processing complete, adding observtional data to 20230409 df...\n"
     ]
    },
    {
     "data": {
      "application/vnd.jupyter.widget-view+json": {
       "model_id": "308cf339a390436dad9dbe90d7e1550b",
       "version_major": 2,
       "version_minor": 0
      },
      "text/plain": [
       "  0%|          | 0/10656 [00:00<?, ?it/s]"
      ]
     },
     "metadata": {},
     "output_type": "display_data"
    },
    {
     "name": "stdout",
     "output_type": "stream",
     "text": [
      "Site processing complete, adding observtional data to 20230618 df...\n",
      "Site processing complete, adding observtional data to 20230428 df...\n"
     ]
    },
    {
     "data": {
      "application/vnd.jupyter.widget-view+json": {
       "model_id": "25464fa19ad844b0a33d5c6e3cc8e9e1",
       "version_major": 2,
       "version_minor": 0
      },
      "text/plain": [
       "  0%|          | 0/10655 [00:00<?, ?it/s]"
      ]
     },
     "metadata": {},
     "output_type": "display_data"
    },
    {
     "data": {
      "application/vnd.jupyter.widget-view+json": {
       "model_id": "4485150dc55c456e84cefc2fe571cd80",
       "version_major": 2,
       "version_minor": 0
      },
      "text/plain": [
       "  0%|          | 0/10655 [00:00<?, ?it/s]"
      ]
     },
     "metadata": {},
     "output_type": "display_data"
    },
    {
     "name": "stdout",
     "output_type": "stream",
     "text": [
      "Site processing complete, adding observtional data to 20230127 df...\n"
     ]
    },
    {
     "data": {
      "application/vnd.jupyter.widget-view+json": {
       "model_id": "ae965f81ef444483a1affa0746624648",
       "version_major": 2,
       "version_minor": 0
      },
      "text/plain": [
       "  0%|          | 0/1792 [00:00<?, ?it/s]"
      ]
     },
     "metadata": {},
     "output_type": "display_data"
    },
    {
     "name": "stdout",
     "output_type": "stream",
     "text": [
      "/uufs/chpc.utah.edu/common/home/civil-group1/Johnson/SWEMLv2.0/data/TrainingDFs/2023/1000M_Resolution/Obsdf/20230509_ObsDF.parquet\n",
      "Site processing complete, adding observtional data to 20230307 df...\n"
     ]
    },
    {
     "data": {
      "application/vnd.jupyter.widget-view+json": {
       "model_id": "5dfaa60f3b8d48bd94fe74b0cecf4dd7",
       "version_major": 2,
       "version_minor": 0
      },
      "text/plain": [
       "  0%|          | 0/1792 [00:00<?, ?it/s]"
      ]
     },
     "metadata": {},
     "output_type": "display_data"
    },
    {
     "name": "stdout",
     "output_type": "stream",
     "text": [
      "Site processing complete, adding observtional data to 20230405 df...\n"
     ]
    },
    {
     "data": {
      "application/vnd.jupyter.widget-view+json": {
       "model_id": "9908e1d52cc448e5af675db7d6d3939c",
       "version_major": 2,
       "version_minor": 0
      },
      "text/plain": [
       "  0%|          | 0/1792 [00:00<?, ?it/s]"
      ]
     },
     "metadata": {},
     "output_type": "display_data"
    },
    {
     "name": "stdout",
     "output_type": "stream",
     "text": [
      "Site processing complete, adding observtional data to 20230423 df...\n",
      "Site processing complete, adding observtional data to 20230602 df...\n"
     ]
    },
    {
     "data": {
      "application/vnd.jupyter.widget-view+json": {
       "model_id": "eaf3303856c64167b60da109c5360ff8",
       "version_major": 2,
       "version_minor": 0
      },
      "text/plain": [
       "  0%|          | 0/1792 [00:00<?, ?it/s]"
      ]
     },
     "metadata": {},
     "output_type": "display_data"
    },
    {
     "data": {
      "application/vnd.jupyter.widget-view+json": {
       "model_id": "bd98c30f07e24a37ba0e215eb518d8c4",
       "version_major": 2,
       "version_minor": 0
      },
      "text/plain": [
       "  0%|          | 0/1792 [00:00<?, ?it/s]"
      ]
     },
     "metadata": {},
     "output_type": "display_data"
    },
    {
     "name": "stdout",
     "output_type": "stream",
     "text": [
      "/uufs/chpc.utah.edu/common/home/civil-group1/Johnson/SWEMLv2.0/data/TrainingDFs/2023/1000M_Resolution/Obsdf/20230416_ObsDF.parquet\n",
      "Site processing complete, adding observtional data to 20230204 df...\n"
     ]
    },
    {
     "data": {
      "application/vnd.jupyter.widget-view+json": {
       "model_id": "0a442d5f55d249618ad5a6cd90ba4112",
       "version_major": 2,
       "version_minor": 0
      },
      "text/plain": [
       "  0%|          | 0/5134 [00:00<?, ?it/s]"
      ]
     },
     "metadata": {},
     "output_type": "display_data"
    },
    {
     "name": "stdout",
     "output_type": "stream",
     "text": [
      "/uufs/chpc.utah.edu/common/home/civil-group1/Johnson/SWEMLv2.0/data/TrainingDFs/2023/1000M_Resolution/Obsdf/20230521_ObsDF.parquet\n",
      "/uufs/chpc.utah.edu/common/home/civil-group1/Johnson/SWEMLv2.0/data/TrainingDFs/2023/1000M_Resolution/Obsdf/20230505_ObsDF.parquet\n",
      "Site processing complete, adding observtional data to 20230326 df...\n",
      "Site processing complete, adding observtional data to 20230429 df...\n"
     ]
    },
    {
     "data": {
      "application/vnd.jupyter.widget-view+json": {
       "model_id": "a2edfae053ba41d0b64d5a46afde5957",
       "version_major": 2,
       "version_minor": 0
      },
      "text/plain": [
       "  0%|          | 0/5134 [00:00<?, ?it/s]"
      ]
     },
     "metadata": {},
     "output_type": "display_data"
    },
    {
     "data": {
      "application/vnd.jupyter.widget-view+json": {
       "model_id": "ab74e195344d4a5aa31275166b292c1f",
       "version_major": 2,
       "version_minor": 0
      },
      "text/plain": [
       "  0%|          | 0/5134 [00:00<?, ?it/s]"
      ]
     },
     "metadata": {},
     "output_type": "display_data"
    },
    {
     "name": "stdout",
     "output_type": "stream",
     "text": [
      "/uufs/chpc.utah.edu/common/home/civil-group1/Johnson/SWEMLv2.0/data/TrainingDFs/2023/1000M_Resolution/Obsdf/20230509_ObsDF.parquet\n",
      "/uufs/chpc.utah.edu/common/home/civil-group1/Johnson/SWEMLv2.0/data/TrainingDFs/2023/1000M_Resolution/Obsdf/20230331_ObsDF.parquet\n",
      "/uufs/chpc.utah.edu/common/home/civil-group1/Johnson/SWEMLv2.0/data/TrainingDFs/2023/1000M_Resolution/Obsdf/20230510_ObsDF.parquet\n",
      "/uufs/chpc.utah.edu/common/home/civil-group1/Johnson/SWEMLv2.0/data/TrainingDFs/2023/1000M_Resolution/Obsdf/20230406_ObsDF.parquet\n",
      "/uufs/chpc.utah.edu/common/home/civil-group1/Johnson/SWEMLv2.0/data/TrainingDFs/2023/1000M_Resolution/Obsdf/20230525_ObsDF.parquet\n",
      "Site processing complete, adding observtional data to 20230603 df...\n",
      "Site processing complete, adding observtional data to 20230122 df...\n"
     ]
    },
    {
     "data": {
      "application/vnd.jupyter.widget-view+json": {
       "model_id": "1d0dd6b3cbee451a964c7023d9a55da7",
       "version_major": 2,
       "version_minor": 0
      },
      "text/plain": [
       "  0%|          | 0/5326 [00:00<?, ?it/s]"
      ]
     },
     "metadata": {},
     "output_type": "display_data"
    },
    {
     "data": {
      "application/vnd.jupyter.widget-view+json": {
       "model_id": "f4b05083351d425c9bd9ab2252822926",
       "version_major": 2,
       "version_minor": 0
      },
      "text/plain": [
       "  0%|          | 0/5134 [00:00<?, ?it/s]"
      ]
     },
     "metadata": {},
     "output_type": "display_data"
    },
    {
     "name": "stdout",
     "output_type": "stream",
     "text": [
      "Site processing complete, adding observtional data to 20230331 df...\n",
      "Site processing complete, adding observtional data to 20230316 df...\n"
     ]
    },
    {
     "data": {
      "application/vnd.jupyter.widget-view+json": {
       "model_id": "e2a78787671d4165a2547ca9b7a54af3",
       "version_major": 2,
       "version_minor": 0
      },
      "text/plain": [
       "  0%|          | 0/5326 [00:00<?, ?it/s]"
      ]
     },
     "metadata": {},
     "output_type": "display_data"
    },
    {
     "data": {
      "application/vnd.jupyter.widget-view+json": {
       "model_id": "8664ab3b2bd5461882815a01618f0a8e",
       "version_major": 2,
       "version_minor": 0
      },
      "text/plain": [
       "  0%|          | 0/5326 [00:00<?, ?it/s]"
      ]
     },
     "metadata": {},
     "output_type": "display_data"
    },
    {
     "name": "stdout",
     "output_type": "stream",
     "text": [
      "Site processing complete, adding observtional data to 20230421 df...\n"
     ]
    },
    {
     "data": {
      "application/vnd.jupyter.widget-view+json": {
       "model_id": "7474cec63f9f4e92b36c6c1d22602699",
       "version_major": 2,
       "version_minor": 0
      },
      "text/plain": [
       "  0%|          | 0/5326 [00:00<?, ?it/s]"
      ]
     },
     "metadata": {},
     "output_type": "display_data"
    },
    {
     "name": "stdout",
     "output_type": "stream",
     "text": [
      "/uufs/chpc.utah.edu/common/home/civil-group1/Johnson/SWEMLv2.0/data/TrainingDFs/2023/1000M_Resolution/Obsdf/20230607_ObsDF.parquet\n",
      "/uufs/chpc.utah.edu/common/home/civil-group1/Johnson/SWEMLv2.0/data/TrainingDFs/2023/1000M_Resolution/Obsdf/20230127_ObsDF.parquet\n",
      "Site processing complete, adding observtional data to 20230630 df...\n"
     ]
    },
    {
     "data": {
      "application/vnd.jupyter.widget-view+json": {
       "model_id": "afd4b0f2e099442fb648f95679534930",
       "version_major": 2,
       "version_minor": 0
      },
      "text/plain": [
       "  0%|          | 0/5326 [00:00<?, ?it/s]"
      ]
     },
     "metadata": {},
     "output_type": "display_data"
    },
    {
     "name": "stdout",
     "output_type": "stream",
     "text": [
      "/uufs/chpc.utah.edu/common/home/civil-group1/Johnson/SWEMLv2.0/data/TrainingDFs/2023/1000M_Resolution/Obsdf/20230405_ObsDF.parquet\n",
      "Site processing complete, adding observtional data to 20230528 df...\n",
      "/uufs/chpc.utah.edu/common/home/civil-group1/Johnson/SWEMLv2.0/data/TrainingDFs/2023/1000M_Resolution/Obsdf/20230423_ObsDF.parquet\n"
     ]
    },
    {
     "data": {
      "application/vnd.jupyter.widget-view+json": {
       "model_id": "8dfe3762df6f4c9d8f8c9197483f220b",
       "version_major": 2,
       "version_minor": 0
      },
      "text/plain": [
       "  0%|          | 0/5326 [00:00<?, ?it/s]"
      ]
     },
     "metadata": {},
     "output_type": "display_data"
    },
    {
     "name": "stdout",
     "output_type": "stream",
     "text": [
      "Site processing complete, adding observtional data to 20230212 df...\n"
     ]
    },
    {
     "data": {
      "application/vnd.jupyter.widget-view+json": {
       "model_id": "40637e7d53864116824b97cd4aec8538",
       "version_major": 2,
       "version_minor": 0
      },
      "text/plain": [
       "  0%|          | 0/6697 [00:00<?, ?it/s]"
      ]
     },
     "metadata": {},
     "output_type": "display_data"
    },
    {
     "name": "stdout",
     "output_type": "stream",
     "text": [
      "Site processing complete, adding observtional data to 20230425 df...\n"
     ]
    },
    {
     "data": {
      "application/vnd.jupyter.widget-view+json": {
       "model_id": "18eb58c7d0e140a7bac6accf391da800",
       "version_major": 2,
       "version_minor": 0
      },
      "text/plain": [
       "  0%|          | 0/6698 [00:00<?, ?it/s]"
      ]
     },
     "metadata": {},
     "output_type": "display_data"
    },
    {
     "name": "stdout",
     "output_type": "stream",
     "text": [
      "/uufs/chpc.utah.edu/common/home/civil-group1/Johnson/SWEMLv2.0/data/TrainingDFs/2023/1000M_Resolution/Obsdf/20230602_ObsDF.parquet\n",
      "Site processing complete, adding observtional data to 20230511 df...\n"
     ]
    },
    {
     "data": {
      "application/vnd.jupyter.widget-view+json": {
       "model_id": "03a52966b5244f3f82a351aa67ba95e4",
       "version_major": 2,
       "version_minor": 0
      },
      "text/plain": [
       "  0%|          | 0/6697 [00:00<?, ?it/s]"
      ]
     },
     "metadata": {},
     "output_type": "display_data"
    },
    {
     "name": "stdout",
     "output_type": "stream",
     "text": [
      "/uufs/chpc.utah.edu/common/home/civil-group1/Johnson/SWEMLv2.0/data/TrainingDFs/2023/1000M_Resolution/Obsdf/20230307_ObsDF.parquet\n",
      "Site processing complete, adding observtional data to 20230131 df...\n"
     ]
    },
    {
     "data": {
      "application/vnd.jupyter.widget-view+json": {
       "model_id": "f0bc8cff8d194273b6bbfc220d2f542b",
       "version_major": 2,
       "version_minor": 0
      },
      "text/plain": [
       "  0%|          | 0/2236 [00:00<?, ?it/s]"
      ]
     },
     "metadata": {},
     "output_type": "display_data"
    },
    {
     "name": "stdout",
     "output_type": "stream",
     "text": [
      "/uufs/chpc.utah.edu/common/home/civil-group1/Johnson/SWEMLv2.0/data/TrainingDFs/2023/1000M_Resolution/Obsdf/20230602_ObsDF.parquet\n",
      "/uufs/chpc.utah.edu/common/home/civil-group1/Johnson/SWEMLv2.0/data/TrainingDFs/2023/1000M_Resolution/Obsdf/20230428_ObsDF.parquet\n",
      "Site processing complete, adding observtional data to 20230303 df...\n"
     ]
    },
    {
     "data": {
      "application/vnd.jupyter.widget-view+json": {
       "model_id": "85c65868e26b4f30acb852aedae7f7d8",
       "version_major": 2,
       "version_minor": 0
      },
      "text/plain": [
       "  0%|          | 0/2236 [00:00<?, ?it/s]"
      ]
     },
     "metadata": {},
     "output_type": "display_data"
    },
    {
     "name": "stdout",
     "output_type": "stream",
     "text": [
      "Site processing complete, adding observtional data to 20230326 df...\n"
     ]
    },
    {
     "data": {
      "application/vnd.jupyter.widget-view+json": {
       "model_id": "d6961a5e76234f0f8e820c299bbb47a2",
       "version_major": 2,
       "version_minor": 0
      },
      "text/plain": [
       "  0%|          | 0/2236 [00:00<?, ?it/s]"
      ]
     },
     "metadata": {},
     "output_type": "display_data"
    },
    {
     "name": "stdout",
     "output_type": "stream",
     "text": [
      "/uufs/chpc.utah.edu/common/home/civil-group1/Johnson/SWEMLv2.0/data/TrainingDFs/2023/1000M_Resolution/Obsdf/20230131_ObsDF.parquet\n",
      "Site processing complete, adding observtional data to 20230515 df...\n"
     ]
    },
    {
     "data": {
      "application/vnd.jupyter.widget-view+json": {
       "model_id": "5d82d081a42a43e88f8e6d9f7539b727",
       "version_major": 2,
       "version_minor": 0
      },
      "text/plain": [
       "  0%|          | 0/2236 [00:00<?, ?it/s]"
      ]
     },
     "metadata": {},
     "output_type": "display_data"
    },
    {
     "name": "stdout",
     "output_type": "stream",
     "text": [
      "/uufs/chpc.utah.edu/common/home/civil-group1/Johnson/SWEMLv2.0/data/TrainingDFs/2023/1000M_Resolution/Obsdf/20230413_ObsDF.parquet\n",
      "Site processing complete, adding observtional data to 20230608 df...\n"
     ]
    },
    {
     "data": {
      "application/vnd.jupyter.widget-view+json": {
       "model_id": "c9b89819411b4e089d99a23edf7a5410",
       "version_major": 2,
       "version_minor": 0
      },
      "text/plain": [
       "  0%|          | 0/2236 [00:00<?, ?it/s]"
      ]
     },
     "metadata": {},
     "output_type": "display_data"
    },
    {
     "name": "stdout",
     "output_type": "stream",
     "text": [
      "/uufs/chpc.utah.edu/common/home/civil-group1/Johnson/SWEMLv2.0/data/TrainingDFs/2023/1000M_Resolution/Obsdf/20230131_ObsDF.parquet\n",
      "Site processing complete, adding observtional data to 20230130 df...\n"
     ]
    },
    {
     "data": {
      "application/vnd.jupyter.widget-view+json": {
       "model_id": "ebea9dc05ac845a4980eb7b2a82d1811",
       "version_major": 2,
       "version_minor": 0
      },
      "text/plain": [
       "  0%|          | 0/5042 [00:00<?, ?it/s]"
      ]
     },
     "metadata": {},
     "output_type": "display_data"
    },
    {
     "name": "stdout",
     "output_type": "stream",
     "text": [
      "/uufs/chpc.utah.edu/common/home/civil-group1/Johnson/SWEMLv2.0/data/TrainingDFs/2023/1000M_Resolution/Obsdf/20230204_ObsDF.parquet\n",
      "/uufs/chpc.utah.edu/common/home/civil-group1/Johnson/SWEMLv2.0/data/TrainingDFs/2023/1000M_Resolution/Obsdf/20230429_ObsDF.parquet\n",
      "Site processing complete, adding observtional data to 20230413 df...\n"
     ]
    },
    {
     "data": {
      "application/vnd.jupyter.widget-view+json": {
       "model_id": "244eed18add5480ab18e362d1114ef64",
       "version_major": 2,
       "version_minor": 0
      },
      "text/plain": [
       "  0%|          | 0/5078 [00:00<?, ?it/s]"
      ]
     },
     "metadata": {},
     "output_type": "display_data"
    },
    {
     "name": "stdout",
     "output_type": "stream",
     "text": [
      "/uufs/chpc.utah.edu/common/home/civil-group1/Johnson/SWEMLv2.0/data/TrainingDFs/2023/1000M_Resolution/Obsdf/20230326_ObsDF.parquet\n",
      "/uufs/chpc.utah.edu/common/home/civil-group1/Johnson/SWEMLv2.0/data/TrainingDFs/2023/1000M_Resolution/Obsdf/20230303_ObsDF.parquet\n",
      "Site processing complete, adding observtional data to 20230510 df...\n"
     ]
    },
    {
     "data": {
      "application/vnd.jupyter.widget-view+json": {
       "model_id": "f0c96ec6f6fb49a783d3ae2885f5fbcd",
       "version_major": 2,
       "version_minor": 0
      },
      "text/plain": [
       "  0%|          | 0/5088 [00:00<?, ?it/s]"
      ]
     },
     "metadata": {},
     "output_type": "display_data"
    },
    {
     "name": "stdout",
     "output_type": "stream",
     "text": [
      "Site processing complete, adding observtional data to 20230527 df...\n"
     ]
    },
    {
     "data": {
      "application/vnd.jupyter.widget-view+json": {
       "model_id": "9437bf320ea14b90bc1afb79c90db563",
       "version_major": 2,
       "version_minor": 0
      },
      "text/plain": [
       "  0%|          | 0/405 [00:00<?, ?it/s]"
      ]
     },
     "metadata": {},
     "output_type": "display_data"
    },
    {
     "name": "stdout",
     "output_type": "stream",
     "text": [
      "/uufs/chpc.utah.edu/common/home/civil-group1/Johnson/SWEMLv2.0/data/TrainingDFs/2023/1000M_Resolution/Obsdf/20230326_ObsDF.parquet\n",
      "Site processing complete, adding observtional data to 20230615 df...\n"
     ]
    },
    {
     "data": {
      "application/vnd.jupyter.widget-view+json": {
       "model_id": "9932d481a398461ca377f776cb90f8b4",
       "version_major": 2,
       "version_minor": 0
      },
      "text/plain": [
       "  0%|          | 0/600 [00:00<?, ?it/s]"
      ]
     },
     "metadata": {},
     "output_type": "display_data"
    },
    {
     "name": "stdout",
     "output_type": "stream",
     "text": [
      "Site processing complete, adding observtional data to 20230702 df...\n"
     ]
    },
    {
     "data": {
      "application/vnd.jupyter.widget-view+json": {
       "model_id": "46f1ea10ae3e4859ab2fcbfb5b165ad8",
       "version_major": 2,
       "version_minor": 0
      },
      "text/plain": [
       "  0%|          | 0/404 [00:00<?, ?it/s]"
      ]
     },
     "metadata": {},
     "output_type": "display_data"
    },
    {
     "name": "stdout",
     "output_type": "stream",
     "text": [
      "/uufs/chpc.utah.edu/common/home/civil-group1/Johnson/SWEMLv2.0/data/TrainingDFs/2023/1000M_Resolution/Obsdf/20230527_ObsDF.parquet\n",
      "/uufs/chpc.utah.edu/common/home/civil-group1/Johnson/SWEMLv2.0/data/TrainingDFs/2023/1000M_Resolution/Obsdf/20230515_ObsDF.parquet\n",
      "Site processing complete, adding observtional data to 20230411 df...\n"
     ]
    },
    {
     "data": {
      "application/vnd.jupyter.widget-view+json": {
       "model_id": "422e2d688a51436695a0a3d1090be63c",
       "version_major": 2,
       "version_minor": 0
      },
      "text/plain": [
       "  0%|          | 0/2283 [00:00<?, ?it/s]"
      ]
     },
     "metadata": {},
     "output_type": "display_data"
    },
    {
     "name": "stdout",
     "output_type": "stream",
     "text": [
      "Site processing complete, adding observtional data to 20230522 df...\n"
     ]
    },
    {
     "data": {
      "application/vnd.jupyter.widget-view+json": {
       "model_id": "4979df20fe624a69957e09e46944b6f1",
       "version_major": 2,
       "version_minor": 0
      },
      "text/plain": [
       "  0%|          | 0/1370 [00:00<?, ?it/s]"
      ]
     },
     "metadata": {},
     "output_type": "display_data"
    },
    {
     "name": "stdout",
     "output_type": "stream",
     "text": [
      "/uufs/chpc.utah.edu/common/home/civil-group1/Johnson/SWEMLv2.0/data/TrainingDFs/2023/1000M_Resolution/Obsdf/20230702_ObsDF.parquet\n",
      "/uufs/chpc.utah.edu/common/home/civil-group1/Johnson/SWEMLv2.0/data/TrainingDFs/2023/1000M_Resolution/Obsdf/20230603_ObsDF.parquet\n",
      "Site processing complete, adding observtional data to 20230528 df...\n"
     ]
    },
    {
     "data": {
      "application/vnd.jupyter.widget-view+json": {
       "model_id": "5096af0aa60a441c86c11ae548096840",
       "version_major": 2,
       "version_minor": 0
      },
      "text/plain": [
       "  0%|          | 0/2283 [00:00<?, ?it/s]"
      ]
     },
     "metadata": {},
     "output_type": "display_data"
    },
    {
     "name": "stdout",
     "output_type": "stream",
     "text": [
      "/uufs/chpc.utah.edu/common/home/civil-group1/Johnson/SWEMLv2.0/data/TrainingDFs/2023/1000M_Resolution/Obsdf/20230615_ObsDF.parquet\n",
      "Site processing complete, adding observtional data to 20230209 df...\n"
     ]
    },
    {
     "data": {
      "application/vnd.jupyter.widget-view+json": {
       "model_id": "fc3c79a15f2f4fc3a8b132d9fc71062d",
       "version_major": 2,
       "version_minor": 0
      },
      "text/plain": [
       "  0%|          | 0/5099 [00:00<?, ?it/s]"
      ]
     },
     "metadata": {},
     "output_type": "display_data"
    },
    {
     "name": "stdout",
     "output_type": "stream",
     "text": [
      "/uufs/chpc.utah.edu/common/home/civil-group1/Johnson/SWEMLv2.0/data/TrainingDFs/2023/1000M_Resolution/Obsdf/20230122_ObsDF.parquet\n",
      "Site processing complete, adding observtional data to 20230424 df...\n"
     ]
    },
    {
     "data": {
      "application/vnd.jupyter.widget-view+json": {
       "model_id": "4a2040bbc795455ba22197d46135d3d2",
       "version_major": 2,
       "version_minor": 0
      },
      "text/plain": [
       "  0%|          | 0/5099 [00:00<?, ?it/s]"
      ]
     },
     "metadata": {},
     "output_type": "display_data"
    },
    {
     "name": "stdout",
     "output_type": "stream",
     "text": [
      "/uufs/chpc.utah.edu/common/home/civil-group1/Johnson/SWEMLv2.0/data/TrainingDFs/2023/1000M_Resolution/Obsdf/20230331_ObsDF.parquet\n",
      "Site processing complete, adding observtional data to 20230317 df...\n",
      "Site processing complete, adding observtional data to 20230515 df..."
     ]
    },
    {
     "data": {
      "application/vnd.jupyter.widget-view+json": {
       "model_id": "c805e44fa754470797e3507fe7d4c090",
       "version_major": 2,
       "version_minor": 0
      },
      "text/plain": [
       "  0%|          | 0/5216 [00:00<?, ?it/s]"
      ]
     },
     "metadata": {},
     "output_type": "display_data"
    },
    {
     "name": "stdout",
     "output_type": "stream",
     "text": [
      "\n"
     ]
    },
    {
     "data": {
      "application/vnd.jupyter.widget-view+json": {
       "model_id": "50f7475bc12546d2aef3e5eee86ac1f1",
       "version_major": 2,
       "version_minor": 0
      },
      "text/plain": [
       "  0%|          | 0/5099 [00:00<?, ?it/s]"
      ]
     },
     "metadata": {},
     "output_type": "display_data"
    },
    {
     "name": "stdout",
     "output_type": "stream",
     "text": [
      "/uufs/chpc.utah.edu/common/home/civil-group1/Johnson/SWEMLv2.0/data/TrainingDFs/2023/1000M_Resolution/Obsdf/20230608_ObsDF.parquet\n",
      "/uufs/chpc.utah.edu/common/home/civil-group1/Johnson/SWEMLv2.0/data/TrainingDFs/2023/1000M_Resolution/Obsdf/20230630_ObsDF.parquet\n",
      "Site processing complete, adding observtional data to 20230414 df...\n"
     ]
    },
    {
     "data": {
      "application/vnd.jupyter.widget-view+json": {
       "model_id": "a97eb6fec8204e8ea991346757810eaf",
       "version_major": 2,
       "version_minor": 0
      },
      "text/plain": [
       "  0%|          | 0/5216 [00:00<?, ?it/s]"
      ]
     },
     "metadata": {},
     "output_type": "display_data"
    },
    {
     "name": "stdout",
     "output_type": "stream",
     "text": [
      "/uufs/chpc.utah.edu/common/home/civil-group1/Johnson/SWEMLv2.0/data/TrainingDFs/2023/1000M_Resolution/Obsdf/20230421_ObsDF.parquet\n",
      "Site processing complete, adding observtional data to 20230416 df...\n"
     ]
    },
    {
     "data": {
      "application/vnd.jupyter.widget-view+json": {
       "model_id": "ada3dec03f524949ace2aae1ff2b45f1",
       "version_major": 2,
       "version_minor": 0
      },
      "text/plain": [
       "  0%|          | 0/2113 [00:00<?, ?it/s]"
      ]
     },
     "metadata": {},
     "output_type": "display_data"
    },
    {
     "name": "stdout",
     "output_type": "stream",
     "text": [
      "Site processing complete, adding observtional data to 20230526 df...\n"
     ]
    },
    {
     "data": {
      "application/vnd.jupyter.widget-view+json": {
       "model_id": "220a36f715104dd888be6ac696ee2e56",
       "version_major": 2,
       "version_minor": 0
      },
      "text/plain": [
       "  0%|          | 0/2113 [00:00<?, ?it/s]"
      ]
     },
     "metadata": {},
     "output_type": "display_data"
    },
    {
     "name": "stdout",
     "output_type": "stream",
     "text": [
      "/uufs/chpc.utah.edu/common/home/civil-group1/Johnson/SWEMLv2.0/data/TrainingDFs/2023/1000M_Resolution/Obsdf/20230522_ObsDF.parquet\n",
      "Site processing complete, adding observtional data to 20230521 df...\n"
     ]
    },
    {
     "data": {
      "application/vnd.jupyter.widget-view+json": {
       "model_id": "ae614cfa46f1496eb7011156c85d18af",
       "version_major": 2,
       "version_minor": 0
      },
      "text/plain": [
       "  0%|          | 0/903 [00:00<?, ?it/s]"
      ]
     },
     "metadata": {},
     "output_type": "display_data"
    },
    {
     "name": "stdout",
     "output_type": "stream",
     "text": [
      "/uufs/chpc.utah.edu/common/home/civil-group1/Johnson/SWEMLv2.0/data/TrainingDFs/2023/1000M_Resolution/Obsdf/20230316_ObsDF.parquet\n",
      "/uufs/chpc.utah.edu/common/home/civil-group1/Johnson/SWEMLv2.0/data/TrainingDFs/2023/1000M_Resolution/Obsdf/20230528_ObsDF.parquet\n",
      "Site processing complete, adding observtional data to 20230523 df...\n"
     ]
    },
    {
     "data": {
      "application/vnd.jupyter.widget-view+json": {
       "model_id": "3c851b05e9bd4333a979c4a738937448",
       "version_major": 2,
       "version_minor": 0
      },
      "text/plain": [
       "  0%|          | 0/896 [00:00<?, ?it/s]"
      ]
     },
     "metadata": {},
     "output_type": "display_data"
    },
    {
     "name": "stdout",
     "output_type": "stream",
     "text": [
      "/uufs/chpc.utah.edu/common/home/civil-group1/Johnson/SWEMLv2.0/data/TrainingDFs/2023/1000M_Resolution/Obsdf/20230411_ObsDF.parquet\n",
      "/uufs/chpc.utah.edu/common/home/civil-group1/Johnson/SWEMLv2.0/data/TrainingDFs/2023/1000M_Resolution/Obsdf/20230212_ObsDF.parquet\n",
      "Site processing complete, adding observtional data to 20230401 df...\n",
      "Site processing complete, adding observtional data to 20230409 df...\n"
     ]
    },
    {
     "data": {
      "application/vnd.jupyter.widget-view+json": {
       "model_id": "eeba4080ec5f426391ce7bac31686c28",
       "version_major": 2,
       "version_minor": 0
      },
      "text/plain": [
       "  0%|          | 0/3050 [00:00<?, ?it/s]"
      ]
     },
     "metadata": {},
     "output_type": "display_data"
    },
    {
     "data": {
      "application/vnd.jupyter.widget-view+json": {
       "model_id": "44014e8c86414a27b563d165827d40d9",
       "version_major": 2,
       "version_minor": 0
      },
      "text/plain": [
       "  0%|          | 0/899 [00:00<?, ?it/s]"
      ]
     },
     "metadata": {},
     "output_type": "display_data"
    },
    {
     "name": "stdout",
     "output_type": "stream",
     "text": [
      "Site processing complete, adding observtional data to 20230511 df...\n"
     ]
    },
    {
     "data": {
      "application/vnd.jupyter.widget-view+json": {
       "model_id": "e689e649189c4a8fb05819798462d5ac",
       "version_major": 2,
       "version_minor": 0
      },
      "text/plain": [
       "  0%|          | 0/3050 [00:00<?, ?it/s]"
      ]
     },
     "metadata": {},
     "output_type": "display_data"
    },
    {
     "name": "stdout",
     "output_type": "stream",
     "text": [
      "/uufs/chpc.utah.edu/common/home/civil-group1/Johnson/SWEMLv2.0/data/TrainingDFs/2023/1000M_Resolution/Obsdf/20230521_ObsDF.parquet\n",
      "Site processing complete, adding observtional data to 20230608 df...\n",
      "/uufs/chpc.utah.edu/common/home/civil-group1/Johnson/SWEMLv2.0/data/TrainingDFs/2023/1000M_Resolution/Obsdf/20230528_ObsDF.parquet\n"
     ]
    },
    {
     "data": {
      "application/vnd.jupyter.widget-view+json": {
       "model_id": "9fff9ca2b7c94e33994be9e220c62f69",
       "version_major": 2,
       "version_minor": 0
      },
      "text/plain": [
       "  0%|          | 0/3052 [00:00<?, ?it/s]"
      ]
     },
     "metadata": {},
     "output_type": "display_data"
    },
    {
     "name": "stdout",
     "output_type": "stream",
     "text": [
      "Site processing complete, adding observtional data to 20230124 df...\n"
     ]
    },
    {
     "data": {
      "application/vnd.jupyter.widget-view+json": {
       "model_id": "4ede631a7d3c46ec958d25031a7f958d",
       "version_major": 2,
       "version_minor": 0
      },
      "text/plain": [
       "  0%|          | 0/3649 [00:00<?, ?it/s]"
      ]
     },
     "metadata": {},
     "output_type": "display_data"
    },
    {
     "name": "stdout",
     "output_type": "stream",
     "text": [
      "/uufs/chpc.utah.edu/common/home/civil-group1/Johnson/SWEMLv2.0/data/TrainingDFs/2023/1000M_Resolution/Obsdf/20230523_ObsDF.parquet\n",
      "/uufs/chpc.utah.edu/common/home/civil-group1/Johnson/SWEMLv2.0/data/TrainingDFs/2023/1000M_Resolution/Obsdf/20230416_ObsDF.parquet\n",
      "Site processing complete, adding observtional data to 20230302 df...\n"
     ]
    },
    {
     "data": {
      "application/vnd.jupyter.widget-view+json": {
       "model_id": "cb0591eaaf8e4aea9a3f62d107f9b51d",
       "version_major": 2,
       "version_minor": 0
      },
      "text/plain": [
       "  0%|          | 0/3649 [00:00<?, ?it/s]"
      ]
     },
     "metadata": {},
     "output_type": "display_data"
    },
    {
     "name": "stdout",
     "output_type": "stream",
     "text": [
      "Site processing complete, adding observtional data to 20230316 df...\n"
     ]
    },
    {
     "data": {
      "application/vnd.jupyter.widget-view+json": {
       "model_id": "fd03a00a2cb1402dbe5484ea67e12bc1",
       "version_major": 2,
       "version_minor": 0
      },
      "text/plain": [
       "  0%|          | 0/3649 [00:00<?, ?it/s]"
      ]
     },
     "metadata": {},
     "output_type": "display_data"
    },
    {
     "name": "stdout",
     "output_type": "stream",
     "text": [
      "/uufs/chpc.utah.edu/common/home/civil-group1/Johnson/SWEMLv2.0/data/TrainingDFs/2023/1000M_Resolution/Obsdf/20230401_ObsDF.parquet\n",
      "/uufs/chpc.utah.edu/common/home/civil-group1/Johnson/SWEMLv2.0/data/TrainingDFs/2023/1000M_Resolution/Obsdf/20230428_ObsDF.parquet\n",
      "Site processing complete, adding observtional data to 20230427 df...\n",
      "/uufs/chpc.utah.edu/common/home/civil-group1/Johnson/SWEMLv2.0/data/TrainingDFs/2023/1000M_Resolution/Obsdf/20230526_ObsDF.parquet\n"
     ]
    },
    {
     "data": {
      "application/vnd.jupyter.widget-view+json": {
       "model_id": "b0ce763e1ef141888b1a7e9f66bbf0e7",
       "version_major": 2,
       "version_minor": 0
      },
      "text/plain": [
       "  0%|          | 0/3649 [00:00<?, ?it/s]"
      ]
     },
     "metadata": {},
     "output_type": "display_data"
    },
    {
     "name": "stdout",
     "output_type": "stream",
     "text": [
      "Site processing complete, adding observtional data to 20230601 df...\n"
     ]
    },
    {
     "data": {
      "application/vnd.jupyter.widget-view+json": {
       "model_id": "e8047659f8744f17b88e54c4020b19d2",
       "version_major": 2,
       "version_minor": 0
      },
      "text/plain": [
       "  0%|          | 0/3649 [00:00<?, ?it/s]"
      ]
     },
     "metadata": {},
     "output_type": "display_data"
    },
    {
     "name": "stdout",
     "output_type": "stream",
     "text": [
      "Site processing complete, adding observtional data to 20230626 df...\n"
     ]
    },
    {
     "data": {
      "application/vnd.jupyter.widget-view+json": {
       "model_id": "41a72018cf6142c7810724969933cab4",
       "version_major": 2,
       "version_minor": 0
      },
      "text/plain": [
       "  0%|          | 0/3649 [00:00<?, ?it/s]"
      ]
     },
     "metadata": {},
     "output_type": "display_data"
    },
    {
     "name": "stdout",
     "output_type": "stream",
     "text": [
      "/uufs/chpc.utah.edu/common/home/civil-group1/Johnson/SWEMLv2.0/data/TrainingDFs/2023/1000M_Resolution/Obsdf/20230618_ObsDF.parquet\n",
      "Site processing complete, adding observtional data to 20230527 df...\n"
     ]
    },
    {
     "data": {
      "application/vnd.jupyter.widget-view+json": {
       "model_id": "dc67743c64b5418c85a49d3cf7a516f6",
       "version_major": 2,
       "version_minor": 0
      },
      "text/plain": [
       "  0%|          | 0/475 [00:00<?, ?it/s]"
      ]
     },
     "metadata": {},
     "output_type": "display_data"
    },
    {
     "name": "stdout",
     "output_type": "stream",
     "text": [
      "/uufs/chpc.utah.edu/common/home/civil-group1/Johnson/SWEMLv2.0/data/TrainingDFs/2023/1000M_Resolution/Obsdf/20230409_ObsDF.parquet\n",
      "/uufs/chpc.utah.edu/common/home/civil-group1/Johnson/SWEMLv2.0/data/TrainingDFs/2023/1000M_Resolution/Obsdf/20230425_ObsDF.parquet\n",
      "Site processing complete, adding observtional data to 20230615 df...\n",
      "Site processing complete, adding observtional data to 20230702 df...\n",
      "/uufs/chpc.utah.edu/common/home/civil-group1/Johnson/SWEMLv2.0/data/TrainingDFs/2023/1000M_Resolution/Obsdf/20230206_ObsDF.parquet\n"
     ]
    },
    {
     "data": {
      "application/vnd.jupyter.widget-view+json": {
       "model_id": "bd85b377285f4b68a66dee302b7ed15f",
       "version_major": 2,
       "version_minor": 0
      },
      "text/plain": [
       "  0%|          | 0/474 [00:00<?, ?it/s]"
      ]
     },
     "metadata": {},
     "output_type": "display_data"
    },
    {
     "data": {
      "application/vnd.jupyter.widget-view+json": {
       "model_id": "4db3ea7e9bb9448f92ca737bac3d82c8",
       "version_major": 2,
       "version_minor": 0
      },
      "text/plain": [
       "  0%|          | 0/474 [00:00<?, ?it/s]"
      ]
     },
     "metadata": {},
     "output_type": "display_data"
    },
    {
     "name": "stdout",
     "output_type": "stream",
     "text": [
      "/uufs/chpc.utah.edu/common/home/civil-group1/Johnson/SWEMLv2.0/data/TrainingDFs/2023/1000M_Resolution/Obsdf/20230130_ObsDF.parquet\n",
      "Site processing complete, adding observtional data to 20230208 df...\n"
     ]
    },
    {
     "data": {
      "application/vnd.jupyter.widget-view+json": {
       "model_id": "f8877991bec743138784a2dd469dde07",
       "version_major": 2,
       "version_minor": 0
      },
      "text/plain": [
       "  0%|          | 0/5005 [00:00<?, ?it/s]"
      ]
     },
     "metadata": {},
     "output_type": "display_data"
    },
    {
     "name": "stdout",
     "output_type": "stream",
     "text": [
      "/uufs/chpc.utah.edu/common/home/civil-group1/Johnson/SWEMLv2.0/data/TrainingDFs/2023/1000M_Resolution/Obsdf/20230511_ObsDF.parquet\n",
      "/uufs/chpc.utah.edu/common/home/civil-group1/Johnson/SWEMLv2.0/data/TrainingDFs/2023/1000M_Resolution/Obsdf/20230413_ObsDF.parquet\n",
      "Site processing complete, adding observtional data to 20230415 df...\n"
     ]
    },
    {
     "data": {
      "application/vnd.jupyter.widget-view+json": {
       "model_id": "a0431bd93d674c3190a7cccb501a7855",
       "version_major": 2,
       "version_minor": 0
      },
      "text/plain": [
       "  0%|          | 0/5004 [00:00<?, ?it/s]"
      ]
     },
     "metadata": {},
     "output_type": "display_data"
    },
    {
     "name": "stdout",
     "output_type": "stream",
     "text": [
      "Site processing complete, adding observtional data to 20230416 df...\n"
     ]
    },
    {
     "data": {
      "application/vnd.jupyter.widget-view+json": {
       "model_id": "8f74a5319a79484b89f0b5c2e94a4518",
       "version_major": 2,
       "version_minor": 0
      },
      "text/plain": [
       "  0%|          | 0/2615 [00:00<?, ?it/s]"
      ]
     },
     "metadata": {},
     "output_type": "display_data"
    },
    {
     "name": "stdout",
     "output_type": "stream",
     "text": [
      "Site processing complete, adding observtional data to 20230513 df...\n"
     ]
    },
    {
     "data": {
      "application/vnd.jupyter.widget-view+json": {
       "model_id": "cfab5b6952934187a541356546a7442a",
       "version_major": 2,
       "version_minor": 0
      },
      "text/plain": [
       "  0%|          | 0/5004 [00:00<?, ?it/s]"
      ]
     },
     "metadata": {},
     "output_type": "display_data"
    },
    {
     "name": "stdout",
     "output_type": "stream",
     "text": [
      "/uufs/chpc.utah.edu/common/home/civil-group1/Johnson/SWEMLv2.0/data/TrainingDFs/2023/1000M_Resolution/Obsdf/20230510_ObsDF.parquet\n",
      "Site processing complete, adding observtional data to 20230128 df...\n",
      "Site processing complete, adding observtional data to 20230527 df...\n"
     ]
    },
    {
     "data": {
      "application/vnd.jupyter.widget-view+json": {
       "model_id": "ed9873560bb94cdf976606ecc6133866",
       "version_major": 2,
       "version_minor": 0
      },
      "text/plain": [
       "  0%|          | 0/2826 [00:00<?, ?it/s]"
      ]
     },
     "metadata": {},
     "output_type": "display_data"
    },
    {
     "data": {
      "application/vnd.jupyter.widget-view+json": {
       "model_id": "ded596210634418abf1ec8c85fbc2b7e",
       "version_major": 2,
       "version_minor": 0
      },
      "text/plain": [
       "  0%|          | 0/2615 [00:00<?, ?it/s]"
      ]
     },
     "metadata": {},
     "output_type": "display_data"
    },
    {
     "name": "stdout",
     "output_type": "stream",
     "text": [
      "Site processing complete, adding observtional data to 20230405 df...\n"
     ]
    },
    {
     "data": {
      "application/vnd.jupyter.widget-view+json": {
       "model_id": "c6e969149d27494eab1a7be76b6b88eb",
       "version_major": 2,
       "version_minor": 0
      },
      "text/plain": [
       "  0%|          | 0/2826 [00:00<?, ?it/s]"
      ]
     },
     "metadata": {},
     "output_type": "display_data"
    },
    {
     "name": "stdout",
     "output_type": "stream",
     "text": [
      "Site processing complete, adding observtional data to 20230426 df...\n"
     ]
    },
    {
     "data": {
      "application/vnd.jupyter.widget-view+json": {
       "model_id": "a5e68f49d27f4c299e9968d0ab5f5394",
       "version_major": 2,
       "version_minor": 0
      },
      "text/plain": [
       "  0%|          | 0/2826 [00:00<?, ?it/s]"
      ]
     },
     "metadata": {},
     "output_type": "display_data"
    },
    {
     "name": "stdout",
     "output_type": "stream",
     "text": [
      "/uufs/chpc.utah.edu/common/home/civil-group1/Johnson/SWEMLv2.0/data/TrainingDFs/2023/1000M_Resolution/Obsdf/20230409_ObsDF.parquet\n",
      "/uufs/chpc.utah.edu/common/home/civil-group1/Johnson/SWEMLv2.0/data/TrainingDFs/2023/1000M_Resolution/Obsdf/20230511_ObsDF.parquet\n",
      "/uufs/chpc.utah.edu/common/home/civil-group1/Johnson/SWEMLv2.0/data/TrainingDFs/2023/1000M_Resolution/Obsdf/20230209_ObsDF.parquet\n",
      "Site processing complete, adding observtional data to 20230625 df...\n"
     ]
    },
    {
     "data": {
      "application/vnd.jupyter.widget-view+json": {
       "model_id": "5b583d26517142e2a886e3e6bc182980",
       "version_major": 2,
       "version_minor": 0
      },
      "text/plain": [
       "  0%|          | 0/2826 [00:00<?, ?it/s]"
      ]
     },
     "metadata": {},
     "output_type": "display_data"
    },
    {
     "name": "stdout",
     "output_type": "stream",
     "text": [
      "/uufs/chpc.utah.edu/common/home/civil-group1/Johnson/SWEMLv2.0/data/TrainingDFs/2023/1000M_Resolution/Obsdf/20230608_ObsDF.parquet\n",
      "Site processing complete, adding observtional data to 20230531 df...\n"
     ]
    },
    {
     "data": {
      "application/vnd.jupyter.widget-view+json": {
       "model_id": "8d138d44e3d64fd492b6ebed10e12a3b",
       "version_major": 2,
       "version_minor": 0
      },
      "text/plain": [
       "  0%|          | 0/2826 [00:00<?, ?it/s]"
      ]
     },
     "metadata": {},
     "output_type": "display_data"
    },
    {
     "name": "stdout",
     "output_type": "stream",
     "text": [
      "/uufs/chpc.utah.edu/common/home/civil-group1/Johnson/SWEMLv2.0/data/TrainingDFs/2023/1000M_Resolution/Obsdf/20230515_ObsDF.parquet\n",
      "/uufs/chpc.utah.edu/common/home/civil-group1/Johnson/SWEMLv2.0/data/TrainingDFs/2023/1000M_Resolution/Obsdf/20230317_ObsDF.parquet\n",
      "/uufs/chpc.utah.edu/common/home/civil-group1/Johnson/SWEMLv2.0/data/TrainingDFs/2023/1000M_Resolution/Obsdf/20230424_ObsDF.parquet\n",
      "/uufs/chpc.utah.edu/common/home/civil-group1/Johnson/SWEMLv2.0/data/TrainingDFs/2023/1000M_Resolution/Obsdf/20230124_ObsDF.parquet\n",
      "/uufs/chpc.utah.edu/common/home/civil-group1/Johnson/SWEMLv2.0/data/TrainingDFs/2023/1000M_Resolution/Obsdf/20230416_ObsDF.parquet\n",
      "/uufs/chpc.utah.edu/common/home/civil-group1/Johnson/SWEMLv2.0/data/TrainingDFs/2023/1000M_Resolution/Obsdf/20230527_ObsDF.parquet\n",
      "/uufs/chpc.utah.edu/common/home/civil-group1/Johnson/SWEMLv2.0/data/TrainingDFs/2023/1000M_Resolution/Obsdf/20230302_ObsDF.parquet\n",
      "/uufs/chpc.utah.edu/common/home/civil-group1/Johnson/SWEMLv2.0/data/TrainingDFs/2023/1000M_Resolution/Obsdf/20230316_ObsDF.parquet\n",
      "/uufs/chpc.utah.edu/common/home/civil-group1/Johnson/SWEMLv2.0/data/TrainingDFs/2023/1000M_Resolution/Obsdf/20230128_ObsDF.parquet\n",
      "/uufs/chpc.utah.edu/common/home/civil-group1/Johnson/SWEMLv2.0/data/TrainingDFs/2023/1000M_Resolution/Obsdf/20230427_ObsDF.parquet\n",
      "/uufs/chpc.utah.edu/common/home/civil-group1/Johnson/SWEMLv2.0/data/TrainingDFs/2023/1000M_Resolution/Obsdf/20230405_ObsDF.parquet\n",
      "/uufs/chpc.utah.edu/common/home/civil-group1/Johnson/SWEMLv2.0/data/TrainingDFs/2023/1000M_Resolution/Obsdf/20230414_ObsDF.parquet\n",
      "/uufs/chpc.utah.edu/common/home/civil-group1/Johnson/SWEMLv2.0/data/TrainingDFs/2023/1000M_Resolution/Obsdf/20230626_ObsDF.parquet\n",
      "/uufs/chpc.utah.edu/common/home/civil-group1/Johnson/SWEMLv2.0/data/TrainingDFs/2023/1000M_Resolution/Obsdf/20230426_ObsDF.parquet\n",
      "/uufs/chpc.utah.edu/common/home/civil-group1/Johnson/SWEMLv2.0/data/TrainingDFs/2023/1000M_Resolution/Obsdf/20230601_ObsDF.parquet\n",
      "/uufs/chpc.utah.edu/common/home/civil-group1/Johnson/SWEMLv2.0/data/TrainingDFs/2023/1000M_Resolution/Obsdf/20230625_ObsDF.parquet\n",
      "/uufs/chpc.utah.edu/common/home/civil-group1/Johnson/SWEMLv2.0/data/TrainingDFs/2023/1000M_Resolution/Obsdf/20230531_ObsDF.parquet\n",
      "/uufs/chpc.utah.edu/common/home/civil-group1/Johnson/SWEMLv2.0/data/TrainingDFs/2023/1000M_Resolution/Obsdf/20230208_ObsDF.parquet\n",
      "/uufs/chpc.utah.edu/common/home/civil-group1/Johnson/SWEMLv2.0/data/TrainingDFs/2023/1000M_Resolution/Obsdf/20230415_ObsDF.parquet\n",
      "/uufs/chpc.utah.edu/common/home/civil-group1/Johnson/SWEMLv2.0/data/TrainingDFs/2023/1000M_Resolution/Obsdf/20230513_ObsDF.parquet\n",
      "Job complete for connecting SNOTEL obs to sites/dates\n",
      "2024\n",
      "Connecting site observations with nearest monitoring network obs\n",
      "Loading observations from 2013-2019\n",
      "Loading 1000M resolution grids for 2024 region\n",
      "Processing datetime component of SNOTEL observation dataframe\n",
      "Loading 70 processed ASO observations for the 2024 at 1000M resolution\n",
      "There are 70 aso dates in snotel obs\n",
      "There are 0 missing snotel obs\n",
      "Connecting 70 timesteps of observations for 2024\n"
     ]
    },
    {
     "name": "stderr",
     "output_type": "stream",
     "text": [
      "100%|██████████| 70/70 [00:00<00:00, 289.39it/s]"
     ]
    },
    {
     "name": "stdout",
     "output_type": "stream",
     "text": [
      "Site processing complete, adding observtional data to 20240211 df...\n"
     ]
    },
    {
     "data": {
      "application/vnd.jupyter.widget-view+json": {
       "model_id": "a165ece988094efea156584018c58848",
       "version_major": 2,
       "version_minor": 0
      },
      "text/plain": [
       "  0%|          | 0/4130 [00:00<?, ?it/s]"
      ]
     },
     "metadata": {},
     "output_type": "display_data"
    },
    {
     "name": "stderr",
     "output_type": "stream",
     "text": [
      "\n"
     ]
    },
    {
     "name": "stdout",
     "output_type": "stream",
     "text": [
      "Site processing complete, adding observtional data to 20240410 df...\n"
     ]
    },
    {
     "data": {
      "application/vnd.jupyter.widget-view+json": {
       "model_id": "730819d64c3d4ed1a8f3b565b56ee392",
       "version_major": 2,
       "version_minor": 0
      },
      "text/plain": [
       "  0%|          | 0/3900 [00:00<?, ?it/s]"
      ]
     },
     "metadata": {},
     "output_type": "display_data"
    },
    {
     "name": "stdout",
     "output_type": "stream",
     "text": [
      "Site processing complete, adding observtional data to 20240430 df...\n"
     ]
    },
    {
     "data": {
      "application/vnd.jupyter.widget-view+json": {
       "model_id": "f958407a7aba433b87b56ef0580eee00",
       "version_major": 2,
       "version_minor": 0
      },
      "text/plain": [
       "  0%|          | 0/3550 [00:00<?, ?it/s]"
      ]
     },
     "metadata": {},
     "output_type": "display_data"
    },
    {
     "name": "stdout",
     "output_type": "stream",
     "text": [
      "Site processing complete, adding observtional data to 20240421 df...\n"
     ]
    },
    {
     "data": {
      "application/vnd.jupyter.widget-view+json": {
       "model_id": "e83fdd8ea961400893846f5c13340eb3",
       "version_major": 2,
       "version_minor": 0
      },
      "text/plain": [
       "  0%|          | 0/1287 [00:00<?, ?it/s]"
      ]
     },
     "metadata": {},
     "output_type": "display_data"
    },
    {
     "name": "stdout",
     "output_type": "stream",
     "text": [
      "Site processing complete, adding observtional data to 20240425 df...\n"
     ]
    },
    {
     "data": {
      "application/vnd.jupyter.widget-view+json": {
       "model_id": "04cd5acc0a894e65878adab5231ceab6",
       "version_major": 2,
       "version_minor": 0
      },
      "text/plain": [
       "  0%|          | 0/1083 [00:00<?, ?it/s]"
      ]
     },
     "metadata": {},
     "output_type": "display_data"
    },
    {
     "name": "stdout",
     "output_type": "stream",
     "text": [
      "Site processing complete, adding observtional data to 20240605 df...\n"
     ]
    },
    {
     "data": {
      "application/vnd.jupyter.widget-view+json": {
       "model_id": "2687f919ed784a6dbe566541127ac812",
       "version_major": 2,
       "version_minor": 0
      },
      "text/plain": [
       "  0%|          | 0/1082 [00:00<?, ?it/s]"
      ]
     },
     "metadata": {},
     "output_type": "display_data"
    },
    {
     "name": "stdout",
     "output_type": "stream",
     "text": [
      "Site processing complete, adding observtional data to 20240502 df...\n"
     ]
    },
    {
     "data": {
      "application/vnd.jupyter.widget-view+json": {
       "model_id": "16955d8d01ec4f58a55a94e2543736b7",
       "version_major": 2,
       "version_minor": 0
      },
      "text/plain": [
       "  0%|          | 0/760 [00:00<?, ?it/s]"
      ]
     },
     "metadata": {},
     "output_type": "display_data"
    },
    {
     "name": "stdout",
     "output_type": "stream",
     "text": [
      "Site processing complete, adding observtional data to 20240222 df...\n"
     ]
    },
    {
     "data": {
      "application/vnd.jupyter.widget-view+json": {
       "model_id": "f7ae0867fb1e4ca491b4f469801436af",
       "version_major": 2,
       "version_minor": 0
      },
      "text/plain": [
       "  0%|          | 0/1873 [00:00<?, ?it/s]"
      ]
     },
     "metadata": {},
     "output_type": "display_data"
    },
    {
     "name": "stdout",
     "output_type": "stream",
     "text": [
      "Site processing complete, adding observtional data to 20240321 df...\n"
     ]
    },
    {
     "data": {
      "application/vnd.jupyter.widget-view+json": {
       "model_id": "539f0a19f9964a1abb68aef3353b91cf",
       "version_major": 2,
       "version_minor": 0
      },
      "text/plain": [
       "  0%|          | 0/1872 [00:00<?, ?it/s]"
      ]
     },
     "metadata": {},
     "output_type": "display_data"
    },
    {
     "name": "stdout",
     "output_type": "stream",
     "text": [
      "Site processing complete, adding observtional data to 20240417 df...\n"
     ]
    },
    {
     "data": {
      "application/vnd.jupyter.widget-view+json": {
       "model_id": "5e89fd4c5f2d48b2ace5a5958d8b12ca",
       "version_major": 2,
       "version_minor": 0
      },
      "text/plain": [
       "  0%|          | 0/1873 [00:00<?, ?it/s]"
      ]
     },
     "metadata": {},
     "output_type": "display_data"
    },
    {
     "name": "stdout",
     "output_type": "stream",
     "text": [
      "Site processing complete, adding observtional data to 20240516 df...\n"
     ]
    },
    {
     "data": {
      "application/vnd.jupyter.widget-view+json": {
       "model_id": "c84f484c1b35439a99cfa6dfe6e82847",
       "version_major": 2,
       "version_minor": 0
      },
      "text/plain": [
       "  0%|          | 0/1873 [00:00<?, ?it/s]"
      ]
     },
     "metadata": {},
     "output_type": "display_data"
    },
    {
     "name": "stdout",
     "output_type": "stream",
     "text": [
      "Site processing complete, adding observtional data to 20240607 df...\n"
     ]
    },
    {
     "data": {
      "application/vnd.jupyter.widget-view+json": {
       "model_id": "e7820dc92a0c455597378c1a8a2f2e95",
       "version_major": 2,
       "version_minor": 0
      },
      "text/plain": [
       "  0%|          | 0/1849 [00:00<?, ?it/s]"
      ]
     },
     "metadata": {},
     "output_type": "display_data"
    },
    {
     "name": "stdout",
     "output_type": "stream",
     "text": [
      "Site processing complete, adding observtional data to 20240502 df...\n"
     ]
    },
    {
     "data": {
      "application/vnd.jupyter.widget-view+json": {
       "model_id": "69849b60f2ad425d8851a60b5f8164e1",
       "version_major": 2,
       "version_minor": 0
      },
      "text/plain": [
       "  0%|          | 0/1317 [00:00<?, ?it/s]"
      ]
     },
     "metadata": {},
     "output_type": "display_data"
    },
    {
     "name": "stdout",
     "output_type": "stream",
     "text": [
      "Site processing complete, adding observtional data to 20240402 df...\n"
     ]
    },
    {
     "data": {
      "application/vnd.jupyter.widget-view+json": {
       "model_id": "6fdb0201d2fc421b88114540e6d85f91",
       "version_major": 2,
       "version_minor": 0
      },
      "text/plain": [
       "  0%|          | 0/903 [00:00<?, ?it/s]"
      ]
     },
     "metadata": {},
     "output_type": "display_data"
    },
    {
     "name": "stdout",
     "output_type": "stream",
     "text": [
      "Site processing complete, adding observtional data to 20240404 df...\n"
     ]
    },
    {
     "data": {
      "application/vnd.jupyter.widget-view+json": {
       "model_id": "ad9f1b95ebfa4d3bb023f51681709785",
       "version_major": 2,
       "version_minor": 0
      },
      "text/plain": [
       "  0%|          | 0/1638 [00:00<?, ?it/s]"
      ]
     },
     "metadata": {},
     "output_type": "display_data"
    },
    {
     "name": "stdout",
     "output_type": "stream",
     "text": [
      "Site processing complete, adding observtional data to 20240430 df...\n"
     ]
    },
    {
     "data": {
      "application/vnd.jupyter.widget-view+json": {
       "model_id": "1726b5525dea42adadde28a2226629b0",
       "version_major": 2,
       "version_minor": 0
      },
      "text/plain": [
       "  0%|          | 0/1582 [00:00<?, ?it/s]"
      ]
     },
     "metadata": {},
     "output_type": "display_data"
    },
    {
     "name": "stdout",
     "output_type": "stream",
     "text": [
      "Site processing complete, adding observtional data to 20240403 df...\n"
     ]
    },
    {
     "data": {
      "application/vnd.jupyter.widget-view+json": {
       "model_id": "55b40d741c8a4349adaab5cd25122b52",
       "version_major": 2,
       "version_minor": 0
      },
      "text/plain": [
       "  0%|          | 0/957 [00:00<?, ?it/s]"
      ]
     },
     "metadata": {},
     "output_type": "display_data"
    },
    {
     "name": "stdout",
     "output_type": "stream",
     "text": [
      "Site processing complete, adding observtional data to 20240222 df...\n"
     ]
    },
    {
     "data": {
      "application/vnd.jupyter.widget-view+json": {
       "model_id": "97c99d3b5b924774a2c7002e6fe5c9cb",
       "version_major": 2,
       "version_minor": 0
      },
      "text/plain": [
       "  0%|          | 0/10655 [00:00<?, ?it/s]"
      ]
     },
     "metadata": {},
     "output_type": "display_data"
    },
    {
     "name": "stdout",
     "output_type": "stream",
     "text": [
      "Site processing complete, adding observtional data to 20240315 df...\n"
     ]
    },
    {
     "data": {
      "application/vnd.jupyter.widget-view+json": {
       "model_id": "4d35e3ec7cb042398e9399a9c5d58e87",
       "version_major": 2,
       "version_minor": 0
      },
      "text/plain": [
       "  0%|          | 0/10655 [00:00<?, ?it/s]"
      ]
     },
     "metadata": {},
     "output_type": "display_data"
    },
    {
     "name": "stdout",
     "output_type": "stream",
     "text": [
      "Site processing complete, adding observtional data to 20240416 df...\n",
      "\n"
     ]
    },
    {
     "data": {
      "application/vnd.jupyter.widget-view+json": {
       "model_id": "6365bcc045e444068db799731ab358db",
       "version_major": 2,
       "version_minor": 0
      },
      "text/plain": [
       "  0%|          | 0/10655 [00:00<?, ?it/s]"
      ]
     },
     "metadata": {},
     "output_type": "display_data"
    },
    {
     "name": "stdout",
     "output_type": "stream",
     "text": [
      "Site processing complete, adding observtional data to 20240513 df...Site processing complete, adding observtional data to 20240211 df...\n"
     ]
    },
    {
     "data": {
      "application/vnd.jupyter.widget-view+json": {
       "model_id": "154ee0662f884218b1aef83dade359ab",
       "version_major": 2,
       "version_minor": 0
      },
      "text/plain": [
       "  0%|          | 0/1685 [00:00<?, ?it/s]"
      ]
     },
     "metadata": {},
     "output_type": "display_data"
    },
    {
     "data": {
      "application/vnd.jupyter.widget-view+json": {
       "model_id": "2ef4753e704d43608209daa26f40f30b",
       "version_major": 2,
       "version_minor": 0
      },
      "text/plain": [
       "  0%|          | 0/10654 [00:00<?, ?it/s]"
      ]
     },
     "metadata": {},
     "output_type": "display_data"
    },
    {
     "name": "stdout",
     "output_type": "stream",
     "text": [
      "/uufs/chpc.utah.edu/common/home/civil-group1/Johnson/SWEMLv2.0/data/TrainingDFs/2024/1000M_Resolution/Obsdf/20240502_ObsDF.parquet\n",
      "/uufs/chpc.utah.edu/common/home/civil-group1/Johnson/SWEMLv2.0/data/TrainingDFs/2024/1000M_Resolution/Obsdf/20240605_ObsDF.parquet\n",
      "Site processing complete, adding observtional data to 20240403 df...\n"
     ]
    },
    {
     "data": {
      "application/vnd.jupyter.widget-view+json": {
       "model_id": "333e6aafdf60446387742a1e2419d970",
       "version_major": 2,
       "version_minor": 0
      },
      "text/plain": [
       "  0%|          | 0/1792 [00:00<?, ?it/s]"
      ]
     },
     "metadata": {},
     "output_type": "display_data"
    },
    {
     "name": "stdout",
     "output_type": "stream",
     "text": [
      "/uufs/chpc.utah.edu/common/home/civil-group1/Johnson/SWEMLv2.0/data/TrainingDFs/2024/1000M_Resolution/Obsdf/20240425_ObsDF.parquet\n",
      "Site processing complete, adding observtional data to 20240428 df...\n",
      "/uufs/chpc.utah.edu/common/home/civil-group1/Johnson/SWEMLv2.0/data/TrainingDFs/2024/1000M_Resolution/Obsdf/20240402_ObsDF.parquet\n"
     ]
    },
    {
     "data": {
      "application/vnd.jupyter.widget-view+json": {
       "model_id": "3c65b6afad214913970ab4e23ba28614",
       "version_major": 2,
       "version_minor": 0
      },
      "text/plain": [
       "  0%|          | 0/1621 [00:00<?, ?it/s]"
      ]
     },
     "metadata": {},
     "output_type": "display_data"
    },
    {
     "name": "stdout",
     "output_type": "stream",
     "text": [
      "Site processing complete, adding observtional data to 20240520 df...\n"
     ]
    },
    {
     "data": {
      "application/vnd.jupyter.widget-view+json": {
       "model_id": "9cfedc85e4b4477b8e7774876962874a",
       "version_major": 2,
       "version_minor": 0
      },
      "text/plain": [
       "  0%|          | 0/1722 [00:00<?, ?it/s]"
      ]
     },
     "metadata": {},
     "output_type": "display_data"
    },
    {
     "name": "stdout",
     "output_type": "stream",
     "text": [
      "Site processing complete, adding observtional data to 20240210 df...\n"
     ]
    },
    {
     "data": {
      "application/vnd.jupyter.widget-view+json": {
       "model_id": "f4551f065cb44de295fdebed1ffbf0ca",
       "version_major": 2,
       "version_minor": 0
      },
      "text/plain": [
       "  0%|          | 0/5133 [00:00<?, ?it/s]"
      ]
     },
     "metadata": {},
     "output_type": "display_data"
    },
    {
     "name": "stdout",
     "output_type": "stream",
     "text": [
      "/uufs/chpc.utah.edu/common/home/civil-group1/Johnson/SWEMLv2.0/data/TrainingDFs/2024/1000M_Resolution/Obsdf/20240403_ObsDF.parquet\n",
      "Site processing complete, adding observtional data to 20240411 df...\n",
      "/uufs/chpc.utah.edu/common/home/civil-group1/Johnson/SWEMLv2.0/data/TrainingDFs/2024/1000M_Resolution/Obsdf/20240421_ObsDF.parquet\n"
     ]
    },
    {
     "data": {
      "application/vnd.jupyter.widget-view+json": {
       "model_id": "6408a2fdc425473b849736524cbb8aea",
       "version_major": 2,
       "version_minor": 0
      },
      "text/plain": [
       "  0%|          | 0/3515 [00:00<?, ?it/s]"
      ]
     },
     "metadata": {},
     "output_type": "display_data"
    },
    {
     "name": "stdout",
     "output_type": "stream",
     "text": [
      "Site processing complete, adding observtional data to 20240508 df...\n"
     ]
    },
    {
     "data": {
      "application/vnd.jupyter.widget-view+json": {
       "model_id": "fb1a7c3c23404ec6b27e3eb36b305828",
       "version_major": 2,
       "version_minor": 0
      },
      "text/plain": [
       "  0%|          | 0/5076 [00:00<?, ?it/s]"
      ]
     },
     "metadata": {},
     "output_type": "display_data"
    },
    {
     "name": "stdout",
     "output_type": "stream",
     "text": [
      "/uufs/chpc.utah.edu/common/home/civil-group1/Johnson/SWEMLv2.0/data/TrainingDFs/2024/1000M_Resolution/Obsdf/20240502_ObsDF.parquet\n",
      "Site processing complete, adding observtional data to 20240127 df...\n"
     ]
    },
    {
     "data": {
      "application/vnd.jupyter.widget-view+json": {
       "model_id": "6b756656aa474723b2eb044d582ce83e",
       "version_major": 2,
       "version_minor": 0
      },
      "text/plain": [
       "  0%|          | 0/3716 [00:00<?, ?it/s]"
      ]
     },
     "metadata": {},
     "output_type": "display_data"
    },
    {
     "name": "stdout",
     "output_type": "stream",
     "text": [
      "/uufs/chpc.utah.edu/common/home/civil-group1/Johnson/SWEMLv2.0/data/TrainingDFs/2024/1000M_Resolution/Obsdf/20240222_ObsDF.parquet\n",
      "Site processing complete, adding observtional data to 20240308 df...\n"
     ]
    },
    {
     "data": {
      "application/vnd.jupyter.widget-view+json": {
       "model_id": "4beb36f6b77747daa657bfc1bc273361",
       "version_major": 2,
       "version_minor": 0
      },
      "text/plain": [
       "  0%|          | 0/5178 [00:00<?, ?it/s]"
      ]
     },
     "metadata": {},
     "output_type": "display_data"
    },
    {
     "name": "stdout",
     "output_type": "stream",
     "text": [
      "/uufs/chpc.utah.edu/common/home/civil-group1/Johnson/SWEMLv2.0/data/TrainingDFs/2024/1000M_Resolution/Obsdf/20240417_ObsDF.parquet\n",
      "/uufs/chpc.utah.edu/common/home/civil-group1/Johnson/SWEMLv2.0/data/TrainingDFs/2024/1000M_Resolution/Obsdf/20240321_ObsDF.parquet\n",
      "/uufs/chpc.utah.edu/common/home/civil-group1/Johnson/SWEMLv2.0/data/TrainingDFs/2024/1000M_Resolution/Obsdf/20240516_ObsDF.parquet\n",
      "Site processing complete, adding observtional data to 20240410 df...\n"
     ]
    },
    {
     "data": {
      "application/vnd.jupyter.widget-view+json": {
       "model_id": "2dd0aef5656845b5b78292c608797b30",
       "version_major": 2,
       "version_minor": 0
      },
      "text/plain": [
       "  0%|          | 0/5046 [00:00<?, ?it/s]"
      ]
     },
     "metadata": {},
     "output_type": "display_data"
    },
    {
     "name": "stdout",
     "output_type": "stream",
     "text": [
      "/uufs/chpc.utah.edu/common/home/civil-group1/Johnson/SWEMLv2.0/data/TrainingDFs/2024/1000M_Resolution/Obsdf/20240607_ObsDF.parquet\n",
      "Site processing complete, adding observtional data to 20240427 df...\n",
      "/uufs/chpc.utah.edu/common/home/civil-group1/Johnson/SWEMLv2.0/data/TrainingDFs/2024/1000M_Resolution/Obsdf/20240430_ObsDF.parquet\n"
     ]
    },
    {
     "data": {
      "application/vnd.jupyter.widget-view+json": {
       "model_id": "ce7d43ebad91456f8a4468ebf31960d4",
       "version_major": 2,
       "version_minor": 0
      },
      "text/plain": [
       "  0%|          | 0/5288 [00:00<?, ?it/s]"
      ]
     },
     "metadata": {},
     "output_type": "display_data"
    },
    {
     "name": "stdout",
     "output_type": "stream",
     "text": [
      "Site processing complete, adding observtional data to 20240212 df...\n",
      "Site processing complete, adding observtional data to 20240308 df...\n"
     ]
    },
    {
     "data": {
      "application/vnd.jupyter.widget-view+json": {
       "model_id": "6c4e4174f20b4b0f96606f73d22003b2",
       "version_major": 2,
       "version_minor": 0
      },
      "text/plain": [
       "  0%|          | 0/2234 [00:00<?, ?it/s]"
      ]
     },
     "metadata": {},
     "output_type": "display_data"
    },
    {
     "name": "stdout",
     "output_type": "stream",
     "text": [
      "/uufs/chpc.utah.edu/common/home/civil-group1/Johnson/SWEMLv2.0/data/TrainingDFs/2024/1000M_Resolution/Obsdf/20240404_ObsDF.parquet\n"
     ]
    },
    {
     "data": {
      "application/vnd.jupyter.widget-view+json": {
       "model_id": "034997f3d8f840589e31886272ce5c1e",
       "version_major": 2,
       "version_minor": 0
      },
      "text/plain": [
       "  0%|          | 0/2234 [00:00<?, ?it/s]"
      ]
     },
     "metadata": {},
     "output_type": "display_data"
    },
    {
     "name": "stdout",
     "output_type": "stream",
     "text": [
      "Site processing complete, adding observtional data to 20240409 df...\n"
     ]
    },
    {
     "data": {
      "application/vnd.jupyter.widget-view+json": {
       "model_id": "f0455910e6d64c788f3e3a603e3bf8d4",
       "version_major": 2,
       "version_minor": 0
      },
      "text/plain": [
       "  0%|          | 0/2235 [00:00<?, ?it/s]"
      ]
     },
     "metadata": {},
     "output_type": "display_data"
    },
    {
     "name": "stdout",
     "output_type": "stream",
     "text": [
      "Site processing complete, adding observtional data to 20240502 df...\n"
     ]
    },
    {
     "data": {
      "application/vnd.jupyter.widget-view+json": {
       "model_id": "2c2de124bf4b4ae5906aca4126d33950",
       "version_major": 2,
       "version_minor": 0
      },
      "text/plain": [
       "  0%|          | 0/2210 [00:00<?, ?it/s]"
      ]
     },
     "metadata": {},
     "output_type": "display_data"
    },
    {
     "name": "stdout",
     "output_type": "stream",
     "text": [
      "/uufs/chpc.utah.edu/common/home/civil-group1/Johnson/SWEMLv2.0/data/TrainingDFs/2024/1000M_Resolution/Obsdf/20240211_ObsDF.parquet\n",
      "Site processing complete, adding observtional data to 20240523 df...\n"
     ]
    },
    {
     "data": {
      "application/vnd.jupyter.widget-view+json": {
       "model_id": "b4fcca663028419cb61b52165090f6cc",
       "version_major": 2,
       "version_minor": 0
      },
      "text/plain": [
       "  0%|          | 0/1820 [00:00<?, ?it/s]"
      ]
     },
     "metadata": {},
     "output_type": "display_data"
    },
    {
     "name": "stdout",
     "output_type": "stream",
     "text": [
      "/uufs/chpc.utah.edu/common/home/civil-group1/Johnson/SWEMLv2.0/data/TrainingDFs/2024/1000M_Resolution/Obsdf/20240428_ObsDF.parquet\n",
      "Site processing complete, adding observtional data to 20240415 df...\n"
     ]
    },
    {
     "data": {
      "application/vnd.jupyter.widget-view+json": {
       "model_id": "52b92eb8c6604f1191607cf1eb1269c0",
       "version_major": 2,
       "version_minor": 0
      },
      "text/plain": [
       "  0%|          | 0/1318 [00:00<?, ?it/s]"
      ]
     },
     "metadata": {},
     "output_type": "display_data"
    },
    {
     "name": "stdout",
     "output_type": "stream",
     "text": [
      "/uufs/chpc.utah.edu/common/home/civil-group1/Johnson/SWEMLv2.0/data/TrainingDFs/2024/1000M_Resolution/Obsdf/20240403_ObsDF.parquet\n",
      "Site processing complete, adding observtional data to 20240409 df...\n"
     ]
    },
    {
     "data": {
      "application/vnd.jupyter.widget-view+json": {
       "model_id": "58b6b142f4c84d308200ce2c9ceb13b4",
       "version_major": 2,
       "version_minor": 0
      },
      "text/plain": [
       "  0%|          | 0/1966 [00:00<?, ?it/s]"
      ]
     },
     "metadata": {},
     "output_type": "display_data"
    },
    {
     "name": "stdout",
     "output_type": "stream",
     "text": [
      "/uufs/chpc.utah.edu/common/home/civil-group1/Johnson/SWEMLv2.0/data/TrainingDFs/2024/1000M_Resolution/Obsdf/20240520_ObsDF.parquet\n",
      "Site processing complete, adding observtional data to 20240522 df...\n"
     ]
    },
    {
     "data": {
      "application/vnd.jupyter.widget-view+json": {
       "model_id": "a1f954d52dae45fe85e45bafc6f5f7fe",
       "version_major": 2,
       "version_minor": 0
      },
      "text/plain": [
       "  0%|          | 0/1961 [00:00<?, ?it/s]"
      ]
     },
     "metadata": {},
     "output_type": "display_data"
    },
    {
     "name": "stdout",
     "output_type": "stream",
     "text": [
      "/uufs/chpc.utah.edu/common/home/civil-group1/Johnson/SWEMLv2.0/data/TrainingDFs/2024/1000M_Resolution/Obsdf/20240410_ObsDF.parquet\n",
      "/uufs/chpc.utah.edu/common/home/civil-group1/Johnson/SWEMLv2.0/data/TrainingDFs/2024/1000M_Resolution/Obsdf/20240415_ObsDF.parquet\n",
      "Site processing complete, adding observtional data to 20240222 df...\n"
     ]
    },
    {
     "data": {
      "application/vnd.jupyter.widget-view+json": {
       "model_id": "4174f3e0172043cf98f32992e9f090f0",
       "version_major": 2,
       "version_minor": 0
      },
      "text/plain": [
       "  0%|          | 0/4532 [00:00<?, ?it/s]"
      ]
     },
     "metadata": {},
     "output_type": "display_data"
    },
    {
     "name": "stdout",
     "output_type": "stream",
     "text": [
      "Site processing complete, adding observtional data to 20240127 df...\n"
     ]
    },
    {
     "data": {
      "application/vnd.jupyter.widget-view+json": {
       "model_id": "a92a10bea95a4465ae51a77cd808c5d7",
       "version_major": 2,
       "version_minor": 0
      },
      "text/plain": [
       "  0%|          | 0/4857 [00:00<?, ?it/s]"
      ]
     },
     "metadata": {},
     "output_type": "display_data"
    },
    {
     "name": "stdout",
     "output_type": "stream",
     "text": [
      "/uufs/chpc.utah.edu/common/home/civil-group1/Johnson/SWEMLv2.0/data/TrainingDFs/2024/1000M_Resolution/Obsdf/20240212_ObsDF.parquet\n",
      "/uufs/chpc.utah.edu/common/home/civil-group1/Johnson/SWEMLv2.0/data/TrainingDFs/2024/1000M_Resolution/Obsdf/20240308_ObsDF.parquet\n",
      "/uufs/chpc.utah.edu/common/home/civil-group1/Johnson/SWEMLv2.0/data/TrainingDFs/2024/1000M_Resolution/Obsdf/20240409_ObsDF.parquet\n",
      "/uufs/chpc.utah.edu/common/home/civil-group1/Johnson/SWEMLv2.0/data/TrainingDFs/2024/1000M_Resolution/Obsdf/20240430_ObsDF.parquet\n",
      "/uufs/chpc.utah.edu/common/home/civil-group1/Johnson/SWEMLv2.0/data/TrainingDFs/2024/1000M_Resolution/Obsdf/20240523_ObsDF.parquet\n",
      "Site processing complete, adding observtional data to 20240326 df...\n"
     ]
    },
    {
     "data": {
      "application/vnd.jupyter.widget-view+json": {
       "model_id": "9d88b52b70154c5cb5676c3c51684810",
       "version_major": 2,
       "version_minor": 0
      },
      "text/plain": [
       "  0%|          | 0/4858 [00:00<?, ?it/s]"
      ]
     },
     "metadata": {},
     "output_type": "display_data"
    },
    {
     "name": "stdout",
     "output_type": "stream",
     "text": [
      "Site processing complete, adding observtional data to 20240424 df...\n"
     ]
    },
    {
     "data": {
      "application/vnd.jupyter.widget-view+json": {
       "model_id": "fa103088a7304afe97ae6ce258ada55e",
       "version_major": 2,
       "version_minor": 0
      },
      "text/plain": [
       "  0%|          | 0/1118 [00:00<?, ?it/s]"
      ]
     },
     "metadata": {},
     "output_type": "display_data"
    },
    {
     "name": "stdout",
     "output_type": "stream",
     "text": [
      "Site processing complete, adding observtional data to 20240605 df...\n"
     ]
    },
    {
     "data": {
      "application/vnd.jupyter.widget-view+json": {
       "model_id": "81def7bc01d044058620a6b41357198c",
       "version_major": 2,
       "version_minor": 0
      },
      "text/plain": [
       "  0%|          | 0/1118 [00:00<?, ?it/s]"
      ]
     },
     "metadata": {},
     "output_type": "display_data"
    },
    {
     "name": "stdout",
     "output_type": "stream",
     "text": [
      "Site processing complete, adding observtional data to 20240429 df...\n"
     ]
    },
    {
     "data": {
      "application/vnd.jupyter.widget-view+json": {
       "model_id": "e7db8883e2f84d08abb0460abe1a0ef1",
       "version_major": 2,
       "version_minor": 0
      },
      "text/plain": [
       "  0%|          | 0/5215 [00:00<?, ?it/s]"
      ]
     },
     "metadata": {},
     "output_type": "display_data"
    },
    {
     "name": "stdout",
     "output_type": "stream",
     "text": [
      "Site processing complete, adding observtional data to 20240521 df...\n"
     ]
    },
    {
     "data": {
      "application/vnd.jupyter.widget-view+json": {
       "model_id": "d620b747ee634c29a989796fa5ebfa26",
       "version_major": 2,
       "version_minor": 0
      },
      "text/plain": [
       "  0%|          | 0/4990 [00:00<?, ?it/s]"
      ]
     },
     "metadata": {},
     "output_type": "display_data"
    },
    {
     "name": "stdout",
     "output_type": "stream",
     "text": [
      "/uufs/chpc.utah.edu/common/home/civil-group1/Johnson/SWEMLv2.0/data/TrainingDFs/2024/1000M_Resolution/Obsdf/20240211_ObsDF.parquet\n",
      "/uufs/chpc.utah.edu/common/home/civil-group1/Johnson/SWEMLv2.0/data/TrainingDFs/2024/1000M_Resolution/Obsdf/20240411_ObsDF.parquet\n",
      "Site processing complete, adding observtional data to 20240314 df...\n"
     ]
    },
    {
     "data": {
      "application/vnd.jupyter.widget-view+json": {
       "model_id": "8cb3300dcdeb42ac9eaf01f43d6bfd1d",
       "version_major": 2,
       "version_minor": 0
      },
      "text/plain": [
       "  0%|          | 0/1978 [00:00<?, ?it/s]"
      ]
     },
     "metadata": {},
     "output_type": "display_data"
    },
    {
     "name": "stdout",
     "output_type": "stream",
     "text": [
      "Site processing complete, adding observtional data to 20240421 df...\n"
     ]
    },
    {
     "data": {
      "application/vnd.jupyter.widget-view+json": {
       "model_id": "77fe08c9a96c42e9a2c76ced8d48f5ac",
       "version_major": 2,
       "version_minor": 0
      },
      "text/plain": [
       "  0%|          | 0/903 [00:00<?, ?it/s]"
      ]
     },
     "metadata": {},
     "output_type": "display_data"
    },
    {
     "name": "stdout",
     "output_type": "stream",
     "text": [
      "/uufs/chpc.utah.edu/common/home/civil-group1/Johnson/SWEMLv2.0/data/TrainingDFs/2024/1000M_Resolution/Obsdf/20240409_ObsDF.parquet\n",
      "/uufs/chpc.utah.edu/common/home/civil-group1/Johnson/SWEMLv2.0/data/TrainingDFs/2024/1000M_Resolution/Obsdf/20240502_ObsDF.parquet\n",
      "Site processing complete, adding observtional data to 20240404 df...\n"
     ]
    },
    {
     "data": {
      "application/vnd.jupyter.widget-view+json": {
       "model_id": "69ef0b31941445da9213dc0217e8f925",
       "version_major": 2,
       "version_minor": 0
      },
      "text/plain": [
       "  0%|          | 0/896 [00:00<?, ?it/s]"
      ]
     },
     "metadata": {},
     "output_type": "display_data"
    },
    {
     "name": "stdout",
     "output_type": "stream",
     "text": [
      "Site processing complete, adding observtional data to 20240520 df...\n",
      "/uufs/chpc.utah.edu/common/home/civil-group1/Johnson/SWEMLv2.0/data/TrainingDFs/2024/1000M_Resolution/Obsdf/20240522_ObsDF.parquet\n"
     ]
    },
    {
     "data": {
      "application/vnd.jupyter.widget-view+json": {
       "model_id": "62b5df0e9edc4e10b6a83b41064998c4",
       "version_major": 2,
       "version_minor": 0
      },
      "text/plain": [
       "  0%|          | 0/896 [00:00<?, ?it/s]"
      ]
     },
     "metadata": {},
     "output_type": "display_data"
    },
    {
     "name": "stdout",
     "output_type": "stream",
     "text": [
      "Site processing complete, adding observtional data to 20240227 df...\n"
     ]
    },
    {
     "data": {
      "application/vnd.jupyter.widget-view+json": {
       "model_id": "652b97d290cf4d6ebe740c2cac836831",
       "version_major": 2,
       "version_minor": 0
      },
      "text/plain": [
       "0it [00:00, ?it/s]"
      ]
     },
     "metadata": {},
     "output_type": "display_data"
    },
    {
     "name": "stdout",
     "output_type": "stream",
     "text": [
      "nan throwing error, moving on...\n",
      "/uufs/chpc.utah.edu/common/home/civil-group1/Johnson/SWEMLv2.0/data/TrainingDFs/2024/1000M_Resolution/Obsdf/20240127_ObsDF.parquet\n",
      "Site processing complete, adding observtional data to 20240418 df...\n"
     ]
    },
    {
     "data": {
      "application/vnd.jupyter.widget-view+json": {
       "model_id": "2fd55774c41d411593ae8b926b7fe3da",
       "version_major": 2,
       "version_minor": 0
      },
      "text/plain": [
       "  0%|          | 0/3041 [00:00<?, ?it/s]"
      ]
     },
     "metadata": {},
     "output_type": "display_data"
    },
    {
     "name": "stdout",
     "output_type": "stream",
     "text": [
      "Site processing complete, adding observtional data to 20240401 df...\n"
     ]
    },
    {
     "data": {
      "application/vnd.jupyter.widget-view+json": {
       "model_id": "5205b837d64a4aa29b35841068f7a553",
       "version_major": 2,
       "version_minor": 0
      },
      "text/plain": [
       "  0%|          | 0/3052 [00:00<?, ?it/s]"
      ]
     },
     "metadata": {},
     "output_type": "display_data"
    },
    {
     "name": "stdout",
     "output_type": "stream",
     "text": [
      "/uufs/chpc.utah.edu/common/home/civil-group1/Johnson/SWEMLv2.0/data/TrainingDFs/2024/1000M_Resolution/Obsdf/20240605_ObsDF.parquet\n",
      "/uufs/chpc.utah.edu/common/home/civil-group1/Johnson/SWEMLv2.0/data/TrainingDFs/2024/1000M_Resolution/Obsdf/20240424_ObsDF.parquet\n",
      "Site processing complete, adding observtional data to 20240129 df...\n"
     ]
    },
    {
     "data": {
      "application/vnd.jupyter.widget-view+json": {
       "model_id": "a2de2fdc3e3d4cd790ae53dc3c8841fe",
       "version_major": 2,
       "version_minor": 0
      },
      "text/plain": [
       "  0%|          | 0/3599 [00:00<?, ?it/s]"
      ]
     },
     "metadata": {},
     "output_type": "display_data"
    },
    {
     "name": "stdout",
     "output_type": "stream",
     "text": [
      "Site processing complete, adding observtional data to 20240517 df...\n"
     ]
    },
    {
     "data": {
      "application/vnd.jupyter.widget-view+json": {
       "model_id": "c91e92f4d99c469fba699cc6cb7396b4",
       "version_major": 2,
       "version_minor": 0
      },
      "text/plain": [
       "  0%|          | 0/3052 [00:00<?, ?it/s]"
      ]
     },
     "metadata": {},
     "output_type": "display_data"
    },
    {
     "name": "stdout",
     "output_type": "stream",
     "text": [
      "/uufs/chpc.utah.edu/common/home/civil-group1/Johnson/SWEMLv2.0/data/TrainingDFs/2024/1000M_Resolution/Obsdf/20240421_ObsDF.parquet\n",
      "/uufs/chpc.utah.edu/common/home/civil-group1/Johnson/SWEMLv2.0/data/TrainingDFs/2024/1000M_Resolution/Obsdf/20240404_ObsDF.parquet\n",
      "Site processing complete, adding observtional data to 20240227 df...\n"
     ]
    },
    {
     "data": {
      "application/vnd.jupyter.widget-view+json": {
       "model_id": "5d2a96e2d7254b01babb279879d9181a",
       "version_major": 2,
       "version_minor": 0
      },
      "text/plain": [
       "  0%|          | 0/3649 [00:00<?, ?it/s]"
      ]
     },
     "metadata": {},
     "output_type": "display_data"
    },
    {
     "name": "stdout",
     "output_type": "stream",
     "text": [
      "Site processing complete, adding observtional data to 20240402 df...\n"
     ]
    },
    {
     "data": {
      "application/vnd.jupyter.widget-view+json": {
       "model_id": "cef91d55bfbc4777a9733c0483e9d5b8",
       "version_major": 2,
       "version_minor": 0
      },
      "text/plain": [
       "  0%|          | 0/3648 [00:00<?, ?it/s]"
      ]
     },
     "metadata": {},
     "output_type": "display_data"
    },
    {
     "name": "stdout",
     "output_type": "stream",
     "text": [
      "/uufs/chpc.utah.edu/common/home/civil-group1/Johnson/SWEMLv2.0/data/TrainingDFs/2024/1000M_Resolution/Obsdf/20240520_ObsDF.parquet\n",
      "Site processing complete, adding observtional data to 20240501 df...\n"
     ]
    },
    {
     "data": {
      "application/vnd.jupyter.widget-view+json": {
       "model_id": "93a100176aa649f8a5b38a0a4daac059",
       "version_major": 2,
       "version_minor": 0
      },
      "text/plain": [
       "  0%|          | 0/3649 [00:00<?, ?it/s]"
      ]
     },
     "metadata": {},
     "output_type": "display_data"
    },
    {
     "name": "stdout",
     "output_type": "stream",
     "text": [
      "/uufs/chpc.utah.edu/common/home/civil-group1/Johnson/SWEMLv2.0/data/TrainingDFs/2024/1000M_Resolution/Obsdf/20240508_ObsDF.parquet\n",
      "/uufs/chpc.utah.edu/common/home/civil-group1/Johnson/SWEMLv2.0/data/TrainingDFs/2024/1000M_Resolution/Obsdf/20240210_ObsDF.parquet\n",
      "/uufs/chpc.utah.edu/common/home/civil-group1/Johnson/SWEMLv2.0/data/TrainingDFs/2024/1000M_Resolution/Obsdf/20240314_ObsDF.parquet\n",
      "Site processing complete, adding observtional data to 20240319 df...\n"
     ]
    },
    {
     "data": {
      "application/vnd.jupyter.widget-view+json": {
       "model_id": "839e2062f74048b09a8bc4e6ba9a75d1",
       "version_major": 2,
       "version_minor": 0
      },
      "text/plain": [
       "  0%|          | 0/2453 [00:00<?, ?it/s]"
      ]
     },
     "metadata": {},
     "output_type": "display_data"
    },
    {
     "name": "stdout",
     "output_type": "stream",
     "text": [
      "Site processing complete, adding observtional data to 20240321 df...\n"
     ]
    },
    {
     "data": {
      "application/vnd.jupyter.widget-view+json": {
       "model_id": "361261ccc6d04c6ca2a1a1fe04eb27a6",
       "version_major": 2,
       "version_minor": 0
      },
      "text/plain": [
       "  0%|          | 0/2608 [00:00<?, ?it/s]"
      ]
     },
     "metadata": {},
     "output_type": "display_data"
    },
    {
     "name": "stdout",
     "output_type": "stream",
     "text": [
      "Site processing complete, adding observtional data to 20240414 df...\n"
     ]
    },
    {
     "data": {
      "application/vnd.jupyter.widget-view+json": {
       "model_id": "670838c3284c4a778dd6f7f7bac4e0cd",
       "version_major": 2,
       "version_minor": 0
      },
      "text/plain": [
       "  0%|          | 0/2615 [00:00<?, ?it/s]"
      ]
     },
     "metadata": {},
     "output_type": "display_data"
    },
    {
     "name": "stdout",
     "output_type": "stream",
     "text": [
      "/uufs/chpc.utah.edu/common/home/civil-group1/Johnson/SWEMLv2.0/data/TrainingDFs/2024/1000M_Resolution/Obsdf/20240427_ObsDF.parquet\n",
      "Site processing complete, adding observtional data to 20240530 df...\n"
     ]
    },
    {
     "data": {
      "application/vnd.jupyter.widget-view+json": {
       "model_id": "453f253e9b6a409d9aaab52d721eb49e",
       "version_major": 2,
       "version_minor": 0
      },
      "text/plain": [
       "  0%|          | 0/2613 [00:00<?, ?it/s]"
      ]
     },
     "metadata": {},
     "output_type": "display_data"
    },
    {
     "name": "stdout",
     "output_type": "stream",
     "text": [
      "/uufs/chpc.utah.edu/common/home/civil-group1/Johnson/SWEMLv2.0/data/TrainingDFs/2024/1000M_Resolution/Obsdf/20240410_ObsDF.parquet\n",
      "Site processing complete, adding observtional data to 20240411 df...\n",
      "/uufs/chpc.utah.edu/common/home/civil-group1/Johnson/SWEMLv2.0/data/TrainingDFs/2024/1000M_Resolution/Obsdf/20240308_ObsDF.parquet\n"
     ]
    },
    {
     "data": {
      "application/vnd.jupyter.widget-view+json": {
       "model_id": "57f50257238247b79dfdf51c9a2c8b0a",
       "version_major": 2,
       "version_minor": 0
      },
      "text/plain": [
       "  0%|          | 0/3515 [00:00<?, ?it/s]"
      ]
     },
     "metadata": {},
     "output_type": "display_data"
    },
    {
     "name": "stdout",
     "output_type": "stream",
     "text": [
      "Site processing complete, adding observtional data to 20240527 df...\n"
     ]
    },
    {
     "data": {
      "application/vnd.jupyter.widget-view+json": {
       "model_id": "3ee5d6b643f241708aede7857200225e",
       "version_major": 2,
       "version_minor": 0
      },
      "text/plain": [
       "  0%|          | 0/3516 [00:00<?, ?it/s]"
      ]
     },
     "metadata": {},
     "output_type": "display_data"
    },
    {
     "name": "stdout",
     "output_type": "stream",
     "text": [
      "/uufs/chpc.utah.edu/common/home/civil-group1/Johnson/SWEMLv2.0/data/TrainingDFs/2024/1000M_Resolution/Obsdf/20240401_ObsDF.parquet\n",
      "/uufs/chpc.utah.edu/common/home/civil-group1/Johnson/SWEMLv2.0/data/TrainingDFs/2024/1000M_Resolution/Obsdf/20240418_ObsDF.parquet\n",
      "Site processing complete, adding observtional data to 20240227 df...\n"
     ]
    },
    {
     "data": {
      "application/vnd.jupyter.widget-view+json": {
       "model_id": "40662ecd802d4a7eabb57848099e8c0b",
       "version_major": 2,
       "version_minor": 0
      },
      "text/plain": [
       "  0%|          | 0/2826 [00:00<?, ?it/s]"
      ]
     },
     "metadata": {},
     "output_type": "display_data"
    },
    {
     "name": "stdout",
     "output_type": "stream",
     "text": [
      "Site processing complete, adding observtional data to 20240210 df...\n"
     ]
    },
    {
     "data": {
      "application/vnd.jupyter.widget-view+json": {
       "model_id": "fbdd0ad0f6754dbab1085e5484a6301f",
       "version_major": 2,
       "version_minor": 0
      },
      "text/plain": [
       "  0%|          | 0/2825 [00:00<?, ?it/s]"
      ]
     },
     "metadata": {},
     "output_type": "display_data"
    },
    {
     "name": "stdout",
     "output_type": "stream",
     "text": [
      "/uufs/chpc.utah.edu/common/home/civil-group1/Johnson/SWEMLv2.0/data/TrainingDFs/2024/1000M_Resolution/Obsdf/20240517_ObsDF.parquet\n",
      "Site processing complete, adding observtional data to 20240401 df...\n"
     ]
    },
    {
     "data": {
      "application/vnd.jupyter.widget-view+json": {
       "model_id": "8a12999a14d047b7b0115d19c8fb39ce",
       "version_major": 2,
       "version_minor": 0
      },
      "text/plain": [
       "  0%|          | 0/2825 [00:00<?, ?it/s]"
      ]
     },
     "metadata": {},
     "output_type": "display_data"
    },
    {
     "name": "stdout",
     "output_type": "stream",
     "text": [
      "/uufs/chpc.utah.edu/common/home/civil-group1/Johnson/SWEMLv2.0/data/TrainingDFs/2024/1000M_Resolution/Obsdf/20240319_ObsDF.parquet\n",
      "Site processing complete, adding observtional data to 20240429 df...\n"
     ]
    },
    {
     "data": {
      "application/vnd.jupyter.widget-view+json": {
       "model_id": "4ed372d0748f45938cd7c512f715b550",
       "version_major": 2,
       "version_minor": 0
      },
      "text/plain": [
       "  0%|          | 0/2699 [00:00<?, ?it/s]"
      ]
     },
     "metadata": {},
     "output_type": "display_data"
    },
    {
     "name": "stdout",
     "output_type": "stream",
     "text": [
      "/uufs/chpc.utah.edu/common/home/civil-group1/Johnson/SWEMLv2.0/data/TrainingDFs/2024/1000M_Resolution/Obsdf/20240222_ObsDF.parquet\n",
      "/uufs/chpc.utah.edu/common/home/civil-group1/Johnson/SWEMLv2.0/data/TrainingDFs/2024/1000M_Resolution/Obsdf/20240127_ObsDF.parquet\n",
      "Site processing complete, adding observtional data to 20240527 df...\n"
     ]
    },
    {
     "data": {
      "application/vnd.jupyter.widget-view+json": {
       "model_id": "121661f6fda64a46ba72f0ae0c87a8da",
       "version_major": 2,
       "version_minor": 0
      },
      "text/plain": [
       "  0%|          | 0/2826 [00:00<?, ?it/s]"
      ]
     },
     "metadata": {},
     "output_type": "display_data"
    },
    {
     "name": "stdout",
     "output_type": "stream",
     "text": [
      "/uufs/chpc.utah.edu/common/home/civil-group1/Johnson/SWEMLv2.0/data/TrainingDFs/2024/1000M_Resolution/Obsdf/20240414_ObsDF.parquet\n",
      "/uufs/chpc.utah.edu/common/home/civil-group1/Johnson/SWEMLv2.0/data/TrainingDFs/2024/1000M_Resolution/Obsdf/20240321_ObsDF.parquet\n",
      "/uufs/chpc.utah.edu/common/home/civil-group1/Johnson/SWEMLv2.0/data/TrainingDFs/2024/1000M_Resolution/Obsdf/20240326_ObsDF.parquet\n",
      "/uufs/chpc.utah.edu/common/home/civil-group1/Johnson/SWEMLv2.0/data/TrainingDFs/2024/1000M_Resolution/Obsdf/20240129_ObsDF.parquet\n",
      "/uufs/chpc.utah.edu/common/home/civil-group1/Johnson/SWEMLv2.0/data/TrainingDFs/2024/1000M_Resolution/Obsdf/20240429_ObsDF.parquet\n",
      "/uufs/chpc.utah.edu/common/home/civil-group1/Johnson/SWEMLv2.0/data/TrainingDFs/2024/1000M_Resolution/Obsdf/20240227_ObsDF.parquet\n",
      "/uufs/chpc.utah.edu/common/home/civil-group1/Johnson/SWEMLv2.0/data/TrainingDFs/2024/1000M_Resolution/Obsdf/20240521_ObsDF.parquet\n",
      "/uufs/chpc.utah.edu/common/home/civil-group1/Johnson/SWEMLv2.0/data/TrainingDFs/2024/1000M_Resolution/Obsdf/20240530_ObsDF.parquet\n",
      "/uufs/chpc.utah.edu/common/home/civil-group1/Johnson/SWEMLv2.0/data/TrainingDFs/2024/1000M_Resolution/Obsdf/20240402_ObsDF.parquet\n",
      "/uufs/chpc.utah.edu/common/home/civil-group1/Johnson/SWEMLv2.0/data/TrainingDFs/2024/1000M_Resolution/Obsdf/20240416_ObsDF.parquet\n",
      "/uufs/chpc.utah.edu/common/home/civil-group1/Johnson/SWEMLv2.0/data/TrainingDFs/2024/1000M_Resolution/Obsdf/20240501_ObsDF.parquet\n",
      "/uufs/chpc.utah.edu/common/home/civil-group1/Johnson/SWEMLv2.0/data/TrainingDFs/2024/1000M_Resolution/Obsdf/20240222_ObsDF.parquet\n",
      "/uufs/chpc.utah.edu/common/home/civil-group1/Johnson/SWEMLv2.0/data/TrainingDFs/2024/1000M_Resolution/Obsdf/20240315_ObsDF.parquet\n",
      "/uufs/chpc.utah.edu/common/home/civil-group1/Johnson/SWEMLv2.0/data/TrainingDFs/2024/1000M_Resolution/Obsdf/20240411_ObsDF.parquet\n",
      "/uufs/chpc.utah.edu/common/home/civil-group1/Johnson/SWEMLv2.0/data/TrainingDFs/2024/1000M_Resolution/Obsdf/20240227_ObsDF.parquet\n",
      "/uufs/chpc.utah.edu/common/home/civil-group1/Johnson/SWEMLv2.0/data/TrainingDFs/2024/1000M_Resolution/Obsdf/20240210_ObsDF.parquet\n",
      "/uufs/chpc.utah.edu/common/home/civil-group1/Johnson/SWEMLv2.0/data/TrainingDFs/2024/1000M_Resolution/Obsdf/20240513_ObsDF.parquet\n",
      "/uufs/chpc.utah.edu/common/home/civil-group1/Johnson/SWEMLv2.0/data/TrainingDFs/2024/1000M_Resolution/Obsdf/20240401_ObsDF.parquet\n",
      "/uufs/chpc.utah.edu/common/home/civil-group1/Johnson/SWEMLv2.0/data/TrainingDFs/2024/1000M_Resolution/Obsdf/20240429_ObsDF.parquet\n",
      "/uufs/chpc.utah.edu/common/home/civil-group1/Johnson/SWEMLv2.0/data/TrainingDFs/2024/1000M_Resolution/Obsdf/20240527_ObsDF.parquet\n",
      "/uufs/chpc.utah.edu/common/home/civil-group1/Johnson/SWEMLv2.0/data/TrainingDFs/2024/1000M_Resolution/Obsdf/20240527_ObsDF.parquet\n",
      "Job complete for connecting SNOTEL obs to sites/dates\n"
     ]
    }
   ],
   "source": [
    "#Connect nearest snotel observations with ASO data, makes a parquet file for each date  -  test to see if this works - need to just load the SNOTEL file, not collect them as in the function\n",
    "for WY in WY_list:\n",
    "    path = f\"{HOME}/data/ASO/{WY}/{output_res}M_SWE_parquet\"\n",
    "\n",
    "    if os.path.isdir(path) == True:\n",
    "        print(WY)\n",
    "        dates = []\n",
    "        manual = False\n",
    "        Obs_to_DF.Nearest_Snotel_2_obs_MultiProcess(WY, output_res, manual, dates) \n",
    "    else:\n",
    "        print(f\"No ASO data for {WY}\")\n"
   ]
  },
  {
   "cell_type": "code",
   "execution_count": 4,
   "id": "2e2c2015-9e62-4dc0-8abe-5aa5cb3ec316",
   "metadata": {},
   "outputs": [],
   "source": [
    "WY_list = ['2013', '2014', '2015', '2016', '2017', '2018', '2019', '2020', '2021', '2022', '2023', '2024' ]"
   ]
  },
  {
   "cell_type": "code",
   "execution_count": 6,
   "id": "3b7816b1",
   "metadata": {
    "collapsed": true,
    "jupyter": {
     "outputs_hidden": true
    },
    "tags": []
   },
   "outputs": [
    {
     "name": "stdout",
     "output_type": "stream",
     "text": [
      "2013\n",
      "Loading goeospatial meta data for grids in 2013\n",
      "Loading all available processed ASO observations for the 2013 at 250M resolution\n",
      "Concatenating 6 with geospatial data...\n"
     ]
    },
    {
     "data": {
      "application/vnd.jupyter.widget-view+json": {
       "model_id": "a12817b564d843f9a17d6912f66dfabf",
       "version_major": 2,
       "version_minor": 0
      },
      "text/plain": [
       "  0%|          | 0/6 [00:00<?, ?it/s]"
      ]
     },
     "metadata": {},
     "output_type": "display_data"
    },
    {
     "name": "stdout",
     "output_type": "stream",
     "text": [
      "Job complete for connecting obs with geospatial data, the files can be found in /uufs/chpc.utah.edu/common/home/civil-group1/Johnson/SWEMLv2.0/data/TrainingDFs/2013/250M_Resolution/GeoObsDFs\n",
      "2014\n",
      "Loading goeospatial meta data for grids in 2014\n",
      "Loading all available processed ASO observations for the 2014 at 250M resolution\n",
      "Concatenating 18 with geospatial data...\n"
     ]
    },
    {
     "data": {
      "application/vnd.jupyter.widget-view+json": {
       "model_id": "c402eb8167644aac8ce98a6f47c51588",
       "version_major": 2,
       "version_minor": 0
      },
      "text/plain": [
       "  0%|          | 0/18 [00:00<?, ?it/s]"
      ]
     },
     "metadata": {},
     "output_type": "display_data"
    },
    {
     "name": "stdout",
     "output_type": "stream",
     "text": [
      "Job complete for connecting obs with geospatial data, the files can be found in /uufs/chpc.utah.edu/common/home/civil-group1/Johnson/SWEMLv2.0/data/TrainingDFs/2014/250M_Resolution/GeoObsDFs\n",
      "2015\n",
      "Loading goeospatial meta data for grids in 2015\n",
      "Loading all available processed ASO observations for the 2015 at 250M resolution\n",
      "Concatenating 20 with geospatial data...\n"
     ]
    },
    {
     "data": {
      "application/vnd.jupyter.widget-view+json": {
       "model_id": "b4c260f70f4446079fc896b47aef0dad",
       "version_major": 2,
       "version_minor": 0
      },
      "text/plain": [
       "  0%|          | 0/20 [00:00<?, ?it/s]"
      ]
     },
     "metadata": {},
     "output_type": "display_data"
    },
    {
     "name": "stdout",
     "output_type": "stream",
     "text": [
      "Job complete for connecting obs with geospatial data, the files can be found in /uufs/chpc.utah.edu/common/home/civil-group1/Johnson/SWEMLv2.0/data/TrainingDFs/2015/250M_Resolution/GeoObsDFs\n",
      "2016\n",
      "Loading goeospatial meta data for grids in 2016\n",
      "Loading all available processed ASO observations for the 2016 at 250M resolution\n",
      "Concatenating 16 with geospatial data...\n"
     ]
    },
    {
     "data": {
      "application/vnd.jupyter.widget-view+json": {
       "model_id": "7916234a6b984594a4b42bb6055da5df",
       "version_major": 2,
       "version_minor": 0
      },
      "text/plain": [
       "  0%|          | 0/16 [00:00<?, ?it/s]"
      ]
     },
     "metadata": {},
     "output_type": "display_data"
    },
    {
     "name": "stdout",
     "output_type": "stream",
     "text": [
      "Job complete for connecting obs with geospatial data, the files can be found in /uufs/chpc.utah.edu/common/home/civil-group1/Johnson/SWEMLv2.0/data/TrainingDFs/2016/250M_Resolution/GeoObsDFs\n",
      "2017\n",
      "Loading goeospatial meta data for grids in 2017\n",
      "Loading all available processed ASO observations for the 2017 at 250M resolution\n",
      "Concatenating 8 with geospatial data...\n"
     ]
    },
    {
     "data": {
      "application/vnd.jupyter.widget-view+json": {
       "model_id": "5616622623124fa8b251e33e26853a0f",
       "version_major": 2,
       "version_minor": 0
      },
      "text/plain": [
       "  0%|          | 0/8 [00:00<?, ?it/s]"
      ]
     },
     "metadata": {},
     "output_type": "display_data"
    },
    {
     "name": "stdout",
     "output_type": "stream",
     "text": [
      "Job complete for connecting obs with geospatial data, the files can be found in /uufs/chpc.utah.edu/common/home/civil-group1/Johnson/SWEMLv2.0/data/TrainingDFs/2017/250M_Resolution/GeoObsDFs\n",
      "2018\n",
      "Loading goeospatial meta data for grids in 2018\n",
      "Loading all available processed ASO observations for the 2018 at 250M resolution\n",
      "Concatenating 11 with geospatial data...\n"
     ]
    },
    {
     "data": {
      "application/vnd.jupyter.widget-view+json": {
       "model_id": "2b4c66e52d634794b863aad9a81086df",
       "version_major": 2,
       "version_minor": 0
      },
      "text/plain": [
       "  0%|          | 0/11 [00:00<?, ?it/s]"
      ]
     },
     "metadata": {},
     "output_type": "display_data"
    },
    {
     "name": "stdout",
     "output_type": "stream",
     "text": [
      "Job complete for connecting obs with geospatial data, the files can be found in /uufs/chpc.utah.edu/common/home/civil-group1/Johnson/SWEMLv2.0/data/TrainingDFs/2018/250M_Resolution/GeoObsDFs\n",
      "2019\n",
      "Loading goeospatial meta data for grids in 2019\n",
      "Loading all available processed ASO observations for the 2019 at 250M resolution\n",
      "Concatenating 35 with geospatial data...\n"
     ]
    },
    {
     "data": {
      "application/vnd.jupyter.widget-view+json": {
       "model_id": "d2351ae134e64e099da7522282375724",
       "version_major": 2,
       "version_minor": 0
      },
      "text/plain": [
       "  0%|          | 0/35 [00:00<?, ?it/s]"
      ]
     },
     "metadata": {},
     "output_type": "display_data"
    },
    {
     "name": "stdout",
     "output_type": "stream",
     "text": [
      "Job complete for connecting obs with geospatial data, the files can be found in /uufs/chpc.utah.edu/common/home/civil-group1/Johnson/SWEMLv2.0/data/TrainingDFs/2019/250M_Resolution/GeoObsDFs\n",
      "2020\n",
      "Loading goeospatial meta data for grids in 2020\n",
      "Loading all available processed ASO observations for the 2020 at 250M resolution\n",
      "Concatenating 11 with geospatial data...\n"
     ]
    },
    {
     "data": {
      "application/vnd.jupyter.widget-view+json": {
       "model_id": "e6c8eed3105c4cb185e2081e93054f27",
       "version_major": 2,
       "version_minor": 0
      },
      "text/plain": [
       "  0%|          | 0/11 [00:00<?, ?it/s]"
      ]
     },
     "metadata": {},
     "output_type": "display_data"
    },
    {
     "name": "stdout",
     "output_type": "stream",
     "text": [
      "Job complete for connecting obs with geospatial data, the files can be found in /uufs/chpc.utah.edu/common/home/civil-group1/Johnson/SWEMLv2.0/data/TrainingDFs/2020/250M_Resolution/GeoObsDFs\n",
      "2021\n",
      "Loading goeospatial meta data for grids in 2021\n",
      "Loading all available processed ASO observations for the 2021 at 250M resolution\n",
      "Concatenating 17 with geospatial data...\n"
     ]
    },
    {
     "data": {
      "application/vnd.jupyter.widget-view+json": {
       "model_id": "cf236283618b4245bf099abc2ab40d9a",
       "version_major": 2,
       "version_minor": 0
      },
      "text/plain": [
       "  0%|          | 0/17 [00:00<?, ?it/s]"
      ]
     },
     "metadata": {},
     "output_type": "display_data"
    },
    {
     "name": "stdout",
     "output_type": "stream",
     "text": [
      "Job complete for connecting obs with geospatial data, the files can be found in /uufs/chpc.utah.edu/common/home/civil-group1/Johnson/SWEMLv2.0/data/TrainingDFs/2021/250M_Resolution/GeoObsDFs\n",
      "2022\n",
      "Loading goeospatial meta data for grids in 2022\n",
      "Loading all available processed ASO observations for the 2022 at 250M resolution\n",
      "Concatenating 35 with geospatial data...\n"
     ]
    },
    {
     "data": {
      "application/vnd.jupyter.widget-view+json": {
       "model_id": "998cc27512034a32a15ab49a2e5d9129",
       "version_major": 2,
       "version_minor": 0
      },
      "text/plain": [
       "  0%|          | 0/35 [00:00<?, ?it/s]"
      ]
     },
     "metadata": {},
     "output_type": "display_data"
    },
    {
     "name": "stdout",
     "output_type": "stream",
     "text": [
      "Job complete for connecting obs with geospatial data, the files can be found in /uufs/chpc.utah.edu/common/home/civil-group1/Johnson/SWEMLv2.0/data/TrainingDFs/2022/250M_Resolution/GeoObsDFs\n",
      "2023\n",
      "Loading goeospatial meta data for grids in 2023\n",
      "Loading all available processed ASO observations for the 2023 at 250M resolution\n",
      "Concatenating 60 with geospatial data...\n"
     ]
    },
    {
     "data": {
      "application/vnd.jupyter.widget-view+json": {
       "model_id": "41da72d8a1764018be8704453a700d45",
       "version_major": 2,
       "version_minor": 0
      },
      "text/plain": [
       "  0%|          | 0/60 [00:00<?, ?it/s]"
      ]
     },
     "metadata": {},
     "output_type": "display_data"
    },
    {
     "name": "stdout",
     "output_type": "stream",
     "text": [
      "Job complete for connecting obs with geospatial data, the files can be found in /uufs/chpc.utah.edu/common/home/civil-group1/Johnson/SWEMLv2.0/data/TrainingDFs/2023/250M_Resolution/GeoObsDFs\n",
      "2024\n",
      "Loading goeospatial meta data for grids in 2024\n",
      "Loading all available processed ASO observations for the 2024 at 250M resolution\n",
      "Concatenating 46 with geospatial data...\n"
     ]
    },
    {
     "data": {
      "application/vnd.jupyter.widget-view+json": {
       "model_id": "96d9e2d0fabe4a9191d6ccab121e178f",
       "version_major": 2,
       "version_minor": 0
      },
      "text/plain": [
       "  0%|          | 0/46 [00:00<?, ?it/s]"
      ]
     },
     "metadata": {},
     "output_type": "display_data"
    },
    {
     "name": "stdout",
     "output_type": "stream",
     "text": [
      "Job complete for connecting obs with geospatial data, the files can be found in /uufs/chpc.utah.edu/common/home/civil-group1/Johnson/SWEMLv2.0/data/TrainingDFs/2024/250M_Resolution/GeoObsDFs\n"
     ]
    }
   ],
   "source": [
    "#Connect cell ids with ASO obs and snotel obs to geospatial features\n",
    "for WY in WY_list:\n",
    "    #path = f\"{HOME}/SWEMLv2.0/data/ASO/{region}/{output_res}M_SWE_parquet\"\n",
    "    path = f\"{HOME}/data/ASO/{WY}/{output_res}M_SWE_parquet\"\n",
    "    if os.path.isdir(path) == True:\n",
    "        print(WY)\n",
    "        GeoDF.add_geospatial_threaded(WY, output_res)\n",
    "    else:\n",
    "        print(f\"No ASO data for {region}\")"
   ]
  },
  {
   "cell_type": "markdown",
   "id": "facee8dc",
   "metadata": {},
   "source": [
    "# Get NASA VIIRS fraction snow covered area for each location \n",
    "\n",
    "* Make sure the code grabs all dates for each region, may have to run multiple times\n",
    "* run until \"No granules found for DATE, requesting data from NSIDC...\" no longer occurs\n"
   ]
  },
  {
   "cell_type": "code",
   "execution_count": null,
   "id": "4317aadd-0020-403c-843b-c2543bdeae1a",
   "metadata": {},
   "outputs": [],
   "source": [
    "get_VIIRS_SCA.get_VIIRS_from_AWS()"
   ]
  },
  {
   "cell_type": "code",
   "execution_count": 2,
   "id": "a30f0ad0-d237-4688-bab0-1b5ac8c1a50d",
   "metadata": {},
   "outputs": [],
   "source": [
    "WY_list = ['2013', '2014', '2015', '2016', '2017', '2018', '2019', '2020', '2021', '2022', '2023', '2024' ]"
   ]
  },
  {
   "cell_type": "code",
   "execution_count": 2,
   "id": "8e5fe64b",
   "metadata": {
    "collapsed": true,
    "jupyter": {
     "outputs_hidden": true
    },
    "tags": []
   },
   "outputs": [
    {
     "name": "stdout",
     "output_type": "stream",
     "text": [
      "2013\n",
      "Getting VIIRS fsca values for 6 timesteps of observations for 2013\n",
      "20130429, 20130403, 20130503, 20130608, \n",
      "20130601, \n",
      "20130525, \n",
      "\n",
      "\n",
      "\n",
      "dataprocessing VIIRS for 20130429 complete...\n",
      "dataprocessing VIIRS for 20130608 complete...\n",
      "dataprocessing VIIRS for 20130503 complete...\n",
      "dataprocessing VIIRS for 20130403 complete...\n",
      "dataprocessing VIIRS for 20130525 complete...\n",
      "dataprocessing VIIRS for 20130601 complete...\n",
      "Job complete for connecting VIIRS fsca to sites/dates, files can be found in /uufs/chpc.utah.edu/common/home/civil-group1/Johnson/SWEMLv2.0/data/TrainingDFs/2013/250M_Resolution/VIIRSGeoObsDFs/20_fSCA_Thresh\n",
      "2014\n",
      "Getting VIIRS fsca values for 18 timesteps of observations for 2014\n",
      "20140320, 20140323, 20140324, 20140407, 20140406, 20140414, \n",
      "\n",
      "\n",
      "\n",
      "\n",
      "\n",
      "dataprocessing VIIRS for 20140320 complete...\n",
      "20140420, \n",
      "dataprocessing VIIRS for 20140406 complete...\n",
      "20140423, \n",
      "dataprocessing VIIRS for 20140414 complete...\n",
      "20140428, \n",
      "dataprocessing VIIRS for 20140324 complete...\n",
      "20140429, \n",
      "dataprocessing VIIRS for 20140407 complete...\n",
      "20140502, \n",
      "dataprocessing VIIRS for 20140323 complete...\n",
      "20140503, \n",
      "dataprocessing VIIRS for 20140423 complete...\n",
      "20140511, \n",
      "dataprocessing VIIRS for 20140429 complete...\n",
      "20140512, \n",
      "dataprocessing VIIRS for 20140420 complete...\n",
      "20140517, \n",
      "dataprocessing VIIRS for 20140428 complete...\n",
      "20140527, \n",
      "dataprocessing VIIRS for 20140503 complete...\n",
      "20140531, \n",
      "dataprocessing VIIRS for 20140512 complete...\n",
      "20140605, \n",
      "dataprocessing VIIRS for 20140502 complete...\n",
      "dataprocessing VIIRS for 20140511 complete...\n",
      "dataprocessing VIIRS for 20140517 complete...\n",
      "dataprocessing VIIRS for 20140527 complete...\n",
      "dataprocessing VIIRS for 20140531 complete...\n",
      "dataprocessing VIIRS for 20140605 complete...\n",
      "Job complete for connecting VIIRS fsca to sites/dates, files can be found in /uufs/chpc.utah.edu/common/home/civil-group1/Johnson/SWEMLv2.0/data/TrainingDFs/2014/250M_Resolution/VIIRSGeoObsDFs/20_fSCA_Thresh\n",
      "2015\n",
      "Getting VIIRS fsca values for 20 timesteps of observations for 2015\n",
      "20150217, 20150305, 20150325, 20150326, 20150403, 20150406, \n",
      "\n",
      "\n",
      "\n",
      "\n",
      "\n",
      "dataprocessing VIIRS for 20150326 complete...\n",
      "20150407, \n",
      "dataprocessing VIIRS for 20150406 complete...\n",
      "20150409, \n",
      "dataprocessing VIIRS for 20150325 complete...\n",
      "20150412, \n",
      "dataprocessing VIIRS for 20150403 complete...\n",
      "20150415, \n",
      "dataprocessing VIIRS for 20150305 complete...\n",
      "20150426, \n",
      "dataprocessing VIIRS for 20150217 complete...\n",
      "20150427, \n",
      "dataprocessing VIIRS for 20150407 complete...\n",
      "20150428, \n",
      "dataprocessing VIIRS for 20150409 complete...\n",
      "20150503, \n",
      "dataprocessing VIIRS for 20150428 complete...\n",
      "20150527, \n",
      "dataprocessing VIIRS for 20150503 complete...\n",
      "20150528, \n",
      "dataprocessing VIIRS for 20150527 complete...\n",
      "20150531, \n",
      "dataprocessing VIIRS for 20150415 complete...\n",
      "20150602, \n",
      "dataprocessing VIIRS for 20150427 complete...\n",
      "20150608, \n",
      "dataprocessing VIIRS for 20150412 complete...\n",
      "20150609, \n",
      "dataprocessing VIIRS for 20150426 complete...\n",
      "dataprocessing VIIRS for 20150609 complete...\n",
      "dataprocessing VIIRS for 20150531 complete...\n",
      "dataprocessing VIIRS for 20150528 complete...\n",
      "dataprocessing VIIRS for 20150608 complete...\n",
      "dataprocessing VIIRS for 20150602 complete...\n",
      "Job complete for connecting VIIRS fsca to sites/dates, files can be found in /uufs/chpc.utah.edu/common/home/civil-group1/Johnson/SWEMLv2.0/data/TrainingDFs/2015/250M_Resolution/VIIRSGeoObsDFs/20_fSCA_Thresh\n",
      "2016\n",
      "Getting VIIRS fsca values for 16 timesteps of observations for 2016\n",
      "20160326, 20160208, 20160404, 20160401, 20160329, 20160403, \n",
      "\n",
      "\n",
      "\n",
      "\n",
      "\n",
      "dataprocessing VIIRS for 20160404 complete...\n",
      "20160407, \n",
      "dataprocessing VIIRS for 20160326 complete...\n",
      "20160416, \n",
      "dataprocessing VIIRS for 20160401 complete...\n",
      "20160426, \n",
      "dataprocessing VIIRS for 20160407 complete...\n",
      "20160509, \n",
      "dataprocessing VIIRS for 20160403 complete...\n",
      "20160527, \n",
      "dataprocessing VIIRS for 20160416 complete...\n",
      "20160607, \n",
      "dataprocessing VIIRS for 20160426 complete...\n",
      "20160614, \n",
      "dataprocessing VIIRS for 20160607 complete...\n",
      "20160621, \n",
      "dataprocessing VIIRS for 20160614 complete...\n",
      "20160626, \n",
      "dataprocessing VIIRS for 20160621 complete...\n",
      "20160708, \n",
      "dataprocessing VIIRS for 20160626 complete...\n",
      "dataprocessing VIIRS for 20160509 complete...\n",
      "dataprocessing VIIRS for 20160527 complete...\n",
      "dataprocessing VIIRS for 20160708 complete...\n",
      "dataprocessing VIIRS for 20160208 complete...\n",
      "dataprocessing VIIRS for 20160329 complete...\n",
      "Job complete for connecting VIIRS fsca to sites/dates, files can be found in /uufs/chpc.utah.edu/common/home/civil-group1/Johnson/SWEMLv2.0/data/TrainingDFs/2016/250M_Resolution/VIIRSGeoObsDFs/20_fSCA_Thresh\n",
      "2017\n",
      "Getting VIIRS fsca values for 8 timesteps of observations for 2017\n",
      "20170129, 20170128, 20170718, 20170727, 20170719, 20170717, \n",
      "\n",
      "\n",
      "\n",
      "\n",
      "\n",
      "dataprocessing VIIRS for 20170128 complete...\n",
      "20170815, \n",
      "dataprocessing VIIRS for 20170718 complete...\n",
      "20170816, \n",
      "dataprocessing VIIRS for 20170129 complete...\n",
      "dataprocessing VIIRS for 20170717 complete...\n",
      "dataprocessing VIIRS for 20170727 complete...\n",
      "dataprocessing VIIRS for 20170719 complete...\n",
      "dataprocessing VIIRS for 20170815 complete...\n",
      "dataprocessing VIIRS for 20170816 complete...\n",
      "Job complete for connecting VIIRS fsca to sites/dates, files can be found in /uufs/chpc.utah.edu/common/home/civil-group1/Johnson/SWEMLv2.0/data/TrainingDFs/2017/250M_Resolution/VIIRSGeoObsDFs/20_fSCA_Thresh\n",
      "2018\n",
      "Getting VIIRS fsca values for 11 timesteps of observations for 2018\n",
      "20180304, 20180330, 20180422, 20180423, 20180331, 20180425, \n",
      "\n",
      "\n",
      "\n",
      "\n",
      "\n",
      "dataprocessing VIIRS for 20180330 complete...\n",
      "20180426, \n",
      "dataprocessing VIIRS for 20180425 complete...\n",
      "20180524, \n",
      "dataprocessing VIIRS for 20180423 complete...\n",
      "20180528, \n",
      "dataprocessing VIIRS for 20180304 complete...\n",
      "20180601, \n",
      "dataprocessing VIIRS for 20180422 complete...\n",
      "20180602, \n",
      "dataprocessing VIIRS for 20180331 complete...\n",
      "dataprocessing VIIRS for 20180528 complete...\n",
      "dataprocessing VIIRS for 20180524 complete...\n",
      "dataprocessing VIIRS for 20180601 complete...\n",
      "dataprocessing VIIRS for 20180602 complete...\n",
      "dataprocessing VIIRS for 20180426 complete...\n",
      "Job complete for connecting VIIRS fsca to sites/dates, files can be found in /uufs/chpc.utah.edu/common/home/civil-group1/Johnson/SWEMLv2.0/data/TrainingDFs/2018/250M_Resolution/VIIRSGeoObsDFs/20_fSCA_Thresh\n",
      "2019\n",
      "Getting VIIRS fsca values for 35 timesteps of observations for 2019\n",
      "20190315, 20190309, 20190317, 20190324, 20190316, 20190325, \n",
      "\n",
      "\n",
      "\n",
      "\n",
      "\n",
      "dataprocessing VIIRS for 20190309 complete...\n",
      "20190326, \n",
      "dataprocessing VIIRS for 20190317 complete...\n",
      "20190329, \n",
      "dataprocessing VIIRS for 20190326 complete...\n",
      "20190407, \n",
      "dataprocessing VIIRS for 20190325 complete...\n",
      "20190408, \n",
      "dataprocessing VIIRS for 20190324 complete...\n",
      "20190417, \n",
      "dataprocessing VIIRS for 20190329 complete...\n",
      "20190418, \n",
      "dataprocessing VIIRS for 20190408 complete...\n",
      "20190419, \n",
      "dataprocessing VIIRS for 20190419 complete...\n",
      "20190421, \n",
      "dataprocessing VIIRS for 20190417 complete...\n",
      "20190427, \n",
      "dataprocessing VIIRS for 20190316 complete...\n",
      "20190428, \n",
      "dataprocessing VIIRS for 20190407 complete...\n",
      "20190501, \n",
      "dataprocessing VIIRS for 20190315 complete...\n",
      "20190502, \n",
      "dataprocessing VIIRS for 20190421 complete...\n",
      "20190503, \n",
      "dataprocessing VIIRS for 20190427 complete...\n",
      "20190604, \n",
      "dataprocessing VIIRS for 20190502 complete...\n",
      "20190605, \n",
      "dataprocessing VIIRS for 20190418 complete...\n",
      "20190608, \n",
      "dataprocessing VIIRS for 20190501 complete...\n",
      "20190609, \n",
      "dataprocessing VIIRS for 20190604 complete...\n",
      "20190610, \n",
      "dataprocessing VIIRS for 20190609 complete...\n",
      "20190611, \n",
      "dataprocessing VIIRS for 20190611 complete...\n",
      "20190613, \n",
      "dataprocessing VIIRS for 20190503 complete...\n",
      "20190614, \n",
      "dataprocessing VIIRS for 20190605 complete...\n",
      "20190624, \n",
      "dataprocessing VIIRS for 20190610 complete...\n",
      "20190703, \n",
      "dataprocessing VIIRS for 20190428 complete...\n",
      "20190704, \n",
      "dataprocessing VIIRS for 20190608 complete...\n",
      "20190705, \n",
      "dataprocessing VIIRS for 20190624 complete...\n",
      "20190713, \n",
      "dataprocessing VIIRS for 20190613 complete...\n",
      "20190714, \n",
      "dataprocessing VIIRS for 20190614 complete...\n",
      "20190715, \n",
      "dataprocessing VIIRS for 20190703 complete...\n",
      "20190716, \n",
      "dataprocessing VIIRS for 20190715 complete...\n",
      "dataprocessing VIIRS for 20190704 complete...\n",
      "dataprocessing VIIRS for 20190714 complete...\n",
      "dataprocessing VIIRS for 20190716 complete...\n",
      "dataprocessing VIIRS for 20190713 complete...\n",
      "dataprocessing VIIRS for 20190705 complete...\n",
      "Job complete for connecting VIIRS fsca to sites/dates, files can be found in /uufs/chpc.utah.edu/common/home/civil-group1/Johnson/SWEMLv2.0/data/TrainingDFs/2019/250M_Resolution/VIIRSGeoObsDFs/20_fSCA_Thresh\n",
      "2020\n",
      "Getting VIIRS fsca values for 11 timesteps of observations for 2020\n",
      "20200411, 20200414, 20200413, 20200504, 20200502, 20200507, \n",
      "\n",
      "\n",
      "\n",
      "\n",
      "\n",
      "dataprocessing VIIRS for 20200507 complete...\n",
      "dataprocessing VIIRS for 20200413 complete...20200521, \n",
      "\n",
      "20200523, \n",
      "dataprocessing VIIRS for 20200502 complete...\n",
      "20200529, \n",
      "dataprocessing VIIRS for 20200521 complete...\n",
      "20200604, \n",
      "dataprocessing VIIRS for 20200411 complete...\n",
      "20200608, \n",
      "dataprocessing VIIRS for 20200504 complete...\n",
      "dataprocessing VIIRS for 20200414 complete...\n",
      "dataprocessing VIIRS for 20200604 complete...\n",
      "dataprocessing VIIRS for 20200523 complete...\n",
      "dataprocessing VIIRS for 20200529 complete...\n",
      "dataprocessing VIIRS for 20200608 complete...\n",
      "Job complete for connecting VIIRS fsca to sites/dates, files can be found in /uufs/chpc.utah.edu/common/home/civil-group1/Johnson/SWEMLv2.0/data/TrainingDFs/2020/250M_Resolution/VIIRSGeoObsDFs/20_fSCA_Thresh\n",
      "2021\n",
      "Getting VIIRS fsca values for 17 timesteps of observations for 2021\n",
      "20210224, 20210226, 20210331, 20210327, 20210326, 20210418, \n",
      "\n",
      "\n",
      "\n",
      "\n",
      "\n",
      "dataprocessing VIIRS for 20210418 complete...\n",
      "20210419, \n",
      "dataprocessing VIIRS for 20210326 complete...\n",
      "20210420, \n",
      "dataprocessing VIIRS for 20210419 complete...\n",
      "20210423, \n",
      "dataprocessing VIIRS for 20210224 complete...\n",
      "20210429, \n",
      "dataprocessing VIIRS for 20210420 complete...\n",
      "20210501, \n",
      "dataprocessing VIIRS for 20210423 complete...\n",
      "20210503, \n",
      "dataprocessing VIIRS for 20210331 complete...\n",
      "20210504, \n",
      "dataprocessing VIIRS for 20210226 complete...\n",
      "20210514, \n",
      "dataprocessing VIIRS for 20210327 complete...\n",
      "20210515, \n",
      "dataprocessing VIIRS for 20210514 complete...\n",
      "20210516, \n",
      "dataprocessing VIIRS for 20210504 complete...\n",
      "20210524, \n",
      "dataprocessing VIIRS for 20210429 complete...\n",
      "dataprocessing VIIRS for 20210515 complete...\n",
      "dataprocessing VIIRS for 20210516 complete...\n",
      "dataprocessing VIIRS for 20210524 complete...\n",
      "dataprocessing VIIRS for 20210501 complete...\n",
      "dataprocessing VIIRS for 20210503 complete...\n",
      "Job complete for connecting VIIRS fsca to sites/dates, files can be found in /uufs/chpc.utah.edu/common/home/civil-group1/Johnson/SWEMLv2.0/data/TrainingDFs/2021/250M_Resolution/VIIRSGeoObsDFs/20_fSCA_Thresh\n",
      "2022\n",
      "Getting VIIRS fsca values for 35 timesteps of observations for 2022\n",
      "20220204, 20220206, 20220301, 20220302, 20220217, 20220228, \n",
      "\n",
      "\n",
      "\n",
      "\n",
      "\n",
      "dataprocessing VIIRS for 20220301 complete...\n",
      "20220308, \n",
      "dataprocessing VIIRS for 20220204 complete...\n",
      "20220310, \n",
      "dataprocessing VIIRS for 20220228 complete...\n",
      "20220311, \n",
      "dataprocessing VIIRS for 20220308 complete...\n",
      "20220316, \n",
      "dataprocessing VIIRS for 20220302 complete...\n",
      "20220325, \n",
      "dataprocessing VIIRS for 20220206 complete...\n",
      "20220327, \n",
      "dataprocessing VIIRS for 20220311 complete...\n",
      "20220331, \n",
      "dataprocessing VIIRS for 20220327 complete...\n",
      "20220405, \n",
      "dataprocessing VIIRS for 20220325 complete...\n",
      "20220406, \n",
      "dataprocessing VIIRS for 20220310 complete...\n",
      "20220408, \n",
      "dataprocessing VIIRS for 20220406 complete...\n",
      "20220409, \n",
      "dataprocessing VIIRS for 20220316 complete...\n",
      "20220412, \n",
      "dataprocessing VIIRS for 20220405 complete...\n",
      "20220415, \n",
      "dataprocessing VIIRS for 20220217 complete...\n",
      "20220417, \n",
      "dataprocessing VIIRS for 20220408 complete...\n",
      "20220418, \n",
      "dataprocessing VIIRS for 20220412 complete...\n",
      "20220419, \n",
      "dataprocessing VIIRS for 20220415 complete...\n",
      "20220424, \n",
      "dataprocessing VIIRS for 20220419 complete...\n",
      "20220428, \n",
      "dataprocessing VIIRS for 20220418 complete...\n",
      "20220429, \n",
      "dataprocessing VIIRS for 20220409 complete...\n",
      "20220430, \n",
      "dataprocessing VIIRS for 20220428 complete...\n",
      "20220510, \n",
      "dataprocessing VIIRS for 20220424 complete...\n",
      "20220513, \n",
      "dataprocessing VIIRS for 20220417 complete...\n",
      "20220514, \n",
      "dataprocessing VIIRS for 20220510 complete...\n",
      "20220515, \n",
      "dataprocessing VIIRS for 20220331 complete...\n",
      "20220517, \n",
      "dataprocessing VIIRS for 20220513 complete...\n",
      "20220518, \n",
      "dataprocessing VIIRS for 20220429 complete...\n",
      "20220525, \n",
      "dataprocessing VIIRS for 20220517 complete...\n",
      "20220526, \n",
      "dataprocessing VIIRS for 20220525 complete...\n",
      "20220611, \n",
      "dataprocessing VIIRS for 20220515 complete...\n",
      "dataprocessing VIIRS for 20220526 complete...\n",
      "dataprocessing VIIRS for 20220430 complete...\n",
      "dataprocessing VIIRS for 20220514 complete...\n",
      "dataprocessing VIIRS for 20220611 complete...\n",
      "dataprocessing VIIRS for 20220518 complete...\n",
      "Job complete for connecting VIIRS fsca to sites/dates, files can be found in /uufs/chpc.utah.edu/common/home/civil-group1/Johnson/SWEMLv2.0/data/TrainingDFs/2022/250M_Resolution/VIIRSGeoObsDFs/20_fSCA_Thresh\n",
      "2023\n",
      "Getting VIIRS fsca values for 60 timesteps of observations for 2023\n",
      "20230122, 20230124, 20230128, 20230127, 20230131, 20230130, \n",
      "\n",
      "\n",
      "\n",
      "\n",
      "\n",
      "dataprocessing VIIRS for 20230127 complete...\n",
      "20230204, \n",
      "dataprocessing VIIRS for 20230131 complete...\n",
      "20230206, \n",
      "dataprocessing VIIRS for 20230128 complete...\n",
      "20230208, \n",
      "dataprocessing VIIRS for 20230124 complete...\n",
      "20230209, \n",
      "dataprocessing VIIRS for 20230130 complete...\n",
      "20230212, \n",
      "dataprocessing VIIRS for 20230122 complete...\n",
      "20230302, \n",
      "dataprocessing VIIRS for 20230204 complete...\n",
      "20230303, \n",
      "dataprocessing VIIRS for 20230208 complete...\n",
      "20230307, \n",
      "dataprocessing VIIRS for 20230209 complete...\n",
      "20230316, \n",
      "dataprocessing VIIRS for 20230302 complete...\n",
      "20230317, \n",
      "dataprocessing VIIRS for 20230303 complete...\n",
      "20230326, \n",
      "dataprocessing VIIRS for 20230307 complete...\n",
      "20230331, \n",
      "dataprocessing VIIRS for 20230326 complete...\n",
      "20230401, \n",
      "dataprocessing VIIRS for 20230212 complete...\n",
      "20230405, \n",
      "dataprocessing VIIRS for 20230401 complete...\n",
      "20230406, \n",
      "dataprocessing VIIRS for 20230316 complete...\n",
      "20230409, \n",
      "dataprocessing VIIRS for 20230206 complete...\n",
      "20230411, \n",
      "dataprocessing VIIRS for 20230406 complete...\n",
      "20230413, \n",
      "dataprocessing VIIRS for 20230317 complete...\n",
      "20230414, \n",
      "dataprocessing VIIRS for 20230405 complete...\n",
      "20230415, \n",
      "dataprocessing VIIRS for 20230331 complete...\n",
      "20230416, \n",
      "dataprocessing VIIRS for 20230411 complete...\n",
      "20230421, \n",
      "dataprocessing VIIRS for 20230409 complete...\n",
      "20230423, \n",
      "dataprocessing VIIRS for 20230423 complete...\n",
      "20230424, \n",
      "dataprocessing VIIRS for 20230416 complete...\n",
      "20230425, \n",
      "dataprocessing VIIRS for 20230413 complete...\n",
      "20230426, \n",
      "dataprocessing VIIRS for 20230414 complete...\n",
      "20230427, \n",
      "dataprocessing VIIRS for 20230415 complete...\n",
      "20230428, \n",
      "dataprocessing VIIRS for 20230421 complete...\n",
      "20230429, \n",
      "dataprocessing VIIRS for 20230426 complete...\n",
      "20230505, \n",
      "dataprocessing VIIRS for 20230424 complete...\n",
      "20230509, \n",
      "dataprocessing VIIRS for 20230505 complete...\n",
      "20230510, \n",
      "dataprocessing VIIRS for 20230427 complete...\n",
      "20230511, \n",
      "No granules found for 2023-05-10, requesting data from NSIDC...\n",
      "No granules found for 2023-05-11, requesting data from NSIDC...\n",
      "dataprocessing VIIRS for 20230509 complete...\n",
      "20230513, \n",
      "dataprocessing VIIRS for 20230425 complete...\n",
      "20230515, \n",
      "Data request is complete.\n",
      "Processing data for dataframe now...\n",
      "Data request is complete.\n",
      "Processing data for dataframe now...\n",
      "dataprocessing VIIRS for 20230429 complete...\n",
      "20230521, \n",
      "dataprocessing VIIRS for 20230521 complete...\n",
      "20230522, \n",
      "dataprocessing VIIRS for 20230510 complete...\n",
      "20230523, \n",
      "dataprocessing VIIRS for 20230523 complete...\n",
      "20230525, \n",
      "dataprocessing VIIRS for 20230511 complete...\n",
      "20230526, \n",
      "dataprocessing VIIRS for 20230522 complete...\n",
      "20230527, \n",
      "No granules found for 2023-05-27, requesting data from NSIDC...\n",
      "dataprocessing VIIRS for 20230513 complete...\n",
      "20230528, \n",
      "No granules found for 2023-05-28, requesting data from NSIDC...\n",
      "dataprocessing VIIRS for 20230525 complete...\n",
      "20230531, \n",
      "dataprocessing VIIRS for 20230515 complete...\n",
      "20230601, \n",
      "Data request is complete.\n",
      "Processing data for dataframe now...\n",
      "dataprocessing VIIRS for 20230526 complete...\n",
      "20230602, \n",
      "dataprocessing VIIRS for 20230527 complete...\n",
      "20230603, \n",
      "dataprocessing VIIRS for 20230428 complete...\n",
      "20230607, \n",
      "Data request is complete.\n",
      "Processing data for dataframe now...\n",
      "dataprocessing VIIRS for 20230602 complete...\n",
      "20230608, \n",
      "dataprocessing VIIRS for 20230607 complete...\n",
      "20230615, \n",
      "dataprocessing VIIRS for 20230531 complete...\n",
      "20230618, \n",
      "dataprocessing VIIRS for 20230615 complete...\n",
      "20230625, \n",
      "dataprocessing VIIRS for 20230528 complete...\n",
      "20230626, \n",
      "dataprocessing VIIRS for 20230601 complete...\n",
      "20230630, \n",
      "dataprocessing VIIRS for 20230608 complete...\n",
      "20230702, \n",
      "dataprocessing VIIRS for 20230702 complete...\n",
      "dataprocessing VIIRS for 20230603 complete...\n",
      "dataprocessing VIIRS for 20230625 complete...\n",
      "dataprocessing VIIRS for 20230626 complete...\n",
      "dataprocessing VIIRS for 20230630 complete...\n",
      "dataprocessing VIIRS for 20240211 complete...\n",
      "20240227, \n",
      "dataprocessing VIIRS for 20240212 complete...\n",
      "20240308, \n",
      "dataprocessing VIIRS for 20240210 complete...\n",
      "20240314, \n",
      "dataprocessing VIIRS for 20240129 complete...\n",
      "20240315, \n",
      "dataprocessing VIIRS for 20240308 complete...\n",
      "20240319, \n",
      "dataprocessing VIIRS for 20240222 complete...\n",
      "20240321, \n",
      "dataprocessing VIIRS for 20240227 complete...\n",
      "20240326, \n",
      "dataprocessing VIIRS for 20240314 complete...\n",
      "20240401, \n",
      "dataprocessing VIIRS for 20240127 complete...\n",
      "20240402, \n",
      "dataprocessing VIIRS for 20240319 complete...\n",
      "20240403, \n",
      "dataprocessing VIIRS for 20240321 complete...\n",
      "20240404, \n",
      "dataprocessing VIIRS for 20240401 complete...\n",
      "20240409, \n",
      "dataprocessing VIIRS for 20240404 complete...\n",
      "20240410, \n",
      "No granules found for 2024-04-09, requesting data from NSIDC...\n",
      "dataprocessing VIIRS for 20240402 complete...\n",
      "20240411, \n",
      "dataprocessing VIIRS for 20240403 complete...\n",
      "20240414, \n",
      "dataprocessing VIIRS for 20240326 complete...\n",
      "20240415, \n",
      "Data request is complete.\n",
      "Processing data for dataframe now...\n",
      "dataprocessing VIIRS for 20240415 complete...\n",
      "20240416, \n",
      "dataprocessing VIIRS for 20240414 complete...\n",
      "20240417, \n",
      "dataprocessing VIIRS for 20240409 complete...\n",
      "20240418, \n",
      "dataprocessing VIIRS for 20240411 complete...\n",
      "20240421, \n",
      "dataprocessing VIIRS for 20240421 complete...\n",
      "20240424, \n",
      "dataprocessing VIIRS for 20240410 complete...\n",
      "20240425, \n",
      "dataprocessing VIIRS for 20240417 complete...\n",
      "20240427, \n",
      "dataprocessing VIIRS for 20240315 complete...\n",
      "20240428, \n",
      "dataprocessing VIIRS for 20240424 complete...\n",
      "20240429, \n",
      "dataprocessing VIIRS for 20240425 complete...\n",
      "20240430, \n",
      "dataprocessing VIIRS for 20240418 complete...\n",
      "20240501, \n",
      "dataprocessing VIIRS for 20240428 complete...\n",
      "20240502, \n",
      "dataprocessing VIIRS for 20240430 complete...\n",
      "20240508, \n",
      "dataprocessing VIIRS for 20240429 complete...\n",
      "20240513, \n",
      "dataprocessing VIIRS for 20240502 complete...\n",
      "20240516, \n",
      "dataprocessing VIIRS for 20240501 complete...\n",
      "20240517, \n",
      "dataprocessing VIIRS for 20240427 complete...\n",
      "20240520, \n",
      "dataprocessing VIIRS for 20240520 complete...\n",
      "20240521, \n",
      "dataprocessing VIIRS for 20240516 complete...\n",
      "20240522, \n",
      "dataprocessing VIIRS for 20240508 complete...\n",
      "20240523, \n",
      "dataprocessing VIIRS for 20240416 complete...\n",
      "20240527, \n",
      "No granules found for 2024-05-27, requesting data from NSIDC...\n",
      "dataprocessing VIIRS for 20240517 complete...\n",
      "20240530, \n",
      "dataprocessing VIIRS for 20240522 complete...\n",
      "20240605, \n",
      "Data request is complete.\n",
      "Processing data for dataframe now...\n",
      "dataprocessing VIIRS for 20240523 complete...\n",
      "20240607, \n",
      "dataprocessing VIIRS for 20240605 complete...\n",
      "dataprocessing VIIRS for 20240530 complete...\n",
      "dataprocessing VIIRS for 20240521 complete...\n",
      "dataprocessing VIIRS for 20240607 complete...\n",
      "dataprocessing VIIRS for 20240527 complete...\n",
      "dataprocessing VIIRS for 20240513 complete...\n",
      "Job complete for connecting VIIRS fsca to sites/dates, files can be found in /uufs/chpc.utah.edu/common/home/civil-group1/Johnson/SWEMLv2.0/data/TrainingDFs/2024/250M_Resolution/VIIRSGeoObsDFs/20_fSCA_Thresh\n"
     ]
    }
   ],
   "source": [
    "threshold = 20\n",
    "\n",
    "#check to see if the VIIRS data is available locally, if not, get from CIROH AWS - I think all of this data is for the incorrect year...\n",
    "#get_VIIRS_SCA.get_VIIRS_from_AWS()\n",
    "\n",
    "#Connect VIIRS data to dataframes\n",
    "for WY in WY_list:\n",
    "    path = f\"{HOME}/data/ASO/{WY}/{output_res}M_SWE_parquet\"\n",
    "    if os.path.isdir(path) == True:\n",
    "        print(WY)\n",
    "        get_VIIRS_SCA.augment_SCA_multiprocessing(WY, output_res, threshold)\n",
    "    else:\n",
    "        print(f\"No ASO data for {WY}\")\n"
   ]
  },
  {
   "cell_type": "code",
   "execution_count": 2,
   "id": "22306d66-90c9-4775-b99f-acaef4755560",
   "metadata": {},
   "outputs": [],
   "source": [
    "WY_list = ['2019', '2020', '2021', '2022', '2023', '2024']# - Trying the first bit to prove concept, then can expand\n",
    "#WY_list = ['2019', '2020', '2021', '2022', '2023', '2024']# - Trying the first bit to prove concept, then can expand\n"
   ]
  },
  {
   "cell_type": "code",
   "execution_count": null,
   "id": "45a59828",
   "metadata": {
    "tags": []
   },
   "outputs": [
    {
     "name": "stdout",
     "output_type": "stream",
     "text": [
      "2019\n",
      "ASO_USCAJW_250M_SWE_20190315.parquet\n",
      "['2019-03-09', '2019-03-15', '2019-03-16', '2019-03-16', '2019-03-17', '2019-03-17', '2019-03-24', '2019-03-24', '2019-03-25', '2019-03-26', '2019-03-29', '2019-04-07', '2019-04-07', '2019-04-08', '2019-04-17', '2019-04-17', '2019-04-18', '2019-04-19', '2019-04-21', '2019-04-27', '2019-04-28', '2019-05-01', '2019-05-01', '2019-05-02', '2019-05-03', '2019-06-04', '2019-06-05', '2019-06-08', '2019-06-08', '2019-06-09', '2019-06-09', '2019-06-10', '2019-06-10', '2019-06-11', '2019-06-11', '2019-06-13', '2019-06-14', '2019-06-24', '2019-07-03', '2019-07-03', '2019-07-04', '2019-07-04', '2019-07-05', '2019-07-13', '2019-07-14', '2019-07-15', '2019-07-16']\n",
      "No ASO observations for WY2013\n",
      "No ASO observations for WY2014\n",
      "No ASO observations for WY2015\n",
      "No ASO observations for WY2016\n",
      "No ASO observations for WY2017\n",
      "No ASO observations for WY2018\n",
      "No ASO observations for WY2020\n",
      "No ASO observations for WY2021\n",
      "No ASO observations for WY2022\n",
      "No ASO observations for WY2023\n",
      "No ASO observations for WY2024\n",
      "[2019] 2018-09-30 2019-07-17\n",
      "Getting daily precipitation data for 329389 sites\n"
     ]
    },
    {
     "name": "stderr",
     "output_type": "stream",
     "text": [
      "100%|██████████| 329389/329389 [00:23<00:00, 13991.12it/s]\n",
      "Sleeping 0.76 seconds before retry 1 of 5 for request: POST https://earthengine.googleapis.com/v1/projects/earthengine-legacy/value:compute?prettyPrint=false&alt=json, after 503\n"
     ]
    },
    {
     "name": "stdout",
     "output_type": "stream",
     "text": [
      "Job complete for getting precipiation datdata for WY2024, processing dataframes for file storage\n",
      "Adding precipitation features to ML dataframe for the 2019 region.\n",
      "Connecting precipitation to ASO observations for 2019 on 2019-03-09\n"
     ]
    },
    {
     "data": {
      "application/vnd.jupyter.widget-view+json": {
       "model_id": "90caf68013db428ea9f1f4d5c47278c0",
       "version_major": 2,
       "version_minor": 0
      },
      "text/plain": [
       "  0%|          | 0/556 [00:00<?, ?it/s]"
      ]
     },
     "metadata": {},
     "output_type": "display_data"
    },
    {
     "name": "stdout",
     "output_type": "stream",
     "text": [
      "Connecting precipitation to ASO observations for 2019 on 2019-03-17\n",
      "Connecting precipitation to ASO observations for 2019 on 2019-03-26\n",
      "Connecting precipitation to ASO observations for 2019 on 2019-03-25\n"
     ]
    },
    {
     "data": {
      "application/vnd.jupyter.widget-view+json": {
       "model_id": "f957993e6a064fbb9616c6c1176e1fcf",
       "version_major": 2,
       "version_minor": 0
      },
      "text/plain": [
       "  0%|          | 0/19572 [00:00<?, ?it/s]"
      ]
     },
     "metadata": {},
     "output_type": "display_data"
    },
    {
     "data": {
      "application/vnd.jupyter.widget-view+json": {
       "model_id": "326e7ed3c4d34be8bea333a9c552c0c8",
       "version_major": 2,
       "version_minor": 0
      },
      "text/plain": [
       "  0%|          | 0/27058 [00:00<?, ?it/s]"
      ]
     },
     "metadata": {},
     "output_type": "display_data"
    },
    {
     "name": "stdout",
     "output_type": "stream",
     "text": [
      "Connecting precipitation to ASO observations for 2019 on 2019-03-24\n"
     ]
    },
    {
     "data": {
      "application/vnd.jupyter.widget-view+json": {
       "model_id": "9f6a13347380457cbefe372e6f23275d",
       "version_major": 2,
       "version_minor": 0
      },
      "text/plain": [
       "  0%|          | 0/32682 [00:00<?, ?it/s]"
      ]
     },
     "metadata": {},
     "output_type": "display_data"
    },
    {
     "name": "stdout",
     "output_type": "stream",
     "text": [
      "Connecting precipitation to ASO observations for 2019 on 2019-03-29\n",
      "Connecting precipitation to ASO observations for 2019 on 2019-04-08\n"
     ]
    },
    {
     "data": {
      "application/vnd.jupyter.widget-view+json": {
       "model_id": "45f08516498649169a741e1943fbda24",
       "version_major": 2,
       "version_minor": 0
      },
      "text/plain": [
       "  0%|          | 0/33914 [00:00<?, ?it/s]"
      ]
     },
     "metadata": {},
     "output_type": "display_data"
    },
    {
     "data": {
      "application/vnd.jupyter.widget-view+json": {
       "model_id": "093c9f64921b4c95b4ec909680a66c66",
       "version_major": 2,
       "version_minor": 0
      },
      "text/plain": [
       "  0%|          | 0/16836 [00:00<?, ?it/s]"
      ]
     },
     "metadata": {},
     "output_type": "display_data"
    },
    {
     "name": "stdout",
     "output_type": "stream",
     "text": [
      "Connecting precipitation to ASO observations for 2019 on 2019-04-19\n"
     ]
    },
    {
     "data": {
      "application/vnd.jupyter.widget-view+json": {
       "model_id": "8411b3588daa431a87274f2cf6f17d6b",
       "version_major": 2,
       "version_minor": 0
      },
      "text/plain": [
       "  0%|          | 0/13495 [00:00<?, ?it/s]"
      ]
     },
     "metadata": {},
     "output_type": "display_data"
    },
    {
     "name": "stdout",
     "output_type": "stream",
     "text": [
      "Connecting precipitation to ASO observations for 2019 on 2019-04-17\n"
     ]
    },
    {
     "data": {
      "application/vnd.jupyter.widget-view+json": {
       "model_id": "74b5a64ca20c4b80a9b1b5d46b54e4f9",
       "version_major": 2,
       "version_minor": 0
      },
      "text/plain": [
       "  0%|          | 0/17737 [00:00<?, ?it/s]"
      ]
     },
     "metadata": {},
     "output_type": "display_data"
    },
    {
     "name": "stdout",
     "output_type": "stream",
     "text": [
      "Connecting precipitation to ASO observations for 2019 on 2019-03-16\n"
     ]
    },
    {
     "data": {
      "application/vnd.jupyter.widget-view+json": {
       "model_id": "44386919fe6b4197bc4250d0694eadbc",
       "version_major": 2,
       "version_minor": 0
      },
      "text/plain": [
       "  0%|          | 0/33914 [00:00<?, ?it/s]"
      ]
     },
     "metadata": {},
     "output_type": "display_data"
    },
    {
     "name": "stdout",
     "output_type": "stream",
     "text": [
      "Connecting precipitation to ASO observations for 2019 on 2019-04-07\n",
      "Connecting precipitation to ASO observations for 2019 on 2019-03-15\n"
     ]
    },
    {
     "data": {
      "application/vnd.jupyter.widget-view+json": {
       "model_id": "714fbe41ce3146f98d8656d5edc033a3",
       "version_major": 2,
       "version_minor": 0
      },
      "text/plain": [
       "  0%|          | 0/71219 [00:00<?, ?it/s]"
      ]
     },
     "metadata": {},
     "output_type": "display_data"
    },
    {
     "name": "stdout",
     "output_type": "stream",
     "text": [
      "Connecting precipitation to ASO observations for 2019 on 2019-04-21\n"
     ]
    },
    {
     "data": {
      "application/vnd.jupyter.widget-view+json": {
       "model_id": "6c693a436f1c409495558de11c0b4490",
       "version_major": 2,
       "version_minor": 0
      },
      "text/plain": [
       "  0%|          | 0/48935 [00:00<?, ?it/s]"
      ]
     },
     "metadata": {},
     "output_type": "display_data"
    },
    {
     "data": {
      "application/vnd.jupyter.widget-view+json": {
       "model_id": "d6ebb2b5f3a944fb97f3e5de82f91b87",
       "version_major": 2,
       "version_minor": 0
      },
      "text/plain": [
       "  0%|          | 0/28832 [00:00<?, ?it/s]"
      ]
     },
     "metadata": {},
     "output_type": "display_data"
    },
    {
     "data": {
      "application/vnd.jupyter.widget-view+json": {
       "model_id": "2bb5ef3217334e39aacb013699ae8b92",
       "version_major": 2,
       "version_minor": 0
      },
      "text/plain": [
       "  0%|          | 0/85001 [00:00<?, ?it/s]"
      ]
     },
     "metadata": {},
     "output_type": "display_data"
    },
    {
     "name": "stdout",
     "output_type": "stream",
     "text": [
      "Connecting precipitation to ASO observations for 2019 on 2019-04-27\n",
      "Connecting precipitation to ASO observations for 2019 on 2019-05-02\n"
     ]
    },
    {
     "data": {
      "application/vnd.jupyter.widget-view+json": {
       "model_id": "5eb633e28b5c41a7930af5e16458cd94",
       "version_major": 2,
       "version_minor": 0
      },
      "text/plain": [
       "  0%|          | 0/24556 [00:00<?, ?it/s]"
      ]
     },
     "metadata": {},
     "output_type": "display_data"
    },
    {
     "data": {
      "application/vnd.jupyter.widget-view+json": {
       "model_id": "a162b939511b43b9bafa10562db6fb82",
       "version_major": 2,
       "version_minor": 0
      },
      "text/plain": [
       "  0%|          | 0/19572 [00:00<?, ?it/s]"
      ]
     },
     "metadata": {},
     "output_type": "display_data"
    },
    {
     "name": "stdout",
     "output_type": "stream",
     "text": [
      "Connecting precipitation to ASO observations for 2019 on 2019-04-18\n"
     ]
    },
    {
     "data": {
      "application/vnd.jupyter.widget-view+json": {
       "model_id": "32ed5176657f40c8a0ddf0dfacb5ab3c",
       "version_major": 2,
       "version_minor": 0
      },
      "text/plain": [
       "  0%|          | 0/71219 [00:00<?, ?it/s]"
      ]
     },
     "metadata": {},
     "output_type": "display_data"
    },
    {
     "name": "stdout",
     "output_type": "stream",
     "text": [
      "Connecting precipitation to ASO observations for 2019 on 2019-05-01\n",
      "Connecting precipitation to ASO observations for 2019 on 2019-06-04\n"
     ]
    },
    {
     "data": {
      "application/vnd.jupyter.widget-view+json": {
       "model_id": "340f949cc6c940709fc0bea7919c798e",
       "version_major": 2,
       "version_minor": 0
      },
      "text/plain": [
       "  0%|          | 0/32682 [00:00<?, ?it/s]"
      ]
     },
     "metadata": {},
     "output_type": "display_data"
    },
    {
     "name": "stdout",
     "output_type": "stream",
     "text": [
      "Connecting precipitation to ASO observations for 2019 on 2019-06-09\n"
     ]
    },
    {
     "data": {
      "application/vnd.jupyter.widget-view+json": {
       "model_id": "47108133ae3d4145a95e6cca9fb5a041",
       "version_major": 2,
       "version_minor": 0
      },
      "text/plain": [
       "  0%|          | 0/20742 [00:00<?, ?it/s]"
      ]
     },
     "metadata": {},
     "output_type": "display_data"
    },
    {
     "data": {
      "application/vnd.jupyter.widget-view+json": {
       "model_id": "fd76da777705435e8de742c8bc27ffaa",
       "version_major": 2,
       "version_minor": 0
      },
      "text/plain": [
       "  0%|          | 0/13495 [00:00<?, ?it/s]"
      ]
     },
     "metadata": {},
     "output_type": "display_data"
    },
    {
     "name": "stdout",
     "output_type": "stream",
     "text": [
      "Connecting precipitation to ASO observations for 2019 on 2019-06-11\n"
     ]
    },
    {
     "data": {
      "application/vnd.jupyter.widget-view+json": {
       "model_id": "106fcd424e2b4243a89fc71536207d3e",
       "version_major": 2,
       "version_minor": 0
      },
      "text/plain": [
       "  0%|          | 0/556 [00:00<?, ?it/s]"
      ]
     },
     "metadata": {},
     "output_type": "display_data"
    },
    {
     "name": "stdout",
     "output_type": "stream",
     "text": [
      "Connecting precipitation to ASO observations for 2019 on 2019-05-03\n"
     ]
    },
    {
     "data": {
      "application/vnd.jupyter.widget-view+json": {
       "model_id": "268a6c7316d042ed83981d6bf86ce6da",
       "version_major": 2,
       "version_minor": 0
      },
      "text/plain": [
       "  0%|          | 0/33914 [00:00<?, ?it/s]"
      ]
     },
     "metadata": {},
     "output_type": "display_data"
    },
    {
     "name": "stdout",
     "output_type": "stream",
     "text": [
      "Connecting precipitation to ASO observations for 2019 on 2019-06-05\n",
      "Connecting precipitation to ASO observations for 2019 on 2019-06-10\n"
     ]
    },
    {
     "data": {
      "application/vnd.jupyter.widget-view+json": {
       "model_id": "c1a33437517b48f0b53f25ef72312fb7",
       "version_major": 2,
       "version_minor": 0
      },
      "text/plain": [
       "  0%|          | 0/32332 [00:00<?, ?it/s]"
      ]
     },
     "metadata": {},
     "output_type": "display_data"
    },
    {
     "name": "stdout",
     "output_type": "stream",
     "text": [
      "Connecting precipitation to ASO observations for 2019 on 2019-04-28\n"
     ]
    },
    {
     "data": {
      "application/vnd.jupyter.widget-view+json": {
       "model_id": "b62da796160b412dae6f7d04dd3bf491",
       "version_major": 2,
       "version_minor": 0
      },
      "text/plain": [
       "  0%|          | 0/23371 [00:00<?, ?it/s]"
      ]
     },
     "metadata": {},
     "output_type": "display_data"
    },
    {
     "name": "stdout",
     "output_type": "stream",
     "text": [
      "Connecting precipitation to ASO observations for 2019 on 2019-06-08\n"
     ]
    },
    {
     "data": {
      "application/vnd.jupyter.widget-view+json": {
       "model_id": "ea57a6081c1a4267962b2c3ee7b17edb",
       "version_major": 2,
       "version_minor": 0
      },
      "text/plain": [
       "  0%|          | 0/71219 [00:00<?, ?it/s]"
      ]
     },
     "metadata": {},
     "output_type": "display_data"
    },
    {
     "name": "stdout",
     "output_type": "stream",
     "text": [
      "Connecting precipitation to ASO observations for 2019 on 2019-06-24\n"
     ]
    },
    {
     "data": {
      "application/vnd.jupyter.widget-view+json": {
       "model_id": "446f8359ec9e495fa83176bdd10d70e6",
       "version_major": 2,
       "version_minor": 0
      },
      "text/plain": [
       "  0%|          | 0/43965 [00:00<?, ?it/s]"
      ]
     },
     "metadata": {},
     "output_type": "display_data"
    },
    {
     "name": "stdout",
     "output_type": "stream",
     "text": [
      "Connecting precipitation to ASO observations for 2019 on 2019-06-13\n"
     ]
    },
    {
     "data": {
      "application/vnd.jupyter.widget-view+json": {
       "model_id": "6a5a1adb067240d19a48b2410dd437d8",
       "version_major": 2,
       "version_minor": 0
      },
      "text/plain": [
       "  0%|          | 0/17940 [00:00<?, ?it/s]"
      ]
     },
     "metadata": {},
     "output_type": "display_data"
    },
    {
     "name": "stdout",
     "output_type": "stream",
     "text": [
      "Connecting precipitation to ASO observations for 2019 on 2019-06-14\n"
     ]
    },
    {
     "data": {
      "application/vnd.jupyter.widget-view+json": {
       "model_id": "05d9cc0b8fd34b408b4d293ffe856c16",
       "version_major": 2,
       "version_minor": 0
      },
      "text/plain": [
       "  0%|          | 0/33914 [00:00<?, ?it/s]"
      ]
     },
     "metadata": {},
     "output_type": "display_data"
    },
    {
     "data": {
      "application/vnd.jupyter.widget-view+json": {
       "model_id": "d00bce02ef864209a227db01f77e5aff",
       "version_major": 2,
       "version_minor": 0
      },
      "text/plain": [
       "  0%|          | 0/32682 [00:00<?, ?it/s]"
      ]
     },
     "metadata": {},
     "output_type": "display_data"
    },
    {
     "name": "stdout",
     "output_type": "stream",
     "text": [
      "Connecting precipitation to ASO observations for 2019 on 2019-07-03\n"
     ]
    },
    {
     "data": {
      "application/vnd.jupyter.widget-view+json": {
       "model_id": "f3c4353b5a264c4586532a74443b96c9",
       "version_major": 2,
       "version_minor": 0
      },
      "text/plain": [
       "  0%|          | 0/20742 [00:00<?, ?it/s]"
      ]
     },
     "metadata": {},
     "output_type": "display_data"
    },
    {
     "name": "stdout",
     "output_type": "stream",
     "text": [
      "Connecting precipitation to ASO observations for 2019 on 2019-07-15\n"
     ]
    },
    {
     "data": {
      "application/vnd.jupyter.widget-view+json": {
       "model_id": "0757b116df3b42d0896343a34744de32",
       "version_major": 2,
       "version_minor": 0
      },
      "text/plain": [
       "  0%|          | 0/556 [00:00<?, ?it/s]"
      ]
     },
     "metadata": {},
     "output_type": "display_data"
    },
    {
     "name": "stdout",
     "output_type": "stream",
     "text": [
      "Connecting precipitation to ASO observations for 2019 on 2019-07-04\n"
     ]
    },
    {
     "data": {
      "application/vnd.jupyter.widget-view+json": {
       "model_id": "cf5846c1647047ff8bb1648d8e0cf080",
       "version_major": 2,
       "version_minor": 0
      },
      "text/plain": [
       "  0%|          | 0/32682 [00:00<?, ?it/s]"
      ]
     },
     "metadata": {},
     "output_type": "display_data"
    },
    {
     "name": "stdout",
     "output_type": "stream",
     "text": [
      "Connecting precipitation to ASO observations for 2019 on 2019-07-14\n"
     ]
    },
    {
     "data": {
      "application/vnd.jupyter.widget-view+json": {
       "model_id": "c5f92dee3cde46c5b1108800040d5ee6",
       "version_major": 2,
       "version_minor": 0
      },
      "text/plain": [
       "  0%|          | 0/19572 [00:00<?, ?it/s]"
      ]
     },
     "metadata": {},
     "output_type": "display_data"
    },
    {
     "name": "stdout",
     "output_type": "stream",
     "text": [
      "Connecting precipitation to ASO observations for 2019 on 2019-07-16\n"
     ]
    },
    {
     "data": {
      "application/vnd.jupyter.widget-view+json": {
       "model_id": "fac163e22c5145448aa6975d0a85874b",
       "version_major": 2,
       "version_minor": 0
      },
      "text/plain": [
       "  0%|          | 0/20742 [00:00<?, ?it/s]"
      ]
     },
     "metadata": {},
     "output_type": "display_data"
    },
    {
     "name": "stdout",
     "output_type": "stream",
     "text": [
      "Connecting precipitation to ASO observations for 2019 on 2019-07-13\n"
     ]
    },
    {
     "data": {
      "application/vnd.jupyter.widget-view+json": {
       "model_id": "2b8e8cdefca945039b0d40a4bb336bbf",
       "version_major": 2,
       "version_minor": 0
      },
      "text/plain": [
       "  0%|          | 0/32682 [00:00<?, ?it/s]"
      ]
     },
     "metadata": {},
     "output_type": "display_data"
    },
    {
     "name": "stdout",
     "output_type": "stream",
     "text": [
      "Connecting precipitation to ASO observations for 2019 on 2019-07-05\n"
     ]
    },
    {
     "data": {
      "application/vnd.jupyter.widget-view+json": {
       "model_id": "7cd7e894974e4c2b8347b6fe612219dc",
       "version_major": 2,
       "version_minor": 0
      },
      "text/plain": [
       "  0%|          | 0/33914 [00:00<?, ?it/s]"
      ]
     },
     "metadata": {},
     "output_type": "display_data"
    },
    {
     "name": "stdout",
     "output_type": "stream",
     "text": [
      "2020\n",
      "ASO_Kings_250M_SWE_20200411.parquet\n",
      "['2020-04-11', '2020-04-13', '2020-04-13', '2020-04-14', '2020-05-02', '2020-05-04', '2020-05-07', '2020-05-07', '2020-05-21', '2020-05-21', '2020-05-23', '2020-05-29', '2020-06-04', '2020-06-08']\n",
      "No ASO observations for WY2013\n",
      "No ASO observations for WY2014\n",
      "No ASO observations for WY2015\n",
      "No ASO observations for WY2016\n",
      "No ASO observations for WY2017\n",
      "No ASO observations for WY2018\n",
      "No ASO observations for WY2019\n",
      "No ASO observations for WY2021\n",
      "No ASO observations for WY2022\n",
      "No ASO observations for WY2023\n",
      "No ASO observations for WY2024\n",
      "[2020] 2019-09-30 2020-06-09\n",
      "Getting daily precipitation data for 219626 sites\n"
     ]
    },
    {
     "name": "stderr",
     "output_type": "stream",
     "text": [
      "100%|██████████| 219626/219626 [00:15<00:00, 14002.28it/s]\n",
      "Sleeping 1.45 seconds before retry 1 of 5 for request: POST https://earthengine.googleapis.com/v1/projects/earthengine-legacy/value:compute?prettyPrint=false&alt=json, after 502\n"
     ]
    }
   ],
   "source": [
    "'''\n",
    "note*, if using python > 3.9, you will likely need to change the ee package to from io import StringIO\n",
    "sometimes there will be an ASO file that is inproperly named in the ASO yr folder, it typically also makes a ,ipynb checkpoint that crash the code\n",
    "'''\n",
    "#gets precipitation for each location, accumulates it through the water year\n",
    "#This step could be made much more efficient by collecting all of the tiles in one step, then multiprocessing later\n",
    "\n",
    "#set start/end date for a water year\n",
    "years = [2013, 2014, 2015, 2016, 2017, 2018, 2019, 2020, 2021, 2022, 2023, 2024]\n",
    "\n",
    "#output_res = 1000\n",
    "threshold = 20\n",
    "\n",
    "for WY in WY_list:\n",
    "    path = f\"{HOME}/data/ASO/{WY}/{output_res}M_SWE_parquet\"\n",
    "\n",
    "    if os.path.isdir(path) == True:\n",
    "        print(WY)\n",
    "        get_Precip.get_precip_threaded(WY, output_res, years)\n",
    "    else:\n",
    "        print(f\"No ASO data for {WY}, {path}\")\n",
    "\n",
    "    #Connect precipitation to processed DFs\n",
    "    get_Precip.Make_Precip_DF(WY, output_res, threshold)\n"
   ]
  },
  {
   "cell_type": "markdown",
   "id": "de96494a-ba0a-4376-9a98-2b9a632d4749",
   "metadata": {},
   "source": [
    "## Add seasonality metrics to the dataframe"
   ]
  },
  {
   "cell_type": "code",
   "execution_count": null,
   "id": "84d2f59c-8364-4cb2-8f2a-ffaced554314",
   "metadata": {},
   "outputs": [],
   "source": [
    "WY_list = ['2013', '2014', '2015', '2016', '2017', '2018', '2019', '2020', '2021', '2022', '2023', '2024'] #'2013', '2014', '2015', '2016', '2017', '2018', '2019', '2020', '2021', '2022', '2023', '2024' - Trying the first bit to prove concept, then can expand\n"
   ]
  },
  {
   "cell_type": "code",
   "execution_count": null,
   "id": "b840e511",
   "metadata": {
    "scrolled": true,
    "tags": []
   },
   "outputs": [],
   "source": [
    "#output_res = 1000\n",
    "threshold = 20\n",
    "for WY in WY_list:\n",
    "    #process snotel sites to make \"snow hydrograph features\" to determine above/below average WY conditions\n",
    "    get_Seasonality.seasonal_snotel()\n",
    "\n",
    "\n",
    "    #get the Day of season metric for each dataframe\n",
    "    get_Seasonality.add_Seasonality(WY, output_res, threshold)"
   ]
  },
  {
   "cell_type": "markdown",
   "id": "ad085308",
   "metadata": {},
   "source": [
    "# Use Sturm's snow classification as features within model framework\n",
    "\n",
    "Using the originally created env, it looks like the rasterio package does not contain the correct ECS driver. Trying to address this with conda install conda-forge::rasterio in my SWEML_310 env from the shell in CHPC"
   ]
  },
  {
   "cell_type": "code",
   "execution_count": null,
   "id": "b1e4c09d",
   "metadata": {
    "tags": []
   },
   "outputs": [],
   "source": [
    "ModuleDir = os.getcwd()\n",
    "ModuleDir = os.chdir('Dataprocessing')\n",
    "ModuleDir = os.getcwd()\n",
    "#outputres =1000\n",
    "thres = 20\n",
    "\n",
    "#download sturm data\n",
    "stpro.get_Sturm_data()\n",
    "\n",
    "for WY in WY_list:\n",
    "    input_directory = f\"{HOME}/data/TrainingDFs/{WY}/{output_res}M_Resolution/Seasonality_PrecipVIIRSGeoObsDFs/{thres}_fSCA_Thresh\"\n",
    "    sturm_file = f\"{HOME}/data/SnowClassification/SnowClass_NA_300m_10.0arcsec_2021_v01.0.tif\" #https://nsidc.org/data/nsidc-0768/versions/1\n",
    "    output_directory = f\"{HOME}/data/TrainingDFs/{WY}/{output_res}M_Resolution/Sturm_Seasonality_PrecipVIIRSGeoObsDFs/{thres}_fSCA_Thresh\"\n",
    "    \n",
    "    # Create output directory if it doesn't exist\n",
    "    os.makedirs(output_directory, exist_ok=True)\n",
    "    \n",
    "    stpro.process_sturm_data_for_files(input_directory, sturm_file, output_directory)"
   ]
  },
  {
   "cell_type": "markdown",
   "id": "4d90eacf-432a-4d0b-a804-5cdfd62bfa0a",
   "metadata": {},
   "source": [
    "# Add vegetation data to the dataframe from the North American land Cover Management Systemoutput_path"
   ]
  },
  {
   "cell_type": "code",
   "execution_count": null,
   "id": "b6bed310",
   "metadata": {
    "scrolled": true
   },
   "outputs": [],
   "source": [
    "#get data\n",
    "url = \"http://www.cec.org/files/atlas_layers/1_terrestrial_ecosystems/1_01_0_land_cover_2020_30m/usa_land_cover_2020v2_30m_tif.zip\"\n",
    "output_path = f\"{HOME}/data/LandCover/\"\n",
    "file = \"usa_land_cover_2020v2_30m_tif.zip\" \n",
    "vegpro.get_data(url, output_path, file)\n",
    "#unzip the file is not already done\n",
    "#vegpro.unzip_LC_data(output_path, file)\n",
    "#output = 1000 \n",
    "\n",
    "for WY in WY_list:\n",
    "    input_directory = f\"{HOME}/data/TrainingDFs/{WY}/{output_res}M_Resolution/Sturm_Seasonality_PrecipVIIRSGeoObsDFs/20_fSCA_Thresh\"\n",
    "    vegetation_file = f\"{HOME}/data/LandCover/usa_land_cover_2020v2_30m_tif/USA_NALCMS_landcover_2020v2_30m/data/USA_NALCMS_landcover_2020v2_30m.tif\"\n",
    "    output_directory = f\"{HOME}/data/TrainingDFs/{WY}/{output_res}M_Resolution/Vegetation_Sturm_Seasonality_PrecipVIIRSGeoObsDFs/20_fSCA_Thresh\"\n",
    "    \n",
    "    # Create output directory if it doesn't exist\n",
    "    os.makedirs(output_directory, exist_ok=True)\n",
    "    \n",
    "    vegpro.process_vegetation_data_for_files(input_directory, vegetation_file, output_directory)"
   ]
  },
  {
   "cell_type": "markdown",
   "id": "68e51b09",
   "metadata": {},
   "source": [
    "## Next steps\n",
    "* Explore why errors in precip sites above\n",
    "* add in situ obs - seasonality based on the historical neareste x monitoring stations - like a historical average to-date swe value unit hydrograph based on the day of year? This will include a historical time of year of normal swe value and a swe value of year compared to normal\n",
    "* albedo metric\n"
   ]
  },
  {
   "cell_type": "code",
   "execution_count": null,
   "id": "c225bd0f",
   "metadata": {},
   "outputs": [],
   "source": [
    "import pandas as pd\n",
    "\n",
    "HOME = os.path.expanduser('~')\n",
    "region = 'Southwest'\n",
    "output_res = '300'\n",
    "\n",
    "dfpath = f\"{HOME}/SWEMLv2.0/data/TrainingDFs/{region}/{output_res}M_Resolution\"\n",
    "\n",
    "SWmeta = pd.read_parquet(f\"{dfpath}/{region}_metadata.parquet\")\n",
    "\n",
    "import UpdateDataFrame\n",
    "\n",
    "#need to update the topographic features for every dataframe\n",
    "output_res = '300'\n",
    "training_cats = ['Obsdf']\n",
    "fSCA = '' #'20_fSCA_Thresh'\n",
    "\n",
    "\n",
    "for training_cat in training_cats:\n",
    "    print(training_cat)\n",
    "\n",
    "    for region in region_list:\n",
    "        print(region)\n",
    "        dfpath = f\"{HOME}/SWEMLv2.0/data/TrainingDFs/{region}/{output_res}M_Resolution\"\n",
    "        #file to be used to updated training DF\n",
    "        updatefile = pd.read_parquet(f\"{dfpath}/{region}_metadata.parquet\")\n",
    "\n",
    "\n",
    "        #Update Dataframe\n",
    "        UpdateDataFrame.updateTrainingDF(region, output_res, training_cat, fSCA, updatefile)\n",
    "\n",
    "trainfile = pd.read_parquet(f\"{dfpath}/{training_cat}/{fSCA}/Sturm_Season_Precip_VIIRS_GeoObsDF_20150406.parquet\")\n",
    "\n",
    "import matplotlib.pyplot as plt\n",
    "import geopandas as gpd\n",
    "\n",
    "from mpl_toolkits.axes_grid1 import make_axes_locatable\n",
    "\n",
    "def SpatialAnalysis(EvalDF):\n",
    "    #Convert to a geopandas DF\n",
    "    Pred_Geo = gpd.GeoDataFrame(EvalDF, geometry = gpd.points_from_xy(EvalDF.cen_lon, EvalDF.cen_lat))\n",
    "\n",
    "    Pred_Geo.plot(column='Elevation_m',\n",
    "                  legend=False,\n",
    "                )\n",
    "    \n",
    "SpatialAnalysis(trainfile)"
   ]
  },
  {
   "cell_type": "code",
   "execution_count": null,
   "id": "19f70f64-8097-451d-ac30-e511a895e585",
   "metadata": {},
   "outputs": [],
   "source": []
  }
 ],
 "metadata": {
  "kernelspec": {
   "display_name": "SWEML_310",
   "language": "python",
   "name": "sweml_310"
  },
  "language_info": {
   "codemirror_mode": {
    "name": "ipython",
    "version": 3
   },
   "file_extension": ".py",
   "mimetype": "text/x-python",
   "name": "python",
   "nbconvert_exporter": "python",
   "pygments_lexer": "ipython3",
   "version": "3.10.13"
  }
 },
 "nbformat": 4,
 "nbformat_minor": 5
}
