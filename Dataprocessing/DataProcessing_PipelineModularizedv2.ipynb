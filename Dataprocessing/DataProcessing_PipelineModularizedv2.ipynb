{
 "cells": [
  {
   "cell_type": "markdown",
   "id": "9685d109",
   "metadata": {},
   "source": [
    "# Data Processing script v2 for the SWEML v2.0\n",
    "This .ipynb script uses python module for processing predownloaded NASA ASO observations by Water Year, locating nearest SNOTEL sites, connecting SNOTEL obs with ASO obs, and add geospatial features to the ML training/testing/hindcast dataframes."
   ]
  },
  {
   "cell_type": "code",
   "execution_count": 1,
   "id": "c2b1ee8b",
   "metadata": {
    "tags": []
   },
   "outputs": [
    {
     "name": "stdout",
     "output_type": "stream",
     "text": [
      "AWS access keys loaded\n"
     ]
    }
   ],
   "source": [
    "import os\n",
    "import numpy as np\n",
    "HOME = os.getcwd()\n",
    "\n",
    "#If you get a proj.db error below, run the following and put the following into the terminal\n",
    "import pyproj\n",
    "# Get the PROJ data directory\n",
    "proj_data_dir = pyproj.datadir.get_data_dir()\n",
    "proj_db_path = proj_data_dir + \"/proj.db\"\n",
    "os.environ['PROJ_LIB'] =pyproj.datadir.get_data_dir()\n",
    "os.environ['PROJ_LIB']\n",
    "\n",
    "#set home to the head of the SWEMLv2.0 directory\n",
    "HOME = os.chdir('..')\n",
    "HOME = os.getcwd()\n",
    "\n",
    "#Add your module here\n",
    "from utils.ASOget import ASODataProcessing_v2\n",
    "import utils.get_InSitu_obs as get_InSitu_obs\n",
    "import utils.GeoDF as GeoDF \n",
    "import utils.Obs_to_DF as Obs_to_DF \n",
    "import utils.get_VIIRS_SCA as get_VIIRS_SCA\n",
    "import utils.get_Precip as get_Precip\n",
    "import utils.get_Seasonality as get_Seasonality\n",
    "import utils.vegetation_processer as vegpro\n",
    "import utils.sturm_processer as stpro\n",
    "\n",
    "\n",
    "\n",
    "#make SWEMLv2.0 modeling domain for western USA\n",
    "WY_list = ['2013', '2014', '2015', '2016', '2017', '2018', '2019', '2020', '2021', '2022', '2023', '2024'] #'2013', '2014', '2015', '2016', '2017', '2018', '2019', '2020', '2021', '2022', '2023', '2024' - Trying the first bit to prove concept, then can expand\n",
    "output_res = 250 #desired spatial resulution in meters (m)"
   ]
  },
  {
   "cell_type": "code",
   "execution_count": null,
   "id": "13469889",
   "metadata": {
    "scrolled": true,
    "tags": []
   },
   "outputs": [],
   "source": [
    "# Inputs for fetching ASO data for a region\n",
    "short_name = 'ASO_50M_SWE'\n",
    "directory = \"Raw_ASO_Data\"\n",
    "\n",
    "#Get ASO data, sometime sites will give error and break code, most times you can just rerun it using the data_processor sections below (e.g., comment out other parts\n",
    "for WY in WY_list:\n",
    "    #Convert ASO tifs to parquet\n",
    "    print(f\"Converting ASO images for WY: {WY}\")\n",
    "    folder_name = f\"{WY}/{directory}\"\n",
    "    data_processor = ASODataProcessing_v2() #note, 2019-5-1, 2019-06-11 seems to be bad, manually removed from SW region\n",
    "    data_processor.convert_tiff_to_parquet_multiprocess(folder_name, output_res, WY) "
   ]
  },
  {
   "cell_type": "markdown",
   "id": "d01e0597",
   "metadata": {},
   "source": [
    "## Get Snotel and CDEC in situ observations\n",
    "- clean in situ observations, specifically the CDEC sites, need a data processing method to remove outtliers and nan/0 obs\n",
    "- Ideas - add nearest sites elevation, distance from cell, then can bypass sites with bad data. "
   ]
  },
  {
   "cell_type": "code",
   "execution_count": null,
   "id": "52a2a3c8",
   "metadata": {
    "scrolled": true,
    "tags": []
   },
   "outputs": [],
   "source": [
    "# Only needed once. Other spatial resolutions can use the same data\n",
    "#Get in situ observations\n",
    "\n",
    "#make a list of dates to align with the ASO observations (they go as early as Jan-29 and as far out as the July-17)\n",
    "years = np.arange(2013,2025,1)#Needs to go 1yr out\n",
    "start_month_day = '10-01'\n",
    "end_month_day = '08-31'\n",
    "#datelist = get_InSitu_obs.make_dates(years, start_month_day, end_month_day, WY = True)\n",
    "\n",
    "# observations \n",
    "get_InSitu_obs.Get_Monitoring_Data_Threaded_Updated(years, start_month_day, end_month_day, WY = True)\n",
    "\n",
    "#combine years\n",
    "get_InSitu_obs.combine_dfs(years)"
   ]
  },
  {
   "cell_type": "markdown",
   "id": "a329ea64",
   "metadata": {},
   "source": [
    "# Code for generating ML dataframe using nearest in situ monitoring sites"
   ]
  },
  {
   "cell_type": "code",
   "execution_count": 7,
   "id": "a554cacd-7c04-4a0f-a078-6c7b27309930",
   "metadata": {},
   "outputs": [],
   "source": [
    "WY_list = ['2021' ] #'2013', '2014', '2015', '2016', '2017', '2018', '2019', '2020', '2021', '2022', '2023', '2024' - Trying the first bit to prove concept, then can expand\n"
   ]
  },
  {
   "cell_type": "code",
   "execution_count": 8,
   "id": "aacde450",
   "metadata": {
    "scrolled": true,
    "tags": []
   },
   "outputs": [
    {
     "name": "stdout",
     "output_type": "stream",
     "text": [
      "2021\n",
      "Loading all Geospatial prediction/observation files and concatenating into one dataframe\n"
     ]
    },
    {
     "data": {
      "application/vnd.jupyter.widget-view+json": {
       "model_id": "9eae5595235c46e0b232013381016a42",
       "version_major": 2,
       "version_minor": 0
      },
      "text/plain": [
       "  0%|          | 0/19 [00:00<?, ?it/s]"
      ]
     },
     "metadata": {},
     "output_type": "display_data"
    },
    {
     "name": "stdout",
     "output_type": "stream",
     "text": [
      "Identifying unique sites to create geophysical information dataframe\n",
      "converting to geodataframe\n",
      "Processing snotel geometry\n",
      "Calculating haversine distance for 389719 locations to in situ OBS, and saving cell-obs relationships in dictionary\n"
     ]
    },
    {
     "data": {
      "application/vnd.jupyter.widget-view+json": {
       "model_id": "f71e05a1c44b4b8480a4a1646a3d1171",
       "version_major": 2,
       "version_minor": 0
      },
      "text/plain": [
       "  0%|          | 0/389719 [00:00<?, ?it/s]"
      ]
     },
     "metadata": {},
     "output_type": "display_data"
    },
    {
     "name": "stdout",
     "output_type": "stream",
     "text": [
      "Saving nearest SNOTEL in 2021 for each cell id in a pkl file\n",
      "Loading geospatial data for 2021\n",
      "Converting to geodataframe\n",
      "Calculating dataframe bounding box\n",
      "-122 35 -104 41\n",
      "Retrieving Copernicus 90m DEM tiles\n"
     ]
    },
    {
     "data": {
      "application/vnd.jupyter.widget-view+json": {
       "model_id": "8b0173b166c4431c8e1e08f658f31ec6",
       "version_major": 2,
       "version_minor": 0
      },
      "text/plain": [
       "  0%|          | 0/132 [00:00<?, ?it/s]"
      ]
     },
     "metadata": {},
     "output_type": "display_data"
    },
    {
     "name": "stdout",
     "output_type": "stream",
     "text": [
      "There are 132 tiles in the region\n",
      "Determining Grid Cell Spatial Features\n"
     ]
    },
    {
     "data": {
      "application/vnd.jupyter.widget-view+json": {
       "model_id": "4cb8c61e4a8244abb8f6fee9843ac3c3",
       "version_major": 2,
       "version_minor": 0
      },
      "text/plain": [
       "  0%|          | 0/389719 [00:00<?, ?it/s]"
      ]
     },
     "metadata": {},
     "output_type": "display_data"
    },
    {
     "name": "stdout",
     "output_type": "stream",
     "text": [
      "Saving 2021 dataframe in /uufs/chpc.utah.edu/common/home/civil-group1/Johnson/SWEMLv2.0/data/TrainingDFs/2021/250M_Resolution\n"
     ]
    }
   ],
   "source": [
    "# GeoDF used to create a dataframe for ML model development. Its function is to connect in situ observations to gridded locations\n",
    "for WY in WY_list:\n",
    "    path = f\"{HOME}/data/ASO/{WY}/{output_res}M_SWE_parquet\"\n",
    "\n",
    "    if os.path.isdir(path) == True:\n",
    "        print(WY)\n",
    "        #load snotel meta location data, use haversive function\n",
    "        GeoDF.fetch_snotel_sites_for_cellids(WY, output_res) # Using known up to date sites\n",
    "\n",
    "        # Get geophysical attributes for each site, need to see how to add output resolution\n",
    "        gdf = GeoDF.GeoSpatial(WY, output_res)\n",
    "\n",
    "        #use geodataframe with lat/long meta of all sites to determine slope, aspect, and elevation\n",
    "        metadf = GeoDF.extract_terrain_data_threaded(gdf, WY, output_res)\n",
    "    else:\n",
    "        print(f\"No ASO data for {WY}\")\n",
    "\n",
    "\n"
   ]
  },
  {
   "cell_type": "markdown",
   "id": "72349ac4",
   "metadata": {},
   "source": [
    "## Connect Snotel to each ASO obs\n"
   ]
  },
  {
   "cell_type": "code",
   "execution_count": 2,
   "id": "43ddaf25-9311-4406-8f2f-76b97e8e1c3a",
   "metadata": {},
   "outputs": [],
   "source": [
    "WY_list = [ '2021', '2022', '2023', '2024']\n"
   ]
  },
  {
   "cell_type": "code",
   "execution_count": 3,
   "id": "573a5df6",
   "metadata": {
    "collapsed": true,
    "jupyter": {
     "outputs_hidden": true
    },
    "tags": []
   },
   "outputs": [
    {
     "name": "stdout",
     "output_type": "stream",
     "text": [
      "2021\n",
      "Connecting site observations with nearest monitoring network obs\n",
      "Loading observations from 2013-2019\n",
      "Loading 250M resolution grids for 2021 region\n",
      "Processing datetime component of SNOTEL observation dataframe\n",
      "Loading 19 processed ASO observations for the 2021 at 250M resolution\n",
      "There are 19 aso dates in snotel obs\n",
      "There are 0 missing snotel obs\n",
      "Connecting 19 timesteps of observations for 2021\n"
     ]
    },
    {
     "name": "stderr",
     "output_type": "stream",
     "text": [
      "100%|██████████| 19/19 [00:00<00:00, 473.24it/s]\n"
     ]
    },
    {
     "name": "stdout",
     "output_type": "stream",
     "text": [
      "Site processing complete, adding observtional data to 20210419 df...\n"
     ]
    },
    {
     "data": {
      "application/vnd.jupyter.widget-view+json": {
       "model_id": "296ff4b9b39145b383c484a42b3b12c1",
       "version_major": 2,
       "version_minor": 0
      },
      "text/plain": [
       "  0%|          | 0/36523 [00:00<?, ?it/s]"
      ]
     },
     "metadata": {},
     "output_type": "display_data"
    },
    {
     "name": "stdout",
     "output_type": "stream",
     "text": [
      "Site processing complete, adding observtional data to 20210515 df...\n"
     ]
    },
    {
     "data": {
      "application/vnd.jupyter.widget-view+json": {
       "model_id": "b133d52d0a584681bd68fa5f8d9f21c6",
       "version_major": 2,
       "version_minor": 0
      },
      "text/plain": [
       "  0%|          | 0/36589 [00:00<?, ?it/s]"
      ]
     },
     "metadata": {},
     "output_type": "display_data"
    },
    {
     "name": "stdout",
     "output_type": "stream",
     "text": [
      "Site processing complete, adding observtional data to 20210418 df...\n"
     ]
    },
    {
     "data": {
      "application/vnd.jupyter.widget-view+json": {
       "model_id": "0c9470b295cc4f8bb3b0b0c9bfedee2a",
       "version_major": 2,
       "version_minor": 0
      },
      "text/plain": [
       "  0%|          | 0/17937 [00:00<?, ?it/s]"
      ]
     },
     "metadata": {},
     "output_type": "display_data"
    },
    {
     "name": "stdout",
     "output_type": "stream",
     "text": [
      "Site processing complete, adding observtional data to 20210524 df...\n"
     ]
    },
    {
     "data": {
      "application/vnd.jupyter.widget-view+json": {
       "model_id": "3b1165052be24f809dd776271d49b135",
       "version_major": 2,
       "version_minor": 0
      },
      "text/plain": [
       "  0%|          | 0/17937 [00:00<?, ?it/s]"
      ]
     },
     "metadata": {},
     "output_type": "display_data"
    },
    {
     "name": "stdout",
     "output_type": "stream",
     "text": [
      "Site processing complete, adding observtional data to 20210420 df...\n"
     ]
    },
    {
     "data": {
      "application/vnd.jupyter.widget-view+json": {
       "model_id": "37381942aa6f4d4892118f8acc55f212",
       "version_major": 2,
       "version_minor": 0
      },
      "text/plain": [
       "  0%|          | 0/14630 [00:00<?, ?it/s]"
      ]
     },
     "metadata": {},
     "output_type": "display_data"
    },
    {
     "name": "stdout",
     "output_type": "stream",
     "text": [
      "Site processing complete, adding observtional data to 20210516 df...\n"
     ]
    },
    {
     "data": {
      "application/vnd.jupyter.widget-view+json": {
       "model_id": "2a2e7df3910f4fdbb075d9242dd67fed",
       "version_major": 2,
       "version_minor": 0
      },
      "text/plain": [
       "  0%|          | 0/14630 [00:00<?, ?it/s]"
      ]
     },
     "metadata": {},
     "output_type": "display_data"
    },
    {
     "name": "stdout",
     "output_type": "stream",
     "text": [
      "/uufs/chpc.utah.edu/common/home/civil-group1/Johnson/SWEMLv2.0/data/TrainingDFs/2021/250M_Resolution/Obsdf/20210420_ObsDF.parquet\n",
      "/uufs/chpc.utah.edu/common/home/civil-group1/Johnson/SWEMLv2.0/data/TrainingDFs/2021/250M_Resolution/Obsdf/20210516_ObsDF.parquet\n",
      "Site processing complete, adding observtional data to 20210420 df...\n"
     ]
    },
    {
     "data": {
      "application/vnd.jupyter.widget-view+json": {
       "model_id": "dc5911f61d634beba33156cd9736b0a9",
       "version_major": 2,
       "version_minor": 0
      },
      "text/plain": [
       "  0%|          | 0/26333 [00:00<?, ?it/s]"
      ]
     },
     "metadata": {},
     "output_type": "display_data"
    },
    {
     "name": "stdout",
     "output_type": "stream",
     "text": [
      "Site processing complete, adding observtional data to 20210514 df...\n"
     ]
    },
    {
     "data": {
      "application/vnd.jupyter.widget-view+json": {
       "model_id": "3b33999fb63e470ba59cd7b8aea67dc5",
       "version_major": 2,
       "version_minor": 0
      },
      "text/plain": [
       "  0%|          | 0/26349 [00:00<?, ?it/s]"
      ]
     },
     "metadata": {},
     "output_type": "display_data"
    },
    {
     "name": "stdout",
     "output_type": "stream",
     "text": [
      "/uufs/chpc.utah.edu/common/home/civil-group1/Johnson/SWEMLv2.0/data/TrainingDFs/2021/250M_Resolution/Obsdf/20210418_ObsDF.parquet\n",
      "/uufs/chpc.utah.edu/common/home/civil-group1/Johnson/SWEMLv2.0/data/TrainingDFs/2021/250M_Resolution/Obsdf/20210524_ObsDF.parquet\n",
      "Site processing complete, adding observtional data to 20210423 df...\n"
     ]
    },
    {
     "data": {
      "application/vnd.jupyter.widget-view+json": {
       "model_id": "5501376eb5a246a091c2e9204c760999",
       "version_major": 2,
       "version_minor": 0
      },
      "text/plain": [
       "  0%|          | 0/28836 [00:00<?, ?it/s]"
      ]
     },
     "metadata": {},
     "output_type": "display_data"
    },
    {
     "name": "stdout",
     "output_type": "stream",
     "text": [
      "Site processing complete, adding observtional data to 20210504 df...\n"
     ]
    },
    {
     "data": {
      "application/vnd.jupyter.widget-view+json": {
       "model_id": "e159129c76dc43ae9e2bb0037cac8082",
       "version_major": 2,
       "version_minor": 0
      },
      "text/plain": [
       "  0%|          | 0/28836 [00:00<?, ?it/s]"
      ]
     },
     "metadata": {},
     "output_type": "display_data"
    },
    {
     "name": "stdout",
     "output_type": "stream",
     "text": [
      "/uufs/chpc.utah.edu/common/home/civil-group1/Johnson/SWEMLv2.0/data/TrainingDFs/2021/250M_Resolution/Obsdf/20210515_ObsDF.parquet\n",
      "/uufs/chpc.utah.edu/common/home/civil-group1/Johnson/SWEMLv2.0/data/TrainingDFs/2021/250M_Resolution/Obsdf/20210419_ObsDF.parquet\n",
      "Site processing complete, adding observtional data to 20210327 df...\n"
     ]
    },
    {
     "data": {
      "application/vnd.jupyter.widget-view+json": {
       "model_id": "ceb1c41135334eda82a4038ef18156f2",
       "version_major": 2,
       "version_minor": 0
      },
      "text/plain": [
       "  0%|          | 0/86557 [00:00<?, ?it/s]"
      ]
     },
     "metadata": {},
     "output_type": "display_data"
    },
    {
     "name": "stdout",
     "output_type": "stream",
     "text": [
      "Site processing complete, adding observtional data to 20210501 df...\n"
     ]
    },
    {
     "data": {
      "application/vnd.jupyter.widget-view+json": {
       "model_id": "d2da299a222842ac8a8ab24a8e0b95c1",
       "version_major": 2,
       "version_minor": 0
      },
      "text/plain": [
       "  0%|          | 0/86557 [00:00<?, ?it/s]"
      ]
     },
     "metadata": {},
     "output_type": "display_data"
    },
    {
     "name": "stdout",
     "output_type": "stream",
     "text": [
      "/uufs/chpc.utah.edu/common/home/civil-group1/Johnson/SWEMLv2.0/data/TrainingDFs/2021/250M_Resolution/Obsdf/20210420_ObsDF.parquet\n",
      "Site processing complete, adding observtional data to 20210326 df...\n"
     ]
    },
    {
     "data": {
      "application/vnd.jupyter.widget-view+json": {
       "model_id": "bc7889d49e3140e39f717fb456e48507",
       "version_major": 2,
       "version_minor": 0
      },
      "text/plain": [
       "  0%|          | 0/34493 [00:00<?, ?it/s]"
      ]
     },
     "metadata": {},
     "output_type": "display_data"
    },
    {
     "name": "stdout",
     "output_type": "stream",
     "text": [
      "/uufs/chpc.utah.edu/common/home/civil-group1/Johnson/SWEMLv2.0/data/TrainingDFs/2021/250M_Resolution/Obsdf/20210514_ObsDF.parquet\n",
      "Site processing complete, adding observtional data to 20210429 df...\n"
     ]
    },
    {
     "data": {
      "application/vnd.jupyter.widget-view+json": {
       "model_id": "04b1dd77804d4e5184f5cd96503faf3b",
       "version_major": 2,
       "version_minor": 0
      },
      "text/plain": [
       "  0%|          | 0/34493 [00:00<?, ?it/s]"
      ]
     },
     "metadata": {},
     "output_type": "display_data"
    },
    {
     "name": "stdout",
     "output_type": "stream",
     "text": [
      "/uufs/chpc.utah.edu/common/home/civil-group1/Johnson/SWEMLv2.0/data/TrainingDFs/2021/250M_Resolution/Obsdf/20210423_ObsDF.parquet\n",
      "Site processing complete, adding observtional data to 20210226 df...\n"
     ]
    },
    {
     "data": {
      "application/vnd.jupyter.widget-view+json": {
       "model_id": "405f3305ea9a4d859b7c3cae852e9db4",
       "version_major": 2,
       "version_minor": 0
      },
      "text/plain": [
       "  0%|          | 0/85201 [00:00<?, ?it/s]"
      ]
     },
     "metadata": {},
     "output_type": "display_data"
    },
    {
     "name": "stdout",
     "output_type": "stream",
     "text": [
      "/uufs/chpc.utah.edu/common/home/civil-group1/Johnson/SWEMLv2.0/data/TrainingDFs/2021/250M_Resolution/Obsdf/20210504_ObsDF.parquet\n",
      "Site processing complete, adding observtional data to 20210331 df...\n"
     ]
    },
    {
     "data": {
      "application/vnd.jupyter.widget-view+json": {
       "model_id": "aa2ee8bb1dc24a2c81841d6208d9f08f",
       "version_major": 2,
       "version_minor": 0
      },
      "text/plain": [
       "  0%|          | 0/85201 [00:00<?, ?it/s]"
      ]
     },
     "metadata": {},
     "output_type": "display_data"
    },
    {
     "name": "stdout",
     "output_type": "stream",
     "text": [
      "/uufs/chpc.utah.edu/common/home/civil-group1/Johnson/SWEMLv2.0/data/TrainingDFs/2021/250M_Resolution/Obsdf/20210326_ObsDF.parquet\n",
      "Site processing complete, adding observtional data to 20210503 df...\n"
     ]
    },
    {
     "data": {
      "application/vnd.jupyter.widget-view+json": {
       "model_id": "3fceb0832c4648c08c15db966d1f6764",
       "version_major": 2,
       "version_minor": 0
      },
      "text/plain": [
       "  0%|          | 0/85204 [00:00<?, ?it/s]"
      ]
     },
     "metadata": {},
     "output_type": "display_data"
    },
    {
     "name": "stdout",
     "output_type": "stream",
     "text": [
      "/uufs/chpc.utah.edu/common/home/civil-group1/Johnson/SWEMLv2.0/data/TrainingDFs/2021/250M_Resolution/Obsdf/20210429_ObsDF.parquet\n",
      "Site processing complete, adding observtional data to 20210224 df...\n"
     ]
    },
    {
     "data": {
      "application/vnd.jupyter.widget-view+json": {
       "model_id": "5d52cd7c1e25497ebeadb87defc25aa0",
       "version_major": 2,
       "version_minor": 0
      },
      "text/plain": [
       "  0%|          | 0/59136 [00:00<?, ?it/s]"
      ]
     },
     "metadata": {},
     "output_type": "display_data"
    },
    {
     "name": "stdout",
     "output_type": "stream",
     "text": [
      "/uufs/chpc.utah.edu/common/home/civil-group1/Johnson/SWEMLv2.0/data/TrainingDFs/2021/250M_Resolution/Obsdf/20210327_ObsDF.parquet\n",
      "/uufs/chpc.utah.edu/common/home/civil-group1/Johnson/SWEMLv2.0/data/TrainingDFs/2021/250M_Resolution/Obsdf/20210501_ObsDF.parquet\n",
      "Site processing complete, adding observtional data to 20210429 df...\n"
     ]
    },
    {
     "data": {
      "application/vnd.jupyter.widget-view+json": {
       "model_id": "6392b8c70adf4a79a14a855e9db70a9a",
       "version_major": 2,
       "version_minor": 0
      },
      "text/plain": [
       "  0%|          | 0/59135 [00:00<?, ?it/s]"
      ]
     },
     "metadata": {},
     "output_type": "display_data"
    },
    {
     "name": "stdout",
     "output_type": "stream",
     "text": [
      "/uufs/chpc.utah.edu/common/home/civil-group1/Johnson/SWEMLv2.0/data/TrainingDFs/2021/250M_Resolution/Obsdf/20210331_ObsDF.parquet\n",
      "/uufs/chpc.utah.edu/common/home/civil-group1/Johnson/SWEMLv2.0/data/TrainingDFs/2021/250M_Resolution/Obsdf/20210226_ObsDF.parquet\n",
      "/uufs/chpc.utah.edu/common/home/civil-group1/Johnson/SWEMLv2.0/data/TrainingDFs/2021/250M_Resolution/Obsdf/20210224_ObsDF.parquet\n",
      "/uufs/chpc.utah.edu/common/home/civil-group1/Johnson/SWEMLv2.0/data/TrainingDFs/2021/250M_Resolution/Obsdf/20210503_ObsDF.parquet\n",
      "/uufs/chpc.utah.edu/common/home/civil-group1/Johnson/SWEMLv2.0/data/TrainingDFs/2021/250M_Resolution/Obsdf/20210429_ObsDF.parquet\n",
      "Job complete for connecting SNOTEL obs to sites/dates\n",
      "2022\n",
      "Connecting site observations with nearest monitoring network obs\n",
      "Loading observations from 2013-2019\n",
      "Loading 250M resolution grids for 2022 region\n",
      "Processing datetime component of SNOTEL observation dataframe\n",
      "Loading 45 processed ASO observations for the 2022 at 250M resolution\n",
      "There are 45 aso dates in snotel obs\n",
      "There are 0 missing snotel obs\n",
      "Connecting 45 timesteps of observations for 2022\n"
     ]
    },
    {
     "name": "stderr",
     "output_type": "stream",
     "text": [
      "100%|██████████| 45/45 [00:00<00:00, 677.07it/s]\n"
     ]
    },
    {
     "name": "stdout",
     "output_type": "stream",
     "text": [
      "Site processing complete, adding observtional data to 20220419 df...\n"
     ]
    },
    {
     "data": {
      "application/vnd.jupyter.widget-view+json": {
       "model_id": "10e1504ee3964bf998b9efc1f4354001",
       "version_major": 2,
       "version_minor": 0
      },
      "text/plain": [
       "  0%|          | 0/17906 [00:00<?, ?it/s]"
      ]
     },
     "metadata": {},
     "output_type": "display_data"
    },
    {
     "name": "stdout",
     "output_type": "stream",
     "text": [
      "Site processing complete, adding observtional data to 20220526 df...\n"
     ]
    },
    {
     "data": {
      "application/vnd.jupyter.widget-view+json": {
       "model_id": "0f11f2b2f0084d0284a4b385764bbe5c",
       "version_major": 2,
       "version_minor": 0
      },
      "text/plain": [
       "  0%|          | 0/17906 [00:00<?, ?it/s]"
      ]
     },
     "metadata": {},
     "output_type": "display_data"
    },
    {
     "name": "stdout",
     "output_type": "stream",
     "text": [
      "Site processing complete, adding observtional data to 20220311 df...\n"
     ]
    },
    {
     "data": {
      "application/vnd.jupyter.widget-view+json": {
       "model_id": "e6fefcea8ef4485dbb4607d445fa4a65",
       "version_major": 2,
       "version_minor": 0
      },
      "text/plain": [
       "  0%|          | 0/30227 [00:00<?, ?it/s]"
      ]
     },
     "metadata": {},
     "output_type": "display_data"
    },
    {
     "name": "stdout",
     "output_type": "stream",
     "text": [
      "Site processing complete, adding observtional data to 20220406 df...\n"
     ]
    },
    {
     "data": {
      "application/vnd.jupyter.widget-view+json": {
       "model_id": "ee47f5e2ee384bd993ab53baf4790fe4",
       "version_major": 2,
       "version_minor": 0
      },
      "text/plain": [
       "  0%|          | 0/30227 [00:00<?, ?it/s]"
      ]
     },
     "metadata": {},
     "output_type": "display_data"
    },
    {
     "name": "stdout",
     "output_type": "stream",
     "text": [
      "Site processing complete, adding observtional data to 20220513 df...\n"
     ]
    },
    {
     "data": {
      "application/vnd.jupyter.widget-view+json": {
       "model_id": "81cb75b0a7cd4a54b1c03144227c5210",
       "version_major": 2,
       "version_minor": 0
      },
      "text/plain": [
       "  0%|          | 0/30227 [00:00<?, ?it/s]"
      ]
     },
     "metadata": {},
     "output_type": "display_data"
    },
    {
     "name": "stdout",
     "output_type": "stream",
     "text": [
      "Site processing complete, adding observtional data to 20220415 df...\n"
     ]
    },
    {
     "data": {
      "application/vnd.jupyter.widget-view+json": {
       "model_id": "9f9622b263f44503835672d0fd467d61",
       "version_major": 2,
       "version_minor": 0
      },
      "text/plain": [
       "  0%|          | 0/14630 [00:00<?, ?it/s]"
      ]
     },
     "metadata": {},
     "output_type": "display_data"
    },
    {
     "name": "stdout",
     "output_type": "stream",
     "text": [
      "/uufs/chpc.utah.edu/common/home/civil-group1/Johnson/SWEMLv2.0/data/TrainingDFs/2022/250M_Resolution/Obsdf/20220415_ObsDF.parquet\n",
      "Site processing complete, adding observtional data to 20220510 df...\n"
     ]
    },
    {
     "data": {
      "application/vnd.jupyter.widget-view+json": {
       "model_id": "6fc1b783bc9c46b48268593f4822e33b",
       "version_major": 2,
       "version_minor": 0
      },
      "text/plain": [
       "  0%|          | 0/14630 [00:00<?, ?it/s]"
      ]
     },
     "metadata": {},
     "output_type": "display_data"
    },
    {
     "name": "stdout",
     "output_type": "stream",
     "text": [
      "/uufs/chpc.utah.edu/common/home/civil-group1/Johnson/SWEMLv2.0/data/TrainingDFs/2022/250M_Resolution/Obsdf/20220419_ObsDF.parquet\n",
      "/uufs/chpc.utah.edu/common/home/civil-group1/Johnson/SWEMLv2.0/data/TrainingDFs/2022/250M_Resolution/Obsdf/20220526_ObsDF.parquet\n",
      "Site processing complete, adding observtional data to 20220415 df...\n"
     ]
    },
    {
     "data": {
      "application/vnd.jupyter.widget-view+json": {
       "model_id": "b899a8853c874c568454ab0e9948b08f",
       "version_major": 2,
       "version_minor": 0
      },
      "text/plain": [
       "  0%|          | 0/26349 [00:00<?, ?it/s]"
      ]
     },
     "metadata": {},
     "output_type": "display_data"
    },
    {
     "name": "stdout",
     "output_type": "stream",
     "text": [
      "Site processing complete, adding observtional data to 20220510 df...\n"
     ]
    },
    {
     "data": {
      "application/vnd.jupyter.widget-view+json": {
       "model_id": "5eefc20e1d83457f85f0dcb63025a40e",
       "version_major": 2,
       "version_minor": 0
      },
      "text/plain": [
       "  0%|          | 0/26349 [00:00<?, ?it/s]"
      ]
     },
     "metadata": {},
     "output_type": "display_data"
    },
    {
     "name": "stdout",
     "output_type": "stream",
     "text": [
      "/uufs/chpc.utah.edu/common/home/civil-group1/Johnson/SWEMLv2.0/data/TrainingDFs/2022/250M_Resolution/Obsdf/20220311_ObsDF.parquet\n",
      "/uufs/chpc.utah.edu/common/home/civil-group1/Johnson/SWEMLv2.0/data/TrainingDFs/2022/250M_Resolution/Obsdf/20220406_ObsDF.parquet\n",
      "Site processing complete, adding observtional data to 20220217 df...\n"
     ]
    },
    {
     "data": {
      "application/vnd.jupyter.widget-view+json": {
       "model_id": "568627ba38114e8f8f9f675595293935",
       "version_major": 2,
       "version_minor": 0
      },
      "text/plain": [
       "  0%|          | 0/174355 [00:00<?, ?it/s]"
      ]
     },
     "metadata": {},
     "output_type": "display_data"
    },
    {
     "name": "stdout",
     "output_type": "stream",
     "text": [
      "Site processing complete, adding observtional data to 20220310 df...\n"
     ]
    },
    {
     "data": {
      "application/vnd.jupyter.widget-view+json": {
       "model_id": "c39e4ee7bc40481f8ab378db274e9b64",
       "version_major": 2,
       "version_minor": 0
      },
      "text/plain": [
       "  0%|          | 0/174355 [00:00<?, ?it/s]"
      ]
     },
     "metadata": {},
     "output_type": "display_data"
    },
    {
     "name": "stdout",
     "output_type": "stream",
     "text": [
      "/uufs/chpc.utah.edu/common/home/civil-group1/Johnson/SWEMLv2.0/data/TrainingDFs/2022/250M_Resolution/Obsdf/20220510_ObsDF.parquet\n",
      "/uufs/chpc.utah.edu/common/home/civil-group1/Johnson/SWEMLv2.0/data/TrainingDFs/2022/250M_Resolution/Obsdf/20220513_ObsDF.parquet\n",
      "Site processing complete, adding observtional data to 20220331 df...\n"
     ]
    },
    {
     "data": {
      "application/vnd.jupyter.widget-view+json": {
       "model_id": "50e9f6efb654405097bdf26838362878",
       "version_major": 2,
       "version_minor": 0
      },
      "text/plain": [
       "  0%|          | 0/174355 [00:00<?, ?it/s]"
      ]
     },
     "metadata": {},
     "output_type": "display_data"
    },
    {
     "name": "stdout",
     "output_type": "stream",
     "text": [
      "Site processing complete, adding observtional data to 20220429 df...\n"
     ]
    },
    {
     "data": {
      "application/vnd.jupyter.widget-view+json": {
       "model_id": "33114f383fea4de98ed1ba12c8c4f4f7",
       "version_major": 2,
       "version_minor": 0
      },
      "text/plain": [
       "  0%|          | 0/174355 [00:00<?, ?it/s]"
      ]
     },
     "metadata": {},
     "output_type": "display_data"
    },
    {
     "name": "stdout",
     "output_type": "stream",
     "text": [
      "/uufs/chpc.utah.edu/common/home/civil-group1/Johnson/SWEMLv2.0/data/TrainingDFs/2022/250M_Resolution/Obsdf/20220415_ObsDF.parquet\n",
      "/uufs/chpc.utah.edu/common/home/civil-group1/Johnson/SWEMLv2.0/data/TrainingDFs/2022/250M_Resolution/Obsdf/20220510_ObsDF.parquet\n",
      "Site processing complete, adding observtional data to 20220611 df...\n"
     ]
    },
    {
     "data": {
      "application/vnd.jupyter.widget-view+json": {
       "model_id": "a74cfe3aa76849b7be305dbcb1074fc2",
       "version_major": 2,
       "version_minor": 0
      },
      "text/plain": [
       "  0%|          | 0/24046 [00:00<?, ?it/s]"
      ]
     },
     "metadata": {},
     "output_type": "display_data"
    },
    {
     "name": "stdout",
     "output_type": "stream",
     "text": [
      "Site processing complete, adding observtional data to 20220525 df...\n"
     ]
    },
    {
     "data": {
      "application/vnd.jupyter.widget-view+json": {
       "model_id": "87b6c50f144e4e94ae09935b5eb7f04d",
       "version_major": 2,
       "version_minor": 0
      },
      "text/plain": [
       "  0%|          | 0/13506 [00:00<?, ?it/s]"
      ]
     },
     "metadata": {},
     "output_type": "display_data"
    },
    {
     "name": "stdout",
     "output_type": "stream",
     "text": [
      "/uufs/chpc.utah.edu/common/home/civil-group1/Johnson/SWEMLv2.0/data/TrainingDFs/2022/250M_Resolution/Obsdf/20220525_ObsDF.parquet\n",
      "Site processing complete, adding observtional data to 20220308 df...\n"
     ]
    },
    {
     "data": {
      "application/vnd.jupyter.widget-view+json": {
       "model_id": "530d97cf76d14f96bb02c46aebeda2ec",
       "version_major": 2,
       "version_minor": 0
      },
      "text/plain": [
       "  0%|          | 0/28835 [00:00<?, ?it/s]"
      ]
     },
     "metadata": {},
     "output_type": "display_data"
    },
    {
     "name": "stdout",
     "output_type": "stream",
     "text": [
      "/uufs/chpc.utah.edu/common/home/civil-group1/Johnson/SWEMLv2.0/data/TrainingDFs/2022/250M_Resolution/Obsdf/20220611_ObsDF.parquet\n",
      "Site processing complete, adding observtional data to 20220327 df...\n"
     ]
    },
    {
     "data": {
      "application/vnd.jupyter.widget-view+json": {
       "model_id": "fc8f4a1efdc94686bf38797b40e4db93",
       "version_major": 2,
       "version_minor": 0
      },
      "text/plain": [
       "  0%|          | 0/28835 [00:00<?, ?it/s]"
      ]
     },
     "metadata": {},
     "output_type": "display_data"
    },
    {
     "name": "stdout",
     "output_type": "stream",
     "text": [
      "/uufs/chpc.utah.edu/common/home/civil-group1/Johnson/SWEMLv2.0/data/TrainingDFs/2022/250M_Resolution/Obsdf/20220308_ObsDF.parquet\n",
      "Site processing complete, adding observtional data to 20220429 df...\n"
     ]
    },
    {
     "data": {
      "application/vnd.jupyter.widget-view+json": {
       "model_id": "f0744b356358423195270286efdd164d",
       "version_major": 2,
       "version_minor": 0
      },
      "text/plain": [
       "  0%|          | 0/28830 [00:00<?, ?it/s]"
      ]
     },
     "metadata": {},
     "output_type": "display_data"
    },
    {
     "name": "stdout",
     "output_type": "stream",
     "text": [
      "/uufs/chpc.utah.edu/common/home/civil-group1/Johnson/SWEMLv2.0/data/TrainingDFs/2022/250M_Resolution/Obsdf/20220327_ObsDF.parquet\n",
      "Site processing complete, adding observtional data to 20220517 df...\n"
     ]
    },
    {
     "data": {
      "application/vnd.jupyter.widget-view+json": {
       "model_id": "146cd4768225487899899434d877ea52",
       "version_major": 2,
       "version_minor": 0
      },
      "text/plain": [
       "  0%|          | 0/28835 [00:00<?, ?it/s]"
      ]
     },
     "metadata": {},
     "output_type": "display_data"
    },
    {
     "name": "stdout",
     "output_type": "stream",
     "text": [
      "/uufs/chpc.utah.edu/common/home/civil-group1/Johnson/SWEMLv2.0/data/TrainingDFs/2022/250M_Resolution/Obsdf/20220429_ObsDF.parquet\n",
      "Site processing complete, adding observtional data to 20220302 df...\n"
     ]
    },
    {
     "data": {
      "application/vnd.jupyter.widget-view+json": {
       "model_id": "21a65592d171414381958092411cabab",
       "version_major": 2,
       "version_minor": 0
      },
      "text/plain": [
       "  0%|          | 0/69206 [00:00<?, ?it/s]"
      ]
     },
     "metadata": {},
     "output_type": "display_data"
    },
    {
     "name": "stdout",
     "output_type": "stream",
     "text": [
      "/uufs/chpc.utah.edu/common/home/civil-group1/Johnson/SWEMLv2.0/data/TrainingDFs/2022/250M_Resolution/Obsdf/20220517_ObsDF.parquet\n",
      "Site processing complete, adding observtional data to 20220409 df...\n"
     ]
    },
    {
     "data": {
      "application/vnd.jupyter.widget-view+json": {
       "model_id": "9a36d4ada4354736904d58d6f3f9210a",
       "version_major": 2,
       "version_minor": 0
      },
      "text/plain": [
       "  0%|          | 0/86557 [00:00<?, ?it/s]"
      ]
     },
     "metadata": {},
     "output_type": "display_data"
    },
    {
     "name": "stdout",
     "output_type": "stream",
     "text": [
      "/uufs/chpc.utah.edu/common/home/civil-group1/Johnson/SWEMLv2.0/data/TrainingDFs/2022/250M_Resolution/Obsdf/20220302_ObsDF.parquet\n",
      "Site processing complete, adding observtional data to 20220424 df...\n"
     ]
    },
    {
     "data": {
      "application/vnd.jupyter.widget-view+json": {
       "model_id": "ba09962146a14279b5f0bf4ed85c6ce0",
       "version_major": 2,
       "version_minor": 0
      },
      "text/plain": [
       "  0%|          | 0/86557 [00:00<?, ?it/s]"
      ]
     },
     "metadata": {},
     "output_type": "display_data"
    },
    {
     "name": "stdout",
     "output_type": "stream",
     "text": [
      "/uufs/chpc.utah.edu/common/home/civil-group1/Johnson/SWEMLv2.0/data/TrainingDFs/2022/250M_Resolution/Obsdf/20220217_ObsDF.parquet\n",
      "/uufs/chpc.utah.edu/common/home/civil-group1/Johnson/SWEMLv2.0/data/TrainingDFs/2022/250M_Resolution/Obsdf/20220310_ObsDF.parquet\n",
      "Site processing complete, adding observtional data to 20220514 df...\n"
     ]
    },
    {
     "data": {
      "application/vnd.jupyter.widget-view+json": {
       "model_id": "9228c0860db64bdcb094e49c6119cceb",
       "version_major": 2,
       "version_minor": 0
      },
      "text/plain": [
       "  0%|          | 0/86557 [00:00<?, ?it/s]"
      ]
     },
     "metadata": {},
     "output_type": "display_data"
    },
    {
     "name": "stdout",
     "output_type": "stream",
     "text": [
      "/uufs/chpc.utah.edu/common/home/civil-group1/Johnson/SWEMLv2.0/data/TrainingDFs/2022/250M_Resolution/Obsdf/20220331_ObsDF.parquet\n",
      "Site processing complete, adding observtional data to 20220301 df...\n"
     ]
    },
    {
     "data": {
      "application/vnd.jupyter.widget-view+json": {
       "model_id": "14e7085f142e4cbf84cd791e653078c5",
       "version_major": 2,
       "version_minor": 0
      },
      "text/plain": [
       "  0%|          | 0/34493 [00:00<?, ?it/s]"
      ]
     },
     "metadata": {},
     "output_type": "display_data"
    },
    {
     "name": "stdout",
     "output_type": "stream",
     "text": [
      "Site processing complete, adding observtional data to 20220412 df...\n"
     ]
    },
    {
     "data": {
      "application/vnd.jupyter.widget-view+json": {
       "model_id": "e1fe267139c54b2cb91e2219f7294351",
       "version_major": 2,
       "version_minor": 0
      },
      "text/plain": [
       "  0%|          | 0/34493 [00:00<?, ?it/s]"
      ]
     },
     "metadata": {},
     "output_type": "display_data"
    },
    {
     "name": "stdout",
     "output_type": "stream",
     "text": [
      "/uufs/chpc.utah.edu/common/home/civil-group1/Johnson/SWEMLv2.0/data/TrainingDFs/2022/250M_Resolution/Obsdf/20220429_ObsDF.parquet\n",
      "Site processing complete, adding observtional data to 20220428 df...\n"
     ]
    },
    {
     "data": {
      "application/vnd.jupyter.widget-view+json": {
       "model_id": "0e6827d190fa41439ef27da35138e9e1",
       "version_major": 2,
       "version_minor": 0
      },
      "text/plain": [
       "  0%|          | 0/34493 [00:00<?, ?it/s]"
      ]
     },
     "metadata": {},
     "output_type": "display_data"
    },
    {
     "name": "stdout",
     "output_type": "stream",
     "text": [
      "/uufs/chpc.utah.edu/common/home/civil-group1/Johnson/SWEMLv2.0/data/TrainingDFs/2022/250M_Resolution/Obsdf/20220409_ObsDF.parquet\n",
      "Site processing complete, adding observtional data to 20220513 df...\n"
     ]
    },
    {
     "data": {
      "application/vnd.jupyter.widget-view+json": {
       "model_id": "3786d37b10fd4ff4aeef80dc6372b8df",
       "version_major": 2,
       "version_minor": 0
      },
      "text/plain": [
       "  0%|          | 0/34493 [00:00<?, ?it/s]"
      ]
     },
     "metadata": {},
     "output_type": "display_data"
    },
    {
     "name": "stdout",
     "output_type": "stream",
     "text": [
      "/uufs/chpc.utah.edu/common/home/civil-group1/Johnson/SWEMLv2.0/data/TrainingDFs/2022/250M_Resolution/Obsdf/20220301_ObsDF.parquet\n",
      "/uufs/chpc.utah.edu/common/home/civil-group1/Johnson/SWEMLv2.0/data/TrainingDFs/2022/250M_Resolution/Obsdf/20220412_ObsDF.parquet\n",
      "Site processing complete, adding observtional data to 20220206 df...\n"
     ]
    },
    {
     "data": {
      "application/vnd.jupyter.widget-view+json": {
       "model_id": "dd1f80dd5b3e4a2e8e714b7b4d46488a",
       "version_major": 2,
       "version_minor": 0
      },
      "text/plain": [
       "  0%|          | 0/85201 [00:00<?, ?it/s]"
      ]
     },
     "metadata": {},
     "output_type": "display_data"
    },
    {
     "name": "stdout",
     "output_type": "stream",
     "text": [
      "Site processing complete, adding observtional data to 20220316 df...\n"
     ]
    },
    {
     "data": {
      "application/vnd.jupyter.widget-view+json": {
       "model_id": "a562eb2c6db64c39979ed4702cb33fc7",
       "version_major": 2,
       "version_minor": 0
      },
      "text/plain": [
       "  0%|          | 0/85201 [00:00<?, ?it/s]"
      ]
     },
     "metadata": {},
     "output_type": "display_data"
    },
    {
     "name": "stdout",
     "output_type": "stream",
     "text": [
      "/uufs/chpc.utah.edu/common/home/civil-group1/Johnson/SWEMLv2.0/data/TrainingDFs/2022/250M_Resolution/Obsdf/20220428_ObsDF.parquet\n",
      "Site processing complete, adding observtional data to 20220417 df...\n"
     ]
    },
    {
     "data": {
      "application/vnd.jupyter.widget-view+json": {
       "model_id": "45960bd0c30b4c5cbc3cb460e1a8edbd",
       "version_major": 2,
       "version_minor": 0
      },
      "text/plain": [
       "  0%|          | 0/85201 [00:00<?, ?it/s]"
      ]
     },
     "metadata": {},
     "output_type": "display_data"
    },
    {
     "name": "stdout",
     "output_type": "stream",
     "text": [
      "/uufs/chpc.utah.edu/common/home/civil-group1/Johnson/SWEMLv2.0/data/TrainingDFs/2022/250M_Resolution/Obsdf/20220513_ObsDF.parquet\n",
      "Site processing complete, adding observtional data to 20220430 df...\n"
     ]
    },
    {
     "data": {
      "application/vnd.jupyter.widget-view+json": {
       "model_id": "50a67c742c154fb28cb1171562dd8f7f",
       "version_major": 2,
       "version_minor": 0
      },
      "text/plain": [
       "  0%|          | 0/85201 [00:00<?, ?it/s]"
      ]
     },
     "metadata": {},
     "output_type": "display_data"
    },
    {
     "name": "stdout",
     "output_type": "stream",
     "text": [
      "/uufs/chpc.utah.edu/common/home/civil-group1/Johnson/SWEMLv2.0/data/TrainingDFs/2022/250M_Resolution/Obsdf/20220424_ObsDF.parquet\n",
      "Site processing complete, adding observtional data to 20220310 df...\n"
     ]
    },
    {
     "data": {
      "application/vnd.jupyter.widget-view+json": {
       "model_id": "337e16d7b6a94470a526a2232d6650cd",
       "version_major": 2,
       "version_minor": 0
      },
      "text/plain": [
       "  0%|          | 0/60039 [00:00<?, ?it/s]"
      ]
     },
     "metadata": {},
     "output_type": "display_data"
    },
    {
     "name": "stdout",
     "output_type": "stream",
     "text": [
      "/uufs/chpc.utah.edu/common/home/civil-group1/Johnson/SWEMLv2.0/data/TrainingDFs/2022/250M_Resolution/Obsdf/20220514_ObsDF.parquet\n",
      "Site processing complete, adding observtional data to 20220408 df...\n"
     ]
    },
    {
     "data": {
      "application/vnd.jupyter.widget-view+json": {
       "model_id": "9f542cd7502c453aa0e93c9f1d52c3f1",
       "version_major": 2,
       "version_minor": 0
      },
      "text/plain": [
       "  0%|          | 0/60039 [00:00<?, ?it/s]"
      ]
     },
     "metadata": {},
     "output_type": "display_data"
    },
    {
     "name": "stdout",
     "output_type": "stream",
     "text": [
      "/uufs/chpc.utah.edu/common/home/civil-group1/Johnson/SWEMLv2.0/data/TrainingDFs/2022/250M_Resolution/Obsdf/20220316_ObsDF.parquet\n",
      "/uufs/chpc.utah.edu/common/home/civil-group1/Johnson/SWEMLv2.0/data/TrainingDFs/2022/250M_Resolution/Obsdf/20220206_ObsDF.parquet\n",
      "Site processing complete, adding observtional data to 20220514 df...\n"
     ]
    },
    {
     "data": {
      "application/vnd.jupyter.widget-view+json": {
       "model_id": "8447268090684bdca6a56b539814877d",
       "version_major": 2,
       "version_minor": 0
      },
      "text/plain": [
       "  0%|          | 0/60039 [00:00<?, ?it/s]"
      ]
     },
     "metadata": {},
     "output_type": "display_data"
    },
    {
     "name": "stdout",
     "output_type": "stream",
     "text": [
      "Site processing complete, adding observtional data to 20220204 df...\n"
     ]
    },
    {
     "data": {
      "application/vnd.jupyter.widget-view+json": {
       "model_id": "093abd5483e64b3e8010ca7dfd5d3f58",
       "version_major": 2,
       "version_minor": 0
      },
      "text/plain": [
       "  0%|          | 0/59135 [00:00<?, ?it/s]"
      ]
     },
     "metadata": {},
     "output_type": "display_data"
    },
    {
     "name": "stdout",
     "output_type": "stream",
     "text": [
      "/uufs/chpc.utah.edu/common/home/civil-group1/Johnson/SWEMLv2.0/data/TrainingDFs/2022/250M_Resolution/Obsdf/20220417_ObsDF.parquet\n",
      "Site processing complete, adding observtional data to 20220228 df...\n"
     ]
    },
    {
     "data": {
      "application/vnd.jupyter.widget-view+json": {
       "model_id": "8f72232a74b54c8183f74a332b5e5192",
       "version_major": 2,
       "version_minor": 0
      },
      "text/plain": [
       "  0%|          | 0/59135 [00:00<?, ?it/s]"
      ]
     },
     "metadata": {},
     "output_type": "display_data"
    },
    {
     "name": "stdout",
     "output_type": "stream",
     "text": [
      "/uufs/chpc.utah.edu/common/home/civil-group1/Johnson/SWEMLv2.0/data/TrainingDFs/2022/250M_Resolution/Obsdf/20220430_ObsDF.parquet\n",
      "Site processing complete, adding observtional data to 20220405 df...\n"
     ]
    },
    {
     "data": {
      "application/vnd.jupyter.widget-view+json": {
       "model_id": "5d6c4dcd7db8480cb6e1cb131ca4304c",
       "version_major": 2,
       "version_minor": 0
      },
      "text/plain": [
       "  0%|          | 0/59135 [00:00<?, ?it/s]"
      ]
     },
     "metadata": {},
     "output_type": "display_data"
    },
    {
     "name": "stdout",
     "output_type": "stream",
     "text": [
      "/uufs/chpc.utah.edu/common/home/civil-group1/Johnson/SWEMLv2.0/data/TrainingDFs/2022/250M_Resolution/Obsdf/20220310_ObsDF.parquet\n",
      "Site processing complete, adding observtional data to 20220429 df...\n"
     ]
    },
    {
     "data": {
      "application/vnd.jupyter.widget-view+json": {
       "model_id": "21d97cc4e81749259c21b84213d6c6cb",
       "version_major": 2,
       "version_minor": 0
      },
      "text/plain": [
       "  0%|          | 0/59135 [00:00<?, ?it/s]"
      ]
     },
     "metadata": {},
     "output_type": "display_data"
    },
    {
     "name": "stdout",
     "output_type": "stream",
     "text": [
      "/uufs/chpc.utah.edu/common/home/civil-group1/Johnson/SWEMLv2.0/data/TrainingDFs/2022/250M_Resolution/Obsdf/20220408_ObsDF.parquet\n",
      "Site processing complete, adding observtional data to 20220518 df...\n"
     ]
    },
    {
     "data": {
      "application/vnd.jupyter.widget-view+json": {
       "model_id": "85f69d02bd8c44519d9fad4286d35e26",
       "version_major": 2,
       "version_minor": 0
      },
      "text/plain": [
       "  0%|          | 0/59135 [00:00<?, ?it/s]"
      ]
     },
     "metadata": {},
     "output_type": "display_data"
    },
    {
     "name": "stdout",
     "output_type": "stream",
     "text": [
      "/uufs/chpc.utah.edu/common/home/civil-group1/Johnson/SWEMLv2.0/data/TrainingDFs/2022/250M_Resolution/Obsdf/20220204_ObsDF.parquet\n",
      "Site processing complete, adding observtional data to 20220611 df...\n"
     ]
    },
    {
     "data": {
      "application/vnd.jupyter.widget-view+json": {
       "model_id": "226cca4df1dc4c1a84a24512bbde96a6",
       "version_major": 2,
       "version_minor": 0
      },
      "text/plain": [
       "  0%|          | 0/25114 [00:00<?, ?it/s]"
      ]
     },
     "metadata": {},
     "output_type": "display_data"
    },
    {
     "name": "stdout",
     "output_type": "stream",
     "text": [
      "/uufs/chpc.utah.edu/common/home/civil-group1/Johnson/SWEMLv2.0/data/TrainingDFs/2022/250M_Resolution/Obsdf/20220514_ObsDF.parquet\n",
      "Site processing complete, adding observtional data to 20220418 df...\n"
     ]
    },
    {
     "data": {
      "application/vnd.jupyter.widget-view+json": {
       "model_id": "7a83c435869046f2ab78ede68028e15d",
       "version_major": 2,
       "version_minor": 0
      },
      "text/plain": [
       "  0%|          | 0/42632 [00:00<?, ?it/s]"
      ]
     },
     "metadata": {},
     "output_type": "display_data"
    },
    {
     "name": "stdout",
     "output_type": "stream",
     "text": [
      "/uufs/chpc.utah.edu/common/home/civil-group1/Johnson/SWEMLv2.0/data/TrainingDFs/2022/250M_Resolution/Obsdf/20220228_ObsDF.parquet\n",
      "/uufs/chpc.utah.edu/common/home/civil-group1/Johnson/SWEMLv2.0/data/TrainingDFs/2022/250M_Resolution/Obsdf/20220405_ObsDF.parquet\n",
      "Site processing complete, adding observtional data to 20220325 df...\n"
     ]
    },
    {
     "data": {
      "application/vnd.jupyter.widget-view+json": {
       "model_id": "0d5eda049d8747ee964d783a131d340e",
       "version_major": 2,
       "version_minor": 0
      },
      "text/plain": [
       "  0%|          | 0/45558 [00:00<?, ?it/s]"
      ]
     },
     "metadata": {},
     "output_type": "display_data"
    },
    {
     "name": "stdout",
     "output_type": "stream",
     "text": [
      "Site processing complete, adding observtional data to 20220424 df...\n"
     ]
    },
    {
     "data": {
      "application/vnd.jupyter.widget-view+json": {
       "model_id": "9ddb49426e8d4069a2cc6d13c06aa42d",
       "version_major": 2,
       "version_minor": 0
      },
      "text/plain": [
       "  0%|          | 0/45558 [00:00<?, ?it/s]"
      ]
     },
     "metadata": {},
     "output_type": "display_data"
    },
    {
     "name": "stdout",
     "output_type": "stream",
     "text": [
      "/uufs/chpc.utah.edu/common/home/civil-group1/Johnson/SWEMLv2.0/data/TrainingDFs/2022/250M_Resolution/Obsdf/20220429_ObsDF.parquet\n",
      "Site processing complete, adding observtional data to 20220515 df...\n"
     ]
    },
    {
     "data": {
      "application/vnd.jupyter.widget-view+json": {
       "model_id": "f5b6236d8d514671b44ef7c2c647676c",
       "version_major": 2,
       "version_minor": 0
      },
      "text/plain": [
       "  0%|          | 0/45558 [00:00<?, ?it/s]"
      ]
     },
     "metadata": {},
     "output_type": "display_data"
    },
    {
     "name": "stdout",
     "output_type": "stream",
     "text": [
      "/uufs/chpc.utah.edu/common/home/civil-group1/Johnson/SWEMLv2.0/data/TrainingDFs/2022/250M_Resolution/Obsdf/20220518_ObsDF.parquet\n",
      "/uufs/chpc.utah.edu/common/home/civil-group1/Johnson/SWEMLv2.0/data/TrainingDFs/2022/250M_Resolution/Obsdf/20220611_ObsDF.parquet\n",
      "/uufs/chpc.utah.edu/common/home/civil-group1/Johnson/SWEMLv2.0/data/TrainingDFs/2022/250M_Resolution/Obsdf/20220418_ObsDF.parquet\n",
      "/uufs/chpc.utah.edu/common/home/civil-group1/Johnson/SWEMLv2.0/data/TrainingDFs/2022/250M_Resolution/Obsdf/20220325_ObsDF.parquet\n",
      "/uufs/chpc.utah.edu/common/home/civil-group1/Johnson/SWEMLv2.0/data/TrainingDFs/2022/250M_Resolution/Obsdf/20220424_ObsDF.parquet\n",
      "/uufs/chpc.utah.edu/common/home/civil-group1/Johnson/SWEMLv2.0/data/TrainingDFs/2022/250M_Resolution/Obsdf/20220515_ObsDF.parquet\n",
      "Job complete for connecting SNOTEL obs to sites/dates\n",
      "2023\n",
      "Connecting site observations with nearest monitoring network obs\n",
      "Loading observations from 2013-2019\n",
      "Loading 250M resolution grids for 2023 region\n",
      "Processing datetime component of SNOTEL observation dataframe\n",
      "Loading 82 processed ASO observations for the 2023 at 250M resolution\n",
      "There are 82 aso dates in snotel obs\n",
      "There are 0 missing snotel obs\n",
      "Connecting 82 timesteps of observations for 2023\n"
     ]
    },
    {
     "name": "stderr",
     "output_type": "stream",
     "text": [
      "100%|██████████| 82/82 [00:00<00:00, 901.18it/s]\n"
     ]
    },
    {
     "name": "stdout",
     "output_type": "stream",
     "text": [
      "Site processing complete, adding observtional data to 20230131 df...\n"
     ]
    },
    {
     "data": {
      "application/vnd.jupyter.widget-view+json": {
       "model_id": "6622c402e1c04459b0c4ca7c4587fac6",
       "version_major": 2,
       "version_minor": 0
      },
      "text/plain": [
       "  0%|          | 0/66239 [00:00<?, ?it/s]"
      ]
     },
     "metadata": {},
     "output_type": "display_data"
    },
    {
     "name": "stdout",
     "output_type": "stream",
     "text": [
      "Site processing complete, adding observtional data to 20230413 df...\n"
     ]
    },
    {
     "data": {
      "application/vnd.jupyter.widget-view+json": {
       "model_id": "9b1a4db468a243d3bd363a9e0303da49",
       "version_major": 2,
       "version_minor": 0
      },
      "text/plain": [
       "  0%|          | 0/66239 [00:00<?, ?it/s]"
      ]
     },
     "metadata": {},
     "output_type": "display_data"
    },
    {
     "name": "stdout",
     "output_type": "stream",
     "text": [
      "Site processing complete, adding observtional data to 20230428 df...\n"
     ]
    },
    {
     "data": {
      "application/vnd.jupyter.widget-view+json": {
       "model_id": "448cdfb001f5461b8168755e93f81e25",
       "version_major": 2,
       "version_minor": 0
      },
      "text/plain": [
       "  0%|          | 0/170494 [00:00<?, ?it/s]"
      ]
     },
     "metadata": {},
     "output_type": "display_data"
    },
    {
     "name": "stdout",
     "output_type": "stream",
     "text": [
      "Site processing complete, adding observtional data to 20230602 df...\n"
     ]
    },
    {
     "data": {
      "application/vnd.jupyter.widget-view+json": {
       "model_id": "89d4c6cd20374f31816dbaad790149dc",
       "version_major": 2,
       "version_minor": 0
      },
      "text/plain": [
       "  0%|          | 0/28639 [00:00<?, ?it/s]"
      ]
     },
     "metadata": {},
     "output_type": "display_data"
    },
    {
     "name": "stdout",
     "output_type": "stream",
     "text": [
      "Site processing complete, adding observtional data to 20230521 df...\n"
     ]
    },
    {
     "data": {
      "application/vnd.jupyter.widget-view+json": {
       "model_id": "98434462651f4acfad4e22574bfa5973",
       "version_major": 2,
       "version_minor": 0
      },
      "text/plain": [
       "  0%|          | 0/20576 [00:00<?, ?it/s]"
      ]
     },
     "metadata": {},
     "output_type": "display_data"
    },
    {
     "name": "stdout",
     "output_type": "stream",
     "text": [
      "Site processing complete, adding observtional data to 20230416 df...\n"
     ]
    },
    {
     "data": {
      "application/vnd.jupyter.widget-view+json": {
       "model_id": "69f762b790de46e69d0706f8f2ab4307",
       "version_major": 2,
       "version_minor": 0
      },
      "text/plain": [
       "  0%|          | 0/17335 [00:00<?, ?it/s]"
      ]
     },
     "metadata": {},
     "output_type": "display_data"
    },
    {
     "name": "stdout",
     "output_type": "stream",
     "text": [
      "/uufs/chpc.utah.edu/common/home/civil-group1/Johnson/SWEMLv2.0/data/TrainingDFs/2023/250M_Resolution/Obsdf/20230416_ObsDF.parquet\n",
      "Site processing complete, adding observtional data to 20230509 df...\n"
     ]
    },
    {
     "data": {
      "application/vnd.jupyter.widget-view+json": {
       "model_id": "f43a0ae885044a5f8613365e3f37e96c",
       "version_major": 2,
       "version_minor": 0
      },
      "text/plain": [
       "  0%|          | 0/12150 [00:00<?, ?it/s]"
      ]
     },
     "metadata": {},
     "output_type": "display_data"
    },
    {
     "name": "stdout",
     "output_type": "stream",
     "text": [
      "/uufs/chpc.utah.edu/common/home/civil-group1/Johnson/SWEMLv2.0/data/TrainingDFs/2023/250M_Resolution/Obsdf/20230521_ObsDF.parquet\n",
      "Site processing complete, adding observtional data to 20230331 df...\n"
     ]
    },
    {
     "data": {
      "application/vnd.jupyter.widget-view+json": {
       "model_id": "78bedf28fe514508aa46ba95c695c202",
       "version_major": 2,
       "version_minor": 0
      },
      "text/plain": [
       "  0%|          | 0/58605 [00:00<?, ?it/s]"
      ]
     },
     "metadata": {},
     "output_type": "display_data"
    },
    {
     "name": "stdout",
     "output_type": "stream",
     "text": [
      "/uufs/chpc.utah.edu/common/home/civil-group1/Johnson/SWEMLv2.0/data/TrainingDFs/2023/250M_Resolution/Obsdf/20230602_ObsDF.parquet\n",
      "Site processing complete, adding observtional data to 20230510 df...\n"
     ]
    },
    {
     "data": {
      "application/vnd.jupyter.widget-view+json": {
       "model_id": "bb776143288f4d72923d71b549240427",
       "version_major": 2,
       "version_minor": 0
      },
      "text/plain": [
       "  0%|          | 0/30160 [00:00<?, ?it/s]"
      ]
     },
     "metadata": {},
     "output_type": "display_data"
    },
    {
     "name": "stdout",
     "output_type": "stream",
     "text": [
      "/uufs/chpc.utah.edu/common/home/civil-group1/Johnson/SWEMLv2.0/data/TrainingDFs/2023/250M_Resolution/Obsdf/20230509_ObsDF.parquet\n",
      "Site processing complete, adding observtional data to 20230607 df...\n"
     ]
    },
    {
     "data": {
      "application/vnd.jupyter.widget-view+json": {
       "model_id": "296abb4647064b428f3fbab8e71bfd0f",
       "version_major": 2,
       "version_minor": 0
      },
      "text/plain": [
       "  0%|          | 0/30160 [00:00<?, ?it/s]"
      ]
     },
     "metadata": {},
     "output_type": "display_data"
    },
    {
     "name": "stdout",
     "output_type": "stream",
     "text": [
      "/uufs/chpc.utah.edu/common/home/civil-group1/Johnson/SWEMLv2.0/data/TrainingDFs/2023/250M_Resolution/Obsdf/20230510_ObsDF.parquet\n",
      "Site processing complete, adding observtional data to 20230509 df...\n"
     ]
    },
    {
     "data": {
      "application/vnd.jupyter.widget-view+json": {
       "model_id": "19062c07cab64883b3ccfd3cbb4f10ca",
       "version_major": 2,
       "version_minor": 0
      },
      "text/plain": [
       "  0%|          | 0/21168 [00:00<?, ?it/s]"
      ]
     },
     "metadata": {},
     "output_type": "display_data"
    },
    {
     "name": "stdout",
     "output_type": "stream",
     "text": [
      "/uufs/chpc.utah.edu/common/home/civil-group1/Johnson/SWEMLv2.0/data/TrainingDFs/2023/250M_Resolution/Obsdf/20230131_ObsDF.parquet\n",
      "/uufs/chpc.utah.edu/common/home/civil-group1/Johnson/SWEMLv2.0/data/TrainingDFs/2023/250M_Resolution/Obsdf/20230607_ObsDF.parquet\n",
      "/uufs/chpc.utah.edu/common/home/civil-group1/Johnson/SWEMLv2.0/data/TrainingDFs/2023/250M_Resolution/Obsdf/20230413_ObsDF.parquet\n",
      "Site processing complete, adding observtional data to 20230505 df...\n"
     ]
    },
    {
     "data": {
      "application/vnd.jupyter.widget-view+json": {
       "model_id": "5f294e0c2a604c0897ab1202ef1b8049",
       "version_major": 2,
       "version_minor": 0
      },
      "text/plain": [
       "  0%|          | 0/14475 [00:00<?, ?it/s]"
      ]
     },
     "metadata": {},
     "output_type": "display_data"
    },
    {
     "name": "stdout",
     "output_type": "stream",
     "text": [
      "Site processing complete, adding observtional data to 20230406 df...\n"
     ]
    },
    {
     "data": {
      "application/vnd.jupyter.widget-view+json": {
       "model_id": "8cfac2248a4948519d7dd93e24e25cd5",
       "version_major": 2,
       "version_minor": 0
      },
      "text/plain": [
       "  0%|          | 0/26260 [00:00<?, ?it/s]"
      ]
     },
     "metadata": {},
     "output_type": "display_data"
    },
    {
     "name": "stdout",
     "output_type": "stream",
     "text": [
      "Site processing complete, adding observtional data to 20230525 df...\n"
     ]
    },
    {
     "data": {
      "application/vnd.jupyter.widget-view+json": {
       "model_id": "4c9367a91b194d4a9f14eb6b05c41b3f",
       "version_major": 2,
       "version_minor": 0
      },
      "text/plain": [
       "  0%|          | 0/26260 [00:00<?, ?it/s]"
      ]
     },
     "metadata": {},
     "output_type": "display_data"
    },
    {
     "name": "stdout",
     "output_type": "stream",
     "text": [
      "/uufs/chpc.utah.edu/common/home/civil-group1/Johnson/SWEMLv2.0/data/TrainingDFs/2023/250M_Resolution/Obsdf/20230505_ObsDF.parquet\n",
      "Site processing complete, adding observtional data to 20230206 df...\n"
     ]
    },
    {
     "data": {
      "application/vnd.jupyter.widget-view+json": {
       "model_id": "e572ad6dd60347a7b317c1b6e7e06115",
       "version_major": 2,
       "version_minor": 0
      },
      "text/plain": [
       "  0%|          | 0/170494 [00:00<?, ?it/s]"
      ]
     },
     "metadata": {},
     "output_type": "display_data"
    },
    {
     "name": "stdout",
     "output_type": "stream",
     "text": [
      "/uufs/chpc.utah.edu/common/home/civil-group1/Johnson/SWEMLv2.0/data/TrainingDFs/2023/250M_Resolution/Obsdf/20230509_ObsDF.parquet\n",
      "/uufs/chpc.utah.edu/common/home/civil-group1/Johnson/SWEMLv2.0/data/TrainingDFs/2023/250M_Resolution/Obsdf/20230331_ObsDF.parquet\n",
      "Site processing complete, adding observtional data to 20230409 df...\n"
     ]
    },
    {
     "data": {
      "application/vnd.jupyter.widget-view+json": {
       "model_id": "56f283c906ab49d7813cbe88bd6f4013",
       "version_major": 2,
       "version_minor": 0
      },
      "text/plain": [
       "  0%|          | 0/170458 [00:00<?, ?it/s]"
      ]
     },
     "metadata": {},
     "output_type": "display_data"
    },
    {
     "name": "stdout",
     "output_type": "stream",
     "text": [
      "Site processing complete, adding observtional data to 20230428 df...\n"
     ]
    },
    {
     "data": {
      "application/vnd.jupyter.widget-view+json": {
       "model_id": "0137f69be2384e3194cb0e45384ce1c1",
       "version_major": 2,
       "version_minor": 0
      },
      "text/plain": [
       "  0%|          | 0/170494 [00:00<?, ?it/s]"
      ]
     },
     "metadata": {},
     "output_type": "display_data"
    },
    {
     "name": "stdout",
     "output_type": "stream",
     "text": [
      "/uufs/chpc.utah.edu/common/home/civil-group1/Johnson/SWEMLv2.0/data/TrainingDFs/2023/250M_Resolution/Obsdf/20230406_ObsDF.parquet\n",
      "Site processing complete, adding observtional data to 20230618 df...\n"
     ]
    },
    {
     "data": {
      "application/vnd.jupyter.widget-view+json": {
       "model_id": "f4c845c87c074ca09ea410e183c2ecc8",
       "version_major": 2,
       "version_minor": 0
      },
      "text/plain": [
       "  0%|          | 0/170494 [00:00<?, ?it/s]"
      ]
     },
     "metadata": {},
     "output_type": "display_data"
    },
    {
     "name": "stdout",
     "output_type": "stream",
     "text": [
      "/uufs/chpc.utah.edu/common/home/civil-group1/Johnson/SWEMLv2.0/data/TrainingDFs/2023/250M_Resolution/Obsdf/20230525_ObsDF.parquet\n",
      "Site processing complete, adding observtional data to 20230127 df...\n"
     ]
    },
    {
     "data": {
      "application/vnd.jupyter.widget-view+json": {
       "model_id": "aa3ca69f3f1e4940b2e843e7f8ed3199",
       "version_major": 2,
       "version_minor": 0
      },
      "text/plain": [
       "  0%|          | 0/28639 [00:00<?, ?it/s]"
      ]
     },
     "metadata": {},
     "output_type": "display_data"
    },
    {
     "name": "stdout",
     "output_type": "stream",
     "text": [
      "/uufs/chpc.utah.edu/common/home/civil-group1/Johnson/SWEMLv2.0/data/TrainingDFs/2023/250M_Resolution/Obsdf/20230127_ObsDF.parquet\n",
      "Site processing complete, adding observtional data to 20230307 df...\n"
     ]
    },
    {
     "data": {
      "application/vnd.jupyter.widget-view+json": {
       "model_id": "8fa99fad67d649518b1af41a050673b1",
       "version_major": 2,
       "version_minor": 0
      },
      "text/plain": [
       "  0%|          | 0/28639 [00:00<?, ?it/s]"
      ]
     },
     "metadata": {},
     "output_type": "display_data"
    },
    {
     "name": "stdout",
     "output_type": "stream",
     "text": [
      "/uufs/chpc.utah.edu/common/home/civil-group1/Johnson/SWEMLv2.0/data/TrainingDFs/2023/250M_Resolution/Obsdf/20230307_ObsDF.parquet\n",
      "Site processing complete, adding observtional data to 20230405 df...\n"
     ]
    },
    {
     "data": {
      "application/vnd.jupyter.widget-view+json": {
       "model_id": "f6fb889388df403e8904b4eb60e23306",
       "version_major": 2,
       "version_minor": 0
      },
      "text/plain": [
       "  0%|          | 0/28639 [00:00<?, ?it/s]"
      ]
     },
     "metadata": {},
     "output_type": "display_data"
    },
    {
     "name": "stdout",
     "output_type": "stream",
     "text": [
      "/uufs/chpc.utah.edu/common/home/civil-group1/Johnson/SWEMLv2.0/data/TrainingDFs/2023/250M_Resolution/Obsdf/20230428_ObsDF.parquet\n",
      "Site processing complete, adding observtional data to 20230423 df...\n"
     ]
    },
    {
     "data": {
      "application/vnd.jupyter.widget-view+json": {
       "model_id": "c5daf29a2e1342d4bf60e811aa883302",
       "version_major": 2,
       "version_minor": 0
      },
      "text/plain": [
       "  0%|          | 0/28639 [00:00<?, ?it/s]"
      ]
     },
     "metadata": {},
     "output_type": "display_data"
    },
    {
     "name": "stdout",
     "output_type": "stream",
     "text": [
      "/uufs/chpc.utah.edu/common/home/civil-group1/Johnson/SWEMLv2.0/data/TrainingDFs/2023/250M_Resolution/Obsdf/20230405_ObsDF.parquet\n",
      "Site processing complete, adding observtional data to 20230602 df...\n"
     ]
    },
    {
     "data": {
      "application/vnd.jupyter.widget-view+json": {
       "model_id": "035b3d90b559470bbc6da86b96b2d436",
       "version_major": 2,
       "version_minor": 0
      },
      "text/plain": [
       "  0%|          | 0/28639 [00:00<?, ?it/s]"
      ]
     },
     "metadata": {},
     "output_type": "display_data"
    },
    {
     "name": "stdout",
     "output_type": "stream",
     "text": [
      "/uufs/chpc.utah.edu/common/home/civil-group1/Johnson/SWEMLv2.0/data/TrainingDFs/2023/250M_Resolution/Obsdf/20230423_ObsDF.parquet\n",
      "Site processing complete, adding observtional data to 20230204 df...\n"
     ]
    },
    {
     "data": {
      "application/vnd.jupyter.widget-view+json": {
       "model_id": "6430c32d8cbc465282c8e1c019a48578",
       "version_major": 2,
       "version_minor": 0
      },
      "text/plain": [
       "  0%|          | 0/82316 [00:00<?, ?it/s]"
      ]
     },
     "metadata": {},
     "output_type": "display_data"
    },
    {
     "name": "stdout",
     "output_type": "stream",
     "text": [
      "/uufs/chpc.utah.edu/common/home/civil-group1/Johnson/SWEMLv2.0/data/TrainingDFs/2023/250M_Resolution/Obsdf/20230602_ObsDF.parquet\n",
      "Site processing complete, adding observtional data to 20230326 df...\n"
     ]
    },
    {
     "data": {
      "application/vnd.jupyter.widget-view+json": {
       "model_id": "306e362eb70c49e191b1e6359327b902",
       "version_major": 2,
       "version_minor": 0
      },
      "text/plain": [
       "  0%|          | 0/82316 [00:00<?, ?it/s]"
      ]
     },
     "metadata": {},
     "output_type": "display_data"
    },
    {
     "name": "stdout",
     "output_type": "stream",
     "text": [
      "/uufs/chpc.utah.edu/common/home/civil-group1/Johnson/SWEMLv2.0/data/TrainingDFs/2023/250M_Resolution/Obsdf/20230206_ObsDF.parquet\n",
      "/uufs/chpc.utah.edu/common/home/civil-group1/Johnson/SWEMLv2.0/data/TrainingDFs/2023/250M_Resolution/Obsdf/20230409_ObsDF.parquet\n",
      "Site processing complete, adding observtional data to 20230429 df...\n"
     ]
    },
    {
     "data": {
      "application/vnd.jupyter.widget-view+json": {
       "model_id": "e04f03651bcd4583b6484bc0292147c6",
       "version_major": 2,
       "version_minor": 0
      },
      "text/plain": [
       "  0%|          | 0/82316 [00:00<?, ?it/s]"
      ]
     },
     "metadata": {},
     "output_type": "display_data"
    },
    {
     "name": "stdout",
     "output_type": "stream",
     "text": [
      "Site processing complete, adding observtional data to 20230603 df...\n"
     ]
    },
    {
     "data": {
      "application/vnd.jupyter.widget-view+json": {
       "model_id": "fb6048b5ac1340ee8dc303be1b6cd58d",
       "version_major": 2,
       "version_minor": 0
      },
      "text/plain": [
       "  0%|          | 0/82316 [00:00<?, ?it/s]"
      ]
     },
     "metadata": {},
     "output_type": "display_data"
    },
    {
     "name": "stdout",
     "output_type": "stream",
     "text": [
      "/uufs/chpc.utah.edu/common/home/civil-group1/Johnson/SWEMLv2.0/data/TrainingDFs/2023/250M_Resolution/Obsdf/20230428_ObsDF.parquet\n",
      "Site processing complete, adding observtional data to 20230122 df...\n"
     ]
    },
    {
     "data": {
      "application/vnd.jupyter.widget-view+json": {
       "model_id": "ab8ce70df882449892df6badba30a23d",
       "version_major": 2,
       "version_minor": 0
      },
      "text/plain": [
       "  0%|          | 0/85338 [00:00<?, ?it/s]"
      ]
     },
     "metadata": {},
     "output_type": "display_data"
    },
    {
     "name": "stdout",
     "output_type": "stream",
     "text": [
      "/uufs/chpc.utah.edu/common/home/civil-group1/Johnson/SWEMLv2.0/data/TrainingDFs/2023/250M_Resolution/Obsdf/20230618_ObsDF.parquet\n",
      "Site processing complete, adding observtional data to 20230316 df...\n"
     ]
    },
    {
     "data": {
      "application/vnd.jupyter.widget-view+json": {
       "model_id": "f0518934504648de9e9ef503157f5319",
       "version_major": 2,
       "version_minor": 0
      },
      "text/plain": [
       "  0%|          | 0/85338 [00:00<?, ?it/s]"
      ]
     },
     "metadata": {},
     "output_type": "display_data"
    },
    {
     "name": "stdout",
     "output_type": "stream",
     "text": [
      "/uufs/chpc.utah.edu/common/home/civil-group1/Johnson/SWEMLv2.0/data/TrainingDFs/2023/250M_Resolution/Obsdf/20230204_ObsDF.parquet\n",
      "Site processing complete, adding observtional data to 20230331 df...\n"
     ]
    },
    {
     "data": {
      "application/vnd.jupyter.widget-view+json": {
       "model_id": "11d494bc51a1406e92868838bb3a5ccf",
       "version_major": 2,
       "version_minor": 0
      },
      "text/plain": [
       "  0%|          | 0/85338 [00:00<?, ?it/s]"
      ]
     },
     "metadata": {},
     "output_type": "display_data"
    },
    {
     "name": "stdout",
     "output_type": "stream",
     "text": [
      "/uufs/chpc.utah.edu/common/home/civil-group1/Johnson/SWEMLv2.0/data/TrainingDFs/2023/250M_Resolution/Obsdf/20230326_ObsDF.parquet\n",
      "Site processing complete, adding observtional data to 20230421 df...\n"
     ]
    },
    {
     "data": {
      "application/vnd.jupyter.widget-view+json": {
       "model_id": "706feaaabb894743a6c69b8421d4bb6a",
       "version_major": 2,
       "version_minor": 0
      },
      "text/plain": [
       "  0%|          | 0/85338 [00:00<?, ?it/s]"
      ]
     },
     "metadata": {},
     "output_type": "display_data"
    },
    {
     "name": "stdout",
     "output_type": "stream",
     "text": [
      "/uufs/chpc.utah.edu/common/home/civil-group1/Johnson/SWEMLv2.0/data/TrainingDFs/2023/250M_Resolution/Obsdf/20230429_ObsDF.parquet\n",
      "Site processing complete, adding observtional data to 20230528 df...\n"
     ]
    },
    {
     "data": {
      "application/vnd.jupyter.widget-view+json": {
       "model_id": "f71354b85f7e47f69e682a37d3fec27c",
       "version_major": 2,
       "version_minor": 0
      },
      "text/plain": [
       "  0%|          | 0/36558 [00:00<?, ?it/s]"
      ]
     },
     "metadata": {},
     "output_type": "display_data"
    },
    {
     "name": "stdout",
     "output_type": "stream",
     "text": [
      "/uufs/chpc.utah.edu/common/home/civil-group1/Johnson/SWEMLv2.0/data/TrainingDFs/2023/250M_Resolution/Obsdf/20230603_ObsDF.parquet\n",
      "Site processing complete, adding observtional data to 20230630 df...\n"
     ]
    },
    {
     "data": {
      "application/vnd.jupyter.widget-view+json": {
       "model_id": "189a348f6f97441694600abb12c9341e",
       "version_major": 2,
       "version_minor": 0
      },
      "text/plain": [
       "  0%|          | 0/85338 [00:00<?, ?it/s]"
      ]
     },
     "metadata": {},
     "output_type": "display_data"
    },
    {
     "name": "stdout",
     "output_type": "stream",
     "text": [
      "/uufs/chpc.utah.edu/common/home/civil-group1/Johnson/SWEMLv2.0/data/TrainingDFs/2023/250M_Resolution/Obsdf/20230122_ObsDF.parquet\n",
      "Site processing complete, adding observtional data to 20230212 df...\n"
     ]
    },
    {
     "data": {
      "application/vnd.jupyter.widget-view+json": {
       "model_id": "315f3c8c580c442f92ed267203695b11",
       "version_major": 2,
       "version_minor": 0
      },
      "text/plain": [
       "  0%|          | 0/106921 [00:00<?, ?it/s]"
      ]
     },
     "metadata": {},
     "output_type": "display_data"
    },
    {
     "name": "stdout",
     "output_type": "stream",
     "text": [
      "/uufs/chpc.utah.edu/common/home/civil-group1/Johnson/SWEMLv2.0/data/TrainingDFs/2023/250M_Resolution/Obsdf/20230316_ObsDF.parquet\n",
      "Site processing complete, adding observtional data to 20230425 df...\n"
     ]
    },
    {
     "data": {
      "application/vnd.jupyter.widget-view+json": {
       "model_id": "c7c0a0ba7a96433eba1977a835043a46",
       "version_major": 2,
       "version_minor": 0
      },
      "text/plain": [
       "  0%|          | 0/106946 [00:00<?, ?it/s]"
      ]
     },
     "metadata": {},
     "output_type": "display_data"
    },
    {
     "name": "stdout",
     "output_type": "stream",
     "text": [
      "/uufs/chpc.utah.edu/common/home/civil-group1/Johnson/SWEMLv2.0/data/TrainingDFs/2023/250M_Resolution/Obsdf/20230331_ObsDF.parquet\n",
      "Site processing complete, adding observtional data to 20230511 df...\n"
     ]
    },
    {
     "data": {
      "application/vnd.jupyter.widget-view+json": {
       "model_id": "3ad1d2feed8c46d1aa22743e354fe639",
       "version_major": 2,
       "version_minor": 0
      },
      "text/plain": [
       "  0%|          | 0/106974 [00:00<?, ?it/s]"
      ]
     },
     "metadata": {},
     "output_type": "display_data"
    },
    {
     "name": "stdout",
     "output_type": "stream",
     "text": [
      "/uufs/chpc.utah.edu/common/home/civil-group1/Johnson/SWEMLv2.0/data/TrainingDFs/2023/250M_Resolution/Obsdf/20230528_ObsDF.parquet\n",
      "Site processing complete, adding observtional data to 20230131 df...\n"
     ]
    },
    {
     "data": {
      "application/vnd.jupyter.widget-view+json": {
       "model_id": "670e4c9cecc4467c9c3762b8676bde35",
       "version_major": 2,
       "version_minor": 0
      },
      "text/plain": [
       "  0%|          | 0/35785 [00:00<?, ?it/s]"
      ]
     },
     "metadata": {},
     "output_type": "display_data"
    },
    {
     "name": "stdout",
     "output_type": "stream",
     "text": [
      "/uufs/chpc.utah.edu/common/home/civil-group1/Johnson/SWEMLv2.0/data/TrainingDFs/2023/250M_Resolution/Obsdf/20230421_ObsDF.parquet\n",
      "Site processing complete, adding observtional data to 20230303 df...\n"
     ]
    },
    {
     "data": {
      "application/vnd.jupyter.widget-view+json": {
       "model_id": "73c8edcf13a84255b29275dbd7ff4c9f",
       "version_major": 2,
       "version_minor": 0
      },
      "text/plain": [
       "  0%|          | 0/35785 [00:00<?, ?it/s]"
      ]
     },
     "metadata": {},
     "output_type": "display_data"
    },
    {
     "name": "stdout",
     "output_type": "stream",
     "text": [
      "/uufs/chpc.utah.edu/common/home/civil-group1/Johnson/SWEMLv2.0/data/TrainingDFs/2023/250M_Resolution/Obsdf/20230131_ObsDF.parquet\n",
      "Site processing complete, adding observtional data to 20230326 df...\n"
     ]
    },
    {
     "data": {
      "application/vnd.jupyter.widget-view+json": {
       "model_id": "c59bc0e1aa4e4336920b2180735a2afe",
       "version_major": 2,
       "version_minor": 0
      },
      "text/plain": [
       "  0%|          | 0/35785 [00:00<?, ?it/s]"
      ]
     },
     "metadata": {},
     "output_type": "display_data"
    },
    {
     "name": "stdout",
     "output_type": "stream",
     "text": [
      "/uufs/chpc.utah.edu/common/home/civil-group1/Johnson/SWEMLv2.0/data/TrainingDFs/2023/250M_Resolution/Obsdf/20230303_ObsDF.parquet\n",
      "Site processing complete, adding observtional data to 20230515 df...\n"
     ]
    },
    {
     "data": {
      "application/vnd.jupyter.widget-view+json": {
       "model_id": "8f9a39e8711b467bb4e865205215e8ef",
       "version_major": 2,
       "version_minor": 0
      },
      "text/plain": [
       "  0%|          | 0/53434 [00:00<?, ?it/s]"
      ]
     },
     "metadata": {},
     "output_type": "display_data"
    },
    {
     "name": "stdout",
     "output_type": "stream",
     "text": [
      "/uufs/chpc.utah.edu/common/home/civil-group1/Johnson/SWEMLv2.0/data/TrainingDFs/2023/250M_Resolution/Obsdf/20230630_ObsDF.parquet\n",
      "Site processing complete, adding observtional data to 20230608 df...\n"
     ]
    },
    {
     "data": {
      "application/vnd.jupyter.widget-view+json": {
       "model_id": "d321828e251f4a3a96ce55f9dc3f82e3",
       "version_major": 2,
       "version_minor": 0
      },
      "text/plain": [
       "  0%|          | 0/35785 [00:00<?, ?it/s]"
      ]
     },
     "metadata": {},
     "output_type": "display_data"
    },
    {
     "name": "stdout",
     "output_type": "stream",
     "text": [
      "/uufs/chpc.utah.edu/common/home/civil-group1/Johnson/SWEMLv2.0/data/TrainingDFs/2023/250M_Resolution/Obsdf/20230326_ObsDF.parquet\n",
      "Site processing complete, adding observtional data to 20230130 df...\n"
     ]
    },
    {
     "data": {
      "application/vnd.jupyter.widget-view+json": {
       "model_id": "55659802691f4065a5c1be0c113b3e58",
       "version_major": 2,
       "version_minor": 0
      },
      "text/plain": [
       "  0%|          | 0/80671 [00:00<?, ?it/s]"
      ]
     },
     "metadata": {},
     "output_type": "display_data"
    },
    {
     "name": "stdout",
     "output_type": "stream",
     "text": [
      "/uufs/chpc.utah.edu/common/home/civil-group1/Johnson/SWEMLv2.0/data/TrainingDFs/2023/250M_Resolution/Obsdf/20230212_ObsDF.parquet\n",
      "Site processing complete, adding observtional data to 20230413 df...\n"
     ]
    },
    {
     "data": {
      "application/vnd.jupyter.widget-view+json": {
       "model_id": "5a5fc46f4180429eb03ca3a188efb5dc",
       "version_major": 2,
       "version_minor": 0
      },
      "text/plain": [
       "  0%|          | 0/81408 [00:00<?, ?it/s]"
      ]
     },
     "metadata": {},
     "output_type": "display_data"
    },
    {
     "name": "stdout",
     "output_type": "stream",
     "text": [
      "/uufs/chpc.utah.edu/common/home/civil-group1/Johnson/SWEMLv2.0/data/TrainingDFs/2023/250M_Resolution/Obsdf/20230425_ObsDF.parquet\n",
      "/uufs/chpc.utah.edu/common/home/civil-group1/Johnson/SWEMLv2.0/data/TrainingDFs/2023/250M_Resolution/Obsdf/20230608_ObsDF.parquet\n",
      "Site processing complete, adding observtional data to 20230510 df...\n"
     ]
    },
    {
     "data": {
      "application/vnd.jupyter.widget-view+json": {
       "model_id": "81ea50ea910f468a8cab5410435bfcf2",
       "version_major": 2,
       "version_minor": 0
      },
      "text/plain": [
       "  0%|          | 0/30160 [00:00<?, ?it/s]"
      ]
     },
     "metadata": {},
     "output_type": "display_data"
    },
    {
     "name": "stdout",
     "output_type": "stream",
     "text": [
      "Site processing complete, adding observtional data to 20230527 df...\n"
     ]
    },
    {
     "data": {
      "application/vnd.jupyter.widget-view+json": {
       "model_id": "56dff906dd834cdaa3cafc4457ac839e",
       "version_major": 2,
       "version_minor": 0
      },
      "text/plain": [
       "  0%|          | 0/7424 [00:00<?, ?it/s]"
      ]
     },
     "metadata": {},
     "output_type": "display_data"
    },
    {
     "name": "stdout",
     "output_type": "stream",
     "text": [
      "/uufs/chpc.utah.edu/common/home/civil-group1/Johnson/SWEMLv2.0/data/TrainingDFs/2023/250M_Resolution/Obsdf/20230527_ObsDF.parquet\n",
      "Site processing complete, adding observtional data to 20230615 df...\n"
     ]
    },
    {
     "data": {
      "application/vnd.jupyter.widget-view+json": {
       "model_id": "a21189ff2ef54f31ba31c0d2d1297b4f",
       "version_major": 2,
       "version_minor": 0
      },
      "text/plain": [
       "  0%|          | 0/9572 [00:00<?, ?it/s]"
      ]
     },
     "metadata": {},
     "output_type": "display_data"
    },
    {
     "name": "stdout",
     "output_type": "stream",
     "text": [
      "/uufs/chpc.utah.edu/common/home/civil-group1/Johnson/SWEMLv2.0/data/TrainingDFs/2023/250M_Resolution/Obsdf/20230515_ObsDF.parquet\n",
      "Site processing complete, adding observtional data to 20230702 df...\n"
     ]
    },
    {
     "data": {
      "application/vnd.jupyter.widget-view+json": {
       "model_id": "7e0a5b61853444bab6095b7e1c68607f",
       "version_major": 2,
       "version_minor": 0
      },
      "text/plain": [
       "  0%|          | 0/21334 [00:00<?, ?it/s]"
      ]
     },
     "metadata": {},
     "output_type": "display_data"
    },
    {
     "name": "stdout",
     "output_type": "stream",
     "text": [
      "/uufs/chpc.utah.edu/common/home/civil-group1/Johnson/SWEMLv2.0/data/TrainingDFs/2023/250M_Resolution/Obsdf/20230511_ObsDF.parquet\n",
      "Site processing complete, adding observtional data to 20230522 df...\n"
     ]
    },
    {
     "data": {
      "application/vnd.jupyter.widget-view+json": {
       "model_id": "475f8e09777c4d63be81060c5d00a5d5",
       "version_major": 2,
       "version_minor": 0
      },
      "text/plain": [
       "  0%|          | 0/22007 [00:00<?, ?it/s]"
      ]
     },
     "metadata": {},
     "output_type": "display_data"
    },
    {
     "name": "stdout",
     "output_type": "stream",
     "text": [
      "/uufs/chpc.utah.edu/common/home/civil-group1/Johnson/SWEMLv2.0/data/TrainingDFs/2023/250M_Resolution/Obsdf/20230615_ObsDF.parquet\n",
      "Site processing complete, adding observtional data to 20230411 df...\n"
     ]
    },
    {
     "data": {
      "application/vnd.jupyter.widget-view+json": {
       "model_id": "ca227f165c5b433787408fa5b9a1d65f",
       "version_major": 2,
       "version_minor": 0
      },
      "text/plain": [
       "  0%|          | 0/36558 [00:00<?, ?it/s]"
      ]
     },
     "metadata": {},
     "output_type": "display_data"
    },
    {
     "name": "stdout",
     "output_type": "stream",
     "text": [
      "/uufs/chpc.utah.edu/common/home/civil-group1/Johnson/SWEMLv2.0/data/TrainingDFs/2023/250M_Resolution/Obsdf/20230510_ObsDF.parquet\n",
      "Site processing complete, adding observtional data to 20230528 df...\n"
     ]
    },
    {
     "data": {
      "application/vnd.jupyter.widget-view+json": {
       "model_id": "7fac9670d56247dd9ebfcef86c7da940",
       "version_major": 2,
       "version_minor": 0
      },
      "text/plain": [
       "  0%|          | 0/36558 [00:00<?, ?it/s]"
      ]
     },
     "metadata": {},
     "output_type": "display_data"
    },
    {
     "name": "stdout",
     "output_type": "stream",
     "text": [
      "/uufs/chpc.utah.edu/common/home/civil-group1/Johnson/SWEMLv2.0/data/TrainingDFs/2023/250M_Resolution/Obsdf/20230702_ObsDF.parquet\n",
      "Site processing complete, adding observtional data to 20230209 df...\n"
     ]
    },
    {
     "data": {
      "application/vnd.jupyter.widget-view+json": {
       "model_id": "9ce0ac9981334028ae1f63e0dc284df1",
       "version_major": 2,
       "version_minor": 0
      },
      "text/plain": [
       "  0%|          | 0/81423 [00:00<?, ?it/s]"
      ]
     },
     "metadata": {},
     "output_type": "display_data"
    },
    {
     "name": "stdout",
     "output_type": "stream",
     "text": [
      "/uufs/chpc.utah.edu/common/home/civil-group1/Johnson/SWEMLv2.0/data/TrainingDFs/2023/250M_Resolution/Obsdf/20230522_ObsDF.parquet\n",
      "Site processing complete, adding observtional data to 20230424 df...\n"
     ]
    },
    {
     "data": {
      "application/vnd.jupyter.widget-view+json": {
       "model_id": "ce090c52f0c0491bba9d0627bbb335ec",
       "version_major": 2,
       "version_minor": 0
      },
      "text/plain": [
       "  0%|          | 0/81423 [00:00<?, ?it/s]"
      ]
     },
     "metadata": {},
     "output_type": "display_data"
    },
    {
     "name": "stdout",
     "output_type": "stream",
     "text": [
      "/uufs/chpc.utah.edu/common/home/civil-group1/Johnson/SWEMLv2.0/data/TrainingDFs/2023/250M_Resolution/Obsdf/20230411_ObsDF.parquet\n",
      "Site processing complete, adding observtional data to 20230515 df...\n"
     ]
    },
    {
     "data": {
      "application/vnd.jupyter.widget-view+json": {
       "model_id": "6cc8afc4b8f34d20947d58c76ad56d52",
       "version_major": 2,
       "version_minor": 0
      },
      "text/plain": [
       "  0%|          | 0/81423 [00:00<?, ?it/s]"
      ]
     },
     "metadata": {},
     "output_type": "display_data"
    },
    {
     "name": "stdout",
     "output_type": "stream",
     "text": [
      "/uufs/chpc.utah.edu/common/home/civil-group1/Johnson/SWEMLv2.0/data/TrainingDFs/2023/250M_Resolution/Obsdf/20230528_ObsDF.parquet\n",
      "/uufs/chpc.utah.edu/common/home/civil-group1/Johnson/SWEMLv2.0/data/TrainingDFs/2023/250M_Resolution/Obsdf/20230130_ObsDF.parquet\n",
      "Site processing complete, adding observtional data to 20230317 df...\n"
     ]
    },
    {
     "data": {
      "application/vnd.jupyter.widget-view+json": {
       "model_id": "36169394eb7d495a804a655346bad2ef",
       "version_major": 2,
       "version_minor": 0
      },
      "text/plain": [
       "  0%|          | 0/83499 [00:00<?, ?it/s]"
      ]
     },
     "metadata": {},
     "output_type": "display_data"
    },
    {
     "name": "stdout",
     "output_type": "stream",
     "text": [
      "Site processing complete, adding observtional data to 20230414 df...\n"
     ]
    },
    {
     "data": {
      "application/vnd.jupyter.widget-view+json": {
       "model_id": "5c7238ac940c4b06b4d1b392673fd3de",
       "version_major": 2,
       "version_minor": 0
      },
      "text/plain": [
       "  0%|          | 0/83499 [00:00<?, ?it/s]"
      ]
     },
     "metadata": {},
     "output_type": "display_data"
    },
    {
     "name": "stdout",
     "output_type": "stream",
     "text": [
      "/uufs/chpc.utah.edu/common/home/civil-group1/Johnson/SWEMLv2.0/data/TrainingDFs/2023/250M_Resolution/Obsdf/20230413_ObsDF.parquet\n",
      "Site processing complete, adding observtional data to 20230416 df...\n"
     ]
    },
    {
     "data": {
      "application/vnd.jupyter.widget-view+json": {
       "model_id": "b00659a4f9a54d45a780208c2553ea7b",
       "version_major": 2,
       "version_minor": 0
      },
      "text/plain": [
       "  0%|          | 0/33939 [00:00<?, ?it/s]"
      ]
     },
     "metadata": {},
     "output_type": "display_data"
    },
    {
     "name": "stdout",
     "output_type": "stream",
     "text": [
      "/uufs/chpc.utah.edu/common/home/civil-group1/Johnson/SWEMLv2.0/data/TrainingDFs/2023/250M_Resolution/Obsdf/20230416_ObsDF.parquet\n",
      "Site processing complete, adding observtional data to 20230526 df...\n"
     ]
    },
    {
     "data": {
      "application/vnd.jupyter.widget-view+json": {
       "model_id": "87c96bb8a826451d89c2981e7e8d992f",
       "version_major": 2,
       "version_minor": 0
      },
      "text/plain": [
       "  0%|          | 0/33939 [00:00<?, ?it/s]"
      ]
     },
     "metadata": {},
     "output_type": "display_data"
    },
    {
     "name": "stdout",
     "output_type": "stream",
     "text": [
      "/uufs/chpc.utah.edu/common/home/civil-group1/Johnson/SWEMLv2.0/data/TrainingDFs/2023/250M_Resolution/Obsdf/20230209_ObsDF.parquet\n",
      "Site processing complete, adding observtional data to 20230521 df...\n"
     ]
    },
    {
     "data": {
      "application/vnd.jupyter.widget-view+json": {
       "model_id": "53de083b179743fd9f65303b0b641f12",
       "version_major": 2,
       "version_minor": 0
      },
      "text/plain": [
       "  0%|          | 0/14345 [00:00<?, ?it/s]"
      ]
     },
     "metadata": {},
     "output_type": "display_data"
    },
    {
     "name": "stdout",
     "output_type": "stream",
     "text": [
      "/uufs/chpc.utah.edu/common/home/civil-group1/Johnson/SWEMLv2.0/data/TrainingDFs/2023/250M_Resolution/Obsdf/20230424_ObsDF.parquet\n",
      "Site processing complete, adding observtional data to 20230523 df...\n"
     ]
    },
    {
     "data": {
      "application/vnd.jupyter.widget-view+json": {
       "model_id": "cacc052d18b7433f904346c67abe0c59",
       "version_major": 2,
       "version_minor": 0
      },
      "text/plain": [
       "  0%|          | 0/14585 [00:00<?, ?it/s]"
      ]
     },
     "metadata": {},
     "output_type": "display_data"
    },
    {
     "name": "stdout",
     "output_type": "stream",
     "text": [
      "/uufs/chpc.utah.edu/common/home/civil-group1/Johnson/SWEMLv2.0/data/TrainingDFs/2023/250M_Resolution/Obsdf/20230521_ObsDF.parquet\n",
      "Site processing complete, adding observtional data to 20230401 df...\n"
     ]
    },
    {
     "data": {
      "application/vnd.jupyter.widget-view+json": {
       "model_id": "400815beb1a44908910d370cd83c6e70",
       "version_major": 2,
       "version_minor": 0
      },
      "text/plain": [
       "  0%|          | 0/14592 [00:00<?, ?it/s]"
      ]
     },
     "metadata": {},
     "output_type": "display_data"
    },
    {
     "name": "stdout",
     "output_type": "stream",
     "text": [
      "/uufs/chpc.utah.edu/common/home/civil-group1/Johnson/SWEMLv2.0/data/TrainingDFs/2023/250M_Resolution/Obsdf/20230523_ObsDF.parquet\n",
      "Site processing complete, adding observtional data to 20230409 df...\n"
     ]
    },
    {
     "data": {
      "application/vnd.jupyter.widget-view+json": {
       "model_id": "241882263cf74de7af5aaebe61dc0bc7",
       "version_major": 2,
       "version_minor": 0
      },
      "text/plain": [
       "  0%|          | 0/48737 [00:00<?, ?it/s]"
      ]
     },
     "metadata": {},
     "output_type": "display_data"
    },
    {
     "name": "stdout",
     "output_type": "stream",
     "text": [
      "/uufs/chpc.utah.edu/common/home/civil-group1/Johnson/SWEMLv2.0/data/TrainingDFs/2023/250M_Resolution/Obsdf/20230515_ObsDF.parquet\n",
      "Site processing complete, adding observtional data to 20230511 df...\n"
     ]
    },
    {
     "data": {
      "application/vnd.jupyter.widget-view+json": {
       "model_id": "d10f5982df8b4eee803e371e246eeffb",
       "version_major": 2,
       "version_minor": 0
      },
      "text/plain": [
       "  0%|          | 0/48742 [00:00<?, ?it/s]"
      ]
     },
     "metadata": {},
     "output_type": "display_data"
    },
    {
     "name": "stdout",
     "output_type": "stream",
     "text": [
      "/uufs/chpc.utah.edu/common/home/civil-group1/Johnson/SWEMLv2.0/data/TrainingDFs/2023/250M_Resolution/Obsdf/20230526_ObsDF.parquet\n",
      "Site processing complete, adding observtional data to 20230608 df...\n"
     ]
    },
    {
     "data": {
      "application/vnd.jupyter.widget-view+json": {
       "model_id": "a9ebeaf8910746778076fce10530de1d",
       "version_major": 2,
       "version_minor": 0
      },
      "text/plain": [
       "  0%|          | 0/48789 [00:00<?, ?it/s]"
      ]
     },
     "metadata": {},
     "output_type": "display_data"
    },
    {
     "name": "stdout",
     "output_type": "stream",
     "text": [
      "/uufs/chpc.utah.edu/common/home/civil-group1/Johnson/SWEMLv2.0/data/TrainingDFs/2023/250M_Resolution/Obsdf/20230401_ObsDF.parquet\n",
      "Site processing complete, adding observtional data to 20230124 df...\n"
     ]
    },
    {
     "data": {
      "application/vnd.jupyter.widget-view+json": {
       "model_id": "851de3b73b0d446480ec68c3b2ec5f9a",
       "version_major": 2,
       "version_minor": 0
      },
      "text/plain": [
       "  0%|          | 0/58351 [00:00<?, ?it/s]"
      ]
     },
     "metadata": {},
     "output_type": "display_data"
    },
    {
     "name": "stdout",
     "output_type": "stream",
     "text": [
      "/uufs/chpc.utah.edu/common/home/civil-group1/Johnson/SWEMLv2.0/data/TrainingDFs/2023/250M_Resolution/Obsdf/20230317_ObsDF.parquet\n",
      "Site processing complete, adding observtional data to 20230302 df...\n"
     ]
    },
    {
     "data": {
      "application/vnd.jupyter.widget-view+json": {
       "model_id": "fb0951426a794b02bebae7ad22c423d1",
       "version_major": 2,
       "version_minor": 0
      },
      "text/plain": [
       "  0%|          | 0/58351 [00:00<?, ?it/s]"
      ]
     },
     "metadata": {},
     "output_type": "display_data"
    },
    {
     "name": "stdout",
     "output_type": "stream",
     "text": [
      "/uufs/chpc.utah.edu/common/home/civil-group1/Johnson/SWEMLv2.0/data/TrainingDFs/2023/250M_Resolution/Obsdf/20230414_ObsDF.parquet\n",
      "Site processing complete, adding observtional data to 20230316 df...\n"
     ]
    },
    {
     "data": {
      "application/vnd.jupyter.widget-view+json": {
       "model_id": "9e8afeee3e994b079ebd0ac821bc51b1",
       "version_major": 2,
       "version_minor": 0
      },
      "text/plain": [
       "  0%|          | 0/58351 [00:00<?, ?it/s]"
      ]
     },
     "metadata": {},
     "output_type": "display_data"
    },
    {
     "name": "stdout",
     "output_type": "stream",
     "text": [
      "/uufs/chpc.utah.edu/common/home/civil-group1/Johnson/SWEMLv2.0/data/TrainingDFs/2023/250M_Resolution/Obsdf/20230409_ObsDF.parquet\n",
      "Site processing complete, adding observtional data to 20230427 df...\n"
     ]
    },
    {
     "data": {
      "application/vnd.jupyter.widget-view+json": {
       "model_id": "61f2f50868cc4da0b513eb2009a3078e",
       "version_major": 2,
       "version_minor": 0
      },
      "text/plain": [
       "  0%|          | 0/58351 [00:00<?, ?it/s]"
      ]
     },
     "metadata": {},
     "output_type": "display_data"
    },
    {
     "name": "stdout",
     "output_type": "stream",
     "text": [
      "/uufs/chpc.utah.edu/common/home/civil-group1/Johnson/SWEMLv2.0/data/TrainingDFs/2023/250M_Resolution/Obsdf/20230511_ObsDF.parquet\n",
      "Site processing complete, adding observtional data to 20230601 df...\n"
     ]
    },
    {
     "data": {
      "application/vnd.jupyter.widget-view+json": {
       "model_id": "f9f3509970ec4d0dae387604581b8de2",
       "version_major": 2,
       "version_minor": 0
      },
      "text/plain": [
       "  0%|          | 0/58351 [00:00<?, ?it/s]"
      ]
     },
     "metadata": {},
     "output_type": "display_data"
    },
    {
     "name": "stdout",
     "output_type": "stream",
     "text": [
      "/uufs/chpc.utah.edu/common/home/civil-group1/Johnson/SWEMLv2.0/data/TrainingDFs/2023/250M_Resolution/Obsdf/20230608_ObsDF.parquet\n",
      "Site processing complete, adding observtional data to 20230626 df...\n"
     ]
    },
    {
     "data": {
      "application/vnd.jupyter.widget-view+json": {
       "model_id": "45f4844259e74e40b7fe9b9984d6a29f",
       "version_major": 2,
       "version_minor": 0
      },
      "text/plain": [
       "  0%|          | 0/58351 [00:00<?, ?it/s]"
      ]
     },
     "metadata": {},
     "output_type": "display_data"
    },
    {
     "name": "stdout",
     "output_type": "stream",
     "text": [
      "/uufs/chpc.utah.edu/common/home/civil-group1/Johnson/SWEMLv2.0/data/TrainingDFs/2023/250M_Resolution/Obsdf/20230124_ObsDF.parquet\n",
      "Site processing complete, adding observtional data to 20230527 df...\n"
     ]
    },
    {
     "data": {
      "application/vnd.jupyter.widget-view+json": {
       "model_id": "ff0258630cb1498b8e15446a91a76deb",
       "version_major": 2,
       "version_minor": 0
      },
      "text/plain": [
       "  0%|          | 0/7424 [00:00<?, ?it/s]"
      ]
     },
     "metadata": {},
     "output_type": "display_data"
    },
    {
     "name": "stdout",
     "output_type": "stream",
     "text": [
      "/uufs/chpc.utah.edu/common/home/civil-group1/Johnson/SWEMLv2.0/data/TrainingDFs/2023/250M_Resolution/Obsdf/20230302_ObsDF.parquet\n",
      "Site processing complete, adding observtional data to 20230615 df...\n"
     ]
    },
    {
     "data": {
      "application/vnd.jupyter.widget-view+json": {
       "model_id": "f368806c0ac24bc69ed449cf28fedd50",
       "version_major": 2,
       "version_minor": 0
      },
      "text/plain": [
       "  0%|          | 0/7425 [00:00<?, ?it/s]"
      ]
     },
     "metadata": {},
     "output_type": "display_data"
    },
    {
     "name": "stdout",
     "output_type": "stream",
     "text": [
      "/uufs/chpc.utah.edu/common/home/civil-group1/Johnson/SWEMLv2.0/data/TrainingDFs/2023/250M_Resolution/Obsdf/20230316_ObsDF.parquet\n",
      "Site processing complete, adding observtional data to 20230702 df...\n"
     ]
    },
    {
     "data": {
      "application/vnd.jupyter.widget-view+json": {
       "model_id": "99d1177ed8d84190a3817042a6a8b4af",
       "version_major": 2,
       "version_minor": 0
      },
      "text/plain": [
       "  0%|          | 0/7425 [00:00<?, ?it/s]"
      ]
     },
     "metadata": {},
     "output_type": "display_data"
    },
    {
     "name": "stdout",
     "output_type": "stream",
     "text": [
      "/uufs/chpc.utah.edu/common/home/civil-group1/Johnson/SWEMLv2.0/data/TrainingDFs/2023/250M_Resolution/Obsdf/20230527_ObsDF.parquet\n",
      "Site processing complete, adding observtional data to 20230208 df...\n"
     ]
    },
    {
     "data": {
      "application/vnd.jupyter.widget-view+json": {
       "model_id": "54d7e2f76517480abb4a7cac4b957ae2",
       "version_major": 2,
       "version_minor": 0
      },
      "text/plain": [
       "  0%|          | 0/80243 [00:00<?, ?it/s]"
      ]
     },
     "metadata": {},
     "output_type": "display_data"
    },
    {
     "name": "stdout",
     "output_type": "stream",
     "text": [
      "/uufs/chpc.utah.edu/common/home/civil-group1/Johnson/SWEMLv2.0/data/TrainingDFs/2023/250M_Resolution/Obsdf/20230615_ObsDF.parquet\n",
      "Site processing complete, adding observtional data to 20230415 df...\n"
     ]
    },
    {
     "data": {
      "application/vnd.jupyter.widget-view+json": {
       "model_id": "099c5944ea84411b932f387ed18f89f4",
       "version_major": 2,
       "version_minor": 0
      },
      "text/plain": [
       "  0%|          | 0/80233 [00:00<?, ?it/s]"
      ]
     },
     "metadata": {},
     "output_type": "display_data"
    },
    {
     "name": "stdout",
     "output_type": "stream",
     "text": [
      "/uufs/chpc.utah.edu/common/home/civil-group1/Johnson/SWEMLv2.0/data/TrainingDFs/2023/250M_Resolution/Obsdf/20230702_ObsDF.parquet\n",
      "Site processing complete, adding observtional data to 20230513 df...\n"
     ]
    },
    {
     "data": {
      "application/vnd.jupyter.widget-view+json": {
       "model_id": "56d6a89f16da4a6bbec1ddfb357a6f65",
       "version_major": 2,
       "version_minor": 0
      },
      "text/plain": [
       "  0%|          | 0/80235 [00:00<?, ?it/s]"
      ]
     },
     "metadata": {},
     "output_type": "display_data"
    },
    {
     "name": "stdout",
     "output_type": "stream",
     "text": [
      "/uufs/chpc.utah.edu/common/home/civil-group1/Johnson/SWEMLv2.0/data/TrainingDFs/2023/250M_Resolution/Obsdf/20230427_ObsDF.parquet\n",
      "Site processing complete, adding observtional data to 20230416 df...\n"
     ]
    },
    {
     "data": {
      "application/vnd.jupyter.widget-view+json": {
       "model_id": "829fb2a866554564895d4949d6c20bf1",
       "version_major": 2,
       "version_minor": 0
      },
      "text/plain": [
       "  0%|          | 0/41673 [00:00<?, ?it/s]"
      ]
     },
     "metadata": {},
     "output_type": "display_data"
    },
    {
     "name": "stdout",
     "output_type": "stream",
     "text": [
      "/uufs/chpc.utah.edu/common/home/civil-group1/Johnson/SWEMLv2.0/data/TrainingDFs/2023/250M_Resolution/Obsdf/20230601_ObsDF.parquet\n",
      "Site processing complete, adding observtional data to 20230527 df...\n"
     ]
    },
    {
     "data": {
      "application/vnd.jupyter.widget-view+json": {
       "model_id": "7c3d7dd386534f34a67a86ba9d6ab34f",
       "version_major": 2,
       "version_minor": 0
      },
      "text/plain": [
       "  0%|          | 0/7424 [00:00<?, ?it/s]"
      ]
     },
     "metadata": {},
     "output_type": "display_data"
    },
    {
     "name": "stdout",
     "output_type": "stream",
     "text": [
      "/uufs/chpc.utah.edu/common/home/civil-group1/Johnson/SWEMLv2.0/data/TrainingDFs/2023/250M_Resolution/Obsdf/20230626_ObsDF.parquet\n",
      "Site processing complete, adding observtional data to 20230128 df...\n"
     ]
    },
    {
     "data": {
      "application/vnd.jupyter.widget-view+json": {
       "model_id": "35d15f04c88b41a9b74f61eb158b81a1",
       "version_major": 2,
       "version_minor": 0
      },
      "text/plain": [
       "  0%|          | 0/45033 [00:00<?, ?it/s]"
      ]
     },
     "metadata": {},
     "output_type": "display_data"
    },
    {
     "name": "stdout",
     "output_type": "stream",
     "text": [
      "/uufs/chpc.utah.edu/common/home/civil-group1/Johnson/SWEMLv2.0/data/TrainingDFs/2023/250M_Resolution/Obsdf/20230527_ObsDF.parquet\n",
      "Site processing complete, adding observtional data to 20230405 df...\n"
     ]
    },
    {
     "data": {
      "application/vnd.jupyter.widget-view+json": {
       "model_id": "07dd6c237dab4bb9bd6f0b52ef0a1e00",
       "version_major": 2,
       "version_minor": 0
      },
      "text/plain": [
       "  0%|          | 0/45033 [00:00<?, ?it/s]"
      ]
     },
     "metadata": {},
     "output_type": "display_data"
    },
    {
     "name": "stdout",
     "output_type": "stream",
     "text": [
      "/uufs/chpc.utah.edu/common/home/civil-group1/Johnson/SWEMLv2.0/data/TrainingDFs/2023/250M_Resolution/Obsdf/20230416_ObsDF.parquet\n",
      "Site processing complete, adding observtional data to 20230426 df...\n"
     ]
    },
    {
     "data": {
      "application/vnd.jupyter.widget-view+json": {
       "model_id": "97d5781d01ac4b4a8c0c31192c9eed34",
       "version_major": 2,
       "version_minor": 0
      },
      "text/plain": [
       "  0%|          | 0/45033 [00:00<?, ?it/s]"
      ]
     },
     "metadata": {},
     "output_type": "display_data"
    },
    {
     "name": "stdout",
     "output_type": "stream",
     "text": [
      "/uufs/chpc.utah.edu/common/home/civil-group1/Johnson/SWEMLv2.0/data/TrainingDFs/2023/250M_Resolution/Obsdf/20230208_ObsDF.parquet\n",
      "/uufs/chpc.utah.edu/common/home/civil-group1/Johnson/SWEMLv2.0/data/TrainingDFs/2023/250M_Resolution/Obsdf/20230128_ObsDF.parquet\n",
      "Site processing complete, adding observtional data to 20230531 df...\n"
     ]
    },
    {
     "data": {
      "application/vnd.jupyter.widget-view+json": {
       "model_id": "d9b92d173fbd471abd5d48132dd682be",
       "version_major": 2,
       "version_minor": 0
      },
      "text/plain": [
       "  0%|          | 0/45033 [00:00<?, ?it/s]"
      ]
     },
     "metadata": {},
     "output_type": "display_data"
    },
    {
     "name": "stdout",
     "output_type": "stream",
     "text": [
      "Site processing complete, adding observtional data to 20230625 df...\n"
     ]
    },
    {
     "data": {
      "application/vnd.jupyter.widget-view+json": {
       "model_id": "abd09226bf81479389c93eac5644a424",
       "version_major": 2,
       "version_minor": 0
      },
      "text/plain": [
       "  0%|          | 0/45033 [00:00<?, ?it/s]"
      ]
     },
     "metadata": {},
     "output_type": "display_data"
    },
    {
     "name": "stdout",
     "output_type": "stream",
     "text": [
      "/uufs/chpc.utah.edu/common/home/civil-group1/Johnson/SWEMLv2.0/data/TrainingDFs/2023/250M_Resolution/Obsdf/20230405_ObsDF.parquet\n",
      "/uufs/chpc.utah.edu/common/home/civil-group1/Johnson/SWEMLv2.0/data/TrainingDFs/2023/250M_Resolution/Obsdf/20230415_ObsDF.parquet\n",
      "/uufs/chpc.utah.edu/common/home/civil-group1/Johnson/SWEMLv2.0/data/TrainingDFs/2023/250M_Resolution/Obsdf/20230513_ObsDF.parquet\n",
      "/uufs/chpc.utah.edu/common/home/civil-group1/Johnson/SWEMLv2.0/data/TrainingDFs/2023/250M_Resolution/Obsdf/20230426_ObsDF.parquet\n",
      "/uufs/chpc.utah.edu/common/home/civil-group1/Johnson/SWEMLv2.0/data/TrainingDFs/2023/250M_Resolution/Obsdf/20230531_ObsDF.parquet\n",
      "/uufs/chpc.utah.edu/common/home/civil-group1/Johnson/SWEMLv2.0/data/TrainingDFs/2023/250M_Resolution/Obsdf/20230625_ObsDF.parquet\n",
      "Job complete for connecting SNOTEL obs to sites/dates\n",
      "2024\n",
      "Connecting site observations with nearest monitoring network obs\n",
      "Loading observations from 2013-2019\n",
      "Loading 250M resolution grids for 2024 region\n",
      "Processing datetime component of SNOTEL observation dataframe\n",
      "Loading 71 processed ASO observations for the 2024 at 250M resolution\n",
      "There are 71 aso dates in snotel obs\n",
      "There are 0 missing snotel obs\n",
      "Connecting 71 timesteps of observations for 2024\n"
     ]
    },
    {
     "name": "stderr",
     "output_type": "stream",
     "text": [
      "100%|██████████| 71/71 [00:00<00:00, 1036.77it/s]\n"
     ]
    },
    {
     "name": "stdout",
     "output_type": "stream",
     "text": [
      "Site processing complete, adding observtional data to 20240211 df...\n"
     ]
    },
    {
     "data": {
      "application/vnd.jupyter.widget-view+json": {
       "model_id": "250fb1937eb543e6b3ea83cac4a43953",
       "version_major": 2,
       "version_minor": 0
      },
      "text/plain": [
       "  0%|          | 0/66225 [00:00<?, ?it/s]"
      ]
     },
     "metadata": {},
     "output_type": "display_data"
    },
    {
     "name": "stdout",
     "output_type": "stream",
     "text": [
      "Site processing complete, adding observtional data to 20240410 df...\n"
     ]
    },
    {
     "data": {
      "application/vnd.jupyter.widget-view+json": {
       "model_id": "6f94fdf2203d48cb9f1769847d5562ae",
       "version_major": 2,
       "version_minor": 0
      },
      "text/plain": [
       "  0%|          | 0/62553 [00:00<?, ?it/s]"
      ]
     },
     "metadata": {},
     "output_type": "display_data"
    },
    {
     "name": "stdout",
     "output_type": "stream",
     "text": [
      "Site processing complete, adding observtional data to 20240430 df...\n"
     ]
    },
    {
     "data": {
      "application/vnd.jupyter.widget-view+json": {
       "model_id": "66fe3eb2c3a34f2b8ec6393067a3a093",
       "version_major": 2,
       "version_minor": 0
      },
      "text/plain": [
       "  0%|          | 0/56927 [00:00<?, ?it/s]"
      ]
     },
     "metadata": {},
     "output_type": "display_data"
    },
    {
     "name": "stdout",
     "output_type": "stream",
     "text": [
      "Site processing complete, adding observtional data to 20240421 df...\n"
     ]
    },
    {
     "data": {
      "application/vnd.jupyter.widget-view+json": {
       "model_id": "e96eaac9c2e1474e9d317ef5a1868f87",
       "version_major": 2,
       "version_minor": 0
      },
      "text/plain": [
       "  0%|          | 0/20586 [00:00<?, ?it/s]"
      ]
     },
     "metadata": {},
     "output_type": "display_data"
    },
    {
     "name": "stdout",
     "output_type": "stream",
     "text": [
      "Site processing complete, adding observtional data to 20240425 df...\n"
     ]
    },
    {
     "data": {
      "application/vnd.jupyter.widget-view+json": {
       "model_id": "ea4f158977ea4501b515c4c43e007fa5",
       "version_major": 2,
       "version_minor": 0
      },
      "text/plain": [
       "  0%|          | 0/17434 [00:00<?, ?it/s]"
      ]
     },
     "metadata": {},
     "output_type": "display_data"
    },
    {
     "name": "stdout",
     "output_type": "stream",
     "text": [
      "Site processing complete, adding observtional data to 20240605 df...\n"
     ]
    },
    {
     "data": {
      "application/vnd.jupyter.widget-view+json": {
       "model_id": "9b58bdf02b1940c287a658859a2ac4bc",
       "version_major": 2,
       "version_minor": 0
      },
      "text/plain": [
       "  0%|          | 0/17432 [00:00<?, ?it/s]"
      ]
     },
     "metadata": {},
     "output_type": "display_data"
    },
    {
     "name": "stdout",
     "output_type": "stream",
     "text": [
      "/uufs/chpc.utah.edu/common/home/civil-group1/Johnson/SWEMLv2.0/data/TrainingDFs/2024/250M_Resolution/Obsdf/20240425_ObsDF.parquet\n",
      "/uufs/chpc.utah.edu/common/home/civil-group1/Johnson/SWEMLv2.0/data/TrainingDFs/2024/250M_Resolution/Obsdf/20240605_ObsDF.parquet\n",
      "Site processing complete, adding observtional data to 20240502 df...\n"
     ]
    },
    {
     "data": {
      "application/vnd.jupyter.widget-view+json": {
       "model_id": "c0637bbea9c04f2eae5409a49d723a93",
       "version_major": 2,
       "version_minor": 0
      },
      "text/plain": [
       "  0%|          | 0/12150 [00:00<?, ?it/s]"
      ]
     },
     "metadata": {},
     "output_type": "display_data"
    },
    {
     "name": "stdout",
     "output_type": "stream",
     "text": [
      "Site processing complete, adding observtional data to 20240222 df...\n"
     ]
    },
    {
     "data": {
      "application/vnd.jupyter.widget-view+json": {
       "model_id": "c8ff2d2e73264acb8bbc2cd60e8aecc2",
       "version_major": 2,
       "version_minor": 0
      },
      "text/plain": [
       "  0%|          | 0/30092 [00:00<?, ?it/s]"
      ]
     },
     "metadata": {},
     "output_type": "display_data"
    },
    {
     "name": "stdout",
     "output_type": "stream",
     "text": [
      "/uufs/chpc.utah.edu/common/home/civil-group1/Johnson/SWEMLv2.0/data/TrainingDFs/2024/250M_Resolution/Obsdf/20240421_ObsDF.parquet\n",
      "Site processing complete, adding observtional data to 20240321 df...\n"
     ]
    },
    {
     "data": {
      "application/vnd.jupyter.widget-view+json": {
       "model_id": "6cb241eab22b4f999c59f95e7879e7f3",
       "version_major": 2,
       "version_minor": 0
      },
      "text/plain": [
       "  0%|          | 0/30092 [00:00<?, ?it/s]"
      ]
     },
     "metadata": {},
     "output_type": "display_data"
    },
    {
     "name": "stdout",
     "output_type": "stream",
     "text": [
      "/uufs/chpc.utah.edu/common/home/civil-group1/Johnson/SWEMLv2.0/data/TrainingDFs/2024/250M_Resolution/Obsdf/20240502_ObsDF.parquet\n",
      "Site processing complete, adding observtional data to 20240417 df...\n"
     ]
    },
    {
     "data": {
      "application/vnd.jupyter.widget-view+json": {
       "model_id": "153f9cd9b7274d42b75a6ac2a8356bf2",
       "version_major": 2,
       "version_minor": 0
      },
      "text/plain": [
       "  0%|          | 0/30094 [00:00<?, ?it/s]"
      ]
     },
     "metadata": {},
     "output_type": "display_data"
    },
    {
     "name": "stdout",
     "output_type": "stream",
     "text": [
      "/uufs/chpc.utah.edu/common/home/civil-group1/Johnson/SWEMLv2.0/data/TrainingDFs/2024/250M_Resolution/Obsdf/20240222_ObsDF.parquet\n",
      "Site processing complete, adding observtional data to 20240516 df...\n"
     ]
    },
    {
     "data": {
      "application/vnd.jupyter.widget-view+json": {
       "model_id": "dd8ddeecc75a4d8ab294e9d4a544fd8e",
       "version_major": 2,
       "version_minor": 0
      },
      "text/plain": [
       "  0%|          | 0/30094 [00:00<?, ?it/s]"
      ]
     },
     "metadata": {},
     "output_type": "display_data"
    },
    {
     "name": "stdout",
     "output_type": "stream",
     "text": [
      "/uufs/chpc.utah.edu/common/home/civil-group1/Johnson/SWEMLv2.0/data/TrainingDFs/2024/250M_Resolution/Obsdf/20240321_ObsDF.parquet\n",
      "Site processing complete, adding observtional data to 20240607 df...\n"
     ]
    },
    {
     "data": {
      "application/vnd.jupyter.widget-view+json": {
       "model_id": "5492f25f4be04098b6eb0a7ea68daf11",
       "version_major": 2,
       "version_minor": 0
      },
      "text/plain": [
       "  0%|          | 0/29751 [00:00<?, ?it/s]"
      ]
     },
     "metadata": {},
     "output_type": "display_data"
    },
    {
     "name": "stdout",
     "output_type": "stream",
     "text": [
      "/uufs/chpc.utah.edu/common/home/civil-group1/Johnson/SWEMLv2.0/data/TrainingDFs/2024/250M_Resolution/Obsdf/20240430_ObsDF.parquet\n",
      "Site processing complete, adding observtional data to 20240502 df...\n"
     ]
    },
    {
     "data": {
      "application/vnd.jupyter.widget-view+json": {
       "model_id": "5db9a050db4e4e198d56387af37458db",
       "version_major": 2,
       "version_minor": 0
      },
      "text/plain": [
       "  0%|          | 0/21163 [00:00<?, ?it/s]"
      ]
     },
     "metadata": {},
     "output_type": "display_data"
    },
    {
     "name": "stdout",
     "output_type": "stream",
     "text": [
      "/uufs/chpc.utah.edu/common/home/civil-group1/Johnson/SWEMLv2.0/data/TrainingDFs/2024/250M_Resolution/Obsdf/20240410_ObsDF.parquet\n",
      "Site processing complete, adding observtional data to 20240402 df...\n"
     ]
    },
    {
     "data": {
      "application/vnd.jupyter.widget-view+json": {
       "model_id": "0dec44487f2d4099bb76834576de3338",
       "version_major": 2,
       "version_minor": 0
      },
      "text/plain": [
       "  0%|          | 0/29600 [00:00<?, ?it/s]"
      ]
     },
     "metadata": {},
     "output_type": "display_data"
    },
    {
     "name": "stdout",
     "output_type": "stream",
     "text": [
      "/uufs/chpc.utah.edu/common/home/civil-group1/Johnson/SWEMLv2.0/data/TrainingDFs/2024/250M_Resolution/Obsdf/20240417_ObsDF.parquet\n",
      "Site processing complete, adding observtional data to 20240508 df...\n"
     ]
    },
    {
     "data": {
      "application/vnd.jupyter.widget-view+json": {
       "model_id": "4ce083dc424048b182b02394093bb3be",
       "version_major": 2,
       "version_minor": 0
      },
      "text/plain": [
       "  0%|          | 0/14444 [00:00<?, ?it/s]"
      ]
     },
     "metadata": {},
     "output_type": "display_data"
    },
    {
     "name": "stdout",
     "output_type": "stream",
     "text": [
      "/uufs/chpc.utah.edu/common/home/civil-group1/Johnson/SWEMLv2.0/data/TrainingDFs/2024/250M_Resolution/Obsdf/20240211_ObsDF.parquet\n",
      "Site processing complete, adding observtional data to 20240404 df...\n"
     ]
    },
    {
     "data": {
      "application/vnd.jupyter.widget-view+json": {
       "model_id": "9e146ac5e7624e0dafd0d14b3c607748",
       "version_major": 2,
       "version_minor": 0
      },
      "text/plain": [
       "0it [00:00, ?it/s]"
      ]
     },
     "metadata": {},
     "output_type": "display_data"
    },
    {
     "name": "stdout",
     "output_type": "stream",
     "text": [
      "nan throwing error, moving on...\n",
      "Site processing complete, adding observtional data to 20240430 df...\n"
     ]
    },
    {
     "data": {
      "application/vnd.jupyter.widget-view+json": {
       "model_id": "80e9a0f4f5ad4756bef9f665010b542a",
       "version_major": 2,
       "version_minor": 0
      },
      "text/plain": [
       "  0%|          | 0/25337 [00:00<?, ?it/s]"
      ]
     },
     "metadata": {},
     "output_type": "display_data"
    },
    {
     "name": "stdout",
     "output_type": "stream",
     "text": [
      "/uufs/chpc.utah.edu/common/home/civil-group1/Johnson/SWEMLv2.0/data/TrainingDFs/2024/250M_Resolution/Obsdf/20240508_ObsDF.parquet\n",
      "/uufs/chpc.utah.edu/common/home/civil-group1/Johnson/SWEMLv2.0/data/TrainingDFs/2024/250M_Resolution/Obsdf/20240502_ObsDF.parquet\n",
      "Site processing complete, adding observtional data to 20240403 df...\n"
     ]
    },
    {
     "data": {
      "application/vnd.jupyter.widget-view+json": {
       "model_id": "01def5be8acb4a59a9296e00c43e56ac",
       "version_major": 2,
       "version_minor": 0
      },
      "text/plain": [
       "  0%|          | 0/15334 [00:00<?, ?it/s]"
      ]
     },
     "metadata": {},
     "output_type": "display_data"
    },
    {
     "name": "stdout",
     "output_type": "stream",
     "text": [
      "Site processing complete, adding observtional data to 20240222 df...\n"
     ]
    },
    {
     "data": {
      "application/vnd.jupyter.widget-view+json": {
       "model_id": "4ce54adb437d437288583ffecc381629",
       "version_major": 2,
       "version_minor": 0
      },
      "text/plain": [
       "  0%|          | 0/170485 [00:00<?, ?it/s]"
      ]
     },
     "metadata": {},
     "output_type": "display_data"
    },
    {
     "name": "stdout",
     "output_type": "stream",
     "text": [
      "/uufs/chpc.utah.edu/common/home/civil-group1/Johnson/SWEMLv2.0/data/TrainingDFs/2024/250M_Resolution/Obsdf/20240516_ObsDF.parquet\n",
      "/uufs/chpc.utah.edu/common/home/civil-group1/Johnson/SWEMLv2.0/data/TrainingDFs/2024/250M_Resolution/Obsdf/20240607_ObsDF.parquet\n",
      "Site processing complete, adding observtional data to 20240315 df...\n"
     ]
    },
    {
     "data": {
      "application/vnd.jupyter.widget-view+json": {
       "model_id": "e13ea6054b064267a0d0f512c19b8af7",
       "version_major": 2,
       "version_minor": 0
      },
      "text/plain": [
       "  0%|          | 0/170472 [00:00<?, ?it/s]"
      ]
     },
     "metadata": {},
     "output_type": "display_data"
    },
    {
     "name": "stdout",
     "output_type": "stream",
     "text": [
      "Site processing complete, adding observtional data to 20240416 df...\n"
     ]
    },
    {
     "data": {
      "application/vnd.jupyter.widget-view+json": {
       "model_id": "33d0d892fb4b4e13b94a62c4dc2320f1",
       "version_major": 2,
       "version_minor": 0
      },
      "text/plain": [
       "  0%|          | 0/170486 [00:00<?, ?it/s]"
      ]
     },
     "metadata": {},
     "output_type": "display_data"
    },
    {
     "name": "stdout",
     "output_type": "stream",
     "text": [
      "/uufs/chpc.utah.edu/common/home/civil-group1/Johnson/SWEMLv2.0/data/TrainingDFs/2024/250M_Resolution/Obsdf/20240430_ObsDF.parquet\n",
      "/uufs/chpc.utah.edu/common/home/civil-group1/Johnson/SWEMLv2.0/data/TrainingDFs/2024/250M_Resolution/Obsdf/20240402_ObsDF.parquet\n",
      "Site processing complete, adding observtional data to 20240513 df...\n"
     ]
    },
    {
     "data": {
      "application/vnd.jupyter.widget-view+json": {
       "model_id": "fb246a464fea4e718eb78bd8b2c9cf5b",
       "version_major": 2,
       "version_minor": 0
      },
      "text/plain": [
       "  0%|          | 0/170447 [00:00<?, ?it/s]"
      ]
     },
     "metadata": {},
     "output_type": "display_data"
    },
    {
     "name": "stdout",
     "output_type": "stream",
     "text": [
      "Site processing complete, adding observtional data to 20240211 df...\n"
     ]
    },
    {
     "data": {
      "application/vnd.jupyter.widget-view+json": {
       "model_id": "d68f3fc653064a878587c4f80e217fed",
       "version_major": 2,
       "version_minor": 0
      },
      "text/plain": [
       "  0%|          | 0/26955 [00:00<?, ?it/s]"
      ]
     },
     "metadata": {},
     "output_type": "display_data"
    },
    {
     "name": "stdout",
     "output_type": "stream",
     "text": [
      "/uufs/chpc.utah.edu/common/home/civil-group1/Johnson/SWEMLv2.0/data/TrainingDFs/2024/250M_Resolution/Obsdf/20240403_ObsDF.parquet\n",
      "Site processing complete, adding observtional data to 20240403 df...\n"
     ]
    },
    {
     "data": {
      "application/vnd.jupyter.widget-view+json": {
       "model_id": "29a73a530b3e46d182d58e16aa967aaf",
       "version_major": 2,
       "version_minor": 0
      },
      "text/plain": [
       "  0%|          | 0/28639 [00:00<?, ?it/s]"
      ]
     },
     "metadata": {},
     "output_type": "display_data"
    },
    {
     "name": "stdout",
     "output_type": "stream",
     "text": [
      "/uufs/chpc.utah.edu/common/home/civil-group1/Johnson/SWEMLv2.0/data/TrainingDFs/2024/250M_Resolution/Obsdf/20240211_ObsDF.parquet\n",
      "Site processing complete, adding observtional data to 20240428 df...\n"
     ]
    },
    {
     "data": {
      "application/vnd.jupyter.widget-view+json": {
       "model_id": "251f83ec48e14ec9a9d7ef975b617ac0",
       "version_major": 2,
       "version_minor": 0
      },
      "text/plain": [
       "  0%|          | 0/25891 [00:00<?, ?it/s]"
      ]
     },
     "metadata": {},
     "output_type": "display_data"
    },
    {
     "name": "stdout",
     "output_type": "stream",
     "text": [
      "/uufs/chpc.utah.edu/common/home/civil-group1/Johnson/SWEMLv2.0/data/TrainingDFs/2024/250M_Resolution/Obsdf/20240403_ObsDF.parquet\n",
      "Site processing complete, adding observtional data to 20240520 df...\n"
     ]
    },
    {
     "data": {
      "application/vnd.jupyter.widget-view+json": {
       "model_id": "2a1448e3957144c58cf72f9c02b827f5",
       "version_major": 2,
       "version_minor": 0
      },
      "text/plain": [
       "  0%|          | 0/14584 [00:00<?, ?it/s]"
      ]
     },
     "metadata": {},
     "output_type": "display_data"
    },
    {
     "name": "stdout",
     "output_type": "stream",
     "text": [
      "/uufs/chpc.utah.edu/common/home/civil-group1/Johnson/SWEMLv2.0/data/TrainingDFs/2024/250M_Resolution/Obsdf/20240520_ObsDF.parquet\n",
      "Site processing complete, adding observtional data to 20240210 df...\n"
     ]
    },
    {
     "data": {
      "application/vnd.jupyter.widget-view+json": {
       "model_id": "0ff79209943d4c469ac21bc3d9a76308",
       "version_major": 2,
       "version_minor": 0
      },
      "text/plain": [
       "  0%|          | 0/82315 [00:00<?, ?it/s]"
      ]
     },
     "metadata": {},
     "output_type": "display_data"
    },
    {
     "name": "stdout",
     "output_type": "stream",
     "text": [
      "/uufs/chpc.utah.edu/common/home/civil-group1/Johnson/SWEMLv2.0/data/TrainingDFs/2024/250M_Resolution/Obsdf/20240428_ObsDF.parquet\n",
      "Site processing complete, adding observtional data to 20240411 df...\n"
     ]
    },
    {
     "data": {
      "application/vnd.jupyter.widget-view+json": {
       "model_id": "547c5b10a688401190db8e97f6a29774",
       "version_major": 2,
       "version_minor": 0
      },
      "text/plain": [
       "  0%|          | 0/82312 [00:00<?, ?it/s]"
      ]
     },
     "metadata": {},
     "output_type": "display_data"
    },
    {
     "name": "stdout",
     "output_type": "stream",
     "text": [
      "/uufs/chpc.utah.edu/common/home/civil-group1/Johnson/SWEMLv2.0/data/TrainingDFs/2024/250M_Resolution/Obsdf/20240210_ObsDF.parquet\n",
      "Site processing complete, adding observtional data to 20240508 df...\n"
     ]
    },
    {
     "data": {
      "application/vnd.jupyter.widget-view+json": {
       "model_id": "f063f28396f444bcaebd52167f8baadc",
       "version_major": 2,
       "version_minor": 0
      },
      "text/plain": [
       "  0%|          | 0/81330 [00:00<?, ?it/s]"
      ]
     },
     "metadata": {},
     "output_type": "display_data"
    },
    {
     "name": "stdout",
     "output_type": "stream",
     "text": [
      "/uufs/chpc.utah.edu/common/home/civil-group1/Johnson/SWEMLv2.0/data/TrainingDFs/2024/250M_Resolution/Obsdf/20240411_ObsDF.parquet\n",
      "Site processing complete, adding observtional data to 20240127 df...\n"
     ]
    },
    {
     "data": {
      "application/vnd.jupyter.widget-view+json": {
       "model_id": "88f0b416a3d2456187c6878553c16998",
       "version_major": 2,
       "version_minor": 0
      },
      "text/plain": [
       "  0%|          | 0/78759 [00:00<?, ?it/s]"
      ]
     },
     "metadata": {},
     "output_type": "display_data"
    },
    {
     "name": "stdout",
     "output_type": "stream",
     "text": [
      "/uufs/chpc.utah.edu/common/home/civil-group1/Johnson/SWEMLv2.0/data/TrainingDFs/2024/250M_Resolution/Obsdf/20240222_ObsDF.parquet\n",
      "Site processing complete, adding observtional data to 20240308 df...\n"
     ]
    },
    {
     "data": {
      "application/vnd.jupyter.widget-view+json": {
       "model_id": "582334eac2754979b121d8114a1fe74b",
       "version_major": 2,
       "version_minor": 0
      },
      "text/plain": [
       "  0%|          | 0/82985 [00:00<?, ?it/s]"
      ]
     },
     "metadata": {},
     "output_type": "display_data"
    },
    {
     "name": "stdout",
     "output_type": "stream",
     "text": [
      "/uufs/chpc.utah.edu/common/home/civil-group1/Johnson/SWEMLv2.0/data/TrainingDFs/2024/250M_Resolution/Obsdf/20240416_ObsDF.parquet\n",
      "/uufs/chpc.utah.edu/common/home/civil-group1/Johnson/SWEMLv2.0/data/TrainingDFs/2024/250M_Resolution/Obsdf/20240315_ObsDF.parquet\n",
      "Site processing complete, adding observtional data to 20240410 df...\n"
     ]
    },
    {
     "data": {
      "application/vnd.jupyter.widget-view+json": {
       "model_id": "c5b56985cf2a4cb58224cdea86eb597b",
       "version_major": 2,
       "version_minor": 0
      },
      "text/plain": [
       "  0%|          | 0/80806 [00:00<?, ?it/s]"
      ]
     },
     "metadata": {},
     "output_type": "display_data"
    },
    {
     "name": "stdout",
     "output_type": "stream",
     "text": [
      "Site processing complete, adding observtional data to 20240427 df...\n"
     ]
    },
    {
     "data": {
      "application/vnd.jupyter.widget-view+json": {
       "model_id": "9d9825b231b14fdaa0c3db80168c94c5",
       "version_major": 2,
       "version_minor": 0
      },
      "text/plain": [
       "  0%|          | 0/84752 [00:00<?, ?it/s]"
      ]
     },
     "metadata": {},
     "output_type": "display_data"
    },
    {
     "name": "stdout",
     "output_type": "stream",
     "text": [
      "/uufs/chpc.utah.edu/common/home/civil-group1/Johnson/SWEMLv2.0/data/TrainingDFs/2024/250M_Resolution/Obsdf/20240513_ObsDF.parquet\n",
      "Site processing complete, adding observtional data to 20240212 df...\n"
     ]
    },
    {
     "data": {
      "application/vnd.jupyter.widget-view+json": {
       "model_id": "b9c558ee21024d9b91dbfe410184f764",
       "version_major": 2,
       "version_minor": 0
      },
      "text/plain": [
       "  0%|          | 0/35758 [00:00<?, ?it/s]"
      ]
     },
     "metadata": {},
     "output_type": "display_data"
    },
    {
     "name": "stdout",
     "output_type": "stream",
     "text": [
      "/uufs/chpc.utah.edu/common/home/civil-group1/Johnson/SWEMLv2.0/data/TrainingDFs/2024/250M_Resolution/Obsdf/20240212_ObsDF.parquet\n",
      "Site processing complete, adding observtional data to 20240308 df...\n"
     ]
    },
    {
     "data": {
      "application/vnd.jupyter.widget-view+json": {
       "model_id": "73cf0873a0664176bb57dd56bef18799",
       "version_major": 2,
       "version_minor": 0
      },
      "text/plain": [
       "  0%|          | 0/35739 [00:00<?, ?it/s]"
      ]
     },
     "metadata": {},
     "output_type": "display_data"
    },
    {
     "name": "stdout",
     "output_type": "stream",
     "text": [
      "/uufs/chpc.utah.edu/common/home/civil-group1/Johnson/SWEMLv2.0/data/TrainingDFs/2024/250M_Resolution/Obsdf/20240508_ObsDF.parquet\n",
      "Site processing complete, adding observtional data to 20240409 df...\n"
     ]
    },
    {
     "data": {
      "application/vnd.jupyter.widget-view+json": {
       "model_id": "957f92ce2a8146ffbb56dd50c705c4e6",
       "version_major": 2,
       "version_minor": 0
      },
      "text/plain": [
       "  0%|          | 0/35768 [00:00<?, ?it/s]"
      ]
     },
     "metadata": {},
     "output_type": "display_data"
    },
    {
     "name": "stdout",
     "output_type": "stream",
     "text": [
      "/uufs/chpc.utah.edu/common/home/civil-group1/Johnson/SWEMLv2.0/data/TrainingDFs/2024/250M_Resolution/Obsdf/20240127_ObsDF.parquet\n",
      "Site processing complete, adding observtional data to 20240502 df...\n"
     ]
    },
    {
     "data": {
      "application/vnd.jupyter.widget-view+json": {
       "model_id": "81957a90faae49559ad5882078bc88ee",
       "version_major": 2,
       "version_minor": 0
      },
      "text/plain": [
       "  0%|          | 0/35402 [00:00<?, ?it/s]"
      ]
     },
     "metadata": {},
     "output_type": "display_data"
    },
    {
     "name": "stdout",
     "output_type": "stream",
     "text": [
      "/uufs/chpc.utah.edu/common/home/civil-group1/Johnson/SWEMLv2.0/data/TrainingDFs/2024/250M_Resolution/Obsdf/20240308_ObsDF.parquet\n",
      "Site processing complete, adding observtional data to 20240523 df...\n"
     ]
    },
    {
     "data": {
      "application/vnd.jupyter.widget-view+json": {
       "model_id": "f069789618b2404593f30207f6780640",
       "version_major": 2,
       "version_minor": 0
      },
      "text/plain": [
       "  0%|          | 0/29160 [00:00<?, ?it/s]"
      ]
     },
     "metadata": {},
     "output_type": "display_data"
    },
    {
     "name": "stdout",
     "output_type": "stream",
     "text": [
      "/uufs/chpc.utah.edu/common/home/civil-group1/Johnson/SWEMLv2.0/data/TrainingDFs/2024/250M_Resolution/Obsdf/20240308_ObsDF.parquet\n",
      "/uufs/chpc.utah.edu/common/home/civil-group1/Johnson/SWEMLv2.0/data/TrainingDFs/2024/250M_Resolution/Obsdf/20240410_ObsDF.parquet\n",
      "Site processing complete, adding observtional data to 20240415 df...\n"
     ]
    },
    {
     "data": {
      "application/vnd.jupyter.widget-view+json": {
       "model_id": "eb050025e831472d9fdea0f95467fb58",
       "version_major": 2,
       "version_minor": 0
      },
      "text/plain": [
       "  0%|          | 0/21134 [00:00<?, ?it/s]"
      ]
     },
     "metadata": {},
     "output_type": "display_data"
    },
    {
     "name": "stdout",
     "output_type": "stream",
     "text": [
      "Site processing complete, adding observtional data to 20240409 df...\n"
     ]
    },
    {
     "data": {
      "application/vnd.jupyter.widget-view+json": {
       "model_id": "f527c593db5f41e8b3918e54579529a2",
       "version_major": 2,
       "version_minor": 0
      },
      "text/plain": [
       "  0%|          | 0/31474 [00:00<?, ?it/s]"
      ]
     },
     "metadata": {},
     "output_type": "display_data"
    },
    {
     "name": "stdout",
     "output_type": "stream",
     "text": [
      "/uufs/chpc.utah.edu/common/home/civil-group1/Johnson/SWEMLv2.0/data/TrainingDFs/2024/250M_Resolution/Obsdf/20240409_ObsDF.parquet\n",
      "Site processing complete, adding observtional data to 20240522 df...\n"
     ]
    },
    {
     "data": {
      "application/vnd.jupyter.widget-view+json": {
       "model_id": "221b87af2cb843ea90515424d19fa1b8",
       "version_major": 2,
       "version_minor": 0
      },
      "text/plain": [
       "  0%|          | 0/31436 [00:00<?, ?it/s]"
      ]
     },
     "metadata": {},
     "output_type": "display_data"
    },
    {
     "name": "stdout",
     "output_type": "stream",
     "text": [
      "/uufs/chpc.utah.edu/common/home/civil-group1/Johnson/SWEMLv2.0/data/TrainingDFs/2024/250M_Resolution/Obsdf/20240427_ObsDF.parquet\n",
      "Site processing complete, adding observtional data to 20240127 df...\n"
     ]
    },
    {
     "data": {
      "application/vnd.jupyter.widget-view+json": {
       "model_id": "4af11ad10d3f41fd84e297b31d9a2764",
       "version_major": 2,
       "version_minor": 0
      },
      "text/plain": [
       "  0%|          | 0/77791 [00:00<?, ?it/s]"
      ]
     },
     "metadata": {},
     "output_type": "display_data"
    },
    {
     "name": "stdout",
     "output_type": "stream",
     "text": [
      "/uufs/chpc.utah.edu/common/home/civil-group1/Johnson/SWEMLv2.0/data/TrainingDFs/2024/250M_Resolution/Obsdf/20240502_ObsDF.parquet\n",
      "Site processing complete, adding observtional data to 20240222 df...\n"
     ]
    },
    {
     "data": {
      "application/vnd.jupyter.widget-view+json": {
       "model_id": "8f5036632aee468bb07d85e9abcce241",
       "version_major": 2,
       "version_minor": 0
      },
      "text/plain": [
       "  0%|          | 0/72473 [00:00<?, ?it/s]"
      ]
     },
     "metadata": {},
     "output_type": "display_data"
    },
    {
     "name": "stdout",
     "output_type": "stream",
     "text": [
      "/uufs/chpc.utah.edu/common/home/civil-group1/Johnson/SWEMLv2.0/data/TrainingDFs/2024/250M_Resolution/Obsdf/20240415_ObsDF.parquet\n",
      "Site processing complete, adding observtional data to 20240326 df...\n"
     ]
    },
    {
     "data": {
      "application/vnd.jupyter.widget-view+json": {
       "model_id": "ce7cbe2b71184786ab408e2b4993691b",
       "version_major": 2,
       "version_minor": 0
      },
      "text/plain": [
       "  0%|          | 0/77795 [00:00<?, ?it/s]"
      ]
     },
     "metadata": {},
     "output_type": "display_data"
    },
    {
     "name": "stdout",
     "output_type": "stream",
     "text": [
      "/uufs/chpc.utah.edu/common/home/civil-group1/Johnson/SWEMLv2.0/data/TrainingDFs/2024/250M_Resolution/Obsdf/20240523_ObsDF.parquet\n",
      "Site processing complete, adding observtional data to 20240429 df...\n"
     ]
    },
    {
     "data": {
      "application/vnd.jupyter.widget-view+json": {
       "model_id": "2086efa3ff9a420daf2b4a78e1622cb9",
       "version_major": 2,
       "version_minor": 0
      },
      "text/plain": [
       "  0%|          | 0/83494 [00:00<?, ?it/s]"
      ]
     },
     "metadata": {},
     "output_type": "display_data"
    },
    {
     "name": "stdout",
     "output_type": "stream",
     "text": [
      "/uufs/chpc.utah.edu/common/home/civil-group1/Johnson/SWEMLv2.0/data/TrainingDFs/2024/250M_Resolution/Obsdf/20240409_ObsDF.parquet\n",
      "Site processing complete, adding observtional data to 20240521 df...\n"
     ]
    },
    {
     "data": {
      "application/vnd.jupyter.widget-view+json": {
       "model_id": "b7c7da5eccfc48ceab363a87e3568cc1",
       "version_major": 2,
       "version_minor": 0
      },
      "text/plain": [
       "  0%|          | 0/79904 [00:00<?, ?it/s]"
      ]
     },
     "metadata": {},
     "output_type": "display_data"
    },
    {
     "name": "stdout",
     "output_type": "stream",
     "text": [
      "/uufs/chpc.utah.edu/common/home/civil-group1/Johnson/SWEMLv2.0/data/TrainingDFs/2024/250M_Resolution/Obsdf/20240522_ObsDF.parquet\n",
      "Site processing complete, adding observtional data to 20240424 df...\n"
     ]
    },
    {
     "data": {
      "application/vnd.jupyter.widget-view+json": {
       "model_id": "baaf36ec0fc14a92a5ef898d4f51d611",
       "version_major": 2,
       "version_minor": 0
      },
      "text/plain": [
       "  0%|          | 0/17887 [00:00<?, ?it/s]"
      ]
     },
     "metadata": {},
     "output_type": "display_data"
    },
    {
     "name": "stdout",
     "output_type": "stream",
     "text": [
      "/uufs/chpc.utah.edu/common/home/civil-group1/Johnson/SWEMLv2.0/data/TrainingDFs/2024/250M_Resolution/Obsdf/20240424_ObsDF.parquet\n",
      "Site processing complete, adding observtional data to 20240605 df...\n"
     ]
    },
    {
     "data": {
      "application/vnd.jupyter.widget-view+json": {
       "model_id": "78f1c6038e094b92b439aa88d66756bb",
       "version_major": 2,
       "version_minor": 0
      },
      "text/plain": [
       "  0%|          | 0/17893 [00:00<?, ?it/s]"
      ]
     },
     "metadata": {},
     "output_type": "display_data"
    },
    {
     "name": "stdout",
     "output_type": "stream",
     "text": [
      "/uufs/chpc.utah.edu/common/home/civil-group1/Johnson/SWEMLv2.0/data/TrainingDFs/2024/250M_Resolution/Obsdf/20240605_ObsDF.parquet\n",
      "Site processing complete, adding observtional data to 20240314 df...\n"
     ]
    },
    {
     "data": {
      "application/vnd.jupyter.widget-view+json": {
       "model_id": "9d77d9f24a4041f4af6cff9ea56a9811",
       "version_major": 2,
       "version_minor": 0
      },
      "text/plain": [
       "  0%|          | 0/31633 [00:00<?, ?it/s]"
      ]
     },
     "metadata": {},
     "output_type": "display_data"
    },
    {
     "name": "stdout",
     "output_type": "stream",
     "text": [
      "/uufs/chpc.utah.edu/common/home/civil-group1/Johnson/SWEMLv2.0/data/TrainingDFs/2024/250M_Resolution/Obsdf/20240222_ObsDF.parquet\n",
      "Site processing complete, adding observtional data to 20240421 df...\n"
     ]
    },
    {
     "data": {
      "application/vnd.jupyter.widget-view+json": {
       "model_id": "4518f7322bda4545a554048c1c8ca20e",
       "version_major": 2,
       "version_minor": 0
      },
      "text/plain": [
       "  0%|          | 0/14344 [00:00<?, ?it/s]"
      ]
     },
     "metadata": {},
     "output_type": "display_data"
    },
    {
     "name": "stdout",
     "output_type": "stream",
     "text": [
      "/uufs/chpc.utah.edu/common/home/civil-group1/Johnson/SWEMLv2.0/data/TrainingDFs/2024/250M_Resolution/Obsdf/20240127_ObsDF.parquet\n",
      "Site processing complete, adding observtional data to 20240404 df...\n"
     ]
    },
    {
     "data": {
      "application/vnd.jupyter.widget-view+json": {
       "model_id": "49b4598f9f5149dfb07ef0608f07f86f",
       "version_major": 2,
       "version_minor": 0
      },
      "text/plain": [
       "  0%|          | 0/14582 [00:00<?, ?it/s]"
      ]
     },
     "metadata": {},
     "output_type": "display_data"
    },
    {
     "name": "stdout",
     "output_type": "stream",
     "text": [
      "/uufs/chpc.utah.edu/common/home/civil-group1/Johnson/SWEMLv2.0/data/TrainingDFs/2024/250M_Resolution/Obsdf/20240421_ObsDF.parquet\n",
      "Site processing complete, adding observtional data to 20240520 df...\n"
     ]
    },
    {
     "data": {
      "application/vnd.jupyter.widget-view+json": {
       "model_id": "5991f15f99c14b128670899177212f3a",
       "version_major": 2,
       "version_minor": 0
      },
      "text/plain": [
       "  0%|          | 0/14584 [00:00<?, ?it/s]"
      ]
     },
     "metadata": {},
     "output_type": "display_data"
    },
    {
     "name": "stdout",
     "output_type": "stream",
     "text": [
      "/uufs/chpc.utah.edu/common/home/civil-group1/Johnson/SWEMLv2.0/data/TrainingDFs/2024/250M_Resolution/Obsdf/20240404_ObsDF.parquet\n",
      "/uufs/chpc.utah.edu/common/home/civil-group1/Johnson/SWEMLv2.0/data/TrainingDFs/2024/250M_Resolution/Obsdf/20240326_ObsDF.parquet\n",
      "Site processing complete, adding observtional data to 20240227 df...\n"
     ]
    },
    {
     "data": {
      "application/vnd.jupyter.widget-view+json": {
       "model_id": "7216caa1c4cd41c0ac82a461978b5afe",
       "version_major": 2,
       "version_minor": 0
      },
      "text/plain": [
       "  0%|          | 0/48785 [00:00<?, ?it/s]"
      ]
     },
     "metadata": {},
     "output_type": "display_data"
    },
    {
     "name": "stdout",
     "output_type": "stream",
     "text": [
      "Site processing complete, adding observtional data to 20240401 df...\n"
     ]
    },
    {
     "data": {
      "application/vnd.jupyter.widget-view+json": {
       "model_id": "52ad68de9a804551918eff1fde94cfa2",
       "version_major": 2,
       "version_minor": 0
      },
      "text/plain": [
       "  0%|          | 0/48786 [00:00<?, ?it/s]"
      ]
     },
     "metadata": {},
     "output_type": "display_data"
    },
    {
     "name": "stdout",
     "output_type": "stream",
     "text": [
      "/uufs/chpc.utah.edu/common/home/civil-group1/Johnson/SWEMLv2.0/data/TrainingDFs/2024/250M_Resolution/Obsdf/20240314_ObsDF.parquet\n",
      "Site processing complete, adding observtional data to 20240418 df...\n"
     ]
    },
    {
     "data": {
      "application/vnd.jupyter.widget-view+json": {
       "model_id": "d5df07371ebe4f6ba228709f7bbb4821",
       "version_major": 2,
       "version_minor": 0
      },
      "text/plain": [
       "  0%|          | 0/48563 [00:00<?, ?it/s]"
      ]
     },
     "metadata": {},
     "output_type": "display_data"
    },
    {
     "name": "stdout",
     "output_type": "stream",
     "text": [
      "/uufs/chpc.utah.edu/common/home/civil-group1/Johnson/SWEMLv2.0/data/TrainingDFs/2024/250M_Resolution/Obsdf/20240429_ObsDF.parquet\n",
      "Site processing complete, adding observtional data to 20240517 df...\n"
     ]
    },
    {
     "data": {
      "application/vnd.jupyter.widget-view+json": {
       "model_id": "82ad4d0e619d4eb3b42bd6457167928f",
       "version_major": 2,
       "version_minor": 0
      },
      "text/plain": [
       "  0%|          | 0/48785 [00:00<?, ?it/s]"
      ]
     },
     "metadata": {},
     "output_type": "display_data"
    },
    {
     "name": "stdout",
     "output_type": "stream",
     "text": [
      "/uufs/chpc.utah.edu/common/home/civil-group1/Johnson/SWEMLv2.0/data/TrainingDFs/2024/250M_Resolution/Obsdf/20240520_ObsDF.parquet\n",
      "Site processing complete, adding observtional data to 20240129 df...\n"
     ]
    },
    {
     "data": {
      "application/vnd.jupyter.widget-view+json": {
       "model_id": "3b2e0c2d41d647cabede73fca9d87f7a",
       "version_major": 2,
       "version_minor": 0
      },
      "text/plain": [
       "  0%|          | 0/57467 [00:00<?, ?it/s]"
      ]
     },
     "metadata": {},
     "output_type": "display_data"
    },
    {
     "name": "stdout",
     "output_type": "stream",
     "text": [
      "/uufs/chpc.utah.edu/common/home/civil-group1/Johnson/SWEMLv2.0/data/TrainingDFs/2024/250M_Resolution/Obsdf/20240521_ObsDF.parquet\n",
      "Site processing complete, adding observtional data to 20240227 df...\n"
     ]
    },
    {
     "data": {
      "application/vnd.jupyter.widget-view+json": {
       "model_id": "e5787067a24048bf88bbc93e92daaa05",
       "version_major": 2,
       "version_minor": 0
      },
      "text/plain": [
       "  0%|          | 0/45032 [00:00<?, ?it/s]"
      ]
     },
     "metadata": {},
     "output_type": "display_data"
    },
    {
     "name": "stdout",
     "output_type": "stream",
     "text": [
      "/uufs/chpc.utah.edu/common/home/civil-group1/Johnson/SWEMLv2.0/data/TrainingDFs/2024/250M_Resolution/Obsdf/20240227_ObsDF.parquet\n",
      "/uufs/chpc.utah.edu/common/home/civil-group1/Johnson/SWEMLv2.0/data/TrainingDFs/2024/250M_Resolution/Obsdf/20240401_ObsDF.parquet\n",
      "Site processing complete, adding observtional data to 20240402 df...\n"
     ]
    },
    {
     "data": {
      "application/vnd.jupyter.widget-view+json": {
       "model_id": "ef4877d7419e47db953dedfcd1338444",
       "version_major": 2,
       "version_minor": 0
      },
      "text/plain": [
       "  0%|          | 0/58336 [00:00<?, ?it/s]"
      ]
     },
     "metadata": {},
     "output_type": "display_data"
    },
    {
     "name": "stdout",
     "output_type": "stream",
     "text": [
      "Site processing complete, adding observtional data to 20240501 df...\n"
     ]
    },
    {
     "data": {
      "application/vnd.jupyter.widget-view+json": {
       "model_id": "6033599e38f047b48329b83ff0b2390c",
       "version_major": 2,
       "version_minor": 0
      },
      "text/plain": [
       "  0%|          | 0/58341 [00:00<?, ?it/s]"
      ]
     },
     "metadata": {},
     "output_type": "display_data"
    },
    {
     "name": "stdout",
     "output_type": "stream",
     "text": [
      "/uufs/chpc.utah.edu/common/home/civil-group1/Johnson/SWEMLv2.0/data/TrainingDFs/2024/250M_Resolution/Obsdf/20240418_ObsDF.parquet\n",
      "Site processing complete, adding observtional data to 20240319 df...\n"
     ]
    },
    {
     "data": {
      "application/vnd.jupyter.widget-view+json": {
       "model_id": "81b8782789d64b14822db9fbcda93c43",
       "version_major": 2,
       "version_minor": 0
      },
      "text/plain": [
       "  0%|          | 0/39271 [00:00<?, ?it/s]"
      ]
     },
     "metadata": {},
     "output_type": "display_data"
    },
    {
     "name": "stdout",
     "output_type": "stream",
     "text": [
      "/uufs/chpc.utah.edu/common/home/civil-group1/Johnson/SWEMLv2.0/data/TrainingDFs/2024/250M_Resolution/Obsdf/20240517_ObsDF.parquet\n",
      "/uufs/chpc.utah.edu/common/home/civil-group1/Johnson/SWEMLv2.0/data/TrainingDFs/2024/250M_Resolution/Obsdf/20240227_ObsDF.parquet\n",
      "Site processing complete, adding observtional data to 20240321 df...\n"
     ]
    },
    {
     "data": {
      "application/vnd.jupyter.widget-view+json": {
       "model_id": "1b90a4e49cf24b61b21b907ac417bc0f",
       "version_major": 2,
       "version_minor": 0
      },
      "text/plain": [
       "  0%|          | 0/41579 [00:00<?, ?it/s]"
      ]
     },
     "metadata": {},
     "output_type": "display_data"
    },
    {
     "name": "stdout",
     "output_type": "stream",
     "text": [
      "Site processing complete, adding observtional data to 20240414 df...\n"
     ]
    },
    {
     "data": {
      "application/vnd.jupyter.widget-view+json": {
       "model_id": "dacdcd652cad4a2183de305d488d2cca",
       "version_major": 2,
       "version_minor": 0
      },
      "text/plain": [
       "  0%|          | 0/41674 [00:00<?, ?it/s]"
      ]
     },
     "metadata": {},
     "output_type": "display_data"
    },
    {
     "name": "stdout",
     "output_type": "stream",
     "text": [
      "/uufs/chpc.utah.edu/common/home/civil-group1/Johnson/SWEMLv2.0/data/TrainingDFs/2024/250M_Resolution/Obsdf/20240129_ObsDF.parquet\n",
      "Site processing complete, adding observtional data to 20240530 df...\n"
     ]
    },
    {
     "data": {
      "application/vnd.jupyter.widget-view+json": {
       "model_id": "47fab658e5e047d499f78a0750ad6a7d",
       "version_major": 2,
       "version_minor": 0
      },
      "text/plain": [
       "  0%|          | 0/41658 [00:00<?, ?it/s]"
      ]
     },
     "metadata": {},
     "output_type": "display_data"
    },
    {
     "name": "stdout",
     "output_type": "stream",
     "text": [
      "/uufs/chpc.utah.edu/common/home/civil-group1/Johnson/SWEMLv2.0/data/TrainingDFs/2024/250M_Resolution/Obsdf/20240319_ObsDF.parquet\n",
      "Site processing complete, adding observtional data to 20240411 df...\n"
     ]
    },
    {
     "data": {
      "application/vnd.jupyter.widget-view+json": {
       "model_id": "71aa7399b3924283807446d5762afa24",
       "version_major": 2,
       "version_minor": 0
      },
      "text/plain": [
       "  0%|          | 0/56337 [00:00<?, ?it/s]"
      ]
     },
     "metadata": {},
     "output_type": "display_data"
    },
    {
     "name": "stdout",
     "output_type": "stream",
     "text": [
      "/uufs/chpc.utah.edu/common/home/civil-group1/Johnson/SWEMLv2.0/data/TrainingDFs/2024/250M_Resolution/Obsdf/20240321_ObsDF.parquet\n",
      "/uufs/chpc.utah.edu/common/home/civil-group1/Johnson/SWEMLv2.0/data/TrainingDFs/2024/250M_Resolution/Obsdf/20240414_ObsDF.parquet\n",
      "Site processing complete, adding observtional data to 20240527 df...\n"
     ]
    },
    {
     "data": {
      "application/vnd.jupyter.widget-view+json": {
       "model_id": "6fc19770a22044b0b582407baf1d0f05",
       "version_major": 2,
       "version_minor": 0
      },
      "text/plain": [
       "  0%|          | 0/56337 [00:00<?, ?it/s]"
      ]
     },
     "metadata": {},
     "output_type": "display_data"
    },
    {
     "name": "stdout",
     "output_type": "stream",
     "text": [
      "Site processing complete, adding observtional data to 20240210 df...\n"
     ]
    },
    {
     "data": {
      "application/vnd.jupyter.widget-view+json": {
       "model_id": "41af0f30e57344fe8830a94592900b8a",
       "version_major": 2,
       "version_minor": 0
      },
      "text/plain": [
       "  0%|          | 0/45032 [00:00<?, ?it/s]"
      ]
     },
     "metadata": {},
     "output_type": "display_data"
    },
    {
     "name": "stdout",
     "output_type": "stream",
     "text": [
      "/uufs/chpc.utah.edu/common/home/civil-group1/Johnson/SWEMLv2.0/data/TrainingDFs/2024/250M_Resolution/Obsdf/20240402_ObsDF.parquet\n",
      "/uufs/chpc.utah.edu/common/home/civil-group1/Johnson/SWEMLv2.0/data/TrainingDFs/2024/250M_Resolution/Obsdf/20240501_ObsDF.parquet\n",
      "Site processing complete, adding observtional data to 20240227 df...\n"
     ]
    },
    {
     "data": {
      "application/vnd.jupyter.widget-view+json": {
       "model_id": "239ebf7143a349ce8ab4d0d28dc93215",
       "version_major": 2,
       "version_minor": 0
      },
      "text/plain": [
       "  0%|          | 0/45032 [00:00<?, ?it/s]"
      ]
     },
     "metadata": {},
     "output_type": "display_data"
    },
    {
     "name": "stdout",
     "output_type": "stream",
     "text": [
      "Site processing complete, adding observtional data to 20240401 df...\n"
     ]
    },
    {
     "data": {
      "application/vnd.jupyter.widget-view+json": {
       "model_id": "6a6d700f61494744a9a745b4347b66f1",
       "version_major": 2,
       "version_minor": 0
      },
      "text/plain": [
       "  0%|          | 0/48786 [00:00<?, ?it/s]"
      ]
     },
     "metadata": {},
     "output_type": "display_data"
    },
    {
     "name": "stdout",
     "output_type": "stream",
     "text": [
      "/uufs/chpc.utah.edu/common/home/civil-group1/Johnson/SWEMLv2.0/data/TrainingDFs/2024/250M_Resolution/Obsdf/20240530_ObsDF.parquet\n",
      "Site processing complete, adding observtional data to 20240429 df...\n"
     ]
    },
    {
     "data": {
      "application/vnd.jupyter.widget-view+json": {
       "model_id": "8e19e639511146439be302178184af59",
       "version_major": 2,
       "version_minor": 0
      },
      "text/plain": [
       "  0%|          | 0/42999 [00:00<?, ?it/s]"
      ]
     },
     "metadata": {},
     "output_type": "display_data"
    },
    {
     "name": "stdout",
     "output_type": "stream",
     "text": [
      "/uufs/chpc.utah.edu/common/home/civil-group1/Johnson/SWEMLv2.0/data/TrainingDFs/2024/250M_Resolution/Obsdf/20240210_ObsDF.parquet\n",
      "Site processing complete, adding observtional data to 20240527 df...\n"
     ]
    },
    {
     "data": {
      "application/vnd.jupyter.widget-view+json": {
       "model_id": "b467ddfb506b4b6db34894c0ca1b22ba",
       "version_major": 2,
       "version_minor": 0
      },
      "text/plain": [
       "  0%|          | 0/45033 [00:00<?, ?it/s]"
      ]
     },
     "metadata": {},
     "output_type": "display_data"
    },
    {
     "name": "stdout",
     "output_type": "stream",
     "text": [
      "/uufs/chpc.utah.edu/common/home/civil-group1/Johnson/SWEMLv2.0/data/TrainingDFs/2024/250M_Resolution/Obsdf/20240411_ObsDF.parquet\n",
      "/uufs/chpc.utah.edu/common/home/civil-group1/Johnson/SWEMLv2.0/data/TrainingDFs/2024/250M_Resolution/Obsdf/20240227_ObsDF.parquet\n",
      "/uufs/chpc.utah.edu/common/home/civil-group1/Johnson/SWEMLv2.0/data/TrainingDFs/2024/250M_Resolution/Obsdf/20240429_ObsDF.parquet\n",
      "/uufs/chpc.utah.edu/common/home/civil-group1/Johnson/SWEMLv2.0/data/TrainingDFs/2024/250M_Resolution/Obsdf/20240401_ObsDF.parquet\n",
      "/uufs/chpc.utah.edu/common/home/civil-group1/Johnson/SWEMLv2.0/data/TrainingDFs/2024/250M_Resolution/Obsdf/20240527_ObsDF.parquet\n",
      "/uufs/chpc.utah.edu/common/home/civil-group1/Johnson/SWEMLv2.0/data/TrainingDFs/2024/250M_Resolution/Obsdf/20240527_ObsDF.parquet\n",
      "Job complete for connecting SNOTEL obs to sites/dates\n"
     ]
    }
   ],
   "source": [
    "#Connect nearest snotel observations with ASO data, makes a parquet file for each date  -  test to see if this works - need to just load the SNOTEL file, not collect them as in the function\n",
    "for WY in WY_list:\n",
    "    path = f\"{HOME}/data/ASO/{WY}/{output_res}M_SWE_parquet\"\n",
    "\n",
    "    if os.path.isdir(path) == True:\n",
    "        print(WY)\n",
    "        dates = []\n",
    "        manual = False\n",
    "        Obs_to_DF.Nearest_Snotel_2_obs_MultiProcess(WY, output_res, manual, dates) \n",
    "    else:\n",
    "        print(f\"No ASO data for {WY}\")\n"
   ]
  },
  {
   "cell_type": "code",
   "execution_count": 4,
   "id": "2e2c2015-9e62-4dc0-8abe-5aa5cb3ec316",
   "metadata": {},
   "outputs": [],
   "source": [
    "WY_list = ['2013', '2014', '2015', '2016', '2017', '2018', '2019', '2020', '2021', '2022', '2023', '2024' ]"
   ]
  },
  {
   "cell_type": "code",
   "execution_count": 6,
   "id": "3b7816b1",
   "metadata": {
    "collapsed": true,
    "jupyter": {
     "outputs_hidden": true
    },
    "tags": []
   },
   "outputs": [
    {
     "name": "stdout",
     "output_type": "stream",
     "text": [
      "2013\n",
      "Loading goeospatial meta data for grids in 2013\n",
      "Loading all available processed ASO observations for the 2013 at 250M resolution\n",
      "Concatenating 6 with geospatial data...\n"
     ]
    },
    {
     "data": {
      "application/vnd.jupyter.widget-view+json": {
       "model_id": "a12817b564d843f9a17d6912f66dfabf",
       "version_major": 2,
       "version_minor": 0
      },
      "text/plain": [
       "  0%|          | 0/6 [00:00<?, ?it/s]"
      ]
     },
     "metadata": {},
     "output_type": "display_data"
    },
    {
     "name": "stdout",
     "output_type": "stream",
     "text": [
      "Job complete for connecting obs with geospatial data, the files can be found in /uufs/chpc.utah.edu/common/home/civil-group1/Johnson/SWEMLv2.0/data/TrainingDFs/2013/250M_Resolution/GeoObsDFs\n",
      "2014\n",
      "Loading goeospatial meta data for grids in 2014\n",
      "Loading all available processed ASO observations for the 2014 at 250M resolution\n",
      "Concatenating 18 with geospatial data...\n"
     ]
    },
    {
     "data": {
      "application/vnd.jupyter.widget-view+json": {
       "model_id": "c402eb8167644aac8ce98a6f47c51588",
       "version_major": 2,
       "version_minor": 0
      },
      "text/plain": [
       "  0%|          | 0/18 [00:00<?, ?it/s]"
      ]
     },
     "metadata": {},
     "output_type": "display_data"
    },
    {
     "name": "stdout",
     "output_type": "stream",
     "text": [
      "Job complete for connecting obs with geospatial data, the files can be found in /uufs/chpc.utah.edu/common/home/civil-group1/Johnson/SWEMLv2.0/data/TrainingDFs/2014/250M_Resolution/GeoObsDFs\n",
      "2015\n",
      "Loading goeospatial meta data for grids in 2015\n",
      "Loading all available processed ASO observations for the 2015 at 250M resolution\n",
      "Concatenating 20 with geospatial data...\n"
     ]
    },
    {
     "data": {
      "application/vnd.jupyter.widget-view+json": {
       "model_id": "b4c260f70f4446079fc896b47aef0dad",
       "version_major": 2,
       "version_minor": 0
      },
      "text/plain": [
       "  0%|          | 0/20 [00:00<?, ?it/s]"
      ]
     },
     "metadata": {},
     "output_type": "display_data"
    },
    {
     "name": "stdout",
     "output_type": "stream",
     "text": [
      "Job complete for connecting obs with geospatial data, the files can be found in /uufs/chpc.utah.edu/common/home/civil-group1/Johnson/SWEMLv2.0/data/TrainingDFs/2015/250M_Resolution/GeoObsDFs\n",
      "2016\n",
      "Loading goeospatial meta data for grids in 2016\n",
      "Loading all available processed ASO observations for the 2016 at 250M resolution\n",
      "Concatenating 16 with geospatial data...\n"
     ]
    },
    {
     "data": {
      "application/vnd.jupyter.widget-view+json": {
       "model_id": "7916234a6b984594a4b42bb6055da5df",
       "version_major": 2,
       "version_minor": 0
      },
      "text/plain": [
       "  0%|          | 0/16 [00:00<?, ?it/s]"
      ]
     },
     "metadata": {},
     "output_type": "display_data"
    },
    {
     "name": "stdout",
     "output_type": "stream",
     "text": [
      "Job complete for connecting obs with geospatial data, the files can be found in /uufs/chpc.utah.edu/common/home/civil-group1/Johnson/SWEMLv2.0/data/TrainingDFs/2016/250M_Resolution/GeoObsDFs\n",
      "2017\n",
      "Loading goeospatial meta data for grids in 2017\n",
      "Loading all available processed ASO observations for the 2017 at 250M resolution\n",
      "Concatenating 8 with geospatial data...\n"
     ]
    },
    {
     "data": {
      "application/vnd.jupyter.widget-view+json": {
       "model_id": "5616622623124fa8b251e33e26853a0f",
       "version_major": 2,
       "version_minor": 0
      },
      "text/plain": [
       "  0%|          | 0/8 [00:00<?, ?it/s]"
      ]
     },
     "metadata": {},
     "output_type": "display_data"
    },
    {
     "name": "stdout",
     "output_type": "stream",
     "text": [
      "Job complete for connecting obs with geospatial data, the files can be found in /uufs/chpc.utah.edu/common/home/civil-group1/Johnson/SWEMLv2.0/data/TrainingDFs/2017/250M_Resolution/GeoObsDFs\n",
      "2018\n",
      "Loading goeospatial meta data for grids in 2018\n",
      "Loading all available processed ASO observations for the 2018 at 250M resolution\n",
      "Concatenating 11 with geospatial data...\n"
     ]
    },
    {
     "data": {
      "application/vnd.jupyter.widget-view+json": {
       "model_id": "2b4c66e52d634794b863aad9a81086df",
       "version_major": 2,
       "version_minor": 0
      },
      "text/plain": [
       "  0%|          | 0/11 [00:00<?, ?it/s]"
      ]
     },
     "metadata": {},
     "output_type": "display_data"
    },
    {
     "name": "stdout",
     "output_type": "stream",
     "text": [
      "Job complete for connecting obs with geospatial data, the files can be found in /uufs/chpc.utah.edu/common/home/civil-group1/Johnson/SWEMLv2.0/data/TrainingDFs/2018/250M_Resolution/GeoObsDFs\n",
      "2019\n",
      "Loading goeospatial meta data for grids in 2019\n",
      "Loading all available processed ASO observations for the 2019 at 250M resolution\n",
      "Concatenating 35 with geospatial data...\n"
     ]
    },
    {
     "data": {
      "application/vnd.jupyter.widget-view+json": {
       "model_id": "d2351ae134e64e099da7522282375724",
       "version_major": 2,
       "version_minor": 0
      },
      "text/plain": [
       "  0%|          | 0/35 [00:00<?, ?it/s]"
      ]
     },
     "metadata": {},
     "output_type": "display_data"
    },
    {
     "name": "stdout",
     "output_type": "stream",
     "text": [
      "Job complete for connecting obs with geospatial data, the files can be found in /uufs/chpc.utah.edu/common/home/civil-group1/Johnson/SWEMLv2.0/data/TrainingDFs/2019/250M_Resolution/GeoObsDFs\n",
      "2020\n",
      "Loading goeospatial meta data for grids in 2020\n",
      "Loading all available processed ASO observations for the 2020 at 250M resolution\n",
      "Concatenating 11 with geospatial data...\n"
     ]
    },
    {
     "data": {
      "application/vnd.jupyter.widget-view+json": {
       "model_id": "e6c8eed3105c4cb185e2081e93054f27",
       "version_major": 2,
       "version_minor": 0
      },
      "text/plain": [
       "  0%|          | 0/11 [00:00<?, ?it/s]"
      ]
     },
     "metadata": {},
     "output_type": "display_data"
    },
    {
     "name": "stdout",
     "output_type": "stream",
     "text": [
      "Job complete for connecting obs with geospatial data, the files can be found in /uufs/chpc.utah.edu/common/home/civil-group1/Johnson/SWEMLv2.0/data/TrainingDFs/2020/250M_Resolution/GeoObsDFs\n",
      "2021\n",
      "Loading goeospatial meta data for grids in 2021\n",
      "Loading all available processed ASO observations for the 2021 at 250M resolution\n",
      "Concatenating 17 with geospatial data...\n"
     ]
    },
    {
     "data": {
      "application/vnd.jupyter.widget-view+json": {
       "model_id": "cf236283618b4245bf099abc2ab40d9a",
       "version_major": 2,
       "version_minor": 0
      },
      "text/plain": [
       "  0%|          | 0/17 [00:00<?, ?it/s]"
      ]
     },
     "metadata": {},
     "output_type": "display_data"
    },
    {
     "name": "stdout",
     "output_type": "stream",
     "text": [
      "Job complete for connecting obs with geospatial data, the files can be found in /uufs/chpc.utah.edu/common/home/civil-group1/Johnson/SWEMLv2.0/data/TrainingDFs/2021/250M_Resolution/GeoObsDFs\n",
      "2022\n",
      "Loading goeospatial meta data for grids in 2022\n",
      "Loading all available processed ASO observations for the 2022 at 250M resolution\n",
      "Concatenating 35 with geospatial data...\n"
     ]
    },
    {
     "data": {
      "application/vnd.jupyter.widget-view+json": {
       "model_id": "998cc27512034a32a15ab49a2e5d9129",
       "version_major": 2,
       "version_minor": 0
      },
      "text/plain": [
       "  0%|          | 0/35 [00:00<?, ?it/s]"
      ]
     },
     "metadata": {},
     "output_type": "display_data"
    },
    {
     "name": "stdout",
     "output_type": "stream",
     "text": [
      "Job complete for connecting obs with geospatial data, the files can be found in /uufs/chpc.utah.edu/common/home/civil-group1/Johnson/SWEMLv2.0/data/TrainingDFs/2022/250M_Resolution/GeoObsDFs\n",
      "2023\n",
      "Loading goeospatial meta data for grids in 2023\n",
      "Loading all available processed ASO observations for the 2023 at 250M resolution\n",
      "Concatenating 60 with geospatial data...\n"
     ]
    },
    {
     "data": {
      "application/vnd.jupyter.widget-view+json": {
       "model_id": "41da72d8a1764018be8704453a700d45",
       "version_major": 2,
       "version_minor": 0
      },
      "text/plain": [
       "  0%|          | 0/60 [00:00<?, ?it/s]"
      ]
     },
     "metadata": {},
     "output_type": "display_data"
    },
    {
     "name": "stdout",
     "output_type": "stream",
     "text": [
      "Job complete for connecting obs with geospatial data, the files can be found in /uufs/chpc.utah.edu/common/home/civil-group1/Johnson/SWEMLv2.0/data/TrainingDFs/2023/250M_Resolution/GeoObsDFs\n",
      "2024\n",
      "Loading goeospatial meta data for grids in 2024\n",
      "Loading all available processed ASO observations for the 2024 at 250M resolution\n",
      "Concatenating 46 with geospatial data...\n"
     ]
    },
    {
     "data": {
      "application/vnd.jupyter.widget-view+json": {
       "model_id": "96d9e2d0fabe4a9191d6ccab121e178f",
       "version_major": 2,
       "version_minor": 0
      },
      "text/plain": [
       "  0%|          | 0/46 [00:00<?, ?it/s]"
      ]
     },
     "metadata": {},
     "output_type": "display_data"
    },
    {
     "name": "stdout",
     "output_type": "stream",
     "text": [
      "Job complete for connecting obs with geospatial data, the files can be found in /uufs/chpc.utah.edu/common/home/civil-group1/Johnson/SWEMLv2.0/data/TrainingDFs/2024/250M_Resolution/GeoObsDFs\n"
     ]
    }
   ],
   "source": [
    "#Connect cell ids with ASO obs and snotel obs to geospatial features\n",
    "for WY in WY_list:\n",
    "    #path = f\"{HOME}/SWEMLv2.0/data/ASO/{region}/{output_res}M_SWE_parquet\"\n",
    "    path = f\"{HOME}/data/ASO/{WY}/{output_res}M_SWE_parquet\"\n",
    "    if os.path.isdir(path) == True:\n",
    "        print(WY)\n",
    "        GeoDF.add_geospatial_threaded(WY, output_res)\n",
    "    else:\n",
    "        print(f\"No ASO data for {region}\")"
   ]
  },
  {
   "cell_type": "markdown",
   "id": "facee8dc",
   "metadata": {},
   "source": [
    "# Get NASA VIIRS fraction snow covered area for each location \n",
    "\n",
    "* Make sure the code grabs all dates for each region, may have to run multiple times\n",
    "* run until \"No granules found for DATE, requesting data from NSIDC...\" no longer occurs\n"
   ]
  },
  {
   "cell_type": "code",
   "execution_count": null,
   "id": "4317aadd-0020-403c-843b-c2543bdeae1a",
   "metadata": {},
   "outputs": [],
   "source": [
    "get_VIIRS_SCA.get_VIIRS_from_AWS()"
   ]
  },
  {
   "cell_type": "code",
   "execution_count": 2,
   "id": "a30f0ad0-d237-4688-bab0-1b5ac8c1a50d",
   "metadata": {},
   "outputs": [],
   "source": [
    "WY_list = ['2013', '2014', '2015', '2016', '2017', '2018', '2019', '2020', '2021', '2022', '2023', '2024' ]"
   ]
  },
  {
   "cell_type": "code",
   "execution_count": 2,
   "id": "8e5fe64b",
   "metadata": {
    "tags": []
   },
   "outputs": [
    {
     "name": "stdout",
     "output_type": "stream",
     "text": [
      "2013\n",
      "Getting VIIRS fsca values for 6 timesteps of observations for 2013\n",
      "20130429, 20130403, 20130503, 20130608, \n",
      "20130601, \n",
      "20130525, \n",
      "\n",
      "\n",
      "\n",
      "dataprocessing VIIRS for 20130429 complete...\n",
      "dataprocessing VIIRS for 20130608 complete...\n",
      "dataprocessing VIIRS for 20130503 complete...\n",
      "dataprocessing VIIRS for 20130403 complete...\n",
      "dataprocessing VIIRS for 20130525 complete...\n",
      "dataprocessing VIIRS for 20130601 complete...\n",
      "Job complete for connecting VIIRS fsca to sites/dates, files can be found in /uufs/chpc.utah.edu/common/home/civil-group1/Johnson/SWEMLv2.0/data/TrainingDFs/2013/250M_Resolution/VIIRSGeoObsDFs/20_fSCA_Thresh\n",
      "2014\n",
      "Getting VIIRS fsca values for 18 timesteps of observations for 2014\n",
      "20140320, 20140323, 20140324, 20140407, 20140406, 20140414, \n",
      "\n",
      "\n",
      "\n",
      "\n",
      "\n",
      "dataprocessing VIIRS for 20140320 complete...\n",
      "20140420, \n",
      "dataprocessing VIIRS for 20140406 complete...\n",
      "20140423, \n",
      "dataprocessing VIIRS for 20140414 complete...\n",
      "20140428, \n",
      "dataprocessing VIIRS for 20140324 complete...\n",
      "20140429, \n",
      "dataprocessing VIIRS for 20140407 complete...\n",
      "20140502, \n",
      "dataprocessing VIIRS for 20140323 complete...\n",
      "20140503, \n",
      "dataprocessing VIIRS for 20140423 complete...\n",
      "20140511, \n",
      "dataprocessing VIIRS for 20140429 complete...\n",
      "20140512, \n",
      "dataprocessing VIIRS for 20140420 complete...\n",
      "20140517, \n",
      "dataprocessing VIIRS for 20140428 complete...\n",
      "20140527, \n",
      "dataprocessing VIIRS for 20140503 complete...\n",
      "20140531, \n",
      "dataprocessing VIIRS for 20140512 complete...\n",
      "20140605, \n",
      "dataprocessing VIIRS for 20140502 complete...\n",
      "dataprocessing VIIRS for 20140511 complete...\n",
      "dataprocessing VIIRS for 20140517 complete...\n",
      "dataprocessing VIIRS for 20140527 complete...\n",
      "dataprocessing VIIRS for 20140531 complete...\n",
      "dataprocessing VIIRS for 20140605 complete...\n",
      "Job complete for connecting VIIRS fsca to sites/dates, files can be found in /uufs/chpc.utah.edu/common/home/civil-group1/Johnson/SWEMLv2.0/data/TrainingDFs/2014/250M_Resolution/VIIRSGeoObsDFs/20_fSCA_Thresh\n",
      "2015\n",
      "Getting VIIRS fsca values for 20 timesteps of observations for 2015\n",
      "20150217, 20150305, 20150325, 20150326, 20150403, 20150406, \n",
      "\n",
      "\n",
      "\n",
      "\n",
      "\n",
      "dataprocessing VIIRS for 20150326 complete...\n",
      "20150407, \n",
      "dataprocessing VIIRS for 20150406 complete...\n",
      "20150409, \n",
      "dataprocessing VIIRS for 20150325 complete...\n",
      "20150412, \n",
      "dataprocessing VIIRS for 20150403 complete...\n",
      "20150415, \n",
      "dataprocessing VIIRS for 20150305 complete...\n",
      "20150426, \n",
      "dataprocessing VIIRS for 20150217 complete...\n",
      "20150427, \n",
      "dataprocessing VIIRS for 20150407 complete...\n",
      "20150428, \n",
      "dataprocessing VIIRS for 20150409 complete...\n",
      "20150503, \n",
      "dataprocessing VIIRS for 20150428 complete...\n",
      "20150527, \n",
      "dataprocessing VIIRS for 20150503 complete...\n",
      "20150528, \n",
      "dataprocessing VIIRS for 20150527 complete...\n",
      "20150531, \n",
      "dataprocessing VIIRS for 20150415 complete...\n",
      "20150602, \n",
      "dataprocessing VIIRS for 20150427 complete...\n",
      "20150608, \n",
      "dataprocessing VIIRS for 20150412 complete...\n",
      "20150609, \n",
      "dataprocessing VIIRS for 20150426 complete...\n",
      "dataprocessing VIIRS for 20150609 complete...\n",
      "dataprocessing VIIRS for 20150531 complete...\n",
      "dataprocessing VIIRS for 20150528 complete...\n",
      "dataprocessing VIIRS for 20150608 complete...\n",
      "dataprocessing VIIRS for 20150602 complete...\n",
      "Job complete for connecting VIIRS fsca to sites/dates, files can be found in /uufs/chpc.utah.edu/common/home/civil-group1/Johnson/SWEMLv2.0/data/TrainingDFs/2015/250M_Resolution/VIIRSGeoObsDFs/20_fSCA_Thresh\n",
      "2016\n",
      "Getting VIIRS fsca values for 16 timesteps of observations for 2016\n",
      "20160326, 20160208, 20160404, 20160401, 20160329, 20160403, \n",
      "\n",
      "\n",
      "\n",
      "\n",
      "\n",
      "dataprocessing VIIRS for 20160404 complete...\n",
      "20160407, \n",
      "dataprocessing VIIRS for 20160326 complete...\n",
      "20160416, \n",
      "dataprocessing VIIRS for 20160401 complete...\n",
      "20160426, \n",
      "dataprocessing VIIRS for 20160407 complete...\n",
      "20160509, \n",
      "dataprocessing VIIRS for 20160403 complete...\n",
      "20160527, \n",
      "dataprocessing VIIRS for 20160416 complete...\n",
      "20160607, \n",
      "dataprocessing VIIRS for 20160426 complete...\n",
      "20160614, \n",
      "dataprocessing VIIRS for 20160607 complete...\n",
      "20160621, \n",
      "dataprocessing VIIRS for 20160614 complete...\n",
      "20160626, \n",
      "dataprocessing VIIRS for 20160621 complete...\n",
      "20160708, \n",
      "dataprocessing VIIRS for 20160626 complete...\n",
      "dataprocessing VIIRS for 20160509 complete...\n",
      "dataprocessing VIIRS for 20160527 complete...\n",
      "dataprocessing VIIRS for 20160708 complete...\n",
      "dataprocessing VIIRS for 20160208 complete...\n",
      "dataprocessing VIIRS for 20160329 complete...\n",
      "Job complete for connecting VIIRS fsca to sites/dates, files can be found in /uufs/chpc.utah.edu/common/home/civil-group1/Johnson/SWEMLv2.0/data/TrainingDFs/2016/250M_Resolution/VIIRSGeoObsDFs/20_fSCA_Thresh\n",
      "2017\n",
      "Getting VIIRS fsca values for 8 timesteps of observations for 2017\n",
      "20170129, 20170128, 20170718, 20170727, 20170719, 20170717, \n",
      "\n",
      "\n",
      "\n",
      "\n",
      "\n",
      "dataprocessing VIIRS for 20170128 complete...\n",
      "20170815, \n",
      "dataprocessing VIIRS for 20170718 complete...\n",
      "20170816, \n",
      "dataprocessing VIIRS for 20170129 complete...\n",
      "dataprocessing VIIRS for 20170717 complete...\n",
      "dataprocessing VIIRS for 20170727 complete...\n",
      "dataprocessing VIIRS for 20170719 complete...\n",
      "dataprocessing VIIRS for 20170815 complete...\n",
      "dataprocessing VIIRS for 20170816 complete...\n",
      "Job complete for connecting VIIRS fsca to sites/dates, files can be found in /uufs/chpc.utah.edu/common/home/civil-group1/Johnson/SWEMLv2.0/data/TrainingDFs/2017/250M_Resolution/VIIRSGeoObsDFs/20_fSCA_Thresh\n",
      "2018\n",
      "Getting VIIRS fsca values for 11 timesteps of observations for 2018\n",
      "20180304, 20180330, 20180422, 20180423, 20180331, 20180425, \n",
      "\n",
      "\n",
      "\n",
      "\n",
      "\n",
      "dataprocessing VIIRS for 20180330 complete...\n",
      "20180426, \n",
      "dataprocessing VIIRS for 20180425 complete...\n",
      "20180524, \n",
      "dataprocessing VIIRS for 20180423 complete...\n",
      "20180528, \n",
      "dataprocessing VIIRS for 20180304 complete...\n",
      "20180601, \n",
      "dataprocessing VIIRS for 20180422 complete...\n",
      "20180602, \n",
      "dataprocessing VIIRS for 20180331 complete...\n",
      "dataprocessing VIIRS for 20180528 complete...\n",
      "dataprocessing VIIRS for 20180524 complete...\n",
      "dataprocessing VIIRS for 20180601 complete...\n",
      "dataprocessing VIIRS for 20180602 complete...\n",
      "dataprocessing VIIRS for 20180426 complete...\n",
      "Job complete for connecting VIIRS fsca to sites/dates, files can be found in /uufs/chpc.utah.edu/common/home/civil-group1/Johnson/SWEMLv2.0/data/TrainingDFs/2018/250M_Resolution/VIIRSGeoObsDFs/20_fSCA_Thresh\n",
      "2019\n",
      "Getting VIIRS fsca values for 35 timesteps of observations for 2019\n",
      "20190315, 20190309, 20190317, 20190324, 20190316, 20190325, \n",
      "\n",
      "\n",
      "\n",
      "\n",
      "\n",
      "dataprocessing VIIRS for 20190309 complete...\n",
      "20190326, \n",
      "dataprocessing VIIRS for 20190317 complete...\n",
      "20190329, \n",
      "dataprocessing VIIRS for 20190326 complete...\n",
      "20190407, \n",
      "dataprocessing VIIRS for 20190325 complete...\n",
      "20190408, \n",
      "dataprocessing VIIRS for 20190324 complete...\n",
      "20190417, \n",
      "dataprocessing VIIRS for 20190329 complete...\n",
      "20190418, \n",
      "dataprocessing VIIRS for 20190408 complete...\n",
      "20190419, \n",
      "dataprocessing VIIRS for 20190419 complete...\n",
      "20190421, \n",
      "dataprocessing VIIRS for 20190417 complete...\n",
      "20190427, \n",
      "dataprocessing VIIRS for 20190316 complete...\n",
      "20190428, \n",
      "dataprocessing VIIRS for 20190407 complete...\n",
      "20190501, \n",
      "dataprocessing VIIRS for 20190315 complete...\n",
      "20190502, \n",
      "dataprocessing VIIRS for 20190421 complete...\n",
      "20190503, \n",
      "dataprocessing VIIRS for 20190427 complete...\n",
      "20190604, \n",
      "dataprocessing VIIRS for 20190502 complete...\n",
      "20190605, \n",
      "dataprocessing VIIRS for 20190418 complete...\n",
      "20190608, \n",
      "dataprocessing VIIRS for 20190501 complete...\n",
      "20190609, \n",
      "dataprocessing VIIRS for 20190604 complete...\n",
      "20190610, \n",
      "dataprocessing VIIRS for 20190609 complete...\n",
      "20190611, \n",
      "dataprocessing VIIRS for 20190611 complete...\n",
      "20190613, \n",
      "dataprocessing VIIRS for 20190503 complete...\n",
      "20190614, \n",
      "dataprocessing VIIRS for 20190605 complete...\n",
      "20190624, \n",
      "dataprocessing VIIRS for 20190610 complete...\n",
      "20190703, \n",
      "dataprocessing VIIRS for 20190428 complete...\n",
      "20190704, \n",
      "dataprocessing VIIRS for 20190608 complete...\n",
      "20190705, \n",
      "dataprocessing VIIRS for 20190624 complete...\n",
      "20190713, \n",
      "dataprocessing VIIRS for 20190613 complete...\n",
      "20190714, \n",
      "dataprocessing VIIRS for 20190614 complete...\n",
      "20190715, \n",
      "dataprocessing VIIRS for 20190703 complete...\n",
      "20190716, \n",
      "dataprocessing VIIRS for 20190715 complete...\n",
      "dataprocessing VIIRS for 20190704 complete...\n",
      "dataprocessing VIIRS for 20190714 complete...\n",
      "dataprocessing VIIRS for 20190716 complete...\n",
      "dataprocessing VIIRS for 20190713 complete...\n",
      "dataprocessing VIIRS for 20190705 complete...\n",
      "Job complete for connecting VIIRS fsca to sites/dates, files can be found in /uufs/chpc.utah.edu/common/home/civil-group1/Johnson/SWEMLv2.0/data/TrainingDFs/2019/250M_Resolution/VIIRSGeoObsDFs/20_fSCA_Thresh\n",
      "2020\n",
      "Getting VIIRS fsca values for 11 timesteps of observations for 2020\n",
      "20200411, 20200414, 20200413, 20200504, 20200502, 20200507, \n",
      "\n",
      "\n",
      "\n",
      "\n",
      "\n",
      "dataprocessing VIIRS for 20200507 complete...\n",
      "dataprocessing VIIRS for 20200413 complete...20200521, \n",
      "\n",
      "20200523, \n",
      "dataprocessing VIIRS for 20200502 complete...\n",
      "20200529, \n",
      "dataprocessing VIIRS for 20200521 complete...\n",
      "20200604, \n",
      "dataprocessing VIIRS for 20200411 complete...\n",
      "20200608, \n",
      "dataprocessing VIIRS for 20200504 complete...\n",
      "dataprocessing VIIRS for 20200414 complete...\n",
      "dataprocessing VIIRS for 20200604 complete...\n",
      "dataprocessing VIIRS for 20200523 complete...\n",
      "dataprocessing VIIRS for 20200529 complete...\n",
      "dataprocessing VIIRS for 20200608 complete...\n",
      "Job complete for connecting VIIRS fsca to sites/dates, files can be found in /uufs/chpc.utah.edu/common/home/civil-group1/Johnson/SWEMLv2.0/data/TrainingDFs/2020/250M_Resolution/VIIRSGeoObsDFs/20_fSCA_Thresh\n",
      "2021\n",
      "Getting VIIRS fsca values for 17 timesteps of observations for 2021\n",
      "20210224, 20210226, 20210331, 20210327, 20210326, 20210418, \n",
      "\n",
      "\n",
      "\n",
      "\n",
      "\n",
      "dataprocessing VIIRS for 20210418 complete...\n",
      "20210419, \n",
      "dataprocessing VIIRS for 20210326 complete...\n",
      "20210420, \n",
      "dataprocessing VIIRS for 20210419 complete...\n",
      "20210423, \n",
      "dataprocessing VIIRS for 20210224 complete...\n",
      "20210429, \n",
      "dataprocessing VIIRS for 20210420 complete...\n",
      "20210501, \n",
      "dataprocessing VIIRS for 20210423 complete...\n",
      "20210503, \n",
      "dataprocessing VIIRS for 20210331 complete...\n",
      "20210504, \n",
      "dataprocessing VIIRS for 20210226 complete...\n",
      "20210514, \n",
      "dataprocessing VIIRS for 20210327 complete...\n",
      "20210515, \n",
      "dataprocessing VIIRS for 20210514 complete...\n",
      "20210516, \n",
      "dataprocessing VIIRS for 20210504 complete...\n",
      "20210524, \n",
      "dataprocessing VIIRS for 20210429 complete...\n",
      "dataprocessing VIIRS for 20210515 complete...\n",
      "dataprocessing VIIRS for 20210516 complete...\n",
      "dataprocessing VIIRS for 20210524 complete...\n",
      "dataprocessing VIIRS for 20210501 complete...\n",
      "dataprocessing VIIRS for 20210503 complete...\n",
      "Job complete for connecting VIIRS fsca to sites/dates, files can be found in /uufs/chpc.utah.edu/common/home/civil-group1/Johnson/SWEMLv2.0/data/TrainingDFs/2021/250M_Resolution/VIIRSGeoObsDFs/20_fSCA_Thresh\n",
      "2022\n",
      "Getting VIIRS fsca values for 35 timesteps of observations for 2022\n",
      "20220204, 20220206, 20220301, 20220302, 20220217, 20220228, \n",
      "\n",
      "\n",
      "\n",
      "\n",
      "\n",
      "dataprocessing VIIRS for 20220301 complete...\n",
      "20220308, \n",
      "dataprocessing VIIRS for 20220204 complete...\n",
      "20220310, \n",
      "dataprocessing VIIRS for 20220228 complete...\n",
      "20220311, \n",
      "dataprocessing VIIRS for 20220308 complete...\n",
      "20220316, \n",
      "dataprocessing VIIRS for 20220302 complete...\n",
      "20220325, \n",
      "dataprocessing VIIRS for 20220206 complete...\n",
      "20220327, \n",
      "dataprocessing VIIRS for 20220311 complete...\n",
      "20220331, \n",
      "dataprocessing VIIRS for 20220327 complete...\n",
      "20220405, \n",
      "dataprocessing VIIRS for 20220325 complete...\n",
      "20220406, \n",
      "dataprocessing VIIRS for 20220310 complete...\n",
      "20220408, \n",
      "dataprocessing VIIRS for 20220406 complete...\n",
      "20220409, \n",
      "dataprocessing VIIRS for 20220316 complete...\n",
      "20220412, \n",
      "dataprocessing VIIRS for 20220405 complete...\n",
      "20220415, \n",
      "dataprocessing VIIRS for 20220217 complete...\n",
      "20220417, \n",
      "dataprocessing VIIRS for 20220408 complete...\n",
      "20220418, \n",
      "dataprocessing VIIRS for 20220412 complete...\n",
      "20220419, \n",
      "dataprocessing VIIRS for 20220415 complete...\n",
      "20220424, \n",
      "dataprocessing VIIRS for 20220419 complete...\n",
      "20220428, \n",
      "dataprocessing VIIRS for 20220418 complete...\n",
      "20220429, \n",
      "dataprocessing VIIRS for 20220409 complete...\n",
      "20220430, \n",
      "dataprocessing VIIRS for 20220428 complete...\n",
      "20220510, \n",
      "dataprocessing VIIRS for 20220424 complete...\n",
      "20220513, \n",
      "dataprocessing VIIRS for 20220417 complete...\n",
      "20220514, \n",
      "dataprocessing VIIRS for 20220510 complete...\n",
      "20220515, \n",
      "dataprocessing VIIRS for 20220331 complete...\n",
      "20220517, \n",
      "dataprocessing VIIRS for 20220513 complete...\n",
      "20220518, \n",
      "dataprocessing VIIRS for 20220429 complete...\n",
      "20220525, \n",
      "dataprocessing VIIRS for 20220517 complete...\n",
      "20220526, \n",
      "dataprocessing VIIRS for 20220525 complete...\n",
      "20220611, \n",
      "dataprocessing VIIRS for 20220515 complete...\n",
      "dataprocessing VIIRS for 20220526 complete...\n",
      "dataprocessing VIIRS for 20220430 complete...\n",
      "dataprocessing VIIRS for 20220514 complete...\n",
      "dataprocessing VIIRS for 20220611 complete...\n",
      "dataprocessing VIIRS for 20220518 complete...\n",
      "Job complete for connecting VIIRS fsca to sites/dates, files can be found in /uufs/chpc.utah.edu/common/home/civil-group1/Johnson/SWEMLv2.0/data/TrainingDFs/2022/250M_Resolution/VIIRSGeoObsDFs/20_fSCA_Thresh\n",
      "2023\n",
      "Getting VIIRS fsca values for 60 timesteps of observations for 2023\n",
      "20230122, 20230124, 20230128, 20230127, 20230131, 20230130, \n",
      "\n",
      "\n",
      "\n",
      "\n",
      "\n",
      "dataprocessing VIIRS for 20230127 complete...\n",
      "20230204, \n",
      "dataprocessing VIIRS for 20230131 complete...\n",
      "20230206, \n",
      "dataprocessing VIIRS for 20230128 complete...\n",
      "20230208, \n",
      "dataprocessing VIIRS for 20230124 complete...\n",
      "20230209, \n",
      "dataprocessing VIIRS for 20230130 complete...\n",
      "20230212, \n",
      "dataprocessing VIIRS for 20230122 complete...\n",
      "20230302, \n",
      "dataprocessing VIIRS for 20230204 complete...\n",
      "20230303, \n",
      "dataprocessing VIIRS for 20230208 complete...\n",
      "20230307, \n",
      "dataprocessing VIIRS for 20230209 complete...\n",
      "20230316, \n",
      "dataprocessing VIIRS for 20230302 complete...\n",
      "20230317, \n",
      "dataprocessing VIIRS for 20230303 complete...\n",
      "20230326, \n",
      "dataprocessing VIIRS for 20230307 complete...\n",
      "20230331, \n",
      "dataprocessing VIIRS for 20230326 complete...\n",
      "20230401, \n",
      "dataprocessing VIIRS for 20230212 complete...\n",
      "20230405, \n",
      "dataprocessing VIIRS for 20230401 complete...\n",
      "20230406, \n",
      "dataprocessing VIIRS for 20230316 complete...\n",
      "20230409, \n",
      "dataprocessing VIIRS for 20230206 complete...\n",
      "20230411, \n",
      "dataprocessing VIIRS for 20230406 complete...\n",
      "20230413, \n",
      "dataprocessing VIIRS for 20230317 complete...\n",
      "20230414, \n",
      "dataprocessing VIIRS for 20230405 complete...\n",
      "20230415, \n",
      "dataprocessing VIIRS for 20230331 complete...\n",
      "20230416, \n",
      "dataprocessing VIIRS for 20230411 complete...\n",
      "20230421, \n",
      "dataprocessing VIIRS for 20230409 complete...\n",
      "20230423, \n",
      "dataprocessing VIIRS for 20230423 complete...\n",
      "20230424, \n",
      "dataprocessing VIIRS for 20230416 complete...\n",
      "20230425, \n",
      "dataprocessing VIIRS for 20230413 complete...\n",
      "20230426, \n",
      "dataprocessing VIIRS for 20230414 complete...\n",
      "20230427, \n",
      "dataprocessing VIIRS for 20230415 complete...\n",
      "20230428, \n",
      "dataprocessing VIIRS for 20230421 complete...\n",
      "20230429, \n",
      "dataprocessing VIIRS for 20230426 complete...\n",
      "20230505, \n",
      "dataprocessing VIIRS for 20230424 complete...\n",
      "20230509, \n",
      "dataprocessing VIIRS for 20230505 complete...\n",
      "20230510, \n",
      "dataprocessing VIIRS for 20230427 complete...\n",
      "20230511, \n",
      "No granules found for 2023-05-10, requesting data from NSIDC...\n",
      "No granules found for 2023-05-11, requesting data from NSIDC...\n",
      "dataprocessing VIIRS for 20230509 complete...\n",
      "20230513, \n",
      "dataprocessing VIIRS for 20230425 complete...\n",
      "20230515, \n",
      "Data request is complete.\n",
      "Processing data for dataframe now...\n",
      "Data request is complete.\n",
      "Processing data for dataframe now...\n",
      "dataprocessing VIIRS for 20230429 complete...\n",
      "20230521, \n",
      "dataprocessing VIIRS for 20230521 complete...\n",
      "20230522, \n",
      "dataprocessing VIIRS for 20230510 complete...\n",
      "20230523, \n",
      "dataprocessing VIIRS for 20230523 complete...\n",
      "20230525, \n",
      "dataprocessing VIIRS for 20230511 complete...\n",
      "20230526, \n",
      "dataprocessing VIIRS for 20230522 complete...\n",
      "20230527, \n",
      "No granules found for 2023-05-27, requesting data from NSIDC...\n",
      "dataprocessing VIIRS for 20230513 complete...\n",
      "20230528, \n",
      "No granules found for 2023-05-28, requesting data from NSIDC...\n",
      "dataprocessing VIIRS for 20230525 complete...\n",
      "20230531, \n",
      "dataprocessing VIIRS for 20230515 complete...\n",
      "20230601, \n",
      "Data request is complete.\n",
      "Processing data for dataframe now...\n",
      "dataprocessing VIIRS for 20230526 complete...\n",
      "20230602, \n",
      "dataprocessing VIIRS for 20230527 complete...\n",
      "20230603, \n",
      "dataprocessing VIIRS for 20230428 complete...\n",
      "20230607, \n",
      "Data request is complete.\n",
      "Processing data for dataframe now...\n",
      "dataprocessing VIIRS for 20230602 complete...\n",
      "20230608, \n",
      "dataprocessing VIIRS for 20230607 complete...\n",
      "20230615, \n",
      "dataprocessing VIIRS for 20230531 complete...\n",
      "20230618, \n",
      "dataprocessing VIIRS for 20230615 complete...\n",
      "20230625, \n",
      "dataprocessing VIIRS for 20230528 complete...\n",
      "20230626, \n",
      "dataprocessing VIIRS for 20230601 complete...\n",
      "20230630, \n",
      "dataprocessing VIIRS for 20230608 complete...\n",
      "20230702, \n",
      "dataprocessing VIIRS for 20230702 complete...\n",
      "dataprocessing VIIRS for 20230603 complete...\n",
      "dataprocessing VIIRS for 20230625 complete...\n",
      "dataprocessing VIIRS for 20230626 complete...\n",
      "dataprocessing VIIRS for 20230630 complete...\n",
      "dataprocessing VIIRS for 20240211 complete...\n",
      "20240227, \n",
      "dataprocessing VIIRS for 20240212 complete...\n",
      "20240308, \n",
      "dataprocessing VIIRS for 20240210 complete...\n",
      "20240314, \n",
      "dataprocessing VIIRS for 20240129 complete...\n",
      "20240315, \n",
      "dataprocessing VIIRS for 20240308 complete...\n",
      "20240319, \n",
      "dataprocessing VIIRS for 20240222 complete...\n",
      "20240321, \n",
      "dataprocessing VIIRS for 20240227 complete...\n",
      "20240326, \n",
      "dataprocessing VIIRS for 20240314 complete...\n",
      "20240401, \n",
      "dataprocessing VIIRS for 20240127 complete...\n",
      "20240402, \n",
      "dataprocessing VIIRS for 20240319 complete...\n",
      "20240403, \n",
      "dataprocessing VIIRS for 20240321 complete...\n",
      "20240404, \n",
      "dataprocessing VIIRS for 20240401 complete...\n",
      "20240409, \n",
      "dataprocessing VIIRS for 20240404 complete...\n",
      "20240410, \n",
      "No granules found for 2024-04-09, requesting data from NSIDC...\n",
      "dataprocessing VIIRS for 20240402 complete...\n",
      "20240411, \n",
      "dataprocessing VIIRS for 20240403 complete...\n",
      "20240414, \n",
      "dataprocessing VIIRS for 20240326 complete...\n",
      "20240415, \n",
      "Data request is complete.\n",
      "Processing data for dataframe now...\n",
      "dataprocessing VIIRS for 20240415 complete...\n",
      "20240416, \n",
      "dataprocessing VIIRS for 20240414 complete...\n",
      "20240417, \n",
      "dataprocessing VIIRS for 20240409 complete...\n",
      "20240418, \n",
      "dataprocessing VIIRS for 20240411 complete...\n",
      "20240421, \n",
      "dataprocessing VIIRS for 20240421 complete...\n",
      "20240424, \n",
      "dataprocessing VIIRS for 20240410 complete...\n",
      "20240425, \n",
      "dataprocessing VIIRS for 20240417 complete...\n",
      "20240427, \n",
      "dataprocessing VIIRS for 20240315 complete...\n",
      "20240428, \n",
      "dataprocessing VIIRS for 20240424 complete...\n",
      "20240429, \n",
      "dataprocessing VIIRS for 20240425 complete...\n",
      "20240430, \n",
      "dataprocessing VIIRS for 20240418 complete...\n",
      "20240501, \n",
      "dataprocessing VIIRS for 20240428 complete...\n",
      "20240502, \n",
      "dataprocessing VIIRS for 20240430 complete...\n",
      "20240508, \n",
      "dataprocessing VIIRS for 20240429 complete...\n",
      "20240513, \n",
      "dataprocessing VIIRS for 20240502 complete...\n",
      "20240516, \n",
      "dataprocessing VIIRS for 20240501 complete...\n",
      "20240517, \n",
      "dataprocessing VIIRS for 20240427 complete...\n",
      "20240520, \n",
      "dataprocessing VIIRS for 20240520 complete...\n",
      "20240521, \n",
      "dataprocessing VIIRS for 20240516 complete...\n",
      "20240522, \n",
      "dataprocessing VIIRS for 20240508 complete...\n",
      "20240523, \n",
      "dataprocessing VIIRS for 20240416 complete...\n",
      "20240527, \n",
      "No granules found for 2024-05-27, requesting data from NSIDC...\n",
      "dataprocessing VIIRS for 20240517 complete...\n",
      "20240530, \n",
      "dataprocessing VIIRS for 20240522 complete...\n",
      "20240605, \n",
      "Data request is complete.\n",
      "Processing data for dataframe now...\n",
      "dataprocessing VIIRS for 20240523 complete...\n",
      "20240607, \n",
      "dataprocessing VIIRS for 20240605 complete...\n",
      "dataprocessing VIIRS for 20240530 complete...\n",
      "dataprocessing VIIRS for 20240521 complete...\n",
      "dataprocessing VIIRS for 20240607 complete...\n",
      "dataprocessing VIIRS for 20240527 complete...\n",
      "dataprocessing VIIRS for 20240513 complete...\n",
      "Job complete for connecting VIIRS fsca to sites/dates, files can be found in /uufs/chpc.utah.edu/common/home/civil-group1/Johnson/SWEMLv2.0/data/TrainingDFs/2024/250M_Resolution/VIIRSGeoObsDFs/20_fSCA_Thresh\n"
     ]
    }
   ],
   "source": [
    "threshold = 20\n",
    "\n",
    "#check to see if the VIIRS data is available locally, if not, get from CIROH AWS - I think all of this data is for the incorrect year...\n",
    "#get_VIIRS_SCA.get_VIIRS_from_AWS()\n",
    "\n",
    "#Connect VIIRS data to dataframes\n",
    "for WY in WY_list:\n",
    "    path = f\"{HOME}/data/ASO/{WY}/{output_res}M_SWE_parquet\"\n",
    "    if os.path.isdir(path) == True:\n",
    "        print(WY)\n",
    "        get_VIIRS_SCA.augment_SCA_multiprocessing(WY, output_res, threshold)\n",
    "    else:\n",
    "        print(f\"No ASO data for {WY}\")\n"
   ]
  },
  {
   "cell_type": "code",
   "execution_count": 3,
   "id": "22306d66-90c9-4775-b99f-acaef4755560",
   "metadata": {},
   "outputs": [],
   "source": [
    "WY_list = ['2013', '2014', '2015', '2016', '2017', '2018', '2019', '2020', '2021', '2022', '2023', '2024']# - Trying the first bit to prove concept, then can expand\n"
   ]
  },
  {
   "cell_type": "code",
   "execution_count": null,
   "id": "45a59828",
   "metadata": {
    "tags": []
   },
   "outputs": [],
   "source": [
    "'''\n",
    "note*, if using python > 3.9, you will likely need to change the ee package to from io import StringIO\n",
    "sometimes there will be an ASO file that is inproperly named in the ASO yr folder, it typically also makes a ,ipynb checkpoint that crash the code\n",
    "'''\n",
    "#gets precipitation for each location, accumulates it through the water year\n",
    "#This step could be made much more efficient by collecting all of the tiles in one step, then multiprocessing later\n",
    "\n",
    "#set start/end date for a water year\n",
    "years = [2013, 2014, 2015, 2016, 2017, 2018, 2019, 2020, 2021, 2022, 2023, 2024]\n",
    "\n",
    "\n",
    "#output_res = 1000\n",
    "threshold = 20\n",
    "\n",
    "for WY in WY_list:\n",
    "    path = f\"{HOME}/data/ASO/{WY}/{output_res}M_SWE_parquet\"\n",
    "\n",
    "    if os.path.isdir(path) == True:\n",
    "        print(WY)\n",
    "        get_Precip.get_precip_threaded(WY, output_res, years)\n",
    "    else:\n",
    "        print(f\"No ASO data for {WY}\")\n",
    "\n",
    "    #Connect precipitation to processed DFs\n",
    "    get_Precip.Make_Precip_DF(WY, output_res, threshold)\n"
   ]
  },
  {
   "cell_type": "markdown",
   "id": "de96494a-ba0a-4376-9a98-2b9a632d4749",
   "metadata": {},
   "source": [
    "## Add seasonality metrics to the dataframe"
   ]
  },
  {
   "cell_type": "code",
   "execution_count": null,
   "id": "84d2f59c-8364-4cb2-8f2a-ffaced554314",
   "metadata": {},
   "outputs": [],
   "source": [
    "WY_list = ['2013', '2014', '2015', '2016', '2017', '2018', '2019', '2020', '2021', '2022', '2023', '2024'] #'2013', '2014', '2015', '2016', '2017', '2018', '2019', '2020', '2021', '2022', '2023', '2024' - Trying the first bit to prove concept, then can expand\n"
   ]
  },
  {
   "cell_type": "code",
   "execution_count": null,
   "id": "b840e511",
   "metadata": {
    "scrolled": true,
    "tags": []
   },
   "outputs": [],
   "source": [
    "#output_res = 1000\n",
    "threshold = 20\n",
    "for WY in WY_list:\n",
    "    #process snotel sites to make \"snow hydrograph features\" to determine above/below average WY conditions\n",
    "    get_Seasonality.seasonal_snotel()\n",
    "\n",
    "\n",
    "    #get the Day of season metric for each dataframe\n",
    "    get_Seasonality.add_Seasonality(WY, output_res, threshold)"
   ]
  },
  {
   "cell_type": "markdown",
   "id": "ad085308",
   "metadata": {},
   "source": [
    "# Use Sturm's snow classification as features within model framework\n",
    "\n",
    "Using the originally created env, it looks like the rasterio package does not contain the correct ECS driver. Trying to address this with conda install conda-forge::rasterio in my SWEML_310 env from the shell in CHPC"
   ]
  },
  {
   "cell_type": "code",
   "execution_count": null,
   "id": "b1e4c09d",
   "metadata": {
    "tags": []
   },
   "outputs": [],
   "source": [
    "ModuleDir = os.getcwd()\n",
    "ModuleDir = os.chdir('Dataprocessing')\n",
    "ModuleDir = os.getcwd()\n",
    "#outputres =1000\n",
    "thres = 20\n",
    "\n",
    "#download sturm data\n",
    "stpro.get_Sturm_data()\n",
    "\n",
    "for WY in WY_list:\n",
    "    input_directory = f\"{HOME}/data/TrainingDFs/{WY}/{output_res}M_Resolution/Seasonality_PrecipVIIRSGeoObsDFs/{thres}_fSCA_Thresh\"\n",
    "    sturm_file = f\"{HOME}/data/SnowClassification/SnowClass_NA_300m_10.0arcsec_2021_v01.0.tif\" #https://nsidc.org/data/nsidc-0768/versions/1\n",
    "    output_directory = f\"{HOME}/data/TrainingDFs/{WY}/{output_res}M_Resolution/Sturm_Seasonality_PrecipVIIRSGeoObsDFs/{thres}_fSCA_Thresh\"\n",
    "    \n",
    "    # Create output directory if it doesn't exist\n",
    "    os.makedirs(output_directory, exist_ok=True)\n",
    "    \n",
    "    stpro.process_sturm_data_for_files(input_directory, sturm_file, output_directory)"
   ]
  },
  {
   "cell_type": "markdown",
   "id": "4d90eacf-432a-4d0b-a804-5cdfd62bfa0a",
   "metadata": {},
   "source": [
    "# Add vegetation data to the dataframe from the North American land Cover Management Systemoutput_path"
   ]
  },
  {
   "cell_type": "code",
   "execution_count": null,
   "id": "b6bed310",
   "metadata": {
    "scrolled": true
   },
   "outputs": [],
   "source": [
    "#get data\n",
    "url = \"http://www.cec.org/files/atlas_layers/1_terrestrial_ecosystems/1_01_0_land_cover_2020_30m/usa_land_cover_2020v2_30m_tif.zip\"\n",
    "output_path = f\"{HOME}/data/LandCover/\"\n",
    "file = \"usa_land_cover_2020v2_30m_tif.zip\" \n",
    "vegpro.get_data(url, output_path, file)\n",
    "#unzip the file is not already done\n",
    "#vegpro.unzip_LC_data(output_path, file)\n",
    "#output = 1000 \n",
    "\n",
    "for WY in WY_list:\n",
    "    input_directory = f\"{HOME}/data/TrainingDFs/{WY}/{output_res}M_Resolution/Sturm_Seasonality_PrecipVIIRSGeoObsDFs/20_fSCA_Thresh\"\n",
    "    vegetation_file = f\"{HOME}/data/LandCover/usa_land_cover_2020v2_30m_tif/USA_NALCMS_landcover_2020v2_30m/data/USA_NALCMS_landcover_2020v2_30m.tif\"\n",
    "    output_directory = f\"{HOME}/data/TrainingDFs/{WY}/{output_res}M_Resolution/Vegetation_Sturm_Seasonality_PrecipVIIRSGeoObsDFs/20_fSCA_Thresh\"\n",
    "    \n",
    "    # Create output directory if it doesn't exist\n",
    "    os.makedirs(output_directory, exist_ok=True)\n",
    "    \n",
    "    vegpro.process_vegetation_data_for_files(input_directory, vegetation_file, output_directory)"
   ]
  },
  {
   "cell_type": "markdown",
   "id": "68e51b09",
   "metadata": {},
   "source": [
    "## Next steps\n",
    "* Explore why errors in precip sites above\n",
    "* add in situ obs - seasonality based on the historical neareste x monitoring stations - like a historical average to-date swe value unit hydrograph based on the day of year? This will include a historical time of year of normal swe value and a swe value of year compared to normal\n",
    "* albedo metric\n"
   ]
  },
  {
   "cell_type": "code",
   "execution_count": null,
   "id": "c225bd0f",
   "metadata": {},
   "outputs": [],
   "source": [
    "import pandas as pd\n",
    "\n",
    "HOME = os.path.expanduser('~')\n",
    "region = 'Southwest'\n",
    "output_res = '300'\n",
    "\n",
    "dfpath = f\"{HOME}/SWEMLv2.0/data/TrainingDFs/{region}/{output_res}M_Resolution\"\n",
    "\n",
    "SWmeta = pd.read_parquet(f\"{dfpath}/{region}_metadata.parquet\")\n",
    "\n",
    "import UpdateDataFrame\n",
    "\n",
    "#need to update the topographic features for every dataframe\n",
    "output_res = '300'\n",
    "training_cats = ['Obsdf']\n",
    "fSCA = '' #'20_fSCA_Thresh'\n",
    "\n",
    "\n",
    "for training_cat in training_cats:\n",
    "    print(training_cat)\n",
    "\n",
    "    for region in region_list:\n",
    "        print(region)\n",
    "        dfpath = f\"{HOME}/SWEMLv2.0/data/TrainingDFs/{region}/{output_res}M_Resolution\"\n",
    "        #file to be used to updated training DF\n",
    "        updatefile = pd.read_parquet(f\"{dfpath}/{region}_metadata.parquet\")\n",
    "\n",
    "\n",
    "        #Update Dataframe\n",
    "        UpdateDataFrame.updateTrainingDF(region, output_res, training_cat, fSCA, updatefile)\n",
    "\n",
    "trainfile = pd.read_parquet(f\"{dfpath}/{training_cat}/{fSCA}/Sturm_Season_Precip_VIIRS_GeoObsDF_20150406.parquet\")\n",
    "\n",
    "import matplotlib.pyplot as plt\n",
    "import geopandas as gpd\n",
    "\n",
    "from mpl_toolkits.axes_grid1 import make_axes_locatable\n",
    "\n",
    "def SpatialAnalysis(EvalDF):\n",
    "    #Convert to a geopandas DF\n",
    "    Pred_Geo = gpd.GeoDataFrame(EvalDF, geometry = gpd.points_from_xy(EvalDF.cen_lon, EvalDF.cen_lat))\n",
    "\n",
    "    Pred_Geo.plot(column='Elevation_m',\n",
    "                  legend=False,\n",
    "                )\n",
    "    \n",
    "SpatialAnalysis(trainfile)"
   ]
  },
  {
   "cell_type": "code",
   "execution_count": null,
   "id": "19f70f64-8097-451d-ac30-e511a895e585",
   "metadata": {},
   "outputs": [],
   "source": []
  }
 ],
 "metadata": {
  "kernelspec": {
   "display_name": "SWEML_310",
   "language": "python",
   "name": "sweml_310"
  },
  "language_info": {
   "codemirror_mode": {
    "name": "ipython",
    "version": 3
   },
   "file_extension": ".py",
   "mimetype": "text/x-python",
   "name": "python",
   "nbconvert_exporter": "python",
   "pygments_lexer": "ipython3",
   "version": "3.10.13"
  }
 },
 "nbformat": 4,
 "nbformat_minor": 5
}
