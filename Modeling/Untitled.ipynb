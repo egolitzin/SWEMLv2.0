{
 "cells": [
  {
   "cell_type": "code",
   "execution_count": null,
   "id": "e4c02597-c43d-4fb8-b4b2-abe30429da1e",
   "metadata": {},
   "outputs": [],
   "source": [
    "'2018-05-28', #, 'Tuolumne', \n",
    "'2020-05-21', #, 'Tuolumne',  \n",
    "'2021-04-29', #, 'Tuolumne',\n",
    "'2022-05-18', #, 'Tuolumne', \n",
    "'2024-05-01', #, 'Tuolumne',  \n",
    "'2018-06-02', #, 'San Joaquin',\n",
    "'2021-05-03', #, 'Kings', \n",
    "'2022-04-30', #, 'Kings',  \n",
    "'2023-04-14', #, 'Kings',\n",
    "'2024-05-21', #, 'Kings',\n",
    "'2014-05-12', #, 'Merced', \n",
    "'2020-06-04', #, 'Merced', \n",
    "'2022-05-13', #, 'Merced', \n",
    "'2023-06-08', #, 'Merced', \n",
    "'2024-05-23', #, 'Merced',\n",
    "'2019-04-21', #, 'Kaweah', \n",
    "'2021-05-04', #, 'Kaweah', \n",
    "'2022-05-17', #, 'Kaweah', \n",
    "'2023-06-02', #, 'Kaweah', \n",
    "'2024-05-20', #, 'Kaweah',   \n",
    "'2018-06-01', #, 'Lakes Basin',  \n",
    "'2022-05-15', #, 'Yuba',  \n",
    "'2024-05-27', #, 'Yuba', \n",
    "'2022-04-29', #, 'Feather', \n",
    "'2024-05-13', #, 'Feather',\n",
    "'2016-05-09', #, 'Cherry_Eleanor', \n",
    "'2022-05-13', #, 'Carson', \n",
    "'2022-05-14', #, 'Truckee', \n",
    "'2024-05-17', #, 'Truckee',\n",
    "'2024-04-30', #, 'American', \n",
    "'2024-05-08', #, 'Kern',\n",
    "'2023-05-15', #, 'McCloud',\n",
    "'2015-06-02', #, 'Conejos', \n",
    "'2021-05-16', #, 'Conejos',\n",
    "'2022-05-10', #, 'Conejos', \n",
    "'2019-06-24', #, 'Blue', \n",
    "'2021-05-24', #, 'Blue', \n",
    "'2022-05-26', #, 'Blue', \n",
    "'2024-06-05', #, 'Blue',\n",
    "'2023-05-13', #, 'Pit',\n",
    "'2021-05-14', #, 'Dolores', \n",
    "'2022-05-10', #, 'Dolores', \n",
    "'2023-05-25', #, 'Dolores', \n",
    "'2024-04-30', #, 'Dolores',\n",
    "'2018-05-24', #, 'East', \n",
    "'2019-06-10', #, 'East',\n",
    "'2019-06-09', #, 'Taylor', \n",
    "'2023-05-23', #, 'Taylor', \n",
    "'2024-05-20', #, 'Taylor',\n",
    "'2023-05-28', #, 'RoaringFork', \n",
    "'2024-05-22', #, 'RoaringFork',\n",
    "'2023-05-27', #, 'WindyGap', \n",
    "'2024-05-30', #, 'WindyGap', \n",
    "'2023-05-26', #, 'SouthPlatte',\n",
    "'2024-06-05', #, 'SouthPlatte',\n",
    "'2022-05-25', #, 'Gunnison',\n",
    "'2015-06-02', #, 'RioGrande', \n",
    "'2024-05-27', #, 'Yampa',\n",
    "'2021-04-19', #, 'Animas', \n",
    "'2021-05-15', #, 'Animas',\n",
    "'2016-03-29', #, 'Olympic',    "
   ]
  },
  {
   "cell_type": "code",
   "execution_count": 5,
   "id": "5f0bdfa5-8282-4ee9-bae1-f96b3877108e",
   "metadata": {},
   "outputs": [
    {
     "data": {
      "text/html": [
       "<div>\n",
       "<style scoped>\n",
       "    .dataframe tbody tr th:only-of-type {\n",
       "        vertical-align: middle;\n",
       "    }\n",
       "\n",
       "    .dataframe tbody tr th {\n",
       "        vertical-align: top;\n",
       "    }\n",
       "\n",
       "    .dataframe thead th {\n",
       "        text-align: right;\n",
       "    }\n",
       "</style>\n",
       "<table border=\"1\" class=\"dataframe\">\n",
       "  <thead>\n",
       "    <tr style=\"text-align: right;\">\n",
       "      <th></th>\n",
       "      <th>RMSE</th>\n",
       "      <th>KGE</th>\n",
       "      <th>PBias</th>\n",
       "      <th>watershed</th>\n",
       "      <th>Date</th>\n",
       "      <th>Resolution</th>\n",
       "      <th>n_estimators</th>\n",
       "      <th>max_depth</th>\n",
       "      <th>eta</th>\n",
       "      <th>alldata</th>\n",
       "      <th>standard_training</th>\n",
       "    </tr>\n",
       "  </thead>\n",
       "  <tbody>\n",
       "    <tr>\n",
       "      <th>0</th>\n",
       "      <td>6.18</td>\n",
       "      <td>0.76</td>\n",
       "      <td>2.01</td>\n",
       "      <td>Lakes Basin</td>\n",
       "      <td>2015-04-28</td>\n",
       "      <td>750M_Resolution</td>\n",
       "      <td>3500</td>\n",
       "      <td>8</td>\n",
       "      <td>0.1</td>\n",
       "      <td>False</td>\n",
       "      <td>False</td>\n",
       "    </tr>\n",
       "  </tbody>\n",
       "</table>\n",
       "</div>"
      ],
      "text/plain": [
       "   RMSE   KGE  PBias    watershed        Date       Resolution  n_estimators  \\\n",
       "0  6.18  0.76   2.01  Lakes Basin  2015-04-28  750M_Resolution          3500   \n",
       "\n",
       "   max_depth  eta  alldata  standard_training  \n",
       "0          8  0.1    False              False  "
      ]
     },
     "execution_count": 5,
     "metadata": {},
     "output_type": "execute_result"
    }
   ],
   "source": [
    "import pandas as pd\n",
    "import os\n",
    "HOME = os.getcwd()\n",
    "\n",
    "pdf = pd.read_parquet(f\"/uufs/chpc.utah.edu/common/home/civil-group1/Johnson/SWEMLv2.0/Predictions/Sturm_Seasonality_PrecipVIIRSGeoObsDFs/PDF_UnseenSeason.parquet\")\n",
    "pdf"
   ]
  },
  {
   "cell_type": "code",
   "execution_count": 4,
   "id": "3b0dd71d-6e47-41ab-adf5-8a23f4918fac",
   "metadata": {},
   "outputs": [
    {
     "data": {
      "text/plain": [
       "'/uufs/chpc.utah.edu/common/home/civil-group1/Johnson/SWEMLv2.0/Modeling'"
      ]
     },
     "execution_count": 4,
     "metadata": {},
     "output_type": "execute_result"
    }
   ],
   "source": [
    "HOME"
   ]
  },
  {
   "cell_type": "code",
   "execution_count": null,
   "id": "b822582d-10be-4134-aeb5-731c960fa6b3",
   "metadata": {},
   "outputs": [],
   "source": []
  }
 ],
 "metadata": {
  "kernelspec": {
   "display_name": "SWEML_310",
   "language": "python",
   "name": "sweml_310"
  },
  "language_info": {
   "codemirror_mode": {
    "name": "ipython",
    "version": 3
   },
   "file_extension": ".py",
   "mimetype": "text/x-python",
   "name": "python",
   "nbconvert_exporter": "python",
   "pygments_lexer": "ipython3",
   "version": "3.10.13"
  }
 },
 "nbformat": 4,
 "nbformat_minor": 5
}
